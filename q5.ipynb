{
  "nbformat": 4,
  "nbformat_minor": 0,
  "metadata": {
    "colab": {
      "name": "q5.ipynb",
      "provenance": [],
      "authorship_tag": "ABX9TyOvLzXF7KDrc4lhCNRbQhMO",
      "include_colab_link": true
    },
    "kernelspec": {
      "name": "python3",
      "display_name": "Python 3"
    },
    "accelerator": "GPU"
  },
  "cells": [
    {
      "cell_type": "markdown",
      "metadata": {
        "id": "view-in-github",
        "colab_type": "text"
      },
      "source": [
        "<a href=\"https://colab.research.google.com/github/adamnpeace/deep-learning-cw2/blob/master/q5.ipynb\" target=\"_parent\"><img src=\"https://colab.research.google.com/assets/colab-badge.svg\" alt=\"Open In Colab\"/></a>"
      ]
    },
    {
      "cell_type": "code",
      "metadata": {
        "id": "AbXixYofEK8b"
      },
      "source": [
        "import numpy as np\n",
        "import pandas as pd\n",
        "from gensim.models.keyedvectors import KeyedVectors\n",
        "from sklearn.metrics import accuracy_score\n",
        "import matplotlib.pyplot as plt\n",
        "\n",
        "from torchtext import data\n",
        "from torchtext import vocab\n",
        "from torchtext.vocab import Vectors\n",
        "from torch.autograd import Variable\n",
        "\n",
        "import torch\n",
        "import torch.nn as nn\n",
        "import torch.optim as optim\n",
        "import torch.nn.functional as F\n",
        "\n",
        "device = torch.device(\"cuda:0\" if torch.cuda.is_available() else \"cpu\")"
      ],
      "execution_count": 1,
      "outputs": []
    },
    {
      "cell_type": "code",
      "metadata": {
        "id": "ka1nEP4VEdVU"
      },
      "source": [
        "!curl -fsS https://nlp.stanford.edu/sentiment/trainDevTestTrees_PTB.zip -o /tmp/trainDevTestTrees_PTB.zip\n",
        "!unzip -q -o -d ./data /tmp/trainDevTestTrees_PTB.zip\n",
        "!rm -f /tmp/trainDevTestTrees_PTB.zip"
      ],
      "execution_count": 2,
      "outputs": []
    },
    {
      "cell_type": "code",
      "metadata": {
        "id": "9rut8K_GHZDG"
      },
      "source": [
        "def loadsst(path):\n",
        "    xs = []\n",
        "    ys = []\n",
        "    file1 = open(path, 'r')\n",
        "    Lines = file1.readlines()\n",
        "    for line in Lines:\n",
        "        soup = line.split()\n",
        "        ys.append(int(soup[0].lstrip('(')))\n",
        "        tokens = []\n",
        "        for chunk in soup[2:]:\n",
        "            if not chunk.endswith(\")\"):\n",
        "                continue\n",
        "            tokens.append(chunk.rstrip(')'))\n",
        "        xs.append(tokens)\n",
        "    return xs, ys\n",
        "\n",
        "ssttrainxs, ssttrainys = loadsst(\"./data/trees/train.txt\")\n",
        "sstvalidxs, sstvalidys = loadsst(\"./data/trees/dev.txt\")\n",
        "ssttestxs, ssttestys = loadsst(\"./data/trees/test.txt\")"
      ],
      "execution_count": 3,
      "outputs": []
    },
    {
      "cell_type": "code",
      "metadata": {
        "id": "LZbmv5ViHbfM"
      },
      "source": [
        "trainx = pd.DataFrame.from_records([[' '.join(x)] for x in ssttrainxs])\n",
        "trainy = pd.DataFrame(ssttrainys)\n",
        "validx = pd.DataFrame.from_records([[' '.join(x)] for x in sstvalidxs])\n",
        "validy = pd.DataFrame(sstvalidys)\n",
        "testx = pd.DataFrame.from_records([[' '.join(x)] for x in ssttestxs])\n",
        "testy = pd.DataFrame(ssttestys)\n",
        "train = pd.concat([trainx, trainy], axis=1)\n",
        "valid = pd.concat([validx, validy], axis=1)\n",
        "test = pd.concat([testx, testy], axis=1)\n",
        "train.to_csv('/tmp/train.csv', index=False)\n",
        "valid.to_csv('/tmp/valid.csv', index=False)\n",
        "test.to_csv('/tmp/test.csv', index=False)"
      ],
      "execution_count": 4,
      "outputs": []
    },
    {
      "cell_type": "code",
      "metadata": {
        "id": "_jQEcivKHdtu"
      },
      "source": [
        "TEXT = data.Field(tokenize = 'spacy')\n",
        "LABEL = data.LabelField()\n",
        "fields = [('Text', TEXT), ('Label', LABEL)]\n",
        "\n",
        "trainds, valds, testds = data.TabularDataset.splits(path='/tmp', \n",
        "                                            format='csv', \n",
        "                                            train='train.csv', \n",
        "                                            validation='valid.csv', \n",
        "                                            test='test.csv',\n",
        "                                            fields=fields, \n",
        "                                            skip_header=True)"
      ],
      "execution_count": 5,
      "outputs": []
    },
    {
      "cell_type": "code",
      "metadata": {
        "id": "AL4YKFa-Hgcy"
      },
      "source": [
        "# load pretrained vectors\n",
        "import gensim.downloader as api\n",
        "\n",
        "model = api.load('word2vec-google-news-300')"
      ],
      "execution_count": 6,
      "outputs": []
    },
    {
      "cell_type": "code",
      "metadata": {
        "id": "3DnlVdJUIutv"
      },
      "source": [
        "TEXT.build_vocab(trainds)\n"
      ],
      "execution_count": 7,
      "outputs": []
    },
    {
      "cell_type": "code",
      "metadata": {
        "id": "rfLAngsmHiqU"
      },
      "source": [
        "LABEL.build_vocab(trainds)\n"
      ],
      "execution_count": 8,
      "outputs": []
    },
    {
      "cell_type": "code",
      "metadata": {
        "id": "s1Q3iMAUIvgi"
      },
      "source": [
        "embedding_matrix = np.zeros((len(TEXT.vocab), 300))"
      ],
      "execution_count": 9,
      "outputs": []
    },
    {
      "cell_type": "code",
      "metadata": {
        "id": "Kt3xvC-DIxwY"
      },
      "source": [
        "for index,word in enumerate(TEXT.vocab.stoi):\n",
        "  try:\n",
        "      # update embedding matrix using pretrained vectors if defined\n",
        "      embedding_matrix[index] = model[word] \n",
        "  except:\n",
        "      # else keep as zero\n",
        "      pass"
      ],
      "execution_count": 10,
      "outputs": []
    },
    {
      "cell_type": "code",
      "metadata": {
        "colab": {
          "base_uri": "https://localhost:8080/"
        },
        "id": "0CyDz6hTI0LJ",
        "outputId": "0002ddaa-b1e1-47b5-d815-3c7359734ec8"
      },
      "source": [
        "# we want to convert it to a tensor when done\n",
        "em = torch.from_numpy(embedding_matrix)\n",
        "em.shape"
      ],
      "execution_count": 11,
      "outputs": [
        {
          "output_type": "execute_result",
          "data": {
            "text/plain": [
              "torch.Size([17199, 300])"
            ]
          },
          "metadata": {
            "tags": []
          },
          "execution_count": 11
        }
      ]
    },
    {
      "cell_type": "code",
      "metadata": {
        "colab": {
          "base_uri": "https://localhost:8080/"
        },
        "id": "YCYyIEvGI2Vq",
        "outputId": "524a6036-5fb5-4ad8-a19e-1337edad0b6d"
      },
      "source": [
        "em"
      ],
      "execution_count": 12,
      "outputs": [
        {
          "output_type": "execute_result",
          "data": {
            "text/plain": [
              "tensor([[ 0.0000,  0.0000,  0.0000,  ...,  0.0000,  0.0000,  0.0000],\n",
              "        [ 0.0000,  0.0000,  0.0000,  ...,  0.0000,  0.0000,  0.0000],\n",
              "        [ 0.0000,  0.0000,  0.0000,  ...,  0.0000,  0.0000,  0.0000],\n",
              "        ...,\n",
              "        [-0.0435, -0.0859, -0.1069,  ..., -0.5273,  0.2578, -0.0698],\n",
              "        [ 0.0000,  0.0000,  0.0000,  ...,  0.0000,  0.0000,  0.0000],\n",
              "        [ 0.4336,  0.0195,  0.2129,  ..., -0.0796, -0.0243,  0.3965]],\n",
              "       dtype=torch.float64)"
            ]
          },
          "metadata": {
            "tags": []
          },
          "execution_count": 12
        }
      ]
    },
    {
      "cell_type": "code",
      "metadata": {
        "colab": {
          "base_uri": "https://localhost:8080/"
        },
        "id": "iTXB2ERvKh4W",
        "outputId": "3f2d8ec3-467b-42cc-ef90-2f9239b44cbf"
      },
      "source": [
        "print(LABEL.vocab.stoi)"
      ],
      "execution_count": 13,
      "outputs": [
        {
          "output_type": "stream",
          "text": [
            "defaultdict(<function _default_unk_index at 0x7f38bd1e4b70>, {'3': 0, '1': 1, '2': 2, '4': 3, '0': 4})\n"
          ],
          "name": "stdout"
        }
      ]
    },
    {
      "cell_type": "code",
      "metadata": {
        "colab": {
          "base_uri": "https://localhost:8080/"
        },
        "id": "WzSO4wYBKqvi",
        "outputId": "dfcb2c78-dabe-4e65-cff4-ef7178ac87f9"
      },
      "source": [
        "print(TEXT.vocab.freqs.most_common(20))"
      ],
      "execution_count": 14,
      "outputs": [
        {
          "output_type": "stream",
          "text": [
            "[('.', 8041), (',', 7131), ('the', 6087), ('and', 4474), ('of', 4446), ('a', 4423), ('to', 3024), ('-', 2739), (\"'s\", 2544), ('is', 2540), ('that', 1916), ('in', 1817), ('it', 1781), ('The', 1265), ('as', 1203), ('film', 1156), ('but', 1076), ('with', 1071), ('movie', 999), ('for', 977)]\n"
          ],
          "name": "stdout"
        }
      ]
    },
    {
      "cell_type": "code",
      "metadata": {
        "id": "Gn7vMCFIKxDS"
      },
      "source": [
        "BATCH_SIZE = 128\n",
        "\n",
        "train_iterator, valid_iterator, test_iterator = data.BucketIterator.splits(\n",
        "    (trainds, valds, testds), \n",
        "    batch_size = BATCH_SIZE)\n"
      ],
      "execution_count": 77,
      "outputs": []
    },
    {
      "cell_type": "code",
      "metadata": {
        "id": "YkJMwLm3aJMf"
      },
      "source": [
        "class BatchGenerator:\n",
        "    def __init__(self, dl, x_field, y_field):\n",
        "        self.dl, self.x_field, self.y_field = dl, x_field, y_field\n",
        "        \n",
        "    def __len__(self):\n",
        "        return len(self.dl)\n",
        "    \n",
        "    def __iter__(self):\n",
        "        for batch in self.dl:\n",
        "            X = getattr(batch, self.x_field)\n",
        "            y = getattr(batch, self.y_field)\n",
        "            yield (X,y)"
      ],
      "execution_count": 78,
      "outputs": []
    },
    {
      "cell_type": "code",
      "metadata": {
        "id": "0xfwujRgbG6y"
      },
      "source": [
        "class Model(nn.Module):\n",
        "    def __init__(\n",
        "        self, vocab_size, embed_dim, pretrained_vec, \n",
        "        num_hidden_rnn, num_rnn_layers, \n",
        "        mlp_layers, num_classes,\n",
        "        rec_unit_type, train_embeddings=False\n",
        "    ):\n",
        "        super().__init__()\n",
        "        self.vocab_size = vocab_size\n",
        "        self.embed_dim = embed_dim\n",
        "        self.num_hidden_rnn = num_hidden_rnn\n",
        "        self.num_rnn_layers = num_rnn_layers\n",
        "        self.mlp_layers = mlp_layers\n",
        "        self.num_classes = num_classes\n",
        "        \n",
        "        self.embeddings = nn.Embedding(self.vocab_size, self.embed_dim)\n",
        "        self.embeddings.weight.data.copy_(pretrained_vec) # Load pretrained embeddings\n",
        "        self.embeddings.weight.requires_grad = train_embeddings  # Decide if embeddings get updated or not\n",
        "\n",
        "        # Define RNN layers using \"vanilla\" RNN, GRU or LSTM\n",
        "        if (rec_unit_type == \"RNN\"):\n",
        "            self.rec = nn.RNN(\n",
        "                input_size=self.embed_dim, \n",
        "                hidden_size=self.num_hidden_rnn, \n",
        "                num_layers=num_rnn_layers)\n",
        "        elif (rec_unit_type == \"GRU\"):\n",
        "            self.rec = nn.GRU(\n",
        "                input_size=self.embed_dim, \n",
        "                hidden_size=self.num_hidden_rnn, \n",
        "                num_layers=num_rnn_layers)\n",
        "        elif (rec_unit_type == \"LSTM\"):\n",
        "            self.rec = nn.LSTM(\n",
        "                input_size=self.embed_dim, \n",
        "                hidden_size=self.num_hidden_rnn,\n",
        "                num_layers=num_rnn_layers)\n",
        "\n",
        "        # Define MLP layers\n",
        "        self.mlp = nn.ModuleList()\n",
        "        for i, hidden_layer in enumerate(mlp_layers):\n",
        "            if i == 0:\n",
        "                self.mlp.append(nn.Linear(self.num_hidden_rnn, hidden_layer))\n",
        "            else:\n",
        "                self.mlp.append(nn.Linear(mlp_layers[i-1], hidden_layer))\n",
        "\n",
        "        # Define final output layer\n",
        "        self.out = nn.Linear(mlp_layers[-1], self.num_classes)\n",
        "        \n",
        "    def forward(self, X):\n",
        "        # Re-initialize hidden states for each batch, so we are not sharing hidden states across batches\n",
        "        self.h = self.init_hidden(self.num_rnn_layers, 300)\n",
        "        \n",
        "        # Convert words into embeddings\n",
        "        embeddings = self.embeddings(X)\n",
        "        \n",
        "        # Pass through RNN layer and get hidden state at last timestep\n",
        "        output, self.h = self.rec(embeddings, self.h)\n",
        "        \n",
        "        # LSTM returns a tuple of hidden state and cell state, so pick hidden state only\n",
        "        if (rec_unit_type == \"LSTM\"):\n",
        "            self.h = self.h[0]\n",
        "            \n",
        "        # Pass through MLP layer with RELU activation function\n",
        "        out = F.relu(self.mlp[0](self.h[-1]))\n",
        "        for i in range(1, len(self.mlp)):\n",
        "            out = F.relu(self.mlp[i](out))\n",
        "        \n",
        "        return self.out(out)\n",
        "    \n",
        "    def init_hidden(self, num_layers, batch_size): \n",
        "        if (rec_unit_type == \"LSTM\"):\n",
        "            self.h = (Variable(torch.zeros((num_layers,batch_size,self.num_hidden_rnn))).to(device),\n",
        "                      Variable(torch.zeros((num_layers,batch_size,self.num_hidden_rnn))).to(device))\n",
        "        else:\n",
        "            self.h = Variable(torch.zeros((num_layers,batch_size,self.num_hidden_rnn))).to(device)"
      ],
      "execution_count": 79,
      "outputs": []
    },
    {
      "cell_type": "code",
      "metadata": {
        "id": "fLySDImiavW8"
      },
      "source": [
        "def fit(model, train_dl, val_dl, loss_fn, opt, epochs, batch_size):\n",
        "    measurements = {\n",
        "        \"Train Loss\": [],\n",
        "        \"Train Acc\": [],\n",
        "        \"Val Loss\": [],\n",
        "        \"Val Acc\": [],\n",
        "        \"Lowest Val Loss\": np.Inf,\n",
        "        \"Lowest Val Loss Epoch\": np.Inf\n",
        "    }\n",
        "    lowest_val_loss = np.Inf\n",
        "    lowest_val_loss_epoch = np.Inf\n",
        "    \n",
        "    for epoch in range(epochs):\n",
        "        # Training\n",
        "        y_true_train = list()\n",
        "        y_pred_train = list()\n",
        "        total_loss_train = 0  \n",
        "        \n",
        "        model.train() # Set model in train mode\n",
        "        \n",
        "        for X,y in iter(train_dl):\n",
        "            opt.zero_grad() # Clear old gradients\n",
        "            pred = model(X) # Make prediction using model\n",
        "            loss = loss_fn(pred, y)\n",
        "            loss.backward() # Compute derivatives of loss w.r.t. parameters using backpropagation\n",
        "            opt.step() # Take a step using computed gradients\n",
        "            pred_idx = torch.max(pred, 1)[1]\n",
        "            \n",
        "            y_true_train += list(y.cpu().data.numpy())\n",
        "            y_pred_train += list(pred_idx.cpu().data.numpy())\n",
        "            total_loss_train += loss.item()\n",
        "        \n",
        "        train_acc = accuracy_score(y_true_train, y_pred_train)\n",
        "        train_loss = total_loss_train/len(train_dl)\n",
        "        measurements[\"Train Acc\"].append(train_acc)\n",
        "        measurements[\"Train Loss\"].append(train_loss)\n",
        "        \n",
        "        # Validation\n",
        "        y_true_val = list()\n",
        "        y_pred_val = list()\n",
        "        total_loss_val = 0\n",
        "        \n",
        "        model.eval() # Set model in eval mode\n",
        "\n",
        "        for X,y in iter(val_dl):\n",
        "            pred = model(X)\n",
        "            loss = loss_fn(pred, y)\n",
        "            pred_idx = torch.max(pred, 1)[1]\n",
        "\n",
        "            y_true_val += list(y.cpu().data.numpy())\n",
        "            y_pred_val += list(pred_idx.cpu().data.numpy())\n",
        "            total_loss_val += loss.item()\n",
        "        val_acc = accuracy_score(y_true_val, y_pred_val)\n",
        "        val_loss = total_loss_val/len(val_dl)\n",
        "        measurements[\"Val Acc\"].append(val_acc)\n",
        "        measurements[\"Val Loss\"].append(val_loss)\n",
        "        \n",
        "        if (val_loss < measurements[\"Lowest Val Loss\"]):\n",
        "            torch.save(model.state_dict(), 'checkpoint.pt')\n",
        "            measurements[\"Lowest Val Loss\"] = val_loss\n",
        "            measurements[\"Lowest Val Loss Epoch\"] = epoch\n",
        "        \n",
        "        print(f'Epoch {epoch}: train_loss: {train_loss:.4f} train_acc: {train_acc:.4f} | val_loss: {val_loss:.4f} val_acc: {val_acc:.4f}')\n",
        "        \n",
        "    # Return model checkpoint stored at lowest validation loss\n",
        "    model.load_state_dict(torch.load('checkpoint.pt'))\n",
        "    print(f'Lowest val_loss: {measurements[\"Lowest Val Loss\"]:.4f}, at epoch {measurements[\"Lowest Val Loss Epoch\"]}')\n",
        "    \n",
        "    return model, measurements"
      ],
      "execution_count": 80,
      "outputs": []
    },
    {
      "cell_type": "code",
      "metadata": {
        "id": "hQSbkng6bJJX"
      },
      "source": [
        "batch_size = 128\n",
        "traindl, valdl = data.BucketIterator.splits(datasets=(trainds, valds),\n",
        "                                            batch_sizes=(batch_size, batch_size),\n",
        "                                            sort_key=lambda x: len(x.Text),\n",
        "                                            device=device,\n",
        "                                            sort_within_batch=False)\n",
        "train_batch_it = BatchGenerator(traindl, 'Text', 'Label')\n",
        "val_batch_it = BatchGenerator(valdl, 'Text', 'Label')\n",
        "\n"
      ],
      "execution_count": 81,
      "outputs": []
    },
    {
      "cell_type": "code",
      "metadata": {
        "colab": {
          "base_uri": "https://localhost:8080/"
        },
        "id": "eBNlsUKdbkH5",
        "outputId": "10ddf273-e101-496f-9328-6d3cae229327"
      },
      "source": [
        "vocab_size = len(TEXT.vocab)\n",
        "embedding_dim = 300\n",
        "num_hidden_rnn = 50\n",
        "num_rnn_layers = 2\n",
        "mlp_layers = [50]\n",
        "num_classes = 5\n",
        "rec_unit_type = \"GRU\"\n",
        "train_embeddings = False\n",
        "\n",
        "m = Model(\n",
        "    vocab_size, \n",
        "    embedding_dim, \n",
        "    torch.from_numpy(embedding_matrix),\n",
        "    num_hidden_rnn, \n",
        "    num_rnn_layers, \n",
        "    mlp_layers, \n",
        "    num_classes, \n",
        "    rec_unit_type, \n",
        "    train_embeddings).to(device)\n",
        "# Filter is in place to ensure only layers with \"requires_grad\" will have their weights updated\n",
        "opt = optim.Adam(filter(lambda p: p.requires_grad, m.parameters()), 0.001)\n",
        "\n",
        "\n",
        "print(m)"
      ],
      "execution_count": 96,
      "outputs": [
        {
          "output_type": "stream",
          "text": [
            "Model(\n",
            "  (embeddings): Embedding(17199, 300)\n",
            "  (rec): GRU(300, 50, num_layers=2)\n",
            "  (mlp): ModuleList(\n",
            "    (0): Linear(in_features=50, out_features=50, bias=True)\n",
            "  )\n",
            "  (out): Linear(in_features=50, out_features=5, bias=True)\n",
            ")\n"
          ],
          "name": "stdout"
        }
      ]
    },
    {
      "cell_type": "code",
      "metadata": {
        "colab": {
          "base_uri": "https://localhost:8080/"
        },
        "id": "UUkokITqc3Q5",
        "outputId": "05932228-78a8-42b7-a44c-3b9e9b776c82"
      },
      "source": [
        "m, measurements = fit(\n",
        "    model=m,\n",
        "    train_dl=train_batch_it, \n",
        "    val_dl=val_batch_it, \n",
        "    loss_fn=F.cross_entropy,\n",
        "    opt=opt,\n",
        "    epochs=100,\n",
        "    batch_size=batch_size)"
      ],
      "execution_count": 97,
      "outputs": [
        {
          "output_type": "stream",
          "text": [
            "Epoch 0: train_loss: 1.5768 train_acc: 0.2561 | val_loss: 1.5733 val_acc: 0.2534\n",
            "Epoch 1: train_loss: 1.5691 train_acc: 0.2670 | val_loss: 1.5775 val_acc: 0.2534\n",
            "Epoch 2: train_loss: 1.5691 train_acc: 0.2704 | val_loss: 1.5720 val_acc: 0.2534\n",
            "Epoch 3: train_loss: 1.5685 train_acc: 0.2684 | val_loss: 1.5737 val_acc: 0.2534\n",
            "Epoch 4: train_loss: 1.5681 train_acc: 0.2659 | val_loss: 1.5707 val_acc: 0.2543\n",
            "Epoch 5: train_loss: 1.5675 train_acc: 0.2712 | val_loss: 1.5737 val_acc: 0.2543\n",
            "Epoch 6: train_loss: 1.5549 train_acc: 0.2908 | val_loss: 1.4647 val_acc: 0.3742\n",
            "Epoch 7: train_loss: 1.3531 train_acc: 0.3950 | val_loss: 1.3272 val_acc: 0.3933\n",
            "Epoch 8: train_loss: 1.2584 train_acc: 0.4327 | val_loss: 1.3139 val_acc: 0.4332\n",
            "Epoch 9: train_loss: 1.2136 train_acc: 0.4533 | val_loss: 1.2870 val_acc: 0.4369\n",
            "Epoch 10: train_loss: 1.1835 train_acc: 0.4716 | val_loss: 1.3334 val_acc: 0.4214\n",
            "Epoch 11: train_loss: 1.1598 train_acc: 0.4841 | val_loss: 1.3064 val_acc: 0.4251\n",
            "Epoch 12: train_loss: 1.1386 train_acc: 0.4998 | val_loss: 1.2859 val_acc: 0.4360\n",
            "Epoch 13: train_loss: 1.1151 train_acc: 0.5110 | val_loss: 1.3089 val_acc: 0.4414\n",
            "Epoch 14: train_loss: 1.0959 train_acc: 0.5248 | val_loss: 1.3521 val_acc: 0.4269\n",
            "Epoch 15: train_loss: 1.0715 train_acc: 0.5346 | val_loss: 1.3107 val_acc: 0.4496\n",
            "Epoch 16: train_loss: 1.0456 train_acc: 0.5473 | val_loss: 1.3484 val_acc: 0.4278\n",
            "Epoch 17: train_loss: 1.0191 train_acc: 0.5589 | val_loss: 1.3307 val_acc: 0.4405\n",
            "Epoch 18: train_loss: 0.9984 train_acc: 0.5693 | val_loss: 1.3472 val_acc: 0.4332\n",
            "Epoch 19: train_loss: 0.9732 train_acc: 0.5870 | val_loss: 1.3689 val_acc: 0.4342\n",
            "Epoch 20: train_loss: 0.9381 train_acc: 0.6072 | val_loss: 1.4220 val_acc: 0.4233\n",
            "Epoch 21: train_loss: 0.9177 train_acc: 0.6172 | val_loss: 1.3858 val_acc: 0.4287\n",
            "Epoch 22: train_loss: 0.8830 train_acc: 0.6348 | val_loss: 1.3904 val_acc: 0.4296\n",
            "Epoch 23: train_loss: 0.8552 train_acc: 0.6506 | val_loss: 1.4068 val_acc: 0.4432\n",
            "Epoch 24: train_loss: 0.8137 train_acc: 0.6738 | val_loss: 1.4727 val_acc: 0.4360\n",
            "Epoch 25: train_loss: 0.7810 train_acc: 0.6956 | val_loss: 1.4951 val_acc: 0.4369\n",
            "Epoch 26: train_loss: 0.7595 train_acc: 0.7017 | val_loss: 1.5460 val_acc: 0.4278\n",
            "Epoch 27: train_loss: 0.7299 train_acc: 0.7186 | val_loss: 1.5194 val_acc: 0.4423\n",
            "Epoch 28: train_loss: 0.6904 train_acc: 0.7369 | val_loss: 1.5673 val_acc: 0.4314\n",
            "Epoch 29: train_loss: 0.6618 train_acc: 0.7536 | val_loss: 1.5608 val_acc: 0.4233\n",
            "Epoch 30: train_loss: 0.6193 train_acc: 0.7760 | val_loss: 1.6855 val_acc: 0.4187\n",
            "Epoch 31: train_loss: 0.6044 train_acc: 0.7793 | val_loss: 1.7184 val_acc: 0.4196\n",
            "Epoch 32: train_loss: 0.5549 train_acc: 0.8063 | val_loss: 1.7805 val_acc: 0.4205\n",
            "Epoch 33: train_loss: 0.5259 train_acc: 0.8200 | val_loss: 1.7665 val_acc: 0.4178\n",
            "Epoch 34: train_loss: 0.4992 train_acc: 0.8316 | val_loss: 1.7577 val_acc: 0.4187\n",
            "Epoch 35: train_loss: 0.4762 train_acc: 0.8435 | val_loss: 1.8014 val_acc: 0.4205\n",
            "Epoch 36: train_loss: 0.4813 train_acc: 0.8380 | val_loss: 1.7780 val_acc: 0.4205\n",
            "Epoch 37: train_loss: 0.4493 train_acc: 0.8494 | val_loss: 1.8832 val_acc: 0.4096\n",
            "Epoch 38: train_loss: 0.4193 train_acc: 0.8668 | val_loss: 1.8939 val_acc: 0.4151\n",
            "Epoch 39: train_loss: 0.3921 train_acc: 0.8791 | val_loss: 1.9370 val_acc: 0.4269\n",
            "Epoch 40: train_loss: 0.3765 train_acc: 0.8814 | val_loss: 1.9277 val_acc: 0.4060\n",
            "Epoch 41: train_loss: 0.3729 train_acc: 0.8831 | val_loss: 1.9620 val_acc: 0.4078\n",
            "Epoch 42: train_loss: 0.3776 train_acc: 0.8820 | val_loss: 1.9295 val_acc: 0.4114\n",
            "Epoch 43: train_loss: 0.3424 train_acc: 0.8937 | val_loss: 2.0174 val_acc: 0.4151\n",
            "Epoch 44: train_loss: 0.3397 train_acc: 0.8931 | val_loss: 2.0264 val_acc: 0.4233\n",
            "Epoch 45: train_loss: 0.3303 train_acc: 0.8990 | val_loss: 2.0819 val_acc: 0.4187\n",
            "Epoch 46: train_loss: 0.3276 train_acc: 0.8962 | val_loss: 2.1118 val_acc: 0.4187\n",
            "Epoch 47: train_loss: 0.3194 train_acc: 0.9018 | val_loss: 2.1621 val_acc: 0.4042\n",
            "Epoch 48: train_loss: 0.3145 train_acc: 0.9033 | val_loss: 2.1074 val_acc: 0.4223\n",
            "Epoch 49: train_loss: 0.2890 train_acc: 0.9137 | val_loss: 2.1516 val_acc: 0.4142\n",
            "Epoch 50: train_loss: 0.3083 train_acc: 0.9040 | val_loss: 2.1098 val_acc: 0.4169\n",
            "Epoch 51: train_loss: 0.2750 train_acc: 0.9178 | val_loss: 2.2033 val_acc: 0.4223\n",
            "Epoch 52: train_loss: 0.2554 train_acc: 0.9235 | val_loss: 2.2441 val_acc: 0.4096\n",
            "Epoch 53: train_loss: 0.2573 train_acc: 0.9215 | val_loss: 2.2772 val_acc: 0.3987\n",
            "Epoch 54: train_loss: 0.2770 train_acc: 0.9154 | val_loss: 2.2285 val_acc: 0.4178\n",
            "Epoch 55: train_loss: 0.2438 train_acc: 0.9249 | val_loss: 2.2487 val_acc: 0.4260\n",
            "Epoch 56: train_loss: 0.2525 train_acc: 0.9224 | val_loss: 2.3141 val_acc: 0.4033\n",
            "Epoch 57: train_loss: 0.2662 train_acc: 0.9194 | val_loss: 2.3768 val_acc: 0.4005\n",
            "Epoch 58: train_loss: 0.2399 train_acc: 0.9292 | val_loss: 2.3706 val_acc: 0.4151\n",
            "Epoch 59: train_loss: 0.2207 train_acc: 0.9349 | val_loss: 2.3476 val_acc: 0.4078\n",
            "Epoch 60: train_loss: 0.2166 train_acc: 0.9324 | val_loss: 2.4122 val_acc: 0.3915\n",
            "Epoch 61: train_loss: 0.2289 train_acc: 0.9302 | val_loss: 2.3947 val_acc: 0.4078\n",
            "Epoch 62: train_loss: 0.2387 train_acc: 0.9286 | val_loss: 2.3911 val_acc: 0.4078\n",
            "Epoch 63: train_loss: 0.2112 train_acc: 0.9341 | val_loss: 2.4329 val_acc: 0.4151\n",
            "Epoch 64: train_loss: 0.2025 train_acc: 0.9381 | val_loss: 2.4929 val_acc: 0.4169\n",
            "Epoch 65: train_loss: 0.1918 train_acc: 0.9434 | val_loss: 2.4815 val_acc: 0.4151\n",
            "Epoch 66: train_loss: 0.1965 train_acc: 0.9417 | val_loss: 2.5800 val_acc: 0.4124\n",
            "Epoch 67: train_loss: 0.1958 train_acc: 0.9416 | val_loss: 2.5087 val_acc: 0.4178\n",
            "Epoch 68: train_loss: 0.1953 train_acc: 0.9415 | val_loss: 2.5723 val_acc: 0.4069\n",
            "Epoch 69: train_loss: 0.2090 train_acc: 0.9367 | val_loss: 2.5007 val_acc: 0.4096\n",
            "Epoch 70: train_loss: 0.1842 train_acc: 0.9453 | val_loss: 2.5493 val_acc: 0.4124\n",
            "Epoch 71: train_loss: 0.2004 train_acc: 0.9391 | val_loss: 2.5305 val_acc: 0.4069\n",
            "Epoch 72: train_loss: 0.1956 train_acc: 0.9417 | val_loss: 2.5189 val_acc: 0.4105\n",
            "Epoch 73: train_loss: 0.1761 train_acc: 0.9474 | val_loss: 2.5617 val_acc: 0.4133\n",
            "Epoch 74: train_loss: 0.1785 train_acc: 0.9473 | val_loss: 2.5531 val_acc: 0.4078\n",
            "Epoch 75: train_loss: 0.1665 train_acc: 0.9496 | val_loss: 2.5904 val_acc: 0.4078\n",
            "Epoch 76: train_loss: 0.1703 train_acc: 0.9492 | val_loss: 2.6943 val_acc: 0.4078\n",
            "Epoch 77: train_loss: 0.1602 train_acc: 0.9538 | val_loss: 2.6938 val_acc: 0.4042\n",
            "Epoch 78: train_loss: 0.1396 train_acc: 0.9599 | val_loss: 2.7135 val_acc: 0.4205\n",
            "Epoch 79: train_loss: 0.1419 train_acc: 0.9580 | val_loss: 2.7769 val_acc: 0.4024\n",
            "Epoch 80: train_loss: 0.1607 train_acc: 0.9522 | val_loss: 2.6201 val_acc: 0.3996\n",
            "Epoch 81: train_loss: 0.1958 train_acc: 0.9415 | val_loss: 2.6436 val_acc: 0.4060\n",
            "Epoch 82: train_loss: 0.1614 train_acc: 0.9508 | val_loss: 2.6171 val_acc: 0.4142\n",
            "Epoch 83: train_loss: 0.1400 train_acc: 0.9575 | val_loss: 2.7239 val_acc: 0.4042\n",
            "Epoch 84: train_loss: 0.1293 train_acc: 0.9624 | val_loss: 2.7635 val_acc: 0.4087\n",
            "Epoch 85: train_loss: 0.1520 train_acc: 0.9553 | val_loss: 2.7392 val_acc: 0.4187\n",
            "Epoch 86: train_loss: 0.1611 train_acc: 0.9525 | val_loss: 2.6995 val_acc: 0.4124\n",
            "Epoch 87: train_loss: 0.1352 train_acc: 0.9603 | val_loss: 2.7556 val_acc: 0.4096\n",
            "Epoch 88: train_loss: 0.1380 train_acc: 0.9590 | val_loss: 2.7404 val_acc: 0.4096\n",
            "Epoch 89: train_loss: 0.1287 train_acc: 0.9615 | val_loss: 2.8198 val_acc: 0.4087\n",
            "Epoch 90: train_loss: 0.1252 train_acc: 0.9627 | val_loss: 2.8387 val_acc: 0.4142\n",
            "Epoch 91: train_loss: 0.1188 train_acc: 0.9650 | val_loss: 2.8378 val_acc: 0.4151\n",
            "Epoch 92: train_loss: 0.1387 train_acc: 0.9581 | val_loss: 2.8948 val_acc: 0.3960\n",
            "Epoch 93: train_loss: 0.1281 train_acc: 0.9632 | val_loss: 2.9223 val_acc: 0.4024\n",
            "Epoch 94: train_loss: 0.1244 train_acc: 0.9647 | val_loss: 2.9670 val_acc: 0.4124\n",
            "Epoch 95: train_loss: 0.1294 train_acc: 0.9630 | val_loss: 2.9033 val_acc: 0.4060\n",
            "Epoch 96: train_loss: 0.1261 train_acc: 0.9630 | val_loss: 2.8736 val_acc: 0.3969\n",
            "Epoch 97: train_loss: 0.1118 train_acc: 0.9662 | val_loss: 2.9184 val_acc: 0.3987\n",
            "Epoch 98: train_loss: 0.1046 train_acc: 0.9700 | val_loss: 2.9889 val_acc: 0.4133\n",
            "Epoch 99: train_loss: 0.0942 train_acc: 0.9728 | val_loss: 3.0476 val_acc: 0.4124\n",
            "Lowest val_loss: 1.2859, at epoch 12\n"
          ],
          "name": "stdout"
        }
      ]
    },
    {
      "cell_type": "code",
      "metadata": {
        "colab": {
          "base_uri": "https://localhost:8080/",
          "height": 367
        },
        "id": "UPrvpv14oLx9",
        "outputId": "ed9fb2f2-ba2f-4177-d66c-055d22cadc83"
      },
      "source": [
        "\n",
        "plt.figure(figsize=(10,5))\n",
        "plt.plot(measurements[\"Train Loss\"], label=\"Train Loss\")\n",
        "plt.plot(measurements[\"Val Loss\"], label=\"Validation Loss\")\n",
        "plt.axvline(measurements[\"Lowest Val Loss Epoch\"], linestyle='--', color='r',label='Checkpoint')\n",
        "plt.title(\"Loss Plot\")\n",
        "plt.xlabel(\"Epochs\")\n",
        "plt.ylabel(\"Cross Entropy Loss\")\n",
        "plt.legend()"
      ],
      "execution_count": 98,
      "outputs": [
        {
          "output_type": "execute_result",
          "data": {
            "text/plain": [
              "<matplotlib.legend.Legend at 0x7f37febdaeb8>"
            ]
          },
          "metadata": {
            "tags": []
          },
          "execution_count": 98
        },
        {
          "output_type": "display_data",
          "data": {
            "image/png": "[encoded data removed]",
            "text/plain": [
              "<Figure size 720x360 with 1 Axes>"
            ]
          },
          "metadata": {
            "tags": [],
            "needs_background": "light"
          }
        }
      ]
    },
    {
      "cell_type": "code",
      "metadata": {
        "id": "PNT40hyboMe-"
      },
      "source": [
        "testdl = data.Iterator(testds,\n",
        "                        batch_size=batch_size,\n",
        "                        sort_key=lambda x: len(x.Text),\n",
        "                        device=device,\n",
        "                        sort_within_batch=False)\n",
        "test_batch_it = BatchGenerator(testdl, 'Text', 'Label')\n",
        "m.eval()\n",
        "loss_fn=F.cross_entropy\n",
        "accuracies = []\n",
        "\n",
        "for batch_it in [train_batch_it, val_batch_it, test_batch_it]:\n",
        "  y_true = list()\n",
        "  y_pred = list()\n",
        "  total_loss = 0\n",
        "\n",
        "  for X,y in iter(batch_it):\n",
        "      pred = m(X)\n",
        "      loss = loss_fn(pred, y)\n",
        "      pred_idx = torch.max(pred, 1)[1]\n",
        "\n",
        "      y_true += list(y.cpu().data.numpy())\n",
        "      y_pred += list(pred_idx.cpu().data.numpy())\n",
        "      total_loss += loss.item()\n",
        "\n",
        "  acc = accuracy_score(y_true, y_pred)\n",
        "  accuracies.append(acc)"
      ],
      "execution_count": 99,
      "outputs": []
    },
    {
      "cell_type": "code",
      "metadata": {
        "colab": {
          "base_uri": "https://localhost:8080/"
        },
        "id": "hCG3rZx6oRhb",
        "outputId": "0139d0e2-5826-43d5-a5ac-6a08700f57ee"
      },
      "source": [
        "print(f'Training Accuracy: {accuracies[0]:.4f}')\n",
        "print(f'Validation Accuracy: {accuracies[1]:.4f}')\n",
        "print(f'Test Accuracy: {accuracies[2]:.4f}')"
      ],
      "execution_count": 100,
      "outputs": [
        {
          "output_type": "stream",
          "text": [
            "Training Accuracy: 0.5092\n",
            "Validation Accuracy: 0.4360\n",
            "Test Accuracy: 0.4462\n"
          ],
          "name": "stdout"
        }
      ]
    },
    {
      "cell_type": "code",
      "metadata": {
        "colab": {
          "base_uri": "https://localhost:8080/"
        },
        "id": "U5_sPfbNoUG-",
        "outputId": "0d6512c1-db4e-4122-d252-15bd9af8e692"
      },
      "source": [
        "# Movie reviews from:\n",
        "# https://www.rottentomatoes.com/m/the_dark_knight\n",
        "\n",
        "reviews = [\n",
        "    \"An exceptionally smart, brooding picture with some terrific performances.\",\n",
        "    \"You will feel utterly numb after the screening of The Dark Knight. The film is bleak and brilliant.\",\n",
        "    \"The definitive movie of its genre and the best Batman film to date\",\n",
        "    \"Too much psychology and not enough pop. It's possible to be too serious, you know.\",\n",
        "    \"One of the most stylish extravaganzas in years.\",\n",
        "]\n",
        "field = [('Text', TEXT)]\n",
        "my_examples = pd.DataFrame({'text': reviews})\n",
        "my_examples.to_csv('/tmp/my_examples.csv', index=False)\n",
        "my_ds = data.TabularDataset(path='/tmp/my_examples.csv', \n",
        "                            format='csv', \n",
        "                            fields=field, \n",
        "                            skip_header=True)\n",
        "my_dl = data.Iterator(my_ds, batch_size=5, device=device)\n",
        "my_it = BatchGenerator(my_dl, 'Text', 'Text')\n",
        "m.eval()\n",
        "\n",
        "X,_ = next(iter(my_it))\n",
        "pred = m(X)\n",
        "pred_idx = torch.max(pred, 1)[1].cpu().data.numpy()\n",
        "for i in range(len(pred_idx)):\n",
        "  print(\"Sentiment: {}. Review: {}\".format(pred_idx[i], reviews[i]))\n"
      ],
      "execution_count": 101,
      "outputs": [
        {
          "output_type": "stream",
          "text": [
            "Sentiment: 0. Review: An exceptionally smart, brooding picture with some terrific performances.\n",
            "Sentiment: 4. Review: You will feel utterly numb after the screening of The Dark Knight. The film is bleak and brilliant.\n",
            "Sentiment: 1. Review: The definitive movie of its genre and the best Batman film to date\n",
            "Sentiment: 0. Review: Too much psychology and not enough pop. It's possible to be too serious, you know.\n",
            "Sentiment: 3. Review: One of the most stylish extravaganzas in years.\n",
            "<torchtext.data.field.LabelField object at 0x7f3917f93e48>\n"
          ],
          "name": "stdout"
        }
      ]
    }
  ]
}