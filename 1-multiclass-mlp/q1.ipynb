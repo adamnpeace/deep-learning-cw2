{
  "nbformat": 4,
  "nbformat_minor": 0,
  "metadata": {
    "kernelspec": {
      "name": "python3",
      "display_name": "Python 3"
    },
    "accelerator": "GPU",
    "colab": {
      "name": "dl_2 task 1",
      "provenance": [],
      "collapsed_sections": []
    },
    "widgets": {
      "application/vnd.jupyter.widget-state+json": {
        "4a4096eb969b40d59642bb53a1ab37af": {
          "model_module": "@jupyter-widgets/controls",
          "model_name": "HBoxModel",
          "state": {
            "_view_name": "HBoxView",
            "_dom_classes": [],
            "_model_name": "HBoxModel",
            "_view_module": "@jupyter-widgets/controls",
            "_model_module_version": "1.5.0",
            "_view_count": null,
            "_view_module_version": "1.5.0",
            "box_style": "",
            "layout": "IPY_MODEL_3a59d0120892435db8c1c8e9dceec9a8",
            "_model_module": "@jupyter-widgets/controls",
            "children": [
              "IPY_MODEL_cbeb1205bfc64e5a8689ad30f8a7cf15",
              "IPY_MODEL_0f70cc15760a4dc19abf7265c2f5b4f0"
            ]
          }
        },
        "3a59d0120892435db8c1c8e9dceec9a8": {
          "model_module": "@jupyter-widgets/base",
          "model_name": "LayoutModel",
          "state": {
            "_view_name": "LayoutView",
            "grid_template_rows": null,
            "right": null,
            "justify_content": null,
            "_view_module": "@jupyter-widgets/base",
            "overflow": null,
            "_model_module_version": "1.2.0",
            "_view_count": null,
            "flex_flow": null,
            "width": null,
            "min_width": null,
            "border": null,
            "align_items": null,
            "bottom": null,
            "_model_module": "@jupyter-widgets/base",
            "top": null,
            "grid_column": null,
            "overflow_y": null,
            "overflow_x": null,
            "grid_auto_flow": null,
            "grid_area": null,
            "grid_template_columns": null,
            "flex": null,
            "_model_name": "LayoutModel",
            "justify_items": null,
            "grid_row": null,
            "max_height": null,
            "align_content": null,
            "visibility": null,
            "align_self": null,
            "height": null,
            "min_height": null,
            "padding": null,
            "grid_auto_rows": null,
            "grid_gap": null,
            "max_width": null,
            "order": null,
            "_view_module_version": "1.2.0",
            "grid_template_areas": null,
            "object_position": null,
            "object_fit": null,
            "grid_auto_columns": null,
            "margin": null,
            "display": null,
            "left": null
          }
        },
        "cbeb1205bfc64e5a8689ad30f8a7cf15": {
          "model_module": "@jupyter-widgets/controls",
          "model_name": "FloatProgressModel",
          "state": {
            "_view_name": "ProgressView",
            "style": "IPY_MODEL_3555bf96a15041d696d1fe96144b99a5",
            "_dom_classes": [],
            "description": "",
            "_model_name": "FloatProgressModel",
            "bar_style": "success",
            "max": 1,
            "_view_module": "@jupyter-widgets/controls",
            "_model_module_version": "1.5.0",
            "value": 1,
            "_view_count": null,
            "_view_module_version": "1.5.0",
            "orientation": "horizontal",
            "min": 0,
            "description_tooltip": null,
            "_model_module": "@jupyter-widgets/controls",
            "layout": "IPY_MODEL_55af61459ad8474289bb82b6b8eddd3f"
          }
        },
        "0f70cc15760a4dc19abf7265c2f5b4f0": {
          "model_module": "@jupyter-widgets/controls",
          "model_name": "HTMLModel",
          "state": {
            "_view_name": "HTMLView",
            "style": "IPY_MODEL_f30e29d3f66a43a19e32c9b20b256285",
            "_dom_classes": [],
            "description": "",
            "_model_name": "HTMLModel",
            "placeholder": "​",
            "_view_module": "@jupyter-widgets/controls",
            "_model_module_version": "1.5.0",
            "value": " 26427392/? [00:03&lt;00:00, 6682288.34it/s]",
            "_view_count": null,
            "_view_module_version": "1.5.0",
            "description_tooltip": null,
            "_model_module": "@jupyter-widgets/controls",
            "layout": "IPY_MODEL_a5f658eab4f4474ebea19ea0b7c8bca2"
          }
        },
        "3555bf96a15041d696d1fe96144b99a5": {
          "model_module": "@jupyter-widgets/controls",
          "model_name": "ProgressStyleModel",
          "state": {
            "_view_name": "StyleView",
            "_model_name": "ProgressStyleModel",
            "description_width": "initial",
            "_view_module": "@jupyter-widgets/base",
            "_model_module_version": "1.5.0",
            "_view_count": null,
            "_view_module_version": "1.2.0",
            "bar_color": null,
            "_model_module": "@jupyter-widgets/controls"
          }
        },
        "55af61459ad8474289bb82b6b8eddd3f": {
          "model_module": "@jupyter-widgets/base",
          "model_name": "LayoutModel",
          "state": {
            "_view_name": "LayoutView",
            "grid_template_rows": null,
            "right": null,
            "justify_content": null,
            "_view_module": "@jupyter-widgets/base",
            "overflow": null,
            "_model_module_version": "1.2.0",
            "_view_count": null,
            "flex_flow": null,
            "width": null,
            "min_width": null,
            "border": null,
            "align_items": null,
            "bottom": null,
            "_model_module": "@jupyter-widgets/base",
            "top": null,
            "grid_column": null,
            "overflow_y": null,
            "overflow_x": null,
            "grid_auto_flow": null,
            "grid_area": null,
            "grid_template_columns": null,
            "flex": null,
            "_model_name": "LayoutModel",
            "justify_items": null,
            "grid_row": null,
            "max_height": null,
            "align_content": null,
            "visibility": null,
            "align_self": null,
            "height": null,
            "min_height": null,
            "padding": null,
            "grid_auto_rows": null,
            "grid_gap": null,
            "max_width": null,
            "order": null,
            "_view_module_version": "1.2.0",
            "grid_template_areas": null,
            "object_position": null,
            "object_fit": null,
            "grid_auto_columns": null,
            "margin": null,
            "display": null,
            "left": null
          }
        },
        "f30e29d3f66a43a19e32c9b20b256285": {
          "model_module": "@jupyter-widgets/controls",
          "model_name": "DescriptionStyleModel",
          "state": {
            "_view_name": "StyleView",
            "_model_name": "DescriptionStyleModel",
            "description_width": "",
            "_view_module": "@jupyter-widgets/base",
            "_model_module_version": "1.5.0",
            "_view_count": null,
            "_view_module_version": "1.2.0",
            "_model_module": "@jupyter-widgets/controls"
          }
        },
        "a5f658eab4f4474ebea19ea0b7c8bca2": {
          "model_module": "@jupyter-widgets/base",
          "model_name": "LayoutModel",
          "state": {
            "_view_name": "LayoutView",
            "grid_template_rows": null,
            "right": null,
            "justify_content": null,
            "_view_module": "@jupyter-widgets/base",
            "overflow": null,
            "_model_module_version": "1.2.0",
            "_view_count": null,
            "flex_flow": null,
            "width": null,
            "min_width": null,
            "border": null,
            "align_items": null,
            "bottom": null,
            "_model_module": "@jupyter-widgets/base",
            "top": null,
            "grid_column": null,
            "overflow_y": null,
            "overflow_x": null,
            "grid_auto_flow": null,
            "grid_area": null,
            "grid_template_columns": null,
            "flex": null,
            "_model_name": "LayoutModel",
            "justify_items": null,
            "grid_row": null,
            "max_height": null,
            "align_content": null,
            "visibility": null,
            "align_self": null,
            "height": null,
            "min_height": null,
            "padding": null,
            "grid_auto_rows": null,
            "grid_gap": null,
            "max_width": null,
            "order": null,
            "_view_module_version": "1.2.0",
            "grid_template_areas": null,
            "object_position": null,
            "object_fit": null,
            "grid_auto_columns": null,
            "margin": null,
            "display": null,
            "left": null
          }
        },
        "26c898edf88145bd8f6a518bd23da73b": {
          "model_module": "@jupyter-widgets/controls",
          "model_name": "HBoxModel",
          "state": {
            "_view_name": "HBoxView",
            "_dom_classes": [],
            "_model_name": "HBoxModel",
            "_view_module": "@jupyter-widgets/controls",
            "_model_module_version": "1.5.0",
            "_view_count": null,
            "_view_module_version": "1.5.0",
            "box_style": "",
            "layout": "IPY_MODEL_1a268b26de9c4a8599b563c30c1f9b8a",
            "_model_module": "@jupyter-widgets/controls",
            "children": [
              "IPY_MODEL_0cf8c96bfcd946709285e2b81c862bd7",
              "IPY_MODEL_0fecf37663744873b5f5550b7a5b712c"
            ]
          }
        },
        "1a268b26de9c4a8599b563c30c1f9b8a": {
          "model_module": "@jupyter-widgets/base",
          "model_name": "LayoutModel",
          "state": {
            "_view_name": "LayoutView",
            "grid_template_rows": null,
            "right": null,
            "justify_content": null,
            "_view_module": "@jupyter-widgets/base",
            "overflow": null,
            "_model_module_version": "1.2.0",
            "_view_count": null,
            "flex_flow": null,
            "width": null,
            "min_width": null,
            "border": null,
            "align_items": null,
            "bottom": null,
            "_model_module": "@jupyter-widgets/base",
            "top": null,
            "grid_column": null,
            "overflow_y": null,
            "overflow_x": null,
            "grid_auto_flow": null,
            "grid_area": null,
            "grid_template_columns": null,
            "flex": null,
            "_model_name": "LayoutModel",
            "justify_items": null,
            "grid_row": null,
            "max_height": null,
            "align_content": null,
            "visibility": null,
            "align_self": null,
            "height": null,
            "min_height": null,
            "padding": null,
            "grid_auto_rows": null,
            "grid_gap": null,
            "max_width": null,
            "order": null,
            "_view_module_version": "1.2.0",
            "grid_template_areas": null,
            "object_position": null,
            "object_fit": null,
            "grid_auto_columns": null,
            "margin": null,
            "display": null,
            "left": null
          }
        },
        "0cf8c96bfcd946709285e2b81c862bd7": {
          "model_module": "@jupyter-widgets/controls",
          "model_name": "FloatProgressModel",
          "state": {
            "_view_name": "ProgressView",
            "style": "IPY_MODEL_775c9cd44c7d4972b0dbe2cf351a497c",
            "_dom_classes": [],
            "description": "",
            "_model_name": "FloatProgressModel",
            "bar_style": "success",
            "max": 1,
            "_view_module": "@jupyter-widgets/controls",
            "_model_module_version": "1.5.0",
            "value": 1,
            "_view_count": null,
            "_view_module_version": "1.5.0",
            "orientation": "horizontal",
            "min": 0,
            "description_tooltip": null,
            "_model_module": "@jupyter-widgets/controls",
            "layout": "IPY_MODEL_bd9bb23a7b6e420e969417989cbe7fe4"
          }
        },
        "0fecf37663744873b5f5550b7a5b712c": {
          "model_module": "@jupyter-widgets/controls",
          "model_name": "HTMLModel",
          "state": {
            "_view_name": "HTMLView",
            "style": "IPY_MODEL_3ad58674b20f42429c78a0356ff51ae7",
            "_dom_classes": [],
            "description": "",
            "_model_name": "HTMLModel",
            "placeholder": "​",
            "_view_module": "@jupyter-widgets/controls",
            "_model_module_version": "1.5.0",
            "value": " 32768/? [00:00&lt;00:00, 100249.06it/s]",
            "_view_count": null,
            "_view_module_version": "1.5.0",
            "description_tooltip": null,
            "_model_module": "@jupyter-widgets/controls",
            "layout": "IPY_MODEL_249a0a5fd88a4a8eb778f63f9d10fe26"
          }
        },
        "775c9cd44c7d4972b0dbe2cf351a497c": {
          "model_module": "@jupyter-widgets/controls",
          "model_name": "ProgressStyleModel",
          "state": {
            "_view_name": "StyleView",
            "_model_name": "ProgressStyleModel",
            "description_width": "initial",
            "_view_module": "@jupyter-widgets/base",
            "_model_module_version": "1.5.0",
            "_view_count": null,
            "_view_module_version": "1.2.0",
            "bar_color": null,
            "_model_module": "@jupyter-widgets/controls"
          }
        },
        "bd9bb23a7b6e420e969417989cbe7fe4": {
          "model_module": "@jupyter-widgets/base",
          "model_name": "LayoutModel",
          "state": {
            "_view_name": "LayoutView",
            "grid_template_rows": null,
            "right": null,
            "justify_content": null,
            "_view_module": "@jupyter-widgets/base",
            "overflow": null,
            "_model_module_version": "1.2.0",
            "_view_count": null,
            "flex_flow": null,
            "width": null,
            "min_width": null,
            "border": null,
            "align_items": null,
            "bottom": null,
            "_model_module": "@jupyter-widgets/base",
            "top": null,
            "grid_column": null,
            "overflow_y": null,
            "overflow_x": null,
            "grid_auto_flow": null,
            "grid_area": null,
            "grid_template_columns": null,
            "flex": null,
            "_model_name": "LayoutModel",
            "justify_items": null,
            "grid_row": null,
            "max_height": null,
            "align_content": null,
            "visibility": null,
            "align_self": null,
            "height": null,
            "min_height": null,
            "padding": null,
            "grid_auto_rows": null,
            "grid_gap": null,
            "max_width": null,
            "order": null,
            "_view_module_version": "1.2.0",
            "grid_template_areas": null,
            "object_position": null,
            "object_fit": null,
            "grid_auto_columns": null,
            "margin": null,
            "display": null,
            "left": null
          }
        },
        "3ad58674b20f42429c78a0356ff51ae7": {
          "model_module": "@jupyter-widgets/controls",
          "model_name": "DescriptionStyleModel",
          "state": {
            "_view_name": "StyleView",
            "_model_name": "DescriptionStyleModel",
            "description_width": "",
            "_view_module": "@jupyter-widgets/base",
            "_model_module_version": "1.5.0",
            "_view_count": null,
            "_view_module_version": "1.2.0",
            "_model_module": "@jupyter-widgets/controls"
          }
        },
        "249a0a5fd88a4a8eb778f63f9d10fe26": {
          "model_module": "@jupyter-widgets/base",
          "model_name": "LayoutModel",
          "state": {
            "_view_name": "LayoutView",
            "grid_template_rows": null,
            "right": null,
            "justify_content": null,
            "_view_module": "@jupyter-widgets/base",
            "overflow": null,
            "_model_module_version": "1.2.0",
            "_view_count": null,
            "flex_flow": null,
            "width": null,
            "min_width": null,
            "border": null,
            "align_items": null,
            "bottom": null,
            "_model_module": "@jupyter-widgets/base",
            "top": null,
            "grid_column": null,
            "overflow_y": null,
            "overflow_x": null,
            "grid_auto_flow": null,
            "grid_area": null,
            "grid_template_columns": null,
            "flex": null,
            "_model_name": "LayoutModel",
            "justify_items": null,
            "grid_row": null,
            "max_height": null,
            "align_content": null,
            "visibility": null,
            "align_self": null,
            "height": null,
            "min_height": null,
            "padding": null,
            "grid_auto_rows": null,
            "grid_gap": null,
            "max_width": null,
            "order": null,
            "_view_module_version": "1.2.0",
            "grid_template_areas": null,
            "object_position": null,
            "object_fit": null,
            "grid_auto_columns": null,
            "margin": null,
            "display": null,
            "left": null
          }
        },
        "f2acd745d638452e9da455f11eaf9fb3": {
          "model_module": "@jupyter-widgets/controls",
          "model_name": "HBoxModel",
          "state": {
            "_view_name": "HBoxView",
            "_dom_classes": [],
            "_model_name": "HBoxModel",
            "_view_module": "@jupyter-widgets/controls",
            "_model_module_version": "1.5.0",
            "_view_count": null,
            "_view_module_version": "1.5.0",
            "box_style": "",
            "layout": "IPY_MODEL_da7a79484cec41a1be691e63575dd67e",
            "_model_module": "@jupyter-widgets/controls",
            "children": [
              "IPY_MODEL_1cb13700efdf43e180d5000861e2a13f",
              "IPY_MODEL_b1f3af8c9c794b5594fe491818bf107c"
            ]
          }
        },
        "da7a79484cec41a1be691e63575dd67e": {
          "model_module": "@jupyter-widgets/base",
          "model_name": "LayoutModel",
          "state": {
            "_view_name": "LayoutView",
            "grid_template_rows": null,
            "right": null,
            "justify_content": null,
            "_view_module": "@jupyter-widgets/base",
            "overflow": null,
            "_model_module_version": "1.2.0",
            "_view_count": null,
            "flex_flow": null,
            "width": null,
            "min_width": null,
            "border": null,
            "align_items": null,
            "bottom": null,
            "_model_module": "@jupyter-widgets/base",
            "top": null,
            "grid_column": null,
            "overflow_y": null,
            "overflow_x": null,
            "grid_auto_flow": null,
            "grid_area": null,
            "grid_template_columns": null,
            "flex": null,
            "_model_name": "LayoutModel",
            "justify_items": null,
            "grid_row": null,
            "max_height": null,
            "align_content": null,
            "visibility": null,
            "align_self": null,
            "height": null,
            "min_height": null,
            "padding": null,
            "grid_auto_rows": null,
            "grid_gap": null,
            "max_width": null,
            "order": null,
            "_view_module_version": "1.2.0",
            "grid_template_areas": null,
            "object_position": null,
            "object_fit": null,
            "grid_auto_columns": null,
            "margin": null,
            "display": null,
            "left": null
          }
        },
        "1cb13700efdf43e180d5000861e2a13f": {
          "model_module": "@jupyter-widgets/controls",
          "model_name": "FloatProgressModel",
          "state": {
            "_view_name": "ProgressView",
            "style": "IPY_MODEL_607023555ae34b6dbb4ccfc30102d4e2",
            "_dom_classes": [],
            "description": "",
            "_model_name": "FloatProgressModel",
            "bar_style": "success",
            "max": 1,
            "_view_module": "@jupyter-widgets/controls",
            "_model_module_version": "1.5.0",
            "value": 1,
            "_view_count": null,
            "_view_module_version": "1.5.0",
            "orientation": "horizontal",
            "min": 0,
            "description_tooltip": null,
            "_model_module": "@jupyter-widgets/controls",
            "layout": "IPY_MODEL_ec3ea828e5944bf0bd79afc1054358dc"
          }
        },
        "b1f3af8c9c794b5594fe491818bf107c": {
          "model_module": "@jupyter-widgets/controls",
          "model_name": "HTMLModel",
          "state": {
            "_view_name": "HTMLView",
            "style": "IPY_MODEL_c2e375e455dd471987d45fbf91f8f814",
            "_dom_classes": [],
            "description": "",
            "_model_name": "HTMLModel",
            "placeholder": "​",
            "_view_module": "@jupyter-widgets/controls",
            "_model_module_version": "1.5.0",
            "value": " 4423680/? [00:01&lt;00:00, 2788855.12it/s]",
            "_view_count": null,
            "_view_module_version": "1.5.0",
            "description_tooltip": null,
            "_model_module": "@jupyter-widgets/controls",
            "layout": "IPY_MODEL_0895ac31c27043cb8fe52c3b349849e9"
          }
        },
        "607023555ae34b6dbb4ccfc30102d4e2": {
          "model_module": "@jupyter-widgets/controls",
          "model_name": "ProgressStyleModel",
          "state": {
            "_view_name": "StyleView",
            "_model_name": "ProgressStyleModel",
            "description_width": "initial",
            "_view_module": "@jupyter-widgets/base",
            "_model_module_version": "1.5.0",
            "_view_count": null,
            "_view_module_version": "1.2.0",
            "bar_color": null,
            "_model_module": "@jupyter-widgets/controls"
          }
        },
        "ec3ea828e5944bf0bd79afc1054358dc": {
          "model_module": "@jupyter-widgets/base",
          "model_name": "LayoutModel",
          "state": {
            "_view_name": "LayoutView",
            "grid_template_rows": null,
            "right": null,
            "justify_content": null,
            "_view_module": "@jupyter-widgets/base",
            "overflow": null,
            "_model_module_version": "1.2.0",
            "_view_count": null,
            "flex_flow": null,
            "width": null,
            "min_width": null,
            "border": null,
            "align_items": null,
            "bottom": null,
            "_model_module": "@jupyter-widgets/base",
            "top": null,
            "grid_column": null,
            "overflow_y": null,
            "overflow_x": null,
            "grid_auto_flow": null,
            "grid_area": null,
            "grid_template_columns": null,
            "flex": null,
            "_model_name": "LayoutModel",
            "justify_items": null,
            "grid_row": null,
            "max_height": null,
            "align_content": null,
            "visibility": null,
            "align_self": null,
            "height": null,
            "min_height": null,
            "padding": null,
            "grid_auto_rows": null,
            "grid_gap": null,
            "max_width": null,
            "order": null,
            "_view_module_version": "1.2.0",
            "grid_template_areas": null,
            "object_position": null,
            "object_fit": null,
            "grid_auto_columns": null,
            "margin": null,
            "display": null,
            "left": null
          }
        },
        "c2e375e455dd471987d45fbf91f8f814": {
          "model_module": "@jupyter-widgets/controls",
          "model_name": "DescriptionStyleModel",
          "state": {
            "_view_name": "StyleView",
            "_model_name": "DescriptionStyleModel",
            "description_width": "",
            "_view_module": "@jupyter-widgets/base",
            "_model_module_version": "1.5.0",
            "_view_count": null,
            "_view_module_version": "1.2.0",
            "_model_module": "@jupyter-widgets/controls"
          }
        },
        "0895ac31c27043cb8fe52c3b349849e9": {
          "model_module": "@jupyter-widgets/base",
          "model_name": "LayoutModel",
          "state": {
            "_view_name": "LayoutView",
            "grid_template_rows": null,
            "right": null,
            "justify_content": null,
            "_view_module": "@jupyter-widgets/base",
            "overflow": null,
            "_model_module_version": "1.2.0",
            "_view_count": null,
            "flex_flow": null,
            "width": null,
            "min_width": null,
            "border": null,
            "align_items": null,
            "bottom": null,
            "_model_module": "@jupyter-widgets/base",
            "top": null,
            "grid_column": null,
            "overflow_y": null,
            "overflow_x": null,
            "grid_auto_flow": null,
            "grid_area": null,
            "grid_template_columns": null,
            "flex": null,
            "_model_name": "LayoutModel",
            "justify_items": null,
            "grid_row": null,
            "max_height": null,
            "align_content": null,
            "visibility": null,
            "align_self": null,
            "height": null,
            "min_height": null,
            "padding": null,
            "grid_auto_rows": null,
            "grid_gap": null,
            "max_width": null,
            "order": null,
            "_view_module_version": "1.2.0",
            "grid_template_areas": null,
            "object_position": null,
            "object_fit": null,
            "grid_auto_columns": null,
            "margin": null,
            "display": null,
            "left": null
          }
        },
        "a61e56f98f4f4d86a50959396f31e967": {
          "model_module": "@jupyter-widgets/controls",
          "model_name": "HBoxModel",
          "state": {
            "_view_name": "HBoxView",
            "_dom_classes": [],
            "_model_name": "HBoxModel",
            "_view_module": "@jupyter-widgets/controls",
            "_model_module_version": "1.5.0",
            "_view_count": null,
            "_view_module_version": "1.5.0",
            "box_style": "",
            "layout": "IPY_MODEL_d8eaf898fa6c40c9a84b0a3a614c1cb0",
            "_model_module": "@jupyter-widgets/controls",
            "children": [
              "IPY_MODEL_55dce041c8b941ae9ce5f82d4d727e40",
              "IPY_MODEL_14e6b6c664aa4793a8bcee13a2891174"
            ]
          }
        },
        "d8eaf898fa6c40c9a84b0a3a614c1cb0": {
          "model_module": "@jupyter-widgets/base",
          "model_name": "LayoutModel",
          "state": {
            "_view_name": "LayoutView",
            "grid_template_rows": null,
            "right": null,
            "justify_content": null,
            "_view_module": "@jupyter-widgets/base",
            "overflow": null,
            "_model_module_version": "1.2.0",
            "_view_count": null,
            "flex_flow": null,
            "width": null,
            "min_width": null,
            "border": null,
            "align_items": null,
            "bottom": null,
            "_model_module": "@jupyter-widgets/base",
            "top": null,
            "grid_column": null,
            "overflow_y": null,
            "overflow_x": null,
            "grid_auto_flow": null,
            "grid_area": null,
            "grid_template_columns": null,
            "flex": null,
            "_model_name": "LayoutModel",
            "justify_items": null,
            "grid_row": null,
            "max_height": null,
            "align_content": null,
            "visibility": null,
            "align_self": null,
            "height": null,
            "min_height": null,
            "padding": null,
            "grid_auto_rows": null,
            "grid_gap": null,
            "max_width": null,
            "order": null,
            "_view_module_version": "1.2.0",
            "grid_template_areas": null,
            "object_position": null,
            "object_fit": null,
            "grid_auto_columns": null,
            "margin": null,
            "display": null,
            "left": null
          }
        },
        "55dce041c8b941ae9ce5f82d4d727e40": {
          "model_module": "@jupyter-widgets/controls",
          "model_name": "FloatProgressModel",
          "state": {
            "_view_name": "ProgressView",
            "style": "IPY_MODEL_195ea326894f4ad5bb94a93308b8868a",
            "_dom_classes": [],
            "description": "",
            "_model_name": "FloatProgressModel",
            "bar_style": "success",
            "max": 1,
            "_view_module": "@jupyter-widgets/controls",
            "_model_module_version": "1.5.0",
            "value": 1,
            "_view_count": null,
            "_view_module_version": "1.5.0",
            "orientation": "horizontal",
            "min": 0,
            "description_tooltip": null,
            "_model_module": "@jupyter-widgets/controls",
            "layout": "IPY_MODEL_9e3913209bed4d999ee98630156d45d1"
          }
        },
        "14e6b6c664aa4793a8bcee13a2891174": {
          "model_module": "@jupyter-widgets/controls",
          "model_name": "HTMLModel",
          "state": {
            "_view_name": "HTMLView",
            "style": "IPY_MODEL_e656cf6f143f47e1907646f550bfa378",
            "_dom_classes": [],
            "description": "",
            "_model_name": "HTMLModel",
            "placeholder": "​",
            "_view_module": "@jupyter-widgets/controls",
            "_model_module_version": "1.5.0",
            "value": " 8192/? [00:00&lt;00:00, 17935.61it/s]",
            "_view_count": null,
            "_view_module_version": "1.5.0",
            "description_tooltip": null,
            "_model_module": "@jupyter-widgets/controls",
            "layout": "IPY_MODEL_2f5f5d70dd5a4af9b33cd31e958b2b8f"
          }
        },
        "195ea326894f4ad5bb94a93308b8868a": {
          "model_module": "@jupyter-widgets/controls",
          "model_name": "ProgressStyleModel",
          "state": {
            "_view_name": "StyleView",
            "_model_name": "ProgressStyleModel",
            "description_width": "initial",
            "_view_module": "@jupyter-widgets/base",
            "_model_module_version": "1.5.0",
            "_view_count": null,
            "_view_module_version": "1.2.0",
            "bar_color": null,
            "_model_module": "@jupyter-widgets/controls"
          }
        },
        "9e3913209bed4d999ee98630156d45d1": {
          "model_module": "@jupyter-widgets/base",
          "model_name": "LayoutModel",
          "state": {
            "_view_name": "LayoutView",
            "grid_template_rows": null,
            "right": null,
            "justify_content": null,
            "_view_module": "@jupyter-widgets/base",
            "overflow": null,
            "_model_module_version": "1.2.0",
            "_view_count": null,
            "flex_flow": null,
            "width": null,
            "min_width": null,
            "border": null,
            "align_items": null,
            "bottom": null,
            "_model_module": "@jupyter-widgets/base",
            "top": null,
            "grid_column": null,
            "overflow_y": null,
            "overflow_x": null,
            "grid_auto_flow": null,
            "grid_area": null,
            "grid_template_columns": null,
            "flex": null,
            "_model_name": "LayoutModel",
            "justify_items": null,
            "grid_row": null,
            "max_height": null,
            "align_content": null,
            "visibility": null,
            "align_self": null,
            "height": null,
            "min_height": null,
            "padding": null,
            "grid_auto_rows": null,
            "grid_gap": null,
            "max_width": null,
            "order": null,
            "_view_module_version": "1.2.0",
            "grid_template_areas": null,
            "object_position": null,
            "object_fit": null,
            "grid_auto_columns": null,
            "margin": null,
            "display": null,
            "left": null
          }
        },
        "e656cf6f143f47e1907646f550bfa378": {
          "model_module": "@jupyter-widgets/controls",
          "model_name": "DescriptionStyleModel",
          "state": {
            "_view_name": "StyleView",
            "_model_name": "DescriptionStyleModel",
            "description_width": "",
            "_view_module": "@jupyter-widgets/base",
            "_model_module_version": "1.5.0",
            "_view_count": null,
            "_view_module_version": "1.2.0",
            "_model_module": "@jupyter-widgets/controls"
          }
        },
        "2f5f5d70dd5a4af9b33cd31e958b2b8f": {
          "model_module": "@jupyter-widgets/base",
          "model_name": "LayoutModel",
          "state": {
            "_view_name": "LayoutView",
            "grid_template_rows": null,
            "right": null,
            "justify_content": null,
            "_view_module": "@jupyter-widgets/base",
            "overflow": null,
            "_model_module_version": "1.2.0",
            "_view_count": null,
            "flex_flow": null,
            "width": null,
            "min_width": null,
            "border": null,
            "align_items": null,
            "bottom": null,
            "_model_module": "@jupyter-widgets/base",
            "top": null,
            "grid_column": null,
            "overflow_y": null,
            "overflow_x": null,
            "grid_auto_flow": null,
            "grid_area": null,
            "grid_template_columns": null,
            "flex": null,
            "_model_name": "LayoutModel",
            "justify_items": null,
            "grid_row": null,
            "max_height": null,
            "align_content": null,
            "visibility": null,
            "align_self": null,
            "height": null,
            "min_height": null,
            "padding": null,
            "grid_auto_rows": null,
            "grid_gap": null,
            "max_width": null,
            "order": null,
            "_view_module_version": "1.2.0",
            "grid_template_areas": null,
            "object_position": null,
            "object_fit": null,
            "grid_auto_columns": null,
            "margin": null,
            "display": null,
            "left": null
          }
        }
      }
    }
  },
  "cells": [
    {
      "cell_type": "code",
      "metadata": {
        "id": "nBoarsQ4ChOx"
      },
      "source": [
        "import numpy as np\n",
        "from matplotlib import pyplot as plt\n",
        "import torch\n",
        "from torchvision import datasets,transforms\n",
        "import torch.nn as nn\n",
        "import torch.nn.functional as F\n",
        "from sklearn.metrics import classification_report\n",
        "import pandas as pd\n",
        "\n",
        "%matplotlib inline"
      ],
      "execution_count": 2,
      "outputs": []
    },
    {
      "cell_type": "markdown",
      "metadata": {
        "id": "SpD3YiFv3bpR"
      },
      "source": [
        "Some notes: https://docs.google.com/spreadsheets/d/1cGzdcvdqpMCH12-PpyXxDNDFYd6ZwCTUwboeO8DeVa0/edit?usp=sharing"
      ]
    },
    {
      "cell_type": "markdown",
      "metadata": {
        "id": "I-OocJRsERdu"
      },
      "source": [
        "1.1\n",
        "Implement a multi-class, multi-layer perceptron with cross-entropy loss for the FashionMNIST data."
      ]
    },
    {
      "cell_type": "markdown",
      "metadata": {
        "id": "dQcNjx90KOtP"
      },
      "source": [
        "The first step, as with any project you’ll work on, is data preprocessing. We need to transform the raw dataset into tensors and normalize them in a fixed range. The torchvision package provides a utility called transforms which can be used to combine different transformations together."
      ]
    },
    {
      "cell_type": "markdown",
      "metadata": {
        "id": "6pOcOgi_KccG"
      },
      "source": [
        "The first transformation converts the raw data into tensor variables and the second transformation performs normalization using the below operation:\n",
        "\n",
        "x_normalized = x-mean / std\n",
        "\n",
        "We only have one channel, so one value for mean and one for std"
      ]
    },
    {
      "cell_type": "code",
      "metadata": {
        "id": "Rj8PBmYxLHsp"
      },
      "source": [
        "transform_tasks = transforms.Compose([\n",
        "    transforms.ToTensor(),\n",
        "    transforms.Normalize([0.5], [0.5])\n",
        "    ])"
      ],
      "execution_count": 3,
      "outputs": []
    },
    {
      "cell_type": "code",
      "metadata": {
        "colab": {
          "base_uri": "https://localhost:8080/",
          "height": 386,
          "referenced_widgets": [
            "4a4096eb969b40d59642bb53a1ab37af",
            "3a59d0120892435db8c1c8e9dceec9a8",
            "cbeb1205bfc64e5a8689ad30f8a7cf15",
            "0f70cc15760a4dc19abf7265c2f5b4f0",
            "3555bf96a15041d696d1fe96144b99a5",
            "55af61459ad8474289bb82b6b8eddd3f",
            "f30e29d3f66a43a19e32c9b20b256285",
            "a5f658eab4f4474ebea19ea0b7c8bca2",
            "26c898edf88145bd8f6a518bd23da73b",
            "1a268b26de9c4a8599b563c30c1f9b8a",
            "0cf8c96bfcd946709285e2b81c862bd7",
            "0fecf37663744873b5f5550b7a5b712c",
            "775c9cd44c7d4972b0dbe2cf351a497c",
            "bd9bb23a7b6e420e969417989cbe7fe4",
            "3ad58674b20f42429c78a0356ff51ae7",
            "249a0a5fd88a4a8eb778f63f9d10fe26",
            "f2acd745d638452e9da455f11eaf9fb3",
            "da7a79484cec41a1be691e63575dd67e",
            "1cb13700efdf43e180d5000861e2a13f",
            "b1f3af8c9c794b5594fe491818bf107c",
            "607023555ae34b6dbb4ccfc30102d4e2",
            "ec3ea828e5944bf0bd79afc1054358dc",
            "c2e375e455dd471987d45fbf91f8f814",
            "0895ac31c27043cb8fe52c3b349849e9",
            "a61e56f98f4f4d86a50959396f31e967",
            "d8eaf898fa6c40c9a84b0a3a614c1cb0",
            "55dce041c8b941ae9ce5f82d4d727e40",
            "14e6b6c664aa4793a8bcee13a2891174",
            "195ea326894f4ad5bb94a93308b8868a",
            "9e3913209bed4d999ee98630156d45d1",
            "e656cf6f143f47e1907646f550bfa378",
            "2f5f5d70dd5a4af9b33cd31e958b2b8f"
          ]
        },
        "id": "gPnqpezELUkA",
        "outputId": "3691dcc1-2a76-41ff-90b7-f3dc0aebf9fe"
      },
      "source": [
        "train_dataset = datasets.FashionMNIST('FMNIST/',\n",
        "                              train=True,\n",
        "                              download=True,\n",
        "                              transform=transform_tasks)\n",
        "\n",
        "test_dataset = datasets.FashionMNIST('FMNIST/',\n",
        "                              train=False,\n",
        "                              download=True,\n",
        "                              transform=transform_tasks)"
      ],
      "execution_count": 4,
      "outputs": [
        {
          "output_type": "stream",
          "text": [
            "Downloading http://fashion-mnist.s3-website.eu-central-1.amazonaws.com/train-images-idx3-ubyte.gz to FMNIST/FashionMNIST/raw/train-images-idx3-ubyte.gz\n"
          ],
          "name": "stdout"
        },
        {
          "output_type": "display_data",
          "data": {
            "application/vnd.jupyter.widget-view+json": {
              "model_id": "4a4096eb969b40d59642bb53a1ab37af",
              "version_minor": 0,
              "version_major": 2
            },
            "text/plain": [
              "HBox(children=(FloatProgress(value=1.0, bar_style='info', max=1.0), HTML(value='')))"
            ]
          },
          "metadata": {
            "tags": []
          }
        },
        {
          "output_type": "stream",
          "text": [
            "Extracting FMNIST/FashionMNIST/raw/train-images-idx3-ubyte.gz to FMNIST/FashionMNIST/raw\n",
            "Downloading http://fashion-mnist.s3-website.eu-central-1.amazonaws.com/train-labels-idx1-ubyte.gz to FMNIST/FashionMNIST/raw/train-labels-idx1-ubyte.gz\n"
          ],
          "name": "stdout"
        },
        {
          "output_type": "display_data",
          "data": {
            "application/vnd.jupyter.widget-view+json": {
              "model_id": "26c898edf88145bd8f6a518bd23da73b",
              "version_minor": 0,
              "version_major": 2
            },
            "text/plain": [
              "HBox(children=(FloatProgress(value=1.0, bar_style='info', max=1.0), HTML(value='')))"
            ]
          },
          "metadata": {
            "tags": []
          }
        },
        {
          "output_type": "stream",
          "text": [
            "Extracting FMNIST/FashionMNIST/raw/train-labels-idx1-ubyte.gz to FMNIST/FashionMNIST/raw\n",
            "Downloading http://fashion-mnist.s3-website.eu-central-1.amazonaws.com/t10k-images-idx3-ubyte.gz to FMNIST/FashionMNIST/raw/t10k-images-idx3-ubyte.gz\n",
            "\n"
          ],
          "name": "stdout"
        },
        {
          "output_type": "display_data",
          "data": {
            "application/vnd.jupyter.widget-view+json": {
              "model_id": "f2acd745d638452e9da455f11eaf9fb3",
              "version_minor": 0,
              "version_major": 2
            },
            "text/plain": [
              "HBox(children=(FloatProgress(value=1.0, bar_style='info', max=1.0), HTML(value='')))"
            ]
          },
          "metadata": {
            "tags": []
          }
        },
        {
          "output_type": "stream",
          "text": [
            "Extracting FMNIST/FashionMNIST/raw/t10k-images-idx3-ubyte.gz to FMNIST/FashionMNIST/raw\n",
            "Downloading http://fashion-mnist.s3-website.eu-central-1.amazonaws.com/t10k-labels-idx1-ubyte.gz to FMNIST/FashionMNIST/raw/t10k-labels-idx1-ubyte.gz\n"
          ],
          "name": "stdout"
        },
        {
          "output_type": "display_data",
          "data": {
            "application/vnd.jupyter.widget-view+json": {
              "model_id": "a61e56f98f4f4d86a50959396f31e967",
              "version_minor": 0,
              "version_major": 2
            },
            "text/plain": [
              "HBox(children=(FloatProgress(value=1.0, bar_style='info', max=1.0), HTML(value='')))"
            ]
          },
          "metadata": {
            "tags": []
          }
        },
        {
          "output_type": "stream",
          "text": [
            "Extracting FMNIST/FashionMNIST/raw/t10k-labels-idx1-ubyte.gz to FMNIST/FashionMNIST/raw\n",
            "Processing...\n",
            "Done!\n"
          ],
          "name": "stdout"
        },
        {
          "output_type": "stream",
          "text": [
            "/usr/local/lib/python3.6/dist-packages/torchvision/datasets/mnist.py:480: UserWarning: The given NumPy array is not writeable, and PyTorch does not support non-writeable tensors. This means you can write to the underlying (supposedly non-writeable) NumPy array using the tensor. You may want to copy the array to protect its data or make it writeable before converting it to a tensor. This type of warning will be suppressed for the rest of this program. (Triggered internally at  /pytorch/torch/csrc/utils/tensor_numpy.cpp:141.)\n",
            "  return torch.from_numpy(parsed.astype(m[2], copy=False)).view(*s)\n"
          ],
          "name": "stderr"
        }
      ]
    },
    {
      "cell_type": "code",
      "metadata": {
        "id": "S2hfks2VIIIJ"
      },
      "source": [
        "labels_map = {0 : 'T-shirt', 1 : 'Trousers', 2 : 'Sweater', 3 : 'Dress', 4 : 'Coat', 5 : 'Sandal', 6 : 'Shirt',\n",
        "              7 : 'Sneaker', 8 : 'Bag', 9 : 'Boot'}"
      ],
      "execution_count": 5,
      "outputs": []
    },
    {
      "cell_type": "code",
      "metadata": {
        "colab": {
          "base_uri": "https://localhost:8080/",
          "height": 533
        },
        "id": "C44Hm397IRSS",
        "outputId": "36873886-4d75-4a7c-90fb-0c805ad6bfab"
      },
      "source": [
        "fig = plt.figure(figsize=(8,8))\n",
        "columns = 5\n",
        "rows = 5\n",
        "for i in range(1, columns*rows +1):\n",
        "    img_xy = np.random.randint(len(train_dataset));\n",
        "    img = train_dataset[img_xy][0][0,:,:]\n",
        "    fig.add_subplot(rows, columns, i)\n",
        "    plt.title(labels_map[train_dataset[img_xy][1]])\n",
        "    plt.axis('off')\n",
        "    plt.imshow(img, cmap='gray')\n",
        "plt.show()"
      ],
      "execution_count": 6,
      "outputs": [
        {
          "output_type": "stream",
          "text": [
            "\n",
            "\n",
            "\n"
          ],
          "name": "stdout"
        },
        {
          "output_type": "display_data",
          "data": {
            "image/png": "[encoded data removed]",
            "text/plain": [
              "<Figure size 576x576 with 25 Axes>"
            ]
          },
          "metadata": {
            "tags": [],
            "needs_background": "light"
          }
        }
      ]
    },
    {
      "cell_type": "code",
      "metadata": {
        "id": "ocwzdvZjIT-r"
      },
      "source": [
        "valid_ratio = 0.2  # Going to use 80%/20% split for train/valid"
      ],
      "execution_count": 7,
      "outputs": []
    },
    {
      "cell_type": "code",
      "metadata": {
        "id": "yskkIUoJJL6P"
      },
      "source": [
        "batch_size  = 100   # Using minibatches of 100 samples"
      ],
      "execution_count": 8,
      "outputs": []
    },
    {
      "cell_type": "code",
      "metadata": {
        "id": "R-bSGGxBNU7x"
      },
      "source": [
        "train_loader = torch.utils.data.DataLoader(dataset=train_dataset,\n",
        "                                           batch_size=batch_size,\n",
        "                                           shuffle=True)"
      ],
      "execution_count": 9,
      "outputs": []
    },
    {
      "cell_type": "code",
      "metadata": {
        "id": "ofhcpS9INsZe"
      },
      "source": [
        "test_loader = torch.utils.data.DataLoader(dataset=test_dataset,\n",
        "                                          batch_size=batch_size)"
      ],
      "execution_count": 10,
      "outputs": []
    },
    {
      "cell_type": "code",
      "metadata": {
        "id": "MI1lkPFbEspG"
      },
      "source": [
        "validation_loader = torch.utils.data.DataLoader(dataset=test_dataset,\n",
        "                                                batch_size=5000) # validation set has 5000 entries"
      ],
      "execution_count": 11,
      "outputs": []
    },
    {
      "cell_type": "code",
      "metadata": {
        "id": "lGL2-gfkFsYd"
      },
      "source": [
        "dev_test_data=list(iter(validation_loader))\n",
        "dev_images,dev_labels=dev_test_data[0]\n",
        "test_images,test_labels=dev_test_data[1]"
      ],
      "execution_count": 12,
      "outputs": []
    },
    {
      "cell_type": "code",
      "metadata": {
        "id": "1gijlh0qF5Yq"
      },
      "source": [
        "test_images=test_images.reshape(-1,784)\n",
        "dev_images=dev_images.reshape(-1,784)"
      ],
      "execution_count": 14,
      "outputs": []
    },
    {
      "cell_type": "code",
      "metadata": {
        "id": "NLy46ArzCj-m"
      },
      "source": [
        "# specify loss function\n",
        "criterion = nn.CrossEntropyLoss()"
      ],
      "execution_count": 16,
      "outputs": []
    },
    {
      "cell_type": "markdown",
      "metadata": {
        "id": "okPcfc9Tg6RP"
      },
      "source": [
        "Now, we want to consider: NN with {2, 3} hidden layers dimensionality of powers of 2 - {28**2 (input), 512, 256, 128, 64, 32, 10 (output)}, dropouts with probs 0.1 and 0.2 (apparently those are the best options to be used after each layer), Relu activation function (need to justify why), momentums out of {0, 0.1, 0.5, 0.9}."
      ]
    },
    {
      "cell_type": "markdown",
      "metadata": {
        "id": "frfl6Nj1hTUv"
      },
      "source": [
        "2 hidden layers"
      ]
    },
    {
      "cell_type": "code",
      "metadata": {
        "id": "tUPfEJXAhshW"
      },
      "source": [
        "## Define the NN architecture \n",
        "# params: neurons - a list of neuron numbers in each layer\n",
        "#         dropout  - dropout cause why not\n",
        "class Net(nn.Module):\n",
        "    def __init__(self, neurons, dropout):\n",
        "        super(Net, self).__init__()\n",
        "        self.fc1 = nn.Linear(28 ** 2, neurons[0])\n",
        "        self.fc2 = nn.Linear(neurons[0], neurons[1])\n",
        "        if len(neurons) == 3:\n",
        "          self.fc3 = nn.Linear(neurons[1], neurons[2])\n",
        "          self.fc4 = nn.Linear(neurons[2], 10)\n",
        "        else:\n",
        "          self.fc3 = nn.Linear(neurons[1], 10)\n",
        "        # dropout prevents overfitting of data\n",
        "        self.dropout = nn.Dropout(dropout)\n",
        "\n",
        "# params:\n",
        "#         n_layers - number of hidden layers in the network\n",
        "    def forward(self, x, n_layers):\n",
        "        # flatten image input\n",
        "        x = x.view(-1, 28 * 28)\n",
        "        # add hidden layer, with relu activation function\n",
        "        x = F.relu(self.fc1(x))\n",
        "        x = self.dropout(x)\n",
        "        x = F.relu(self.fc2(x))\n",
        "        x = self.dropout(x)\n",
        "        # add output layer\n",
        "        if n_layers == 3:\n",
        "          x = F.relu(self.fc3(x))\n",
        "          x = self.dropout(x)\n",
        "          x = self.fc4(x)\n",
        "        else:\n",
        "          x = self.fc3(x)\n",
        "        return x\n"
      ],
      "execution_count": 3,
      "outputs": []
    },
    {
      "cell_type": "code",
      "metadata": {
        "id": "eRkIxeyMnBeh"
      },
      "source": [
        "# parameters used to construct models\n",
        "neurons1 = [512, 256, 128]\n",
        "neurons2 = [256, 128, 64]\n",
        "neurons3 = [128, 64, 32]\n",
        "neurons4 = [512, 256]\n",
        "neurons5 = [512, 128]\n",
        "neurons6 = [256, 128]\n",
        "neurons7 = [256, 64]\n",
        "neurons8 = [128, 64]\n",
        "\n",
        "dropout1 = 0.1\n",
        "dropout2 = 0.2"
      ],
      "execution_count": 18,
      "outputs": []
    },
    {
      "cell_type": "markdown",
      "metadata": {
        "id": "Yl7MzxBBofLB"
      },
      "source": [
        "Define 3 layer models"
      ]
    },
    {
      "cell_type": "code",
      "metadata": {
        "id": "UY0IqxtYnxRq"
      },
      "source": [
        "models_3_layer = [Net(neurons1, dropout1), Net(neurons2, dropout1), Net(neurons3, dropout1), \n",
        "                  Net(neurons1, dropout2), Net(neurons2, dropout2), Net(neurons3, dropout2)]"
      ],
      "execution_count": 19,
      "outputs": []
    },
    {
      "cell_type": "markdown",
      "metadata": {
        "id": "H_UQs1cGohJa"
      },
      "source": [
        "Define 2 layer models"
      ]
    },
    {
      "cell_type": "code",
      "metadata": {
        "id": "Q9kmJWfuoMyK"
      },
      "source": [
        "models_2_layer = [Net(neurons4, dropout1), Net(neurons5, dropout1), Net(neurons6, dropout1), Net(neurons7, dropout1), Net(neurons8, dropout1), \n",
        "                  Net(neurons4, dropout2), Net(neurons5, dropout2), Net(neurons6, dropout2), Net(neurons7, dropout2), Net(neurons8, dropout2)]"
      ],
      "execution_count": 20,
      "outputs": []
    },
    {
      "cell_type": "code",
      "metadata": {
        "id": "A2L19AzRWvIt"
      },
      "source": [
        "# resets model weights so the model can retrain with different parameters\n",
        "def weight_reset(m):\n",
        "    if isinstance(m, nn.Conv2d) or isinstance(m, nn.Linear):\n",
        "        m.reset_parameters()"
      ],
      "execution_count": 21,
      "outputs": []
    },
    {
      "cell_type": "code",
      "metadata": {
        "id": "dGuSIKmgoc6Y"
      },
      "source": [
        "# shows smooth conversion an 89% accuracy - there was a model with 90% accuracy but erratic convergence and it overfitted very quickly\n",
        "best_model = models_2_layer[0]"
      ],
      "execution_count": 21,
      "outputs": []
    },
    {
      "cell_type": "code",
      "metadata": {
        "colab": {
          "base_uri": "https://localhost:8080/",
          "height": 759
        },
        "id": "WVLvm1giohOm",
        "outputId": "9cdc1727-6a90-4322-9036-ec2badb68ae3"
      },
      "source": [
        "# best learning hyperparameters\n",
        "optimizer = torch.optim.SGD(best_model.parameters(), lr=0.001, momentum = 0.5)\n",
        "\n",
        "train_losses = []\n",
        "train_accs = []\n",
        "\n",
        "dev_losses = []\n",
        "dev_accs = []\n",
        "\n",
        "best_model.train() # prep model for training\n",
        "\n",
        "for epoch in range(300):\n",
        "  # monitor training loss and accuracy\n",
        "  train_loss = 0.0\n",
        "  train_acc = 0.0\n",
        "\n",
        "  # monitor validation loss and accuracy\n",
        "  dev_loss = 0.0\n",
        "  dev_acc = 0.0\n",
        "\n",
        "  for images, labels in train_loader:\n",
        "      X = images.view(-1,784)\n",
        "\n",
        "      # clear gradients of optimized variables\n",
        "      optimizer.zero_grad()\n",
        "\n",
        "      # forward pass\n",
        "      output = best_model(X, 2)\n",
        "      loss = criterion(output, labels)\n",
        "      \n",
        "      result = torch.argmax(output, dim=1)\n",
        "\n",
        "      train_loss+=loss.item()\n",
        "      train_acc+=torch.mean((result==labels).type(torch.float))\n",
        "      \n",
        "      loss.backward()\n",
        "      # update parameters\n",
        "      optimizer.step()\n",
        "  else:\n",
        "      train_loss=train_loss/len(train_loader)\n",
        "      train_acc=train_acc/len(train_loader)\n",
        "      \n",
        "      # disable gradient calculation\n",
        "      with torch.no_grad():\n",
        "          best_model.eval()\n",
        "          output=best_model(dev_images, 2)\n",
        "          dev_loss=criterion(output,dev_labels)\n",
        "          best_model.train()\n",
        "      \n",
        "      result_labels=torch.argmax(output,dim=1)\n",
        "      dev_acc=torch.mean((result_labels==dev_labels).type(torch.float))\n",
        "      \n",
        "      train_losses.append(train_loss)\n",
        "      dev_losses.append(dev_loss.item())\n",
        "      \n",
        "      train_accs.append(train_acc.item())\n",
        "      dev_accs.append(dev_acc.item())\n",
        "      \n",
        "      if (epoch+1) % 10 == 0:\n",
        "        print('Epoch: {} \\tTraining Loss: {:.6f} \\tValidation Loss: {:.6f}  \\tTrain acc: {:.6f} \\tValidation acc: {:.6f}'.format(\n",
        "          epoch+1, \n",
        "          train_loss,\n",
        "          dev_loss,\n",
        "          train_acc,\n",
        "          dev_acc\n",
        "          ))"
      ],
      "execution_count": 24,
      "outputs": [
        {
          "output_type": "stream",
          "text": [
            "Epoch: 10 \tTraining Loss: 0.583956 \tValidation Loss: 0.573460  \tTrain acc: 0.789416 \tValidation acc: 0.792400\n",
            "Epoch: 20 \tTraining Loss: 0.487882 \tValidation Loss: 0.489753  \tTrain acc: 0.824199 \tValidation acc: 0.825200\n",
            "Epoch: 30 \tTraining Loss: 0.444699 \tValidation Loss: 0.453724  \tTrain acc: 0.841149 \tValidation acc: 0.841200\n",
            "Epoch: 40 \tTraining Loss: 0.414845 \tValidation Loss: 0.431229  \tTrain acc: 0.851082 \tValidation acc: 0.848000\n",
            "Epoch: 50 \tTraining Loss: 0.392556 \tValidation Loss: 0.414157  \tTrain acc: 0.859583 \tValidation acc: 0.851400\n",
            "Epoch: 60 \tTraining Loss: 0.374453 \tValidation Loss: 0.400359  \tTrain acc: 0.866100 \tValidation acc: 0.857800\n",
            "Epoch: 70 \tTraining Loss: 0.359508 \tValidation Loss: 0.390397  \tTrain acc: 0.872550 \tValidation acc: 0.862800\n",
            "Epoch: 80 \tTraining Loss: 0.347486 \tValidation Loss: 0.381758  \tTrain acc: 0.876600 \tValidation acc: 0.864800\n",
            "Epoch: 90 \tTraining Loss: 0.336748 \tValidation Loss: 0.375107  \tTrain acc: 0.880000 \tValidation acc: 0.869400\n",
            "Epoch: 100 \tTraining Loss: 0.325005 \tValidation Loss: 0.367725  \tTrain acc: 0.884168 \tValidation acc: 0.870600\n",
            "Epoch: 110 \tTraining Loss: 0.316911 \tValidation Loss: 0.363191  \tTrain acc: 0.886934 \tValidation acc: 0.870200\n",
            "Epoch: 120 \tTraining Loss: 0.308481 \tValidation Loss: 0.358008  \tTrain acc: 0.890451 \tValidation acc: 0.873200\n",
            "Epoch: 130 \tTraining Loss: 0.299042 \tValidation Loss: 0.353724  \tTrain acc: 0.892901 \tValidation acc: 0.874400\n",
            "Epoch: 140 \tTraining Loss: 0.291507 \tValidation Loss: 0.349798  \tTrain acc: 0.895351 \tValidation acc: 0.877000\n",
            "Epoch: 150 \tTraining Loss: 0.284144 \tValidation Loss: 0.345112  \tTrain acc: 0.897584 \tValidation acc: 0.877800\n",
            "Epoch: 160 \tTraining Loss: 0.277530 \tValidation Loss: 0.340868  \tTrain acc: 0.900434 \tValidation acc: 0.878600\n",
            "Epoch: 170 \tTraining Loss: 0.269564 \tValidation Loss: 0.337179  \tTrain acc: 0.903601 \tValidation acc: 0.878600\n",
            "Epoch: 180 \tTraining Loss: 0.263447 \tValidation Loss: 0.334159  \tTrain acc: 0.906668 \tValidation acc: 0.882000\n",
            "Epoch: 190 \tTraining Loss: 0.257201 \tValidation Loss: 0.332676  \tTrain acc: 0.909001 \tValidation acc: 0.882200\n",
            "Epoch: 200 \tTraining Loss: 0.249859 \tValidation Loss: 0.330399  \tTrain acc: 0.911284 \tValidation acc: 0.882800\n",
            "Epoch: 210 \tTraining Loss: 0.244001 \tValidation Loss: 0.327397  \tTrain acc: 0.913234 \tValidation acc: 0.884200\n",
            "Epoch: 220 \tTraining Loss: 0.236854 \tValidation Loss: 0.326053  \tTrain acc: 0.916184 \tValidation acc: 0.884200\n",
            "Epoch: 230 \tTraining Loss: 0.231060 \tValidation Loss: 0.324906  \tTrain acc: 0.918368 \tValidation acc: 0.884600\n",
            "Epoch: 240 \tTraining Loss: 0.224960 \tValidation Loss: 0.322320  \tTrain acc: 0.919617 \tValidation acc: 0.885000\n",
            "Epoch: 250 \tTraining Loss: 0.219266 \tValidation Loss: 0.322414  \tTrain acc: 0.923101 \tValidation acc: 0.886400\n",
            "Epoch: 260 \tTraining Loss: 0.214710 \tValidation Loss: 0.320104  \tTrain acc: 0.924734 \tValidation acc: 0.886600\n",
            "Epoch: 270 \tTraining Loss: 0.207399 \tValidation Loss: 0.318650  \tTrain acc: 0.926251 \tValidation acc: 0.887200\n",
            "Epoch: 280 \tTraining Loss: 0.202545 \tValidation Loss: 0.317764  \tTrain acc: 0.928434 \tValidation acc: 0.888400\n",
            "Epoch: 290 \tTraining Loss: 0.196917 \tValidation Loss: 0.317923  \tTrain acc: 0.931184 \tValidation acc: 0.886400\n",
            "Epoch: 300 \tTraining Loss: 0.193112 \tValidation Loss: 0.315890  \tTrain acc: 0.932034 \tValidation acc: 0.889800\n",
            "finished, appending losses\n"
          ],
          "name": "stdout"
        },
        {
          "output_type": "error",
          "ename": "NameError",
          "evalue": "ignored",
          "traceback": [
            "\u001b[0;31m---------------------------------------------------------------------------\u001b[0m",
            "\u001b[0;31mNameError\u001b[0m                                 Traceback (most recent call last)",
            "\u001b[0;32m<ipython-input-24-355e2a137984>\u001b[0m in \u001b[0;36m<module>\u001b[0;34m()\u001b[0m\n\u001b[1;32m     66\u001b[0m \u001b[0;34m\u001b[0m\u001b[0m\n\u001b[1;32m     67\u001b[0m \u001b[0mprint\u001b[0m\u001b[0;34m(\u001b[0m\u001b[0;34m'finished, appending losses'\u001b[0m\u001b[0;34m)\u001b[0m\u001b[0;34m\u001b[0m\u001b[0;34m\u001b[0m\u001b[0m\n\u001b[0;32m---> 68\u001b[0;31m \u001b[0mtrain_losses_all\u001b[0m\u001b[0;34m.\u001b[0m\u001b[0mappend\u001b[0m\u001b[0;34m(\u001b[0m\u001b[0mtrain_losses\u001b[0m\u001b[0;34m)\u001b[0m\u001b[0;34m\u001b[0m\u001b[0;34m\u001b[0m\u001b[0m\n\u001b[0m\u001b[1;32m     69\u001b[0m \u001b[0mdev_losses_all\u001b[0m\u001b[0;34m.\u001b[0m\u001b[0mappend\u001b[0m\u001b[0;34m(\u001b[0m\u001b[0mdev_losses\u001b[0m\u001b[0;34m)\u001b[0m\u001b[0;34m\u001b[0m\u001b[0;34m\u001b[0m\u001b[0m\n\u001b[1;32m     70\u001b[0m \u001b[0mtrain_accs_all\u001b[0m\u001b[0;34m.\u001b[0m\u001b[0mappend\u001b[0m\u001b[0;34m(\u001b[0m\u001b[0mtrain_losses\u001b[0m\u001b[0;34m)\u001b[0m\u001b[0;34m\u001b[0m\u001b[0;34m\u001b[0m\u001b[0m\n",
            "\u001b[0;31mNameError\u001b[0m: name 'train_losses_all' is not defined"
          ]
        }
      ]
    },
    {
      "cell_type": "code",
      "metadata": {
        "colab": {
          "base_uri": "https://localhost:8080/",
          "height": 459
        },
        "id": "SjyJ59fG4BzS",
        "outputId": "3af7d9cc-bef5-4480-98ef-b8cc9d2ea345"
      },
      "source": [
        "plt.figure(figsize=(10,7))\n",
        "plt.plot(train_losses, label='Training loss')\n",
        "plt.plot(dev_losses, label='Validation loss')\n",
        "plt.ylabel('Loss')\n",
        "plt.xlabel('Epoch')\n",
        "plt.legend()"
      ],
      "execution_count": 35,
      "outputs": [
        {
          "output_type": "execute_result",
          "data": {
            "text/plain": [
              "<matplotlib.legend.Legend at 0x7fa9289f6d30>"
            ]
          },
          "metadata": {
            "tags": []
          },
          "execution_count": 35
        },
        {
          "output_type": "display_data",
          "data": {
            "image/png": "[encoded data removed]",
            "text/plain": [
              "<Figure size 720x504 with 1 Axes>"
            ]
          },
          "metadata": {
            "tags": [],
            "needs_background": "light"
          }
        }
      ]
    },
    {
      "cell_type": "code",
      "metadata": {
        "colab": {
          "base_uri": "https://localhost:8080/",
          "height": 296
        },
        "id": "UHaR5nUg4W40",
        "outputId": "a62c0a8b-db44-482e-c339-82440695bbec"
      },
      "source": [
        "plt.plot(train_accs, label='Training accuracy')\n",
        "plt.plot(dev_accs, label='Validation accuracy')\n",
        "plt.ylabel('Loss')\n",
        "plt.xlabel('Epoch')\n",
        "plt.legend()"
      ],
      "execution_count": 36,
      "outputs": [
        {
          "output_type": "execute_result",
          "data": {
            "text/plain": [
              "<matplotlib.legend.Legend at 0x7fa92896b940>"
            ]
          },
          "metadata": {
            "tags": []
          },
          "execution_count": 36
        },
        {
          "output_type": "display_data",
          "data": {
            "image/png": "[encoded data removed]",
            "text/plain": [
              "<Figure size 432x288 with 1 Axes>"
            ]
          },
          "metadata": {
            "tags": [],
            "needs_background": "light"
          }
        }
      ]
    },
    {
      "cell_type": "markdown",
      "metadata": {
        "id": "EjvP7tUW5QT_"
      },
      "source": [
        "Run on test set:"
      ]
    },
    {
      "cell_type": "code",
      "metadata": {
        "id": "PfQ6AvK65Pam"
      },
      "source": [
        "def predict(model,images):\n",
        "    conf_matrix = np.zeros((10,10))\n",
        "    with torch.no_grad():\n",
        "        model.eval()\n",
        "        output=model(test_images, 2)\n",
        "        test_loss=criterion(output,test_labels)\n",
        "        result=torch.argmax(output,dim=1)\n",
        "        result_labels=[labels_map[x] for x in result.numpy()]\n",
        "\n",
        "        for i in range(test_labels.size(0)):\n",
        "          lbl = test_labels.data[i]\n",
        "          conf_matrix[lbl][result.data[i]] += 1\n",
        "    accuracy=torch.mean((result==test_labels).type(torch.float))\n",
        "    return accuracy, test_loss, result, result_labels, conf_matrix"
      ],
      "execution_count": 94,
      "outputs": []
    },
    {
      "cell_type": "code",
      "metadata": {
        "id": "nprqK3ag55wY"
      },
      "source": [
        "test_acc, test_loss, result, result_labels, conf_matrix=predict(best_model,test_images)"
      ],
      "execution_count": 95,
      "outputs": []
    },
    {
      "cell_type": "code",
      "metadata": {
        "colab": {
          "base_uri": "https://localhost:8080/"
        },
        "id": "ZcFoNTQo6Drw",
        "outputId": "f2da3431-0c85-492e-a623-872fa61dd25a"
      },
      "source": [
        "print('Final training set accuracy: {:.2f}'.format(train_accs[len(train_accs)-1]))\n",
        "print('Final validation set accuracy: {:.2f}'.format(dev_accs[len(dev_accs)-1]))\n",
        "print('Final test set accuracy: {:.2f}'.format(test_acc))"
      ],
      "execution_count": 96,
      "outputs": [
        {
          "output_type": "stream",
          "text": [
            "Final training set accuracy: 0.93\n",
            "Final validation set accuracy: 0.89\n",
            "Final test set accuracy: 0.89\n"
          ],
          "name": "stdout"
        }
      ]
    },
    {
      "cell_type": "code",
      "metadata": {
        "id": "pqvLwpyy637q"
      },
      "source": [
        "report=pd.DataFrame.from_dict(classification_report(result, test_labels, output_dict=True)).T\n",
        "report['Label']=[labels_map.get(int(x)) if x.isdigit() else \" \" for x in report.index]"
      ],
      "execution_count": 98,
      "outputs": []
    },
    {
      "cell_type": "markdown",
      "metadata": {
        "id": "ANRDwwse73Sd"
      },
      "source": [
        "The f1-score gives you the harmonic mean of precision and recall. The scores corresponding to every class will tell you the accuracy of the classifier in classifying the data points in that particular class compared to all other classes.\n",
        "\n"
      ]
    },
    {
      "cell_type": "code",
      "metadata": {
        "colab": {
          "base_uri": "https://localhost:8080/",
          "height": 452
        },
        "id": "HqjuA7z47IFE",
        "outputId": "7aa30ed8-aed9-4e62-9fe5-13060dd2f667"
      },
      "source": [
        "# the first line is needed to have labels on the left\n",
        "report=report[['Label','f1-score','precision','recall']]\n",
        "report"
      ],
      "execution_count": 99,
      "outputs": [
        {
          "output_type": "execute_result",
          "data": {
            "text/html": [
              "<div>\n",
              "<style scoped>\n",
              "    .dataframe tbody tr th:only-of-type {\n",
              "        vertical-align: middle;\n",
              "    }\n",
              "\n",
              "    .dataframe tbody tr th {\n",
              "        vertical-align: top;\n",
              "    }\n",
              "\n",
              "    .dataframe thead th {\n",
              "        text-align: right;\n",
              "    }\n",
              "</style>\n",
              "<table border=\"1\" class=\"dataframe\">\n",
              "  <thead>\n",
              "    <tr style=\"text-align: right;\">\n",
              "      <th></th>\n",
              "      <th>Label</th>\n",
              "      <th>f1-score</th>\n",
              "      <th>precision</th>\n",
              "      <th>recall</th>\n",
              "    </tr>\n",
              "  </thead>\n",
              "  <tbody>\n",
              "    <tr>\n",
              "      <th>0</th>\n",
              "      <td>T-shirt</td>\n",
              "      <td>0.835759</td>\n",
              "      <td>0.815416</td>\n",
              "      <td>0.857143</td>\n",
              "    </tr>\n",
              "    <tr>\n",
              "      <th>1</th>\n",
              "      <td>Trousers</td>\n",
              "      <td>0.975562</td>\n",
              "      <td>0.961464</td>\n",
              "      <td>0.990079</td>\n",
              "    </tr>\n",
              "    <tr>\n",
              "      <th>2</th>\n",
              "      <td>Sweater</td>\n",
              "      <td>0.826446</td>\n",
              "      <td>0.835073</td>\n",
              "      <td>0.817996</td>\n",
              "    </tr>\n",
              "    <tr>\n",
              "      <th>3</th>\n",
              "      <td>Dress</td>\n",
              "      <td>0.894164</td>\n",
              "      <td>0.904000</td>\n",
              "      <td>0.884540</td>\n",
              "    </tr>\n",
              "    <tr>\n",
              "      <th>4</th>\n",
              "      <td>Coat</td>\n",
              "      <td>0.827727</td>\n",
              "      <td>0.847599</td>\n",
              "      <td>0.808765</td>\n",
              "    </tr>\n",
              "    <tr>\n",
              "      <th>5</th>\n",
              "      <td>Sandal</td>\n",
              "      <td>0.966797</td>\n",
              "      <td>0.961165</td>\n",
              "      <td>0.972495</td>\n",
              "    </tr>\n",
              "    <tr>\n",
              "      <th>6</th>\n",
              "      <td>Shirt</td>\n",
              "      <td>0.718351</td>\n",
              "      <td>0.706564</td>\n",
              "      <td>0.730539</td>\n",
              "    </tr>\n",
              "    <tr>\n",
              "      <th>7</th>\n",
              "      <td>Sneaker</td>\n",
              "      <td>0.947053</td>\n",
              "      <td>0.948000</td>\n",
              "      <td>0.946108</td>\n",
              "    </tr>\n",
              "    <tr>\n",
              "      <th>8</th>\n",
              "      <td>Bag</td>\n",
              "      <td>0.969823</td>\n",
              "      <td>0.983122</td>\n",
              "      <td>0.956879</td>\n",
              "    </tr>\n",
              "    <tr>\n",
              "      <th>9</th>\n",
              "      <td>Boot</td>\n",
              "      <td>0.954286</td>\n",
              "      <td>0.957935</td>\n",
              "      <td>0.950664</td>\n",
              "    </tr>\n",
              "    <tr>\n",
              "      <th>accuracy</th>\n",
              "      <td></td>\n",
              "      <td>0.892200</td>\n",
              "      <td>0.892200</td>\n",
              "      <td>0.892200</td>\n",
              "    </tr>\n",
              "    <tr>\n",
              "      <th>macro avg</th>\n",
              "      <td></td>\n",
              "      <td>0.891597</td>\n",
              "      <td>0.892034</td>\n",
              "      <td>0.891521</td>\n",
              "    </tr>\n",
              "    <tr>\n",
              "      <th>weighted avg</th>\n",
              "      <td></td>\n",
              "      <td>0.892381</td>\n",
              "      <td>0.892916</td>\n",
              "      <td>0.892200</td>\n",
              "    </tr>\n",
              "  </tbody>\n",
              "</table>\n",
              "</div>"
            ],
            "text/plain": [
              "                 Label  f1-score  precision    recall\n",
              "0              T-shirt  0.835759   0.815416  0.857143\n",
              "1             Trousers  0.975562   0.961464  0.990079\n",
              "2              Sweater  0.826446   0.835073  0.817996\n",
              "3                Dress  0.894164   0.904000  0.884540\n",
              "4                 Coat  0.827727   0.847599  0.808765\n",
              "5               Sandal  0.966797   0.961165  0.972495\n",
              "6                Shirt  0.718351   0.706564  0.730539\n",
              "7              Sneaker  0.947053   0.948000  0.946108\n",
              "8                  Bag  0.969823   0.983122  0.956879\n",
              "9                 Boot  0.954286   0.957935  0.950664\n",
              "accuracy                0.892200   0.892200  0.892200\n",
              "macro avg               0.891597   0.892034  0.891521\n",
              "weighted avg            0.892381   0.892916  0.892200"
            ]
          },
          "metadata": {
            "tags": []
          },
          "execution_count": 99
        }
      ]
    },
    {
      "cell_type": "markdown",
      "metadata": {
        "id": "5n1VQtHZ8dGr"
      },
      "source": [
        "Visualise test data"
      ]
    },
    {
      "cell_type": "code",
      "metadata": {
        "colab": {
          "base_uri": "https://localhost:8080/",
          "height": 482
        },
        "id": "epS7Nk408caV",
        "outputId": "49ab1dd1-81c4-4fbc-f7f8-8a1609fcd177"
      },
      "source": [
        "# obtain one batch of test images\n",
        "dataiter = iter(test_loader)\n",
        "images, labels = dataiter.next()\n",
        "\n",
        "# get sample outputs\n",
        "output = best_model(images, 2)\n",
        "# convert output probabilities to predicted class\n",
        "_, preds = torch.max(output, 1)\n",
        "# prep images for display\n",
        "images = images.numpy()\n",
        "\n",
        "# plot the images in the batch, along with predicted and true labels\n",
        "fig = plt.figure(figsize=(15, 10))\n",
        "for idx in np.arange(20):\n",
        "    ax = fig.add_subplot(5, 20/4, idx+1, xticks=[], yticks=[])\n",
        "    ax.imshow(np.squeeze(images[idx]), cmap='gray')\n",
        "    ax.set_title(\"{} ({})\".format(labels_map[preds[idx].item()], labels_map[labels[idx].item()]),\n",
        "                 color=(\"green\" if preds[idx]==labels[idx] else \"red\"))"
      ],
      "execution_count": 91,
      "outputs": [
        {
          "output_type": "display_data",
          "data": {
            "image/png": "[encoded data removed]",
            "text/plain": [
              "<Figure size 1080x720 with 20 Axes>"
            ]
          },
          "metadata": {
            "tags": []
          }
        }
      ]
    },
    {
      "cell_type": "markdown",
      "metadata": {
        "id": "1pGo57G7_Vvz"
      },
      "source": [
        "confusion matrix"
      ]
    },
    {
      "cell_type": "code",
      "metadata": {
        "id": "8SYmsocMB9EV"
      },
      "source": [
        "conf_matrix_pd = df = pd.DataFrame(data=conf_matrix, index=labels_map.values(), columns=labels_map.values())"
      ],
      "execution_count": 106,
      "outputs": []
    },
    {
      "cell_type": "code",
      "metadata": {
        "colab": {
          "base_uri": "https://localhost:8080/",
          "height": 571
        },
        "id": "IzTuv2f__XFw",
        "outputId": "126bac25-76a8-4aca-c54f-25e727f7b7d5"
      },
      "source": [
        "import seaborn as sns\n",
        "plt.subplots(figsize=(10,9))\n",
        "ax = sns.heatmap(conf_matrix_pd, annot=True, fmt='g')\n",
        "ax.set_xlabel('Predicted')\n",
        "ax.set_ylabel('True')"
      ],
      "execution_count": 115,
      "outputs": [
        {
          "output_type": "execute_result",
          "data": {
            "text/plain": [
              "Text(69.0, 0.5, 'True')"
            ]
          },
          "metadata": {
            "tags": []
          },
          "execution_count": 115
        },
        {
          "output_type": "display_data",
          "data": {
            "image/png": "[encoded data removed]",
            "text/plain": [
              "<Figure size 720x648 with 2 Axes>"
            ]
          },
          "metadata": {
            "tags": [],
            "needs_background": "light"
          }
        }
      ]
    },
    {
      "cell_type": "code",
      "metadata": {
        "colab": {
          "base_uri": "https://localhost:8080/"
        },
        "id": "Ivv7FPKQh4Wy",
        "outputId": "903091b3-b9d4-4e5d-c9e6-33a7344a7631"
      },
      "source": [
        "# all losses are higher than best model\n",
        "print('Processing 3 layer')\n",
        "i = 0\n",
        "for model in models_3_layer:\n",
        "  model.apply(weight_reset)\n",
        "  optimizer = torch.optim.SGD(model.parameters(), lr=0.01)\n",
        "  print('Processing model ', i)\n",
        "  i += 1\n",
        "\n",
        "  train_losses = []\n",
        "  train_accs = []\n",
        "\n",
        "  dev_losses = []\n",
        "  dev_accs = []\n",
        "\n",
        "  model.train() # prep model for training\n",
        "\n",
        "  for epoch in range(100):\n",
        "    # monitor training loss and accuracy\n",
        "    train_loss = 0.0\n",
        "    train_acc = 0.0\n",
        "\n",
        "    # monitor validation loss and accuracy\n",
        "    dev_loss = 0.0\n",
        "    dev_acc = 0.0\n",
        "\n",
        "    for images, labels in train_loader:\n",
        "        X = images.view(-1,784)\n",
        "\n",
        "        # clear gradients of optimized variables\n",
        "        optimizer.zero_grad()\n",
        "\n",
        "        # forward pass\n",
        "        output = model(X, 3)\n",
        "        loss = criterion(output, labels)\n",
        "        \n",
        "        result = torch.argmax(output, dim=1)\n",
        "\n",
        "        train_loss+=loss.item()\n",
        "        train_acc+=torch.mean((result==labels).type(torch.float))\n",
        "        \n",
        "        loss.backward()\n",
        "        # update parameters\n",
        "        optimizer.step()\n",
        "    else:\n",
        "        train_loss=train_loss/len(train_loader)\n",
        "        train_acc=train_acc/len(train_loader)\n",
        "        \n",
        "        # disable gradient calculation\n",
        "        with torch.no_grad():\n",
        "            model.eval()\n",
        "            output=model(dev_images, 3)\n",
        "            dev_loss=criterion(output,dev_labels)\n",
        "            model.train()\n",
        "        \n",
        "        result_labels=torch.argmax(output,dim=1)\n",
        "        dev_acc=torch.mean((result_labels==dev_labels).type(torch.float))\n",
        "        \n",
        "        train_losses.append(train_loss)\n",
        "        dev_losses.append(dev_loss.item())\n",
        "        \n",
        "        train_accs.append(train_acc.item())\n",
        "        dev_accs.append(dev_acc.item())\n",
        "        \n",
        "        if (epoch+1) % 10 == 0:\n",
        "          print('Epoch: {} \\tTraining Loss: {:.6f} \\tValidation Loss: {:.6f}  \\tTrain acc: {:.6f} \\tValidation acc: {:.6f}'.format(\n",
        "            epoch+1, \n",
        "            train_loss,\n",
        "            dev_loss,\n",
        "            train_acc,\n",
        "            dev_acc\n",
        "            ))\n",
        "\n",
        "  print('finished, appending losses')\n",
        "  train_losses_all.append(train_losses)\n",
        "  dev_losses_all.append(dev_losses)\n",
        "  train_accs_all.append(train_losses)\n",
        "  dev_accs_all.append(dev_losses)"
      ],
      "execution_count": 125,
      "outputs": [
        {
          "output_type": "stream",
          "text": [
            "Processing 3 layer\n",
            "Processing model  0\n",
            "Epoch: 10 \tTraining Loss: 0.423509 \tValidation Loss: 0.427067  \tTrain acc: 0.847616 \tValidation acc: 0.847600\n",
            "Epoch: 20 \tTraining Loss: 0.340305 \tValidation Loss: 0.370811  \tTrain acc: 0.876783 \tValidation acc: 0.870200\n",
            "Epoch: 30 \tTraining Loss: 0.292899 \tValidation Loss: 0.354829  \tTrain acc: 0.893834 \tValidation acc: 0.872200\n",
            "Epoch: 40 \tTraining Loss: 0.255193 \tValidation Loss: 0.333990  \tTrain acc: 0.909051 \tValidation acc: 0.879600\n",
            "Epoch: 50 \tTraining Loss: 0.225338 \tValidation Loss: 0.329756  \tTrain acc: 0.917834 \tValidation acc: 0.885800\n",
            "Epoch: 60 \tTraining Loss: 0.197594 \tValidation Loss: 0.339311  \tTrain acc: 0.929435 \tValidation acc: 0.883000\n",
            "Epoch: 70 \tTraining Loss: 0.172586 \tValidation Loss: 0.327174  \tTrain acc: 0.937567 \tValidation acc: 0.889200\n",
            "Epoch: 80 \tTraining Loss: 0.150333 \tValidation Loss: 0.332661  \tTrain acc: 0.946234 \tValidation acc: 0.892800\n",
            "Epoch: 90 \tTraining Loss: 0.129595 \tValidation Loss: 0.340629  \tTrain acc: 0.953251 \tValidation acc: 0.894600\n",
            "Epoch: 100 \tTraining Loss: 0.113010 \tValidation Loss: 0.343903  \tTrain acc: 0.960217 \tValidation acc: 0.901200\n",
            "finished, appending losses\n",
            "Processing model  1\n",
            "Epoch: 10 \tTraining Loss: 0.452333 \tValidation Loss: 0.436728  \tTrain acc: 0.838282 \tValidation acc: 0.845200\n",
            "Epoch: 20 \tTraining Loss: 0.363618 \tValidation Loss: 0.376667  \tTrain acc: 0.870600 \tValidation acc: 0.862200\n",
            "Epoch: 30 \tTraining Loss: 0.316461 \tValidation Loss: 0.350948  \tTrain acc: 0.885934 \tValidation acc: 0.875600\n",
            "Epoch: 40 \tTraining Loss: 0.281778 \tValidation Loss: 0.339709  \tTrain acc: 0.899784 \tValidation acc: 0.879000\n",
            "Epoch: 50 \tTraining Loss: 0.252233 \tValidation Loss: 0.328080  \tTrain acc: 0.909084 \tValidation acc: 0.885200\n",
            "Epoch: 60 \tTraining Loss: 0.227784 \tValidation Loss: 0.328043  \tTrain acc: 0.918718 \tValidation acc: 0.885200\n",
            "Epoch: 70 \tTraining Loss: 0.207134 \tValidation Loss: 0.325489  \tTrain acc: 0.925251 \tValidation acc: 0.890200\n",
            "Epoch: 80 \tTraining Loss: 0.186359 \tValidation Loss: 0.330033  \tTrain acc: 0.933767 \tValidation acc: 0.887800\n",
            "Epoch: 90 \tTraining Loss: 0.167475 \tValidation Loss: 0.334418  \tTrain acc: 0.939618 \tValidation acc: 0.891400\n",
            "Epoch: 100 \tTraining Loss: 0.152383 \tValidation Loss: 0.341955  \tTrain acc: 0.945201 \tValidation acc: 0.891800\n",
            "finished, appending losses\n",
            "Processing model  2\n",
            "Epoch: 10 \tTraining Loss: 0.481891 \tValidation Loss: 0.449100  \tTrain acc: 0.829199 \tValidation acc: 0.837000\n",
            "Epoch: 20 \tTraining Loss: 0.388288 \tValidation Loss: 0.383654  \tTrain acc: 0.862816 \tValidation acc: 0.860800\n",
            "Epoch: 30 \tTraining Loss: 0.339850 \tValidation Loss: 0.357271  \tTrain acc: 0.879850 \tValidation acc: 0.870800\n",
            "Epoch: 40 \tTraining Loss: 0.306697 \tValidation Loss: 0.341053  \tTrain acc: 0.891100 \tValidation acc: 0.878200\n",
            "Epoch: 50 \tTraining Loss: 0.281624 \tValidation Loss: 0.336782  \tTrain acc: 0.900534 \tValidation acc: 0.884200\n",
            "Epoch: 60 \tTraining Loss: 0.259842 \tValidation Loss: 0.331732  \tTrain acc: 0.908851 \tValidation acc: 0.885400\n",
            "Epoch: 70 \tTraining Loss: 0.241447 \tValidation Loss: 0.330604  \tTrain acc: 0.914001 \tValidation acc: 0.886400\n",
            "Epoch: 80 \tTraining Loss: 0.221846 \tValidation Loss: 0.336007  \tTrain acc: 0.920651 \tValidation acc: 0.890200\n",
            "Epoch: 90 \tTraining Loss: 0.207433 \tValidation Loss: 0.336650  \tTrain acc: 0.926650 \tValidation acc: 0.889400\n",
            "Epoch: 100 \tTraining Loss: 0.191438 \tValidation Loss: 0.342371  \tTrain acc: 0.932334 \tValidation acc: 0.887600\n",
            "finished, appending losses\n",
            "Processing model  3\n",
            "Epoch: 10 \tTraining Loss: 0.451159 \tValidation Loss: 0.429432  \tTrain acc: 0.837999 \tValidation acc: 0.848600\n",
            "Epoch: 20 \tTraining Loss: 0.360824 \tValidation Loss: 0.370688  \tTrain acc: 0.871267 \tValidation acc: 0.863600\n",
            "Epoch: 30 \tTraining Loss: 0.312071 \tValidation Loss: 0.349367  \tTrain acc: 0.888700 \tValidation acc: 0.872600\n",
            "Epoch: 40 \tTraining Loss: 0.275254 \tValidation Loss: 0.330807  \tTrain acc: 0.901701 \tValidation acc: 0.880200\n",
            "Epoch: 50 \tTraining Loss: 0.247858 \tValidation Loss: 0.328590  \tTrain acc: 0.912218 \tValidation acc: 0.885600\n",
            "Epoch: 60 \tTraining Loss: 0.222141 \tValidation Loss: 0.315989  \tTrain acc: 0.921634 \tValidation acc: 0.888800\n",
            "Epoch: 70 \tTraining Loss: 0.200292 \tValidation Loss: 0.322391  \tTrain acc: 0.927534 \tValidation acc: 0.890000\n",
            "Epoch: 80 \tTraining Loss: 0.177314 \tValidation Loss: 0.322854  \tTrain acc: 0.936884 \tValidation acc: 0.890600\n",
            "Epoch: 90 \tTraining Loss: 0.156480 \tValidation Loss: 0.328467  \tTrain acc: 0.943133 \tValidation acc: 0.891600\n",
            "Epoch: 100 \tTraining Loss: 0.139945 \tValidation Loss: 0.335607  \tTrain acc: 0.949617 \tValidation acc: 0.894200\n",
            "finished, appending losses\n",
            "Processing model  4\n",
            "Epoch: 10 \tTraining Loss: 0.483553 \tValidation Loss: 0.443069  \tTrain acc: 0.829515 \tValidation acc: 0.843400\n",
            "Epoch: 20 \tTraining Loss: 0.389776 \tValidation Loss: 0.384064  \tTrain acc: 0.862266 \tValidation acc: 0.864600\n",
            "Epoch: 30 \tTraining Loss: 0.343926 \tValidation Loss: 0.354627  \tTrain acc: 0.879667 \tValidation acc: 0.873800\n",
            "Epoch: 40 \tTraining Loss: 0.308065 \tValidation Loss: 0.337031  \tTrain acc: 0.891784 \tValidation acc: 0.877600\n",
            "Epoch: 50 \tTraining Loss: 0.282288 \tValidation Loss: 0.327901  \tTrain acc: 0.901401 \tValidation acc: 0.881000\n",
            "Epoch: 60 \tTraining Loss: 0.256816 \tValidation Loss: 0.335155  \tTrain acc: 0.909234 \tValidation acc: 0.881200\n",
            "Epoch: 70 \tTraining Loss: 0.236892 \tValidation Loss: 0.321368  \tTrain acc: 0.915967 \tValidation acc: 0.883800\n",
            "Epoch: 80 \tTraining Loss: 0.219645 \tValidation Loss: 0.326605  \tTrain acc: 0.922584 \tValidation acc: 0.883600\n",
            "Epoch: 90 \tTraining Loss: 0.203689 \tValidation Loss: 0.321836  \tTrain acc: 0.926268 \tValidation acc: 0.887600\n",
            "Epoch: 100 \tTraining Loss: 0.186629 \tValidation Loss: 0.321324  \tTrain acc: 0.933584 \tValidation acc: 0.891000\n",
            "finished, appending losses\n",
            "Processing model  5\n",
            "Epoch: 10 \tTraining Loss: 0.550751 \tValidation Loss: 0.471005  \tTrain acc: 0.805916 \tValidation acc: 0.834200\n",
            "Epoch: 20 \tTraining Loss: 0.441702 \tValidation Loss: 0.398927  \tTrain acc: 0.848099 \tValidation acc: 0.858000\n",
            "Epoch: 30 \tTraining Loss: 0.388458 \tValidation Loss: 0.366826  \tTrain acc: 0.865833 \tValidation acc: 0.866800\n",
            "Epoch: 40 \tTraining Loss: 0.353861 \tValidation Loss: 0.361379  \tTrain acc: 0.878567 \tValidation acc: 0.875000\n",
            "Epoch: 50 \tTraining Loss: 0.328270 \tValidation Loss: 0.348883  \tTrain acc: 0.886967 \tValidation acc: 0.876400\n",
            "Epoch: 60 \tTraining Loss: 0.305590 \tValidation Loss: 0.348720  \tTrain acc: 0.894318 \tValidation acc: 0.878600\n",
            "Epoch: 70 \tTraining Loss: 0.287685 \tValidation Loss: 0.338131  \tTrain acc: 0.901134 \tValidation acc: 0.881800\n",
            "Epoch: 80 \tTraining Loss: 0.269216 \tValidation Loss: 0.335200  \tTrain acc: 0.907351 \tValidation acc: 0.886200\n",
            "Epoch: 90 \tTraining Loss: 0.256089 \tValidation Loss: 0.334016  \tTrain acc: 0.911050 \tValidation acc: 0.884400\n",
            "Epoch: 100 \tTraining Loss: 0.241521 \tValidation Loss: 0.335730  \tTrain acc: 0.916034 \tValidation acc: 0.885000\n",
            "finished, appending losses\n"
          ],
          "name": "stdout"
        }
      ]
    },
    {
      "cell_type": "code",
      "metadata": {
        "colab": {
          "base_uri": "https://localhost:8080/"
        },
        "id": "cPDbgrvfNvSo",
        "outputId": "1bf5c2d5-3cc8-4fd5-e8a4-83b134b817da"
      },
      "source": [
        "print('Processing 3 layer')\n",
        "i = 0\n",
        "for model in models_3_layer:\n",
        "  model.apply(weight_reset)\n",
        "  optimizer = torch.optim.SGD(model.parameters(), lr=0.01, momentum=0.1)\n",
        "  print('Processing model ', i)\n",
        "  i += 1\n",
        "\n",
        "  train_losses = []\n",
        "  train_accs = []\n",
        "\n",
        "  dev_losses = []\n",
        "  dev_accs = []\n",
        "\n",
        "  model.train() # prep model for training\n",
        "\n",
        "  for epoch in range(100):\n",
        "    # monitor training loss and accuracy\n",
        "    train_loss = 0.0\n",
        "    train_acc = 0.0\n",
        "\n",
        "    # monitor validation loss and accuracy\n",
        "    dev_loss = 0.0\n",
        "    dev_acc = 0.0\n",
        "\n",
        "    for images, labels in train_loader:\n",
        "        X = images.view(-1,784)\n",
        "\n",
        "        # clear gradients of optimized variables\n",
        "        optimizer.zero_grad()\n",
        "\n",
        "        # forward pass\n",
        "        output = model(X, 3)\n",
        "        loss = criterion(output, labels)\n",
        "        \n",
        "        result = torch.argmax(output, dim=1)\n",
        "\n",
        "        train_loss+=loss.item()\n",
        "        train_acc+=torch.mean((result==labels).type(torch.float))\n",
        "        \n",
        "        loss.backward()\n",
        "        # update parameters\n",
        "        optimizer.step()\n",
        "    else:\n",
        "        train_loss=train_loss/len(train_loader)\n",
        "        train_acc=train_acc/len(train_loader)\n",
        "        \n",
        "        # disable gradient calculation\n",
        "        with torch.no_grad():\n",
        "            model.eval()\n",
        "            output=model(dev_images, 3)\n",
        "            dev_loss=criterion(output,dev_labels)\n",
        "            model.train()\n",
        "        \n",
        "        result_labels=torch.argmax(output,dim=1)\n",
        "        dev_acc=torch.mean((result_labels==dev_labels).type(torch.float))\n",
        "        \n",
        "        train_losses.append(train_loss)\n",
        "        dev_losses.append(dev_loss.item())\n",
        "        \n",
        "        train_accs.append(train_acc.item())\n",
        "        dev_accs.append(dev_acc.item())\n",
        "        \n",
        "        if (epoch+1) % 10 == 0:\n",
        "          print('Epoch: {} \\tTraining Loss: {:.6f} \\tValidation Loss: {:.6f}  \\tTrain acc: {:.6f} \\tValidation acc: {:.6f}'.format(\n",
        "            epoch+1, \n",
        "            train_loss,\n",
        "            dev_loss,\n",
        "            train_acc,\n",
        "            dev_acc\n",
        "            ))\n",
        "\n",
        "  print('finished, appending losses')\n",
        "  train_losses_all.append(train_losses)\n",
        "  dev_losses_all.append(dev_losses)\n",
        "  train_accs_all.append(train_losses)\n",
        "  dev_accs_all.append(dev_losses)"
      ],
      "execution_count": 127,
      "outputs": [
        {
          "output_type": "stream",
          "text": [
            "Processing 3 layer\n",
            "Processing model  0\n",
            "Epoch: 10 \tTraining Loss: 0.412229 \tValidation Loss: 0.414576  \tTrain acc: 0.852566 \tValidation acc: 0.854000\n",
            "Epoch: 20 \tTraining Loss: 0.328820 \tValidation Loss: 0.364168  \tTrain acc: 0.883150 \tValidation acc: 0.870400\n",
            "Epoch: 30 \tTraining Loss: 0.280552 \tValidation Loss: 0.338897  \tTrain acc: 0.899301 \tValidation acc: 0.881200\n",
            "Epoch: 40 \tTraining Loss: 0.242739 \tValidation Loss: 0.322322  \tTrain acc: 0.912201 \tValidation acc: 0.889000\n",
            "Epoch: 50 \tTraining Loss: 0.210838 \tValidation Loss: 0.324122  \tTrain acc: 0.924184 \tValidation acc: 0.891200\n",
            "Epoch: 60 \tTraining Loss: 0.181612 \tValidation Loss: 0.328596  \tTrain acc: 0.935034 \tValidation acc: 0.889600\n",
            "Epoch: 70 \tTraining Loss: 0.159518 \tValidation Loss: 0.327680  \tTrain acc: 0.942501 \tValidation acc: 0.896000\n",
            "Epoch: 80 \tTraining Loss: 0.136500 \tValidation Loss: 0.336320  \tTrain acc: 0.951234 \tValidation acc: 0.896200\n",
            "Epoch: 90 \tTraining Loss: 0.117190 \tValidation Loss: 0.353162  \tTrain acc: 0.957850 \tValidation acc: 0.894800\n",
            "Epoch: 100 \tTraining Loss: 0.099208 \tValidation Loss: 0.379294  \tTrain acc: 0.964800 \tValidation acc: 0.892000\n",
            "finished, appending losses\n",
            "Processing model  1\n",
            "Epoch: 10 \tTraining Loss: 0.436476 \tValidation Loss: 0.426183  \tTrain acc: 0.843049 \tValidation acc: 0.850400\n",
            "Epoch: 20 \tTraining Loss: 0.349859 \tValidation Loss: 0.367913  \tTrain acc: 0.874800 \tValidation acc: 0.869400\n",
            "Epoch: 30 \tTraining Loss: 0.304250 \tValidation Loss: 0.345858  \tTrain acc: 0.890068 \tValidation acc: 0.877800\n",
            "Epoch: 40 \tTraining Loss: 0.269738 \tValidation Loss: 0.331811  \tTrain acc: 0.903217 \tValidation acc: 0.884400\n",
            "Epoch: 50 \tTraining Loss: 0.241419 \tValidation Loss: 0.338826  \tTrain acc: 0.913435 \tValidation acc: 0.882400\n",
            "Epoch: 60 \tTraining Loss: 0.215621 \tValidation Loss: 0.320251  \tTrain acc: 0.922401 \tValidation acc: 0.891400\n",
            "Epoch: 70 \tTraining Loss: 0.191621 \tValidation Loss: 0.329063  \tTrain acc: 0.931134 \tValidation acc: 0.888800\n",
            "Epoch: 80 \tTraining Loss: 0.172890 \tValidation Loss: 0.325611  \tTrain acc: 0.936968 \tValidation acc: 0.892400\n",
            "Epoch: 90 \tTraining Loss: 0.155863 \tValidation Loss: 0.332890  \tTrain acc: 0.944168 \tValidation acc: 0.895600\n",
            "Epoch: 100 \tTraining Loss: 0.141402 \tValidation Loss: 0.345502  \tTrain acc: 0.948984 \tValidation acc: 0.894400\n",
            "finished, appending losses\n",
            "Processing model  2\n",
            "Epoch: 10 \tTraining Loss: 0.477449 \tValidation Loss: 0.442925  \tTrain acc: 0.831099 \tValidation acc: 0.842200\n",
            "Epoch: 20 \tTraining Loss: 0.383477 \tValidation Loss: 0.383355  \tTrain acc: 0.864783 \tValidation acc: 0.864200\n",
            "Epoch: 30 \tTraining Loss: 0.335758 \tValidation Loss: 0.359121  \tTrain acc: 0.881900 \tValidation acc: 0.873000\n",
            "Epoch: 40 \tTraining Loss: 0.302834 \tValidation Loss: 0.350324  \tTrain acc: 0.892767 \tValidation acc: 0.878600\n",
            "Epoch: 50 \tTraining Loss: 0.278330 \tValidation Loss: 0.334219  \tTrain acc: 0.901584 \tValidation acc: 0.880600\n",
            "Epoch: 60 \tTraining Loss: 0.256176 \tValidation Loss: 0.332073  \tTrain acc: 0.908818 \tValidation acc: 0.883000\n",
            "Epoch: 70 \tTraining Loss: 0.237237 \tValidation Loss: 0.331395  \tTrain acc: 0.915667 \tValidation acc: 0.886400\n",
            "Epoch: 80 \tTraining Loss: 0.223269 \tValidation Loss: 0.332193  \tTrain acc: 0.919868 \tValidation acc: 0.888000\n",
            "Epoch: 90 \tTraining Loss: 0.204280 \tValidation Loss: 0.331547  \tTrain acc: 0.927884 \tValidation acc: 0.889000\n",
            "Epoch: 100 \tTraining Loss: 0.193308 \tValidation Loss: 0.332524  \tTrain acc: 0.930151 \tValidation acc: 0.888000\n",
            "finished, appending losses\n",
            "Processing model  3\n",
            "Epoch: 10 \tTraining Loss: 0.434109 \tValidation Loss: 0.426387  \tTrain acc: 0.846399 \tValidation acc: 0.848200\n",
            "Epoch: 20 \tTraining Loss: 0.348165 \tValidation Loss: 0.361451  \tTrain acc: 0.875734 \tValidation acc: 0.869600\n",
            "Epoch: 30 \tTraining Loss: 0.300410 \tValidation Loss: 0.337858  \tTrain acc: 0.891433 \tValidation acc: 0.877600\n",
            "Epoch: 40 \tTraining Loss: 0.266407 \tValidation Loss: 0.333861  \tTrain acc: 0.903868 \tValidation acc: 0.881600\n",
            "Epoch: 50 \tTraining Loss: 0.236355 \tValidation Loss: 0.326372  \tTrain acc: 0.915367 \tValidation acc: 0.887200\n",
            "Epoch: 60 \tTraining Loss: 0.209730 \tValidation Loss: 0.330046  \tTrain acc: 0.925601 \tValidation acc: 0.886000\n",
            "Epoch: 70 \tTraining Loss: 0.187615 \tValidation Loss: 0.312968  \tTrain acc: 0.933951 \tValidation acc: 0.893000\n",
            "Epoch: 80 \tTraining Loss: 0.165859 \tValidation Loss: 0.327262  \tTrain acc: 0.940101 \tValidation acc: 0.895000\n",
            "Epoch: 90 \tTraining Loss: 0.148656 \tValidation Loss: 0.327669  \tTrain acc: 0.946984 \tValidation acc: 0.893600\n",
            "Epoch: 100 \tTraining Loss: 0.130029 \tValidation Loss: 0.336986  \tTrain acc: 0.954001 \tValidation acc: 0.894000\n",
            "finished, appending losses\n",
            "Processing model  4\n",
            "Epoch: 10 \tTraining Loss: 0.472944 \tValidation Loss: 0.433091  \tTrain acc: 0.832199 \tValidation acc: 0.846600\n",
            "Epoch: 20 \tTraining Loss: 0.376539 \tValidation Loss: 0.376611  \tTrain acc: 0.866916 \tValidation acc: 0.863600\n",
            "Epoch: 30 \tTraining Loss: 0.330140 \tValidation Loss: 0.353927  \tTrain acc: 0.882950 \tValidation acc: 0.872800\n",
            "Epoch: 40 \tTraining Loss: 0.298678 \tValidation Loss: 0.340171  \tTrain acc: 0.893400 \tValidation acc: 0.877600\n",
            "Epoch: 50 \tTraining Loss: 0.272240 \tValidation Loss: 0.333085  \tTrain acc: 0.903667 \tValidation acc: 0.881400\n",
            "Epoch: 60 \tTraining Loss: 0.249623 \tValidation Loss: 0.335590  \tTrain acc: 0.911868 \tValidation acc: 0.883600\n",
            "Epoch: 70 \tTraining Loss: 0.227569 \tValidation Loss: 0.325418  \tTrain acc: 0.918901 \tValidation acc: 0.888600\n",
            "Epoch: 80 \tTraining Loss: 0.212075 \tValidation Loss: 0.328001  \tTrain acc: 0.924768 \tValidation acc: 0.889000\n",
            "Epoch: 90 \tTraining Loss: 0.194692 \tValidation Loss: 0.338354  \tTrain acc: 0.930734 \tValidation acc: 0.890400\n",
            "Epoch: 100 \tTraining Loss: 0.179495 \tValidation Loss: 0.339806  \tTrain acc: 0.937051 \tValidation acc: 0.888200\n",
            "finished, appending losses\n",
            "Processing model  5\n",
            "Epoch: 10 \tTraining Loss: 0.536957 \tValidation Loss: 0.466477  \tTrain acc: 0.812032 \tValidation acc: 0.830600\n",
            "Epoch: 20 \tTraining Loss: 0.428627 \tValidation Loss: 0.394805  \tTrain acc: 0.851565 \tValidation acc: 0.858000\n",
            "Epoch: 30 \tTraining Loss: 0.379863 \tValidation Loss: 0.365656  \tTrain acc: 0.871100 \tValidation acc: 0.869200\n",
            "Epoch: 40 \tTraining Loss: 0.344764 \tValidation Loss: 0.357681  \tTrain acc: 0.880134 \tValidation acc: 0.873400\n",
            "Epoch: 50 \tTraining Loss: 0.317940 \tValidation Loss: 0.347912  \tTrain acc: 0.890101 \tValidation acc: 0.877600\n",
            "Epoch: 60 \tTraining Loss: 0.296224 \tValidation Loss: 0.346774  \tTrain acc: 0.897218 \tValidation acc: 0.879800\n",
            "Epoch: 70 \tTraining Loss: 0.277332 \tValidation Loss: 0.344179  \tTrain acc: 0.903634 \tValidation acc: 0.880000\n",
            "Epoch: 80 \tTraining Loss: 0.263931 \tValidation Loss: 0.340823  \tTrain acc: 0.908468 \tValidation acc: 0.883200\n",
            "Epoch: 90 \tTraining Loss: 0.247690 \tValidation Loss: 0.341009  \tTrain acc: 0.913434 \tValidation acc: 0.885400\n",
            "Epoch: 100 \tTraining Loss: 0.234872 \tValidation Loss: 0.350098  \tTrain acc: 0.919168 \tValidation acc: 0.884400\n",
            "finished, appending losses\n"
          ],
          "name": "stdout"
        }
      ]
    },
    {
      "cell_type": "code",
      "metadata": {
        "colab": {
          "base_uri": "https://localhost:8080/"
        },
        "id": "7sI9pMqBN0cg",
        "outputId": "cdb38c03-270d-47a0-da6a-abbca0390bbc"
      },
      "source": [
        "print('Processing 3 layer')\n",
        "i = 0\n",
        "for model in models_3_layer:\n",
        "  model.apply(weight_reset)\n",
        "  optimizer = torch.optim.SGD(model.parameters(), lr=0.01, momentum=0.5)\n",
        "  print('Processing model ', i)\n",
        "  i += 1\n",
        "\n",
        "  train_losses = []\n",
        "  train_accs = []\n",
        "\n",
        "  dev_losses = []\n",
        "  dev_accs = []\n",
        "\n",
        "  model.train() # prep model for training\n",
        "\n",
        "  for epoch in range(100):\n",
        "    # monitor training loss and accuracy\n",
        "    train_loss = 0.0\n",
        "    train_acc = 0.0\n",
        "\n",
        "    # monitor validation loss and accuracy\n",
        "    dev_loss = 0.0\n",
        "    dev_acc = 0.0\n",
        "\n",
        "    for images, labels in train_loader:\n",
        "        X = images.view(-1,784)\n",
        "\n",
        "        # clear gradients of optimized variables\n",
        "        optimizer.zero_grad()\n",
        "\n",
        "        # forward pass\n",
        "        output = model(X, 3)\n",
        "        loss = criterion(output, labels)\n",
        "        \n",
        "        result = torch.argmax(output, dim=1)\n",
        "\n",
        "        train_loss+=loss.item()\n",
        "        train_acc+=torch.mean((result==labels).type(torch.float))\n",
        "        \n",
        "        loss.backward()\n",
        "        # update parameters\n",
        "        optimizer.step()\n",
        "    else:\n",
        "        train_loss=train_loss/len(train_loader)\n",
        "        train_acc=train_acc/len(train_loader)\n",
        "        \n",
        "        # disable gradient calculation\n",
        "        with torch.no_grad():\n",
        "            model.eval()\n",
        "            output=model(dev_images, 3)\n",
        "            dev_loss=criterion(output,dev_labels)\n",
        "            model.train()\n",
        "        \n",
        "        result_labels=torch.argmax(output,dim=1)\n",
        "        dev_acc=torch.mean((result_labels==dev_labels).type(torch.float))\n",
        "        \n",
        "        train_losses.append(train_loss)\n",
        "        dev_losses.append(dev_loss.item())\n",
        "        \n",
        "        train_accs.append(train_acc.item())\n",
        "        dev_accs.append(dev_acc.item())\n",
        "        \n",
        "        if (epoch+1) % 10 == 0:\n",
        "          print('Epoch: {} \\tTraining Loss: {:.6f} \\tValidation Loss: {:.6f}  \\tTrain acc: {:.6f} \\tValidation acc: {:.6f}'.format(\n",
        "            epoch+1, \n",
        "            train_loss,\n",
        "            dev_loss,\n",
        "            train_acc,\n",
        "            dev_acc\n",
        "            ))\n",
        "\n",
        "  print('finished, appending losses')\n",
        "  train_losses_all.append(train_losses)\n",
        "  dev_losses_all.append(dev_losses)\n",
        "  train_accs_all.append(train_losses)\n",
        "  dev_accs_all.append(dev_losses)"
      ],
      "execution_count": 128,
      "outputs": [
        {
          "output_type": "stream",
          "text": [
            "Processing 3 layer\n",
            "Processing model  0\n",
            "Epoch: 10 \tTraining Loss: 0.351921 \tValidation Loss: 0.388123  \tTrain acc: 0.872900 \tValidation acc: 0.857600\n",
            "Epoch: 20 \tTraining Loss: 0.274278 \tValidation Loss: 0.339362  \tTrain acc: 0.899967 \tValidation acc: 0.878600\n",
            "Epoch: 30 \tTraining Loss: 0.224160 \tValidation Loss: 0.322868  \tTrain acc: 0.919117 \tValidation acc: 0.888600\n",
            "Epoch: 40 \tTraining Loss: 0.185501 \tValidation Loss: 0.325269  \tTrain acc: 0.933301 \tValidation acc: 0.892000\n",
            "Epoch: 50 \tTraining Loss: 0.152542 \tValidation Loss: 0.333024  \tTrain acc: 0.944185 \tValidation acc: 0.893400\n",
            "Epoch: 60 \tTraining Loss: 0.123426 \tValidation Loss: 0.347590  \tTrain acc: 0.954634 \tValidation acc: 0.890600\n",
            "Epoch: 70 \tTraining Loss: 0.101597 \tValidation Loss: 0.395059  \tTrain acc: 0.962866 \tValidation acc: 0.890200\n",
            "Epoch: 80 \tTraining Loss: 0.084934 \tValidation Loss: 0.392919  \tTrain acc: 0.969500 \tValidation acc: 0.890600\n",
            "Epoch: 90 \tTraining Loss: 0.072297 \tValidation Loss: 0.410860  \tTrain acc: 0.973466 \tValidation acc: 0.894800\n",
            "Epoch: 100 \tTraining Loss: 0.058418 \tValidation Loss: 0.465816  \tTrain acc: 0.979049 \tValidation acc: 0.892000\n",
            "finished, appending losses\n",
            "Processing model  1\n",
            "Epoch: 10 \tTraining Loss: 0.374708 \tValidation Loss: 0.381873  \tTrain acc: 0.864850 \tValidation acc: 0.864000\n",
            "Epoch: 20 \tTraining Loss: 0.298203 \tValidation Loss: 0.351397  \tTrain acc: 0.893434 \tValidation acc: 0.878400\n",
            "Epoch: 30 \tTraining Loss: 0.252314 \tValidation Loss: 0.328968  \tTrain acc: 0.908567 \tValidation acc: 0.883400\n",
            "Epoch: 40 \tTraining Loss: 0.217465 \tValidation Loss: 0.331306  \tTrain acc: 0.921534 \tValidation acc: 0.884800\n",
            "Epoch: 50 \tTraining Loss: 0.188286 \tValidation Loss: 0.329338  \tTrain acc: 0.932317 \tValidation acc: 0.889800\n",
            "Epoch: 60 \tTraining Loss: 0.164462 \tValidation Loss: 0.337122  \tTrain acc: 0.940467 \tValidation acc: 0.889600\n",
            "Epoch: 70 \tTraining Loss: 0.142846 \tValidation Loss: 0.372935  \tTrain acc: 0.948185 \tValidation acc: 0.893600\n",
            "Epoch: 80 \tTraining Loss: 0.125710 \tValidation Loss: 0.366697  \tTrain acc: 0.954184 \tValidation acc: 0.895800\n",
            "Epoch: 90 \tTraining Loss: 0.108905 \tValidation Loss: 0.380966  \tTrain acc: 0.960617 \tValidation acc: 0.894000\n",
            "Epoch: 100 \tTraining Loss: 0.097622 \tValidation Loss: 0.408961  \tTrain acc: 0.964317 \tValidation acc: 0.888800\n",
            "finished, appending losses\n",
            "Processing model  2\n",
            "Epoch: 10 \tTraining Loss: 0.406740 \tValidation Loss: 0.398668  \tTrain acc: 0.856833 \tValidation acc: 0.857000\n",
            "Epoch: 20 \tTraining Loss: 0.328292 \tValidation Loss: 0.357032  \tTrain acc: 0.884667 \tValidation acc: 0.874600\n",
            "Epoch: 30 \tTraining Loss: 0.285833 \tValidation Loss: 0.346182  \tTrain acc: 0.897667 \tValidation acc: 0.876000\n",
            "Epoch: 40 \tTraining Loss: 0.256361 \tValidation Loss: 0.337397  \tTrain acc: 0.908868 \tValidation acc: 0.882600\n",
            "Epoch: 50 \tTraining Loss: 0.229287 \tValidation Loss: 0.342835  \tTrain acc: 0.917450 \tValidation acc: 0.881800\n",
            "Epoch: 60 \tTraining Loss: 0.207709 \tValidation Loss: 0.347760  \tTrain acc: 0.925018 \tValidation acc: 0.884800\n",
            "Epoch: 70 \tTraining Loss: 0.192232 \tValidation Loss: 0.360539  \tTrain acc: 0.930501 \tValidation acc: 0.884600\n",
            "Epoch: 80 \tTraining Loss: 0.174336 \tValidation Loss: 0.368959  \tTrain acc: 0.936901 \tValidation acc: 0.886200\n",
            "Epoch: 90 \tTraining Loss: 0.162929 \tValidation Loss: 0.362378  \tTrain acc: 0.940134 \tValidation acc: 0.890200\n",
            "Epoch: 100 \tTraining Loss: 0.148958 \tValidation Loss: 0.396109  \tTrain acc: 0.946234 \tValidation acc: 0.879000\n",
            "finished, appending losses\n",
            "Processing model  3\n",
            "Epoch: 10 \tTraining Loss: 0.369122 \tValidation Loss: 0.377241  \tTrain acc: 0.866900 \tValidation acc: 0.865400\n",
            "Epoch: 20 \tTraining Loss: 0.294122 \tValidation Loss: 0.337442  \tTrain acc: 0.893850 \tValidation acc: 0.877600\n",
            "Epoch: 30 \tTraining Loss: 0.248127 \tValidation Loss: 0.324340  \tTrain acc: 0.911068 \tValidation acc: 0.886600\n",
            "Epoch: 40 \tTraining Loss: 0.210809 \tValidation Loss: 0.324039  \tTrain acc: 0.922868 \tValidation acc: 0.889400\n",
            "Epoch: 50 \tTraining Loss: 0.180907 \tValidation Loss: 0.326798  \tTrain acc: 0.934634 \tValidation acc: 0.892000\n",
            "Epoch: 60 \tTraining Loss: 0.154598 \tValidation Loss: 0.328130  \tTrain acc: 0.944667 \tValidation acc: 0.894000\n",
            "Epoch: 70 \tTraining Loss: 0.133392 \tValidation Loss: 0.341384  \tTrain acc: 0.952384 \tValidation acc: 0.897000\n",
            "Epoch: 80 \tTraining Loss: 0.116489 \tValidation Loss: 0.343943  \tTrain acc: 0.957967 \tValidation acc: 0.898000\n",
            "Epoch: 90 \tTraining Loss: 0.100953 \tValidation Loss: 0.373281  \tTrain acc: 0.963483 \tValidation acc: 0.898400\n",
            "Epoch: 100 \tTraining Loss: 0.087199 \tValidation Loss: 0.380984  \tTrain acc: 0.968350 \tValidation acc: 0.898200\n",
            "finished, appending losses\n",
            "Processing model  4\n",
            "Epoch: 10 \tTraining Loss: 0.401779 \tValidation Loss: 0.402376  \tTrain acc: 0.858566 \tValidation acc: 0.858400\n",
            "Epoch: 20 \tTraining Loss: 0.326462 \tValidation Loss: 0.354355  \tTrain acc: 0.885633 \tValidation acc: 0.874000\n",
            "Epoch: 30 \tTraining Loss: 0.280838 \tValidation Loss: 0.335435  \tTrain acc: 0.901051 \tValidation acc: 0.884000\n",
            "Epoch: 40 \tTraining Loss: 0.247456 \tValidation Loss: 0.332539  \tTrain acc: 0.911868 \tValidation acc: 0.886200\n",
            "Epoch: 50 \tTraining Loss: 0.221733 \tValidation Loss: 0.325060  \tTrain acc: 0.920235 \tValidation acc: 0.889400\n",
            "Epoch: 60 \tTraining Loss: 0.199177 \tValidation Loss: 0.332476  \tTrain acc: 0.929618 \tValidation acc: 0.888600\n",
            "Epoch: 70 \tTraining Loss: 0.180019 \tValidation Loss: 0.342963  \tTrain acc: 0.935234 \tValidation acc: 0.887600\n",
            "Epoch: 80 \tTraining Loss: 0.163013 \tValidation Loss: 0.337878  \tTrain acc: 0.941268 \tValidation acc: 0.890200\n",
            "Epoch: 90 \tTraining Loss: 0.146391 \tValidation Loss: 0.338406  \tTrain acc: 0.948485 \tValidation acc: 0.897000\n",
            "Epoch: 100 \tTraining Loss: 0.133965 \tValidation Loss: 0.358555  \tTrain acc: 0.951784 \tValidation acc: 0.892400\n",
            "finished, appending losses\n",
            "Processing model  5\n",
            "Epoch: 10 \tTraining Loss: 0.456715 \tValidation Loss: 0.406944  \tTrain acc: 0.843016 \tValidation acc: 0.854600\n",
            "Epoch: 20 \tTraining Loss: 0.375292 \tValidation Loss: 0.359136  \tTrain acc: 0.869166 \tValidation acc: 0.872600\n",
            "Epoch: 30 \tTraining Loss: 0.330423 \tValidation Loss: 0.347803  \tTrain acc: 0.884267 \tValidation acc: 0.873600\n",
            "Epoch: 40 \tTraining Loss: 0.295795 \tValidation Loss: 0.343133  \tTrain acc: 0.895167 \tValidation acc: 0.877200\n",
            "Epoch: 50 \tTraining Loss: 0.275236 \tValidation Loss: 0.339450  \tTrain acc: 0.902950 \tValidation acc: 0.883600\n",
            "Epoch: 60 \tTraining Loss: 0.255655 \tValidation Loss: 0.331344  \tTrain acc: 0.908768 \tValidation acc: 0.886600\n",
            "Epoch: 70 \tTraining Loss: 0.237951 \tValidation Loss: 0.330160  \tTrain acc: 0.915484 \tValidation acc: 0.889400\n",
            "Epoch: 80 \tTraining Loss: 0.222661 \tValidation Loss: 0.339795  \tTrain acc: 0.921001 \tValidation acc: 0.886200\n",
            "Epoch: 90 \tTraining Loss: 0.211519 \tValidation Loss: 0.340762  \tTrain acc: 0.924517 \tValidation acc: 0.883800\n",
            "Epoch: 100 \tTraining Loss: 0.204264 \tValidation Loss: 0.335073  \tTrain acc: 0.928101 \tValidation acc: 0.889600\n",
            "finished, appending losses\n"
          ],
          "name": "stdout"
        }
      ]
    },
    {
      "cell_type": "code",
      "metadata": {
        "colab": {
          "base_uri": "https://localhost:8080/"
        },
        "id": "w2qkNeZJN38Z",
        "outputId": "b1d2752e-3826-42e9-de8d-e4a1b7c7de77"
      },
      "source": [
        "print('Processing 3 layer')\n",
        "i = 0\n",
        "for model in models_3_layer:\n",
        "  model.apply(weight_reset)\n",
        "  optimizer = torch.optim.SGD(model.parameters(), lr=0.01, momentum=0.9)\n",
        "  print('Processing model ', i)\n",
        "  i += 1\n",
        "\n",
        "  train_losses = []\n",
        "  train_accs = []\n",
        "\n",
        "  dev_losses = []\n",
        "  dev_accs = []\n",
        "\n",
        "  model.train() # prep model for training\n",
        "\n",
        "  for epoch in range(100):\n",
        "    # monitor training loss and accuracy\n",
        "    train_loss = 0.0\n",
        "    train_acc = 0.0\n",
        "\n",
        "    # monitor validation loss and accuracy\n",
        "    dev_loss = 0.0\n",
        "    dev_acc = 0.0\n",
        "\n",
        "    for images, labels in train_loader:\n",
        "        X = images.view(-1,784)\n",
        "\n",
        "        # clear gradients of optimized variables\n",
        "        optimizer.zero_grad()\n",
        "\n",
        "        # forward pass\n",
        "        output = model(X, 3)\n",
        "        loss = criterion(output, labels)\n",
        "        \n",
        "        result = torch.argmax(output, dim=1)\n",
        "\n",
        "        train_loss+=loss.item()\n",
        "        train_acc+=torch.mean((result==labels).type(torch.float))\n",
        "        \n",
        "        loss.backward()\n",
        "        # update parameters\n",
        "        optimizer.step()\n",
        "    else:\n",
        "        train_loss=train_loss/len(train_loader)\n",
        "        train_acc=train_acc/len(train_loader)\n",
        "        \n",
        "        # disable gradient calculation\n",
        "        with torch.no_grad():\n",
        "            model.eval()\n",
        "            output=model(dev_images, 3)\n",
        "            dev_loss=criterion(output,dev_labels)\n",
        "            model.train()\n",
        "        \n",
        "        result_labels=torch.argmax(output,dim=1)\n",
        "        dev_acc=torch.mean((result_labels==dev_labels).type(torch.float))\n",
        "        \n",
        "        train_losses.append(train_loss)\n",
        "        dev_losses.append(dev_loss.item())\n",
        "        \n",
        "        train_accs.append(train_acc.item())\n",
        "        dev_accs.append(dev_acc.item())\n",
        "        \n",
        "        if (epoch+1) % 10 == 0:\n",
        "          print('Epoch: {} \\tTraining Loss: {:.6f} \\tValidation Loss: {:.6f}  \\tTrain acc: {:.6f} \\tValidation acc: {:.6f}'.format(\n",
        "            epoch+1, \n",
        "            train_loss,\n",
        "            dev_loss,\n",
        "            train_acc,\n",
        "            dev_acc\n",
        "            ))\n",
        "\n",
        "  print('finished, appending losses')\n",
        "  train_losses_all.append(train_losses)\n",
        "  dev_losses_all.append(dev_losses)\n",
        "  train_accs_all.append(train_losses)\n",
        "  dev_accs_all.append(dev_losses)"
      ],
      "execution_count": 129,
      "outputs": [
        {
          "output_type": "stream",
          "text": [
            "Processing 3 layer\n",
            "Processing model  0\n",
            "Epoch: 10 \tTraining Loss: 0.266719 \tValidation Loss: 0.349673  \tTrain acc: 0.901367 \tValidation acc: 0.879000\n",
            "Epoch: 20 \tTraining Loss: 0.199627 \tValidation Loss: 0.356712  \tTrain acc: 0.925700 \tValidation acc: 0.886600\n",
            "Epoch: 30 \tTraining Loss: 0.150793 \tValidation Loss: 0.361777  \tTrain acc: 0.942734 \tValidation acc: 0.887600\n",
            "Epoch: 40 \tTraining Loss: 0.119109 \tValidation Loss: 0.372471  \tTrain acc: 0.954784 \tValidation acc: 0.896000\n",
            "Epoch: 50 \tTraining Loss: 0.093841 \tValidation Loss: 0.469264  \tTrain acc: 0.963834 \tValidation acc: 0.889200\n",
            "Epoch: 60 \tTraining Loss: 0.074803 \tValidation Loss: 0.461387  \tTrain acc: 0.971600 \tValidation acc: 0.894400\n",
            "Epoch: 70 \tTraining Loss: 0.064814 \tValidation Loss: 0.472426  \tTrain acc: 0.975783 \tValidation acc: 0.896800\n",
            "Epoch: 80 \tTraining Loss: 0.047420 \tValidation Loss: 0.535929  \tTrain acc: 0.981949 \tValidation acc: 0.896800\n",
            "Epoch: 90 \tTraining Loss: 0.042471 \tValidation Loss: 0.554698  \tTrain acc: 0.983748 \tValidation acc: 0.901400\n",
            "Epoch: 100 \tTraining Loss: 0.035064 \tValidation Loss: 0.584960  \tTrain acc: 0.986765 \tValidation acc: 0.896400\n",
            "finished, appending losses\n",
            "Processing model  1\n",
            "Epoch: 10 \tTraining Loss: 0.288744 \tValidation Loss: 0.343923  \tTrain acc: 0.894501 \tValidation acc: 0.876000\n",
            "Epoch: 20 \tTraining Loss: 0.223451 \tValidation Loss: 0.338758  \tTrain acc: 0.917284 \tValidation acc: 0.882600\n",
            "Epoch: 30 \tTraining Loss: 0.182751 \tValidation Loss: 0.350115  \tTrain acc: 0.931018 \tValidation acc: 0.889800\n",
            "Epoch: 40 \tTraining Loss: 0.152663 \tValidation Loss: 0.348807  \tTrain acc: 0.942201 \tValidation acc: 0.890200\n",
            "Epoch: 50 \tTraining Loss: 0.130127 \tValidation Loss: 0.388502  \tTrain acc: 0.951217 \tValidation acc: 0.889400\n",
            "Epoch: 60 \tTraining Loss: 0.112655 \tValidation Loss: 0.401408  \tTrain acc: 0.957651 \tValidation acc: 0.893000\n",
            "Epoch: 70 \tTraining Loss: 0.097689 \tValidation Loss: 0.432011  \tTrain acc: 0.963317 \tValidation acc: 0.895000\n",
            "Epoch: 80 \tTraining Loss: 0.085368 \tValidation Loss: 0.446120  \tTrain acc: 0.968133 \tValidation acc: 0.887800\n",
            "Epoch: 90 \tTraining Loss: 0.077266 \tValidation Loss: 0.452331  \tTrain acc: 0.971033 \tValidation acc: 0.893200\n",
            "Epoch: 100 \tTraining Loss: 0.066731 \tValidation Loss: 0.471714  \tTrain acc: 0.975149 \tValidation acc: 0.895800\n",
            "finished, appending losses\n",
            "Processing model  2\n",
            "Epoch: 10 \tTraining Loss: 0.321229 \tValidation Loss: 0.358860  \tTrain acc: 0.884384 \tValidation acc: 0.867400\n",
            "Epoch: 20 \tTraining Loss: 0.260965 \tValidation Loss: 0.346922  \tTrain acc: 0.905101 \tValidation acc: 0.877000\n",
            "Epoch: 30 \tTraining Loss: 0.224847 \tValidation Loss: 0.349367  \tTrain acc: 0.917401 \tValidation acc: 0.882200\n",
            "Epoch: 40 \tTraining Loss: 0.199861 \tValidation Loss: 0.333588  \tTrain acc: 0.926301 \tValidation acc: 0.884600\n",
            "Epoch: 50 \tTraining Loss: 0.179490 \tValidation Loss: 0.367069  \tTrain acc: 0.933685 \tValidation acc: 0.885400\n",
            "Epoch: 60 \tTraining Loss: 0.163021 \tValidation Loss: 0.369632  \tTrain acc: 0.940368 \tValidation acc: 0.885400\n",
            "Epoch: 70 \tTraining Loss: 0.150673 \tValidation Loss: 0.370131  \tTrain acc: 0.944801 \tValidation acc: 0.888400\n",
            "Epoch: 80 \tTraining Loss: 0.140920 \tValidation Loss: 0.388640  \tTrain acc: 0.947118 \tValidation acc: 0.888400\n",
            "Epoch: 90 \tTraining Loss: 0.134102 \tValidation Loss: 0.402755  \tTrain acc: 0.949718 \tValidation acc: 0.887800\n",
            "Epoch: 100 \tTraining Loss: 0.122891 \tValidation Loss: 0.413311  \tTrain acc: 0.954950 \tValidation acc: 0.889600\n",
            "finished, appending losses\n",
            "Processing model  3\n",
            "Epoch: 10 \tTraining Loss: 0.291280 \tValidation Loss: 0.351513  \tTrain acc: 0.892217 \tValidation acc: 0.873200\n",
            "Epoch: 20 \tTraining Loss: 0.226359 \tValidation Loss: 0.341211  \tTrain acc: 0.915301 \tValidation acc: 0.885800\n",
            "Epoch: 30 \tTraining Loss: 0.184345 \tValidation Loss: 0.336046  \tTrain acc: 0.929551 \tValidation acc: 0.894400\n",
            "Epoch: 40 \tTraining Loss: 0.156730 \tValidation Loss: 0.343741  \tTrain acc: 0.940718 \tValidation acc: 0.896600\n",
            "Epoch: 50 \tTraining Loss: 0.132595 \tValidation Loss: 0.368617  \tTrain acc: 0.949701 \tValidation acc: 0.894200\n",
            "Epoch: 60 \tTraining Loss: 0.112761 \tValidation Loss: 0.393364  \tTrain acc: 0.958051 \tValidation acc: 0.901400\n",
            "Epoch: 70 \tTraining Loss: 0.100281 \tValidation Loss: 0.392125  \tTrain acc: 0.961650 \tValidation acc: 0.900600\n",
            "Epoch: 80 \tTraining Loss: 0.085148 \tValidation Loss: 0.422593  \tTrain acc: 0.967350 \tValidation acc: 0.903000\n",
            "Epoch: 90 \tTraining Loss: 0.071845 \tValidation Loss: 0.470279  \tTrain acc: 0.973133 \tValidation acc: 0.899400\n",
            "Epoch: 100 \tTraining Loss: 0.070394 \tValidation Loss: 0.449935  \tTrain acc: 0.973949 \tValidation acc: 0.898200\n",
            "finished, appending losses\n",
            "Processing model  4\n",
            "Epoch: 10 \tTraining Loss: 0.317586 \tValidation Loss: 0.345882  \tTrain acc: 0.883784 \tValidation acc: 0.874600\n",
            "Epoch: 20 \tTraining Loss: 0.257032 \tValidation Loss: 0.329230  \tTrain acc: 0.906134 \tValidation acc: 0.884200\n",
            "Epoch: 30 \tTraining Loss: 0.217633 \tValidation Loss: 0.327890  \tTrain acc: 0.920668 \tValidation acc: 0.887000\n",
            "Epoch: 40 \tTraining Loss: 0.191506 \tValidation Loss: 0.330355  \tTrain acc: 0.928868 \tValidation acc: 0.888800\n",
            "Epoch: 50 \tTraining Loss: 0.166930 \tValidation Loss: 0.329173  \tTrain acc: 0.937451 \tValidation acc: 0.893800\n",
            "Epoch: 60 \tTraining Loss: 0.150660 \tValidation Loss: 0.333906  \tTrain acc: 0.944235 \tValidation acc: 0.896800\n",
            "Epoch: 70 \tTraining Loss: 0.139248 \tValidation Loss: 0.384118  \tTrain acc: 0.948417 \tValidation acc: 0.892800\n",
            "Epoch: 80 \tTraining Loss: 0.127423 \tValidation Loss: 0.383722  \tTrain acc: 0.953284 \tValidation acc: 0.887000\n",
            "Epoch: 90 \tTraining Loss: 0.116187 \tValidation Loss: 0.405095  \tTrain acc: 0.957301 \tValidation acc: 0.889600\n",
            "Epoch: 100 \tTraining Loss: 0.105673 \tValidation Loss: 0.423664  \tTrain acc: 0.960734 \tValidation acc: 0.891200\n",
            "finished, appending losses\n",
            "Processing model  5\n",
            "Epoch: 10 \tTraining Loss: 0.358315 \tValidation Loss: 0.363917  \tTrain acc: 0.872117 \tValidation acc: 0.870200\n",
            "Epoch: 20 \tTraining Loss: 0.303267 \tValidation Loss: 0.346948  \tTrain acc: 0.891167 \tValidation acc: 0.878000\n",
            "Epoch: 30 \tTraining Loss: 0.273962 \tValidation Loss: 0.359759  \tTrain acc: 0.901650 \tValidation acc: 0.879000\n",
            "Epoch: 40 \tTraining Loss: 0.251474 \tValidation Loss: 0.338894  \tTrain acc: 0.910434 \tValidation acc: 0.884400\n",
            "Epoch: 50 \tTraining Loss: 0.230144 \tValidation Loss: 0.339963  \tTrain acc: 0.917051 \tValidation acc: 0.883800\n",
            "Epoch: 60 \tTraining Loss: 0.218702 \tValidation Loss: 0.360631  \tTrain acc: 0.920918 \tValidation acc: 0.885600\n",
            "Epoch: 70 \tTraining Loss: 0.209093 \tValidation Loss: 0.339469  \tTrain acc: 0.924635 \tValidation acc: 0.890400\n",
            "Epoch: 80 \tTraining Loss: 0.198838 \tValidation Loss: 0.366087  \tTrain acc: 0.927584 \tValidation acc: 0.893800\n",
            "Epoch: 90 \tTraining Loss: 0.188398 \tValidation Loss: 0.374393  \tTrain acc: 0.931817 \tValidation acc: 0.891600\n",
            "Epoch: 100 \tTraining Loss: 0.178779 \tValidation Loss: 0.382230  \tTrain acc: 0.935618 \tValidation acc: 0.887600\n",
            "finished, appending losses\n"
          ],
          "name": "stdout"
        }
      ]
    },
    {
      "cell_type": "code",
      "metadata": {
        "colab": {
          "base_uri": "https://localhost:8080/"
        },
        "id": "klsmXCGJJEc3",
        "outputId": "c659831d-7efb-45a3-91b2-0a273bfae096"
      },
      "source": [
        "print('Processing 3 layer')\n",
        "i = 0\n",
        "for model in models_3_layer:\n",
        "  if i != 3:\n",
        "    i+=1\n",
        "    continue\n",
        "  model.apply(weight_reset)\n",
        "  optimizer = torch.optim.SGD(model.parameters(), lr=0.01, momentum=0.9)\n",
        "  print('Processing model ', i)\n",
        "  i += 1\n",
        "\n",
        "  train_losses = []\n",
        "  train_accs = []\n",
        "\n",
        "  dev_losses = []\n",
        "  dev_accs = []\n",
        "\n",
        "  model.train() # prep model for training\n",
        "\n",
        "  for epoch in range(100):\n",
        "    # monitor training loss and accuracy\n",
        "    train_loss = 0.0\n",
        "    train_acc = 0.0\n",
        "\n",
        "    # monitor validation loss and accuracy\n",
        "    dev_loss = 0.0\n",
        "    dev_acc = 0.0\n",
        "\n",
        "    for images, labels in train_loader:\n",
        "        X = images.view(-1,784)\n",
        "\n",
        "        # clear gradients of optimized variables\n",
        "        optimizer.zero_grad()\n",
        "\n",
        "        # forward pass\n",
        "        output = model(X, 3)\n",
        "        loss = criterion(output, labels)\n",
        "        \n",
        "        result = torch.argmax(output, dim=1)\n",
        "\n",
        "        train_loss+=loss.item()\n",
        "        train_acc+=torch.mean((result==labels).type(torch.float))\n",
        "        \n",
        "        loss.backward()\n",
        "        # update parameters\n",
        "        optimizer.step()\n",
        "    else:\n",
        "        train_loss=train_loss/len(train_loader)\n",
        "        train_acc=train_acc/len(train_loader)\n",
        "        \n",
        "        # disable gradient calculation\n",
        "        with torch.no_grad():\n",
        "            model.eval()\n",
        "            output=model(dev_images, 3)\n",
        "            dev_loss=criterion(output,dev_labels)\n",
        "            model.train()\n",
        "        \n",
        "        result_labels=torch.argmax(output,dim=1)\n",
        "        dev_acc=torch.mean((result_labels==dev_labels).type(torch.float))\n",
        "        \n",
        "        train_losses.append(train_loss)\n",
        "        dev_losses.append(dev_loss.item())\n",
        "        \n",
        "        train_accs.append(train_acc.item())\n",
        "        dev_accs.append(dev_acc.item())\n",
        "        \n",
        "        if (epoch+1) % 10 == 0:\n",
        "          print('Epoch: {} \\tTraining Loss: {:.6f} \\tValidation Loss: {:.6f}  \\tTrain acc: {:.6f} \\tValidation acc: {:.6f}'.format(\n",
        "            epoch+1, \n",
        "            train_loss,\n",
        "            dev_loss,\n",
        "            train_acc,\n",
        "            dev_acc\n",
        "            ))\n",
        "\n",
        "  print('finished, appending losses')\n",
        "  train_losses_all.append(train_losses)\n",
        "  dev_losses_all.append(dev_losses)\n",
        "  train_accs_all.append(train_accs)\n",
        "  dev_accs_all.append(dev_accs)"
      ],
      "execution_count": 36,
      "outputs": [
        {
          "output_type": "stream",
          "text": [
            "Processing 3 layer\n",
            "Processing model  3\n",
            "Epoch: 10 \tTraining Loss: 0.290724 \tValidation Loss: 0.339157  \tTrain acc: 0.894284 \tValidation acc: 0.874800\n",
            "Epoch: 20 \tTraining Loss: 0.224350 \tValidation Loss: 0.340243  \tTrain acc: 0.916268 \tValidation acc: 0.880200\n",
            "Epoch: 30 \tTraining Loss: 0.186986 \tValidation Loss: 0.336764  \tTrain acc: 0.929467 \tValidation acc: 0.891000\n",
            "Epoch: 40 \tTraining Loss: 0.153573 \tValidation Loss: 0.335989  \tTrain acc: 0.941701 \tValidation acc: 0.900000\n",
            "Epoch: 50 \tTraining Loss: 0.131103 \tValidation Loss: 0.359031  \tTrain acc: 0.951068 \tValidation acc: 0.895200\n",
            "Epoch: 60 \tTraining Loss: 0.111841 \tValidation Loss: 0.400548  \tTrain acc: 0.957850 \tValidation acc: 0.898000\n",
            "Epoch: 70 \tTraining Loss: 0.094944 \tValidation Loss: 0.403386  \tTrain acc: 0.964451 \tValidation acc: 0.898000\n",
            "Epoch: 80 \tTraining Loss: 0.083908 \tValidation Loss: 0.411952  \tTrain acc: 0.968233 \tValidation acc: 0.899600\n",
            "Epoch: 90 \tTraining Loss: 0.072174 \tValidation Loss: 0.458059  \tTrain acc: 0.972666 \tValidation acc: 0.900000\n",
            "Epoch: 100 \tTraining Loss: 0.064465 \tValidation Loss: 0.456919  \tTrain acc: 0.975083 \tValidation acc: 0.900200\n",
            "finished, appending losses\n"
          ],
          "name": "stdout"
        }
      ]
    },
    {
      "cell_type": "code",
      "metadata": {
        "colab": {
          "base_uri": "https://localhost:8080/",
          "height": 296
        },
        "id": "ltmqcqMNP_jD",
        "outputId": "c1f8b2a8-a4a8-43f3-d73e-d97f123a45e5"
      },
      "source": [
        "plt.plot(train_losses_all[len(train_losses_all)-1], label='Training loss')\n",
        "plt.plot(dev_losses_all[len(dev_losses_all)-1], label='Validation loss')\n",
        "plt.ylabel('Loss')\n",
        "plt.xlabel('Epoch')\n",
        "plt.legend()"
      ],
      "execution_count": 37,
      "outputs": [
        {
          "output_type": "execute_result",
          "data": {
            "text/plain": [
              "<matplotlib.legend.Legend at 0x7f4e20b23eb8>"
            ]
          },
          "metadata": {
            "tags": []
          },
          "execution_count": 37
        },
        {
          "output_type": "display_data",
          "data": {
            "image/png": "[encoded data removed]",
            "text/plain": [
              "<Figure size 432x288 with 1 Axes>"
            ]
          },
          "metadata": {
            "tags": [],
            "needs_background": "light"
          }
        }
      ]
    },
    {
      "cell_type": "code",
      "metadata": {
        "colab": {
          "base_uri": "https://localhost:8080/",
          "height": 296
        },
        "id": "MY1twbicQInh",
        "outputId": "afae8c52-187d-48d9-a0a0-fb744a4d4f7f"
      },
      "source": [
        "plt.plot(train_accs_all[len(train_accs_all)-1], label='Training loss')\n",
        "plt.plot(dev_accs_all[len(dev_accs_all)-1], label='Validation loss')\n",
        "plt.ylabel('Loss')\n",
        "plt.xlabel('Epoch')\n",
        "plt.legend()"
      ],
      "execution_count": 39,
      "outputs": [
        {
          "output_type": "execute_result",
          "data": {
            "text/plain": [
              "<matplotlib.legend.Legend at 0x7f4dcf10dcc0>"
            ]
          },
          "metadata": {
            "tags": []
          },
          "execution_count": 39
        },
        {
          "output_type": "display_data",
          "data": {
            "image/png": "[encoded data removed]",
            "text/plain": [
              "<Figure size 432x288 with 1 Axes>"
            ]
          },
          "metadata": {
            "tags": [],
            "needs_background": "light"
          }
        }
      ]
    },
    {
      "cell_type": "code",
      "metadata": {
        "colab": {
          "base_uri": "https://localhost:8080/"
        },
        "id": "3OedQU52M28T",
        "outputId": "acc61fa9-4bf9-4fb6-e526-d2356ba470f9"
      },
      "source": [
        "print('Processing 3 layer')\n",
        "i = 0\n",
        "for model in models_3_layer:\n",
        "  model.apply(weight_reset)\n",
        "  optimizer = torch.optim.SGD(model.parameters(), lr=0.001)\n",
        "  print('Processing model ', i)\n",
        "  i += 1\n",
        "\n",
        "  train_losses = []\n",
        "  train_accs = []\n",
        "\n",
        "  dev_losses = []\n",
        "  dev_accs = []\n",
        "\n",
        "  model.train() # prep model for training\n",
        "\n",
        "  for epoch in range(100):\n",
        "    # monitor training loss and accuracy\n",
        "    train_loss = 0.0\n",
        "    train_acc = 0.0\n",
        "\n",
        "    # monitor validation loss and accuracy\n",
        "    dev_loss = 0.0\n",
        "    dev_acc = 0.0\n",
        "\n",
        "    for images, labels in train_loader:\n",
        "        X = images.view(-1,784)\n",
        "\n",
        "        # clear gradients of optimized variables\n",
        "        optimizer.zero_grad()\n",
        "\n",
        "        # forward pass\n",
        "        output = model(X, 3)\n",
        "        loss = criterion(output, labels)\n",
        "        \n",
        "        result = torch.argmax(output, dim=1)\n",
        "\n",
        "        train_loss+=loss.item()\n",
        "        train_acc+=torch.mean((result==labels).type(torch.float))\n",
        "        \n",
        "        loss.backward()\n",
        "        # update parameters\n",
        "        optimizer.step()\n",
        "    else:\n",
        "        train_loss=train_loss/len(train_loader)\n",
        "        train_acc=train_acc/len(train_loader)\n",
        "        \n",
        "        # disable gradient calculation\n",
        "        with torch.no_grad():\n",
        "            model.eval()\n",
        "            output=model(dev_images, 3)\n",
        "            dev_loss=criterion(output,dev_labels)\n",
        "            model.train()\n",
        "        \n",
        "        result_labels=torch.argmax(output,dim=1)\n",
        "        dev_acc=torch.mean((result_labels==dev_labels).type(torch.float))\n",
        "        \n",
        "        train_losses.append(train_loss)\n",
        "        dev_losses.append(dev_loss.item())\n",
        "        \n",
        "        train_accs.append(train_acc.item())\n",
        "        dev_accs.append(dev_acc.item())\n",
        "        \n",
        "        if (epoch+1) % 10 == 0:\n",
        "          print('Epoch: {} \\tTraining Loss: {:.6f} \\tValidation Loss: {:.6f}  \\tTrain acc: {:.6f} \\tValidation acc: {:.6f}'.format(\n",
        "            epoch+1, \n",
        "            train_loss,\n",
        "            dev_loss,\n",
        "            train_acc,\n",
        "            dev_acc\n",
        "            ))\n",
        "\n",
        "  print('finished, appending losses')\n",
        "  train_losses_all.append(train_losses)\n",
        "  dev_losses_all.append(dev_losses)\n",
        "  train_accs_all.append(train_losses)\n",
        "  dev_accs_all.append(dev_losses)"
      ],
      "execution_count": null,
      "outputs": [
        {
          "output_type": "stream",
          "text": [
            "Processing 3 layer\n",
            "Processing model  0\n",
            "Epoch: 10 \tTraining Loss: 0.932409 \tValidation Loss: 0.868012  \tTrain acc: 0.666701 \tValidation acc: 0.707600\n",
            "Epoch: 20 \tTraining Loss: 0.684432 \tValidation Loss: 0.653775  \tTrain acc: 0.746767 \tValidation acc: 0.757200\n",
            "Epoch: 30 \tTraining Loss: 0.594964 \tValidation Loss: 0.577444  \tTrain acc: 0.782366 \tValidation acc: 0.789200\n",
            "Epoch: 40 \tTraining Loss: 0.541257 \tValidation Loss: 0.526783  \tTrain acc: 0.804266 \tValidation acc: 0.809000\n",
            "Epoch: 50 \tTraining Loss: 0.502712 \tValidation Loss: 0.493826  \tTrain acc: 0.819132 \tValidation acc: 0.821800\n",
            "Epoch: 60 \tTraining Loss: 0.475848 \tValidation Loss: 0.470602  \tTrain acc: 0.829116 \tValidation acc: 0.832200\n",
            "Epoch: 70 \tTraining Loss: 0.455087 \tValidation Loss: 0.453632  \tTrain acc: 0.836316 \tValidation acc: 0.841400\n",
            "Epoch: 80 \tTraining Loss: 0.436162 \tValidation Loss: 0.440353  \tTrain acc: 0.844183 \tValidation acc: 0.845200\n",
            "Epoch: 90 \tTraining Loss: 0.422571 \tValidation Loss: 0.428631  \tTrain acc: 0.848582 \tValidation acc: 0.846600\n",
            "Epoch: 100 \tTraining Loss: 0.410084 \tValidation Loss: 0.419809  \tTrain acc: 0.853200 \tValidation acc: 0.849200\n",
            "finished, appending losses\n",
            "Processing model  1\n",
            "Epoch: 10 \tTraining Loss: 0.986872 \tValidation Loss: 0.887728  \tTrain acc: 0.651134 \tValidation acc: 0.721600\n",
            "Epoch: 20 \tTraining Loss: 0.696096 \tValidation Loss: 0.650765  \tTrain acc: 0.740717 \tValidation acc: 0.759000\n",
            "Epoch: 30 \tTraining Loss: 0.619307 \tValidation Loss: 0.586517  \tTrain acc: 0.772966 \tValidation acc: 0.785400\n",
            "Epoch: 40 \tTraining Loss: 0.571201 \tValidation Loss: 0.544858  \tTrain acc: 0.793916 \tValidation acc: 0.802600\n",
            "Epoch: 50 \tTraining Loss: 0.533695 \tValidation Loss: 0.514030  \tTrain acc: 0.808532 \tValidation acc: 0.815400\n",
            "Epoch: 60 \tTraining Loss: 0.506605 \tValidation Loss: 0.492235  \tTrain acc: 0.817766 \tValidation acc: 0.824400\n",
            "Epoch: 70 \tTraining Loss: 0.483046 \tValidation Loss: 0.473868  \tTrain acc: 0.826599 \tValidation acc: 0.831200\n",
            "Epoch: 80 \tTraining Loss: 0.464829 \tValidation Loss: 0.458876  \tTrain acc: 0.833232 \tValidation acc: 0.837200\n",
            "Epoch: 90 \tTraining Loss: 0.450049 \tValidation Loss: 0.445673  \tTrain acc: 0.838600 \tValidation acc: 0.842600\n",
            "Epoch: 100 \tTraining Loss: 0.434376 \tValidation Loss: 0.434174  \tTrain acc: 0.844099 \tValidation acc: 0.847400\n",
            "finished, appending losses\n",
            "Processing model  2\n",
            "Epoch: 10 \tTraining Loss: 1.161498 \tValidation Loss: 1.032218  \tTrain acc: 0.551416 \tValidation acc: 0.643800\n",
            "Epoch: 20 \tTraining Loss: 0.821998 \tValidation Loss: 0.732876  \tTrain acc: 0.687834 \tValidation acc: 0.728400\n",
            "Epoch: 30 \tTraining Loss: 0.702351 \tValidation Loss: 0.637240  \tTrain acc: 0.733000 \tValidation acc: 0.751600\n",
            "Epoch: 40 \tTraining Loss: 0.640331 \tValidation Loss: 0.587137  \tTrain acc: 0.760050 \tValidation acc: 0.776400\n",
            "Epoch: 50 \tTraining Loss: 0.594844 \tValidation Loss: 0.548198  \tTrain acc: 0.783316 \tValidation acc: 0.799800\n",
            "Epoch: 60 \tTraining Loss: 0.558508 \tValidation Loss: 0.518111  \tTrain acc: 0.798583 \tValidation acc: 0.815200\n",
            "Epoch: 70 \tTraining Loss: 0.533678 \tValidation Loss: 0.495164  \tTrain acc: 0.808916 \tValidation acc: 0.824000\n",
            "Epoch: 80 \tTraining Loss: 0.506482 \tValidation Loss: 0.477249  \tTrain acc: 0.819215 \tValidation acc: 0.828800\n",
            "Epoch: 90 \tTraining Loss: 0.491405 \tValidation Loss: 0.462546  \tTrain acc: 0.824166 \tValidation acc: 0.834800\n",
            "Epoch: 100 \tTraining Loss: 0.475450 \tValidation Loss: 0.450358  \tTrain acc: 0.829566 \tValidation acc: 0.837400\n",
            "finished, appending losses\n",
            "Processing model  3\n",
            "Epoch: 10 \tTraining Loss: 0.999580 \tValidation Loss: 0.889012  \tTrain acc: 0.632400 \tValidation acc: 0.704600\n",
            "Epoch: 20 \tTraining Loss: 0.717621 \tValidation Loss: 0.657285  \tTrain acc: 0.729833 \tValidation acc: 0.754000\n",
            "Epoch: 30 \tTraining Loss: 0.628312 \tValidation Loss: 0.583096  \tTrain acc: 0.765683 \tValidation acc: 0.782000\n",
            "Epoch: 40 \tTraining Loss: 0.573119 \tValidation Loss: 0.535647  \tTrain acc: 0.791532 \tValidation acc: 0.805000\n",
            "Epoch: 50 \tTraining Loss: 0.533605 \tValidation Loss: 0.502268  \tTrain acc: 0.809350 \tValidation acc: 0.820400\n",
            "Epoch: 60 \tTraining Loss: 0.503235 \tValidation Loss: 0.477792  \tTrain acc: 0.818983 \tValidation acc: 0.828000\n",
            "Epoch: 70 \tTraining Loss: 0.480879 \tValidation Loss: 0.459158  \tTrain acc: 0.827249 \tValidation acc: 0.833600\n",
            "Epoch: 80 \tTraining Loss: 0.461528 \tValidation Loss: 0.444608  \tTrain acc: 0.835616 \tValidation acc: 0.839800\n",
            "Epoch: 90 \tTraining Loss: 0.445962 \tValidation Loss: 0.432326  \tTrain acc: 0.840316 \tValidation acc: 0.844200\n",
            "Epoch: 100 \tTraining Loss: 0.433805 \tValidation Loss: 0.421626  \tTrain acc: 0.845566 \tValidation acc: 0.849200\n",
            "finished, appending losses\n",
            "Processing model  4\n",
            "Epoch: 10 \tTraining Loss: 1.152093 \tValidation Loss: 1.010997  \tTrain acc: 0.563016 \tValidation acc: 0.635400\n",
            "Epoch: 20 \tTraining Loss: 0.806831 \tValidation Loss: 0.712136  \tTrain acc: 0.695317 \tValidation acc: 0.738000\n",
            "Epoch: 30 \tTraining Loss: 0.699840 \tValidation Loss: 0.627140  \tTrain acc: 0.736934 \tValidation acc: 0.759200\n",
            "Epoch: 40 \tTraining Loss: 0.636588 \tValidation Loss: 0.575821  \tTrain acc: 0.765383 \tValidation acc: 0.786600\n"
          ],
          "name": "stdout"
        }
      ]
    },
    {
      "cell_type": "code",
      "metadata": {
        "colab": {
          "base_uri": "https://localhost:8080/"
        },
        "id": "KPExqwJ4OLx2",
        "outputId": "0399c296-b03b-464d-84a1-4cdabbd57895"
      },
      "source": [
        "print('Processing 3 layer')\n",
        "i = 0\n",
        "for model in models_3_layer:\n",
        "  model.apply(weight_reset)\n",
        "  optimizer = torch.optim.SGD(model.parameters(), lr=0.001, momentum=0.1)\n",
        "  print('Processing model ', i)\n",
        "  i += 1\n",
        "\n",
        "  train_losses = []\n",
        "  train_accs = []\n",
        "\n",
        "  dev_losses = []\n",
        "  dev_accs = []\n",
        "\n",
        "  model.train() # prep model for training\n",
        "\n",
        "  for epoch in range(300):\n",
        "    # monitor training loss and accuracy\n",
        "    train_loss = 0.0\n",
        "    train_acc = 0.0\n",
        "\n",
        "    # monitor validation loss and accuracy\n",
        "    dev_loss = 0.0\n",
        "    dev_acc = 0.0\n",
        "\n",
        "    for images, labels in train_loader:\n",
        "        X = images.view(-1,784)\n",
        "\n",
        "        # clear gradients of optimized variables\n",
        "        optimizer.zero_grad()\n",
        "\n",
        "        # forward pass\n",
        "        output = model(X, 3)\n",
        "        loss = criterion(output, labels)\n",
        "        \n",
        "        result = torch.argmax(output, dim=1)\n",
        "\n",
        "        train_loss+=loss.item()\n",
        "        train_acc+=torch.mean((result==labels).type(torch.float))\n",
        "        \n",
        "        loss.backward()\n",
        "        # update parameters\n",
        "        optimizer.step()\n",
        "    else:\n",
        "        train_loss=train_loss/len(train_loader)\n",
        "        train_acc=train_acc/len(train_loader)\n",
        "        \n",
        "        # disable gradient calculation\n",
        "        with torch.no_grad():\n",
        "            model.eval()\n",
        "            output=model(dev_images, 3)\n",
        "            dev_loss=criterion(output,dev_labels)\n",
        "            model.train()\n",
        "        \n",
        "        result_labels=torch.argmax(output,dim=1)\n",
        "        dev_acc=torch.mean((result_labels==dev_labels).type(torch.float))\n",
        "        \n",
        "        train_losses.append(train_loss)\n",
        "        dev_losses.append(dev_loss.item())\n",
        "        \n",
        "        train_accs.append(train_acc.item())\n",
        "        dev_accs.append(dev_acc.item())\n",
        "        \n",
        "        if (epoch+1) % 10 == 0:\n",
        "          print('Epoch: {} \\tTraining Loss: {:.6f} \\tValidation Loss: {:.6f}  \\tTrain acc: {:.6f} \\tValidation acc: {:.6f}'.format(\n",
        "            epoch+1, \n",
        "            train_loss,\n",
        "            dev_loss,\n",
        "            train_acc,\n",
        "            dev_acc\n",
        "            ))\n",
        "\n",
        "  print('finished, appending losses')\n",
        "  train_losses_all.append(train_losses)\n",
        "  dev_losses_all.append(dev_losses)\n",
        "  train_accs_all.append(train_losses)\n",
        "  dev_accs_all.append(dev_losses)"
      ],
      "execution_count": 23,
      "outputs": [
        {
          "output_type": "stream",
          "text": [
            "Processing 3 layer\n",
            "Processing model  0\n",
            "Epoch: 10 \tTraining Loss: 0.867469 \tValidation Loss: 0.803179  \tTrain acc: 0.687800 \tValidation acc: 0.725400\n",
            "Epoch: 20 \tTraining Loss: 0.645693 \tValidation Loss: 0.617974  \tTrain acc: 0.758833 \tValidation acc: 0.772200\n",
            "Epoch: 30 \tTraining Loss: 0.566883 \tValidation Loss: 0.548199  \tTrain acc: 0.794766 \tValidation acc: 0.806600\n",
            "Epoch: 40 \tTraining Loss: 0.517246 \tValidation Loss: 0.506337  \tTrain acc: 0.814199 \tValidation acc: 0.818000\n",
            "Epoch: 50 \tTraining Loss: 0.486162 \tValidation Loss: 0.478590  \tTrain acc: 0.824532 \tValidation acc: 0.832400\n",
            "Epoch: 60 \tTraining Loss: 0.461660 \tValidation Loss: 0.459751  \tTrain acc: 0.832998 \tValidation acc: 0.837400\n",
            "Epoch: 70 \tTraining Loss: 0.442046 \tValidation Loss: 0.443353  \tTrain acc: 0.841999 \tValidation acc: 0.842400\n",
            "Epoch: 80 \tTraining Loss: 0.425735 \tValidation Loss: 0.431319  \tTrain acc: 0.847266 \tValidation acc: 0.847400\n",
            "Epoch: 90 \tTraining Loss: 0.410505 \tValidation Loss: 0.419362  \tTrain acc: 0.852783 \tValidation acc: 0.851400\n",
            "Epoch: 100 \tTraining Loss: 0.396582 \tValidation Loss: 0.410010  \tTrain acc: 0.857032 \tValidation acc: 0.855200\n",
            "Epoch: 110 \tTraining Loss: 0.384806 \tValidation Loss: 0.401731  \tTrain acc: 0.862633 \tValidation acc: 0.859200\n",
            "Epoch: 120 \tTraining Loss: 0.374802 \tValidation Loss: 0.393451  \tTrain acc: 0.865550 \tValidation acc: 0.860000\n",
            "Epoch: 130 \tTraining Loss: 0.364422 \tValidation Loss: 0.387648  \tTrain acc: 0.869766 \tValidation acc: 0.862000\n",
            "Epoch: 140 \tTraining Loss: 0.356166 \tValidation Loss: 0.381301  \tTrain acc: 0.872684 \tValidation acc: 0.865600\n",
            "Epoch: 150 \tTraining Loss: 0.346697 \tValidation Loss: 0.375609  \tTrain acc: 0.875383 \tValidation acc: 0.866200\n",
            "Epoch: 160 \tTraining Loss: 0.341085 \tValidation Loss: 0.371181  \tTrain acc: 0.878217 \tValidation acc: 0.867400\n",
            "Epoch: 170 \tTraining Loss: 0.334185 \tValidation Loss: 0.365927  \tTrain acc: 0.880100 \tValidation acc: 0.870600\n",
            "Epoch: 180 \tTraining Loss: 0.325525 \tValidation Loss: 0.362009  \tTrain acc: 0.884084 \tValidation acc: 0.872200\n",
            "Epoch: 190 \tTraining Loss: 0.319164 \tValidation Loss: 0.357796  \tTrain acc: 0.886134 \tValidation acc: 0.873400\n",
            "Epoch: 200 \tTraining Loss: 0.312307 \tValidation Loss: 0.354915  \tTrain acc: 0.888268 \tValidation acc: 0.875000\n",
            "Epoch: 210 \tTraining Loss: 0.305075 \tValidation Loss: 0.350630  \tTrain acc: 0.891850 \tValidation acc: 0.876600\n",
            "Epoch: 220 \tTraining Loss: 0.301588 \tValidation Loss: 0.348468  \tTrain acc: 0.891984 \tValidation acc: 0.877200\n",
            "Epoch: 230 \tTraining Loss: 0.294609 \tValidation Loss: 0.344456  \tTrain acc: 0.895668 \tValidation acc: 0.880200\n",
            "Epoch: 240 \tTraining Loss: 0.291414 \tValidation Loss: 0.341542  \tTrain acc: 0.895734 \tValidation acc: 0.880400\n",
            "Epoch: 250 \tTraining Loss: 0.282614 \tValidation Loss: 0.339869  \tTrain acc: 0.899034 \tValidation acc: 0.881000\n",
            "Epoch: 260 \tTraining Loss: 0.277828 \tValidation Loss: 0.337213  \tTrain acc: 0.901367 \tValidation acc: 0.882600\n",
            "Epoch: 270 \tTraining Loss: 0.272943 \tValidation Loss: 0.334827  \tTrain acc: 0.901985 \tValidation acc: 0.882600\n",
            "Epoch: 280 \tTraining Loss: 0.268217 \tValidation Loss: 0.332664  \tTrain acc: 0.903484 \tValidation acc: 0.883000\n",
            "Epoch: 290 \tTraining Loss: 0.261973 \tValidation Loss: 0.329876  \tTrain acc: 0.906968 \tValidation acc: 0.885000\n",
            "Epoch: 300 \tTraining Loss: 0.257686 \tValidation Loss: 0.328696  \tTrain acc: 0.907935 \tValidation acc: 0.887400\n",
            "finished, appending losses\n",
            "Processing model  1\n",
            "Epoch: 10 \tTraining Loss: 0.934752 \tValidation Loss: 0.853675  \tTrain acc: 0.643150 \tValidation acc: 0.695400\n",
            "Epoch: 20 \tTraining Loss: 0.699247 \tValidation Loss: 0.652470  \tTrain acc: 0.736267 \tValidation acc: 0.755400\n",
            "Epoch: 30 \tTraining Loss: 0.621343 \tValidation Loss: 0.587965  \tTrain acc: 0.769583 \tValidation acc: 0.783200\n",
            "Epoch: 40 \tTraining Loss: 0.569425 \tValidation Loss: 0.542285  \tTrain acc: 0.792983 \tValidation acc: 0.803800\n",
            "Epoch: 50 \tTraining Loss: 0.529437 \tValidation Loss: 0.508208  \tTrain acc: 0.809582 \tValidation acc: 0.818800\n",
            "Epoch: 60 \tTraining Loss: 0.499636 \tValidation Loss: 0.482292  \tTrain acc: 0.820682 \tValidation acc: 0.828800\n",
            "Epoch: 70 \tTraining Loss: 0.475056 \tValidation Loss: 0.462561  \tTrain acc: 0.830882 \tValidation acc: 0.837800\n",
            "Epoch: 80 \tTraining Loss: 0.457788 \tValidation Loss: 0.447457  \tTrain acc: 0.836216 \tValidation acc: 0.844400\n",
            "Epoch: 90 \tTraining Loss: 0.436412 \tValidation Loss: 0.433646  \tTrain acc: 0.843832 \tValidation acc: 0.849400\n",
            "Epoch: 100 \tTraining Loss: 0.423629 \tValidation Loss: 0.421926  \tTrain acc: 0.848899 \tValidation acc: 0.853400\n",
            "Epoch: 110 \tTraining Loss: 0.410895 \tValidation Loss: 0.412325  \tTrain acc: 0.853933 \tValidation acc: 0.856800\n",
            "Epoch: 120 \tTraining Loss: 0.397904 \tValidation Loss: 0.404849  \tTrain acc: 0.858983 \tValidation acc: 0.856800\n",
            "Epoch: 130 \tTraining Loss: 0.386186 \tValidation Loss: 0.396009  \tTrain acc: 0.862466 \tValidation acc: 0.860600\n",
            "Epoch: 140 \tTraining Loss: 0.378086 \tValidation Loss: 0.389606  \tTrain acc: 0.865066 \tValidation acc: 0.864800\n",
            "Epoch: 150 \tTraining Loss: 0.368092 \tValidation Loss: 0.383512  \tTrain acc: 0.868983 \tValidation acc: 0.865400\n",
            "Epoch: 160 \tTraining Loss: 0.361783 \tValidation Loss: 0.378383  \tTrain acc: 0.870383 \tValidation acc: 0.867600\n",
            "Epoch: 170 \tTraining Loss: 0.352050 \tValidation Loss: 0.372915  \tTrain acc: 0.874234 \tValidation acc: 0.870400\n",
            "Epoch: 180 \tTraining Loss: 0.344775 \tValidation Loss: 0.368155  \tTrain acc: 0.877300 \tValidation acc: 0.869200\n",
            "Epoch: 190 \tTraining Loss: 0.337918 \tValidation Loss: 0.365338  \tTrain acc: 0.879500 \tValidation acc: 0.868600\n",
            "Epoch: 200 \tTraining Loss: 0.331225 \tValidation Loss: 0.359811  \tTrain acc: 0.882151 \tValidation acc: 0.871200\n",
            "Epoch: 210 \tTraining Loss: 0.325827 \tValidation Loss: 0.356033  \tTrain acc: 0.883250 \tValidation acc: 0.872200\n",
            "Epoch: 220 \tTraining Loss: 0.318836 \tValidation Loss: 0.353078  \tTrain acc: 0.885834 \tValidation acc: 0.873000\n",
            "Epoch: 230 \tTraining Loss: 0.313665 \tValidation Loss: 0.350635  \tTrain acc: 0.888034 \tValidation acc: 0.875400\n",
            "Epoch: 240 \tTraining Loss: 0.308155 \tValidation Loss: 0.348105  \tTrain acc: 0.889401 \tValidation acc: 0.875600\n",
            "Epoch: 250 \tTraining Loss: 0.302262 \tValidation Loss: 0.345058  \tTrain acc: 0.891534 \tValidation acc: 0.877000\n",
            "Epoch: 260 \tTraining Loss: 0.297261 \tValidation Loss: 0.343111  \tTrain acc: 0.893567 \tValidation acc: 0.877000\n",
            "Epoch: 270 \tTraining Loss: 0.292679 \tValidation Loss: 0.341023  \tTrain acc: 0.895434 \tValidation acc: 0.878400\n",
            "Epoch: 280 \tTraining Loss: 0.286872 \tValidation Loss: 0.338866  \tTrain acc: 0.898084 \tValidation acc: 0.879600\n",
            "Epoch: 290 \tTraining Loss: 0.283224 \tValidation Loss: 0.337622  \tTrain acc: 0.898868 \tValidation acc: 0.879200\n",
            "Epoch: 300 \tTraining Loss: 0.279057 \tValidation Loss: 0.336201  \tTrain acc: 0.901051 \tValidation acc: 0.880200\n",
            "finished, appending losses\n",
            "Processing model  2\n",
            "Epoch: 10 \tTraining Loss: 1.156695 \tValidation Loss: 1.030858  \tTrain acc: 0.550183 \tValidation acc: 0.649400\n",
            "Epoch: 20 \tTraining Loss: 0.794034 \tValidation Loss: 0.708986  \tTrain acc: 0.701000 \tValidation acc: 0.736600\n",
            "Epoch: 30 \tTraining Loss: 0.687488 \tValidation Loss: 0.624588  \tTrain acc: 0.741584 \tValidation acc: 0.762600\n",
            "Epoch: 40 \tTraining Loss: 0.625722 \tValidation Loss: 0.571459  \tTrain acc: 0.769334 \tValidation acc: 0.791200\n",
            "Epoch: 50 \tTraining Loss: 0.579745 \tValidation Loss: 0.531576  \tTrain acc: 0.789466 \tValidation acc: 0.808000\n",
            "Epoch: 60 \tTraining Loss: 0.542511 \tValidation Loss: 0.501617  \tTrain acc: 0.805816 \tValidation acc: 0.820800\n",
            "Epoch: 70 \tTraining Loss: 0.515021 \tValidation Loss: 0.479723  \tTrain acc: 0.816399 \tValidation acc: 0.830800\n",
            "Epoch: 80 \tTraining Loss: 0.492640 \tValidation Loss: 0.462554  \tTrain acc: 0.824449 \tValidation acc: 0.835000\n",
            "Epoch: 90 \tTraining Loss: 0.474528 \tValidation Loss: 0.448964  \tTrain acc: 0.832066 \tValidation acc: 0.839400\n",
            "Epoch: 100 \tTraining Loss: 0.458534 \tValidation Loss: 0.436775  \tTrain acc: 0.836566 \tValidation acc: 0.842000\n",
            "Epoch: 110 \tTraining Loss: 0.445138 \tValidation Loss: 0.427927  \tTrain acc: 0.842382 \tValidation acc: 0.845600\n",
            "Epoch: 120 \tTraining Loss: 0.431741 \tValidation Loss: 0.418645  \tTrain acc: 0.847949 \tValidation acc: 0.849200\n",
            "Epoch: 130 \tTraining Loss: 0.422972 \tValidation Loss: 0.410275  \tTrain acc: 0.850066 \tValidation acc: 0.853400\n",
            "Epoch: 140 \tTraining Loss: 0.411454 \tValidation Loss: 0.404060  \tTrain acc: 0.855450 \tValidation acc: 0.854000\n",
            "Epoch: 150 \tTraining Loss: 0.402047 \tValidation Loss: 0.397314  \tTrain acc: 0.859383 \tValidation acc: 0.856800\n",
            "Epoch: 160 \tTraining Loss: 0.394349 \tValidation Loss: 0.391919  \tTrain acc: 0.860017 \tValidation acc: 0.862400\n",
            "Epoch: 170 \tTraining Loss: 0.385269 \tValidation Loss: 0.387219  \tTrain acc: 0.864367 \tValidation acc: 0.862400\n",
            "Epoch: 180 \tTraining Loss: 0.376258 \tValidation Loss: 0.380679  \tTrain acc: 0.866200 \tValidation acc: 0.864000\n",
            "Epoch: 190 \tTraining Loss: 0.370672 \tValidation Loss: 0.377658  \tTrain acc: 0.868616 \tValidation acc: 0.865000\n",
            "Epoch: 200 \tTraining Loss: 0.366116 \tValidation Loss: 0.373297  \tTrain acc: 0.870883 \tValidation acc: 0.865800\n",
            "Epoch: 210 \tTraining Loss: 0.356589 \tValidation Loss: 0.370745  \tTrain acc: 0.873734 \tValidation acc: 0.866800\n",
            "Epoch: 220 \tTraining Loss: 0.351734 \tValidation Loss: 0.366927  \tTrain acc: 0.876484 \tValidation acc: 0.866600\n",
            "Epoch: 230 \tTraining Loss: 0.346346 \tValidation Loss: 0.363548  \tTrain acc: 0.877817 \tValidation acc: 0.869200\n",
            "Epoch: 240 \tTraining Loss: 0.337404 \tValidation Loss: 0.360741  \tTrain acc: 0.881583 \tValidation acc: 0.871400\n",
            "Epoch: 250 \tTraining Loss: 0.333426 \tValidation Loss: 0.358706  \tTrain acc: 0.882267 \tValidation acc: 0.870800\n",
            "Epoch: 260 \tTraining Loss: 0.328820 \tValidation Loss: 0.355724  \tTrain acc: 0.884584 \tValidation acc: 0.871000\n",
            "Epoch: 270 \tTraining Loss: 0.324805 \tValidation Loss: 0.354415  \tTrain acc: 0.886150 \tValidation acc: 0.871200\n",
            "Epoch: 280 \tTraining Loss: 0.318690 \tValidation Loss: 0.352613  \tTrain acc: 0.887601 \tValidation acc: 0.875200\n",
            "Epoch: 290 \tTraining Loss: 0.315946 \tValidation Loss: 0.349629  \tTrain acc: 0.887118 \tValidation acc: 0.874600\n",
            "Epoch: 300 \tTraining Loss: 0.311289 \tValidation Loss: 0.347320  \tTrain acc: 0.890051 \tValidation acc: 0.876000\n",
            "finished, appending losses\n",
            "Processing model  3\n",
            "Epoch: 10 \tTraining Loss: 0.981819 \tValidation Loss: 0.871209  \tTrain acc: 0.634450 \tValidation acc: 0.703600\n",
            "Epoch: 20 \tTraining Loss: 0.692768 \tValidation Loss: 0.635168  \tTrain acc: 0.740333 \tValidation acc: 0.758600\n",
            "Epoch: 30 \tTraining Loss: 0.604004 \tValidation Loss: 0.561735  \tTrain acc: 0.778000 \tValidation acc: 0.794800\n",
            "Epoch: 40 \tTraining Loss: 0.549733 \tValidation Loss: 0.516682  \tTrain acc: 0.800066 \tValidation acc: 0.812000\n",
            "Epoch: 50 \tTraining Loss: 0.514939 \tValidation Loss: 0.488192  \tTrain acc: 0.813749 \tValidation acc: 0.824200\n",
            "Epoch: 60 \tTraining Loss: 0.487306 \tValidation Loss: 0.468154  \tTrain acc: 0.824266 \tValidation acc: 0.831000\n",
            "Epoch: 70 \tTraining Loss: 0.467690 \tValidation Loss: 0.452870  \tTrain acc: 0.833199 \tValidation acc: 0.839800\n",
            "Epoch: 80 \tTraining Loss: 0.449859 \tValidation Loss: 0.438600  \tTrain acc: 0.839499 \tValidation acc: 0.843200\n",
            "Epoch: 90 \tTraining Loss: 0.434627 \tValidation Loss: 0.427427  \tTrain acc: 0.843632 \tValidation acc: 0.846600\n",
            "Epoch: 100 \tTraining Loss: 0.419737 \tValidation Loss: 0.417289  \tTrain acc: 0.850249 \tValidation acc: 0.851800\n",
            "Epoch: 110 \tTraining Loss: 0.406837 \tValidation Loss: 0.408077  \tTrain acc: 0.855666 \tValidation acc: 0.853800\n",
            "Epoch: 120 \tTraining Loss: 0.394964 \tValidation Loss: 0.400539  \tTrain acc: 0.859616 \tValidation acc: 0.855600\n",
            "Epoch: 130 \tTraining Loss: 0.385620 \tValidation Loss: 0.392981  \tTrain acc: 0.862466 \tValidation acc: 0.856600\n",
            "Epoch: 140 \tTraining Loss: 0.375530 \tValidation Loss: 0.387833  \tTrain acc: 0.864566 \tValidation acc: 0.860800\n",
            "Epoch: 150 \tTraining Loss: 0.368685 \tValidation Loss: 0.381000  \tTrain acc: 0.867717 \tValidation acc: 0.862400\n",
            "Epoch: 160 \tTraining Loss: 0.359914 \tValidation Loss: 0.376804  \tTrain acc: 0.871350 \tValidation acc: 0.863800\n",
            "Epoch: 170 \tTraining Loss: 0.353481 \tValidation Loss: 0.372027  \tTrain acc: 0.874167 \tValidation acc: 0.863600\n",
            "Epoch: 180 \tTraining Loss: 0.343832 \tValidation Loss: 0.367528  \tTrain acc: 0.877084 \tValidation acc: 0.867200\n",
            "Epoch: 190 \tTraining Loss: 0.338445 \tValidation Loss: 0.363552  \tTrain acc: 0.879800 \tValidation acc: 0.867200\n",
            "Epoch: 200 \tTraining Loss: 0.332175 \tValidation Loss: 0.360300  \tTrain acc: 0.881817 \tValidation acc: 0.869600\n",
            "Epoch: 210 \tTraining Loss: 0.326577 \tValidation Loss: 0.356725  \tTrain acc: 0.883550 \tValidation acc: 0.872000\n",
            "Epoch: 220 \tTraining Loss: 0.320582 \tValidation Loss: 0.354195  \tTrain acc: 0.886167 \tValidation acc: 0.872600\n",
            "Epoch: 230 \tTraining Loss: 0.314232 \tValidation Loss: 0.350279  \tTrain acc: 0.888034 \tValidation acc: 0.874000\n",
            "Epoch: 240 \tTraining Loss: 0.306801 \tValidation Loss: 0.347917  \tTrain acc: 0.890951 \tValidation acc: 0.874200\n",
            "Epoch: 250 \tTraining Loss: 0.303238 \tValidation Loss: 0.345168  \tTrain acc: 0.892184 \tValidation acc: 0.875800\n",
            "Epoch: 260 \tTraining Loss: 0.296727 \tValidation Loss: 0.343724  \tTrain acc: 0.895134 \tValidation acc: 0.879600\n",
            "Epoch: 270 \tTraining Loss: 0.291865 \tValidation Loss: 0.340750  \tTrain acc: 0.897034 \tValidation acc: 0.878800\n",
            "Epoch: 280 \tTraining Loss: 0.288814 \tValidation Loss: 0.339386  \tTrain acc: 0.896918 \tValidation acc: 0.882400\n",
            "Epoch: 290 \tTraining Loss: 0.284177 \tValidation Loss: 0.337658  \tTrain acc: 0.899351 \tValidation acc: 0.881000\n",
            "Epoch: 300 \tTraining Loss: 0.278231 \tValidation Loss: 0.336056  \tTrain acc: 0.900618 \tValidation acc: 0.882400\n",
            "finished, appending losses\n",
            "Processing model  4\n",
            "Epoch: 10 \tTraining Loss: 1.077840 \tValidation Loss: 0.938529  \tTrain acc: 0.589217 \tValidation acc: 0.675800\n",
            "Epoch: 20 \tTraining Loss: 0.756753 \tValidation Loss: 0.669633  \tTrain acc: 0.717050 \tValidation acc: 0.752800\n",
            "Epoch: 30 \tTraining Loss: 0.657645 \tValidation Loss: 0.589784  \tTrain acc: 0.757433 \tValidation acc: 0.781800\n",
            "Epoch: 40 \tTraining Loss: 0.598392 \tValidation Loss: 0.539662  \tTrain acc: 0.783700 \tValidation acc: 0.805600\n",
            "Epoch: 50 \tTraining Loss: 0.553826 \tValidation Loss: 0.504966  \tTrain acc: 0.802149 \tValidation acc: 0.818400\n",
            "Epoch: 60 \tTraining Loss: 0.525543 \tValidation Loss: 0.481206  \tTrain acc: 0.813432 \tValidation acc: 0.826600\n",
            "Epoch: 70 \tTraining Loss: 0.503531 \tValidation Loss: 0.463466  \tTrain acc: 0.822032 \tValidation acc: 0.833200\n",
            "Epoch: 80 \tTraining Loss: 0.484486 \tValidation Loss: 0.449435  \tTrain acc: 0.827666 \tValidation acc: 0.837800\n",
            "Epoch: 90 \tTraining Loss: 0.465718 \tValidation Loss: 0.436572  \tTrain acc: 0.836016 \tValidation acc: 0.840800\n",
            "Epoch: 100 \tTraining Loss: 0.452313 \tValidation Loss: 0.426058  \tTrain acc: 0.840316 \tValidation acc: 0.843600\n",
            "Epoch: 110 \tTraining Loss: 0.439077 \tValidation Loss: 0.416679  \tTrain acc: 0.844849 \tValidation acc: 0.851000\n",
            "Epoch: 120 \tTraining Loss: 0.427151 \tValidation Loss: 0.408011  \tTrain acc: 0.849082 \tValidation acc: 0.854200\n",
            "Epoch: 130 \tTraining Loss: 0.416697 \tValidation Loss: 0.400156  \tTrain acc: 0.853966 \tValidation acc: 0.855200\n",
            "Epoch: 140 \tTraining Loss: 0.405189 \tValidation Loss: 0.394136  \tTrain acc: 0.858516 \tValidation acc: 0.859000\n",
            "Epoch: 150 \tTraining Loss: 0.397719 \tValidation Loss: 0.388049  \tTrain acc: 0.860684 \tValidation acc: 0.862600\n",
            "Epoch: 160 \tTraining Loss: 0.388316 \tValidation Loss: 0.382537  \tTrain acc: 0.864099 \tValidation acc: 0.865400\n",
            "Epoch: 170 \tTraining Loss: 0.380042 \tValidation Loss: 0.379037  \tTrain acc: 0.867433 \tValidation acc: 0.867000\n",
            "Epoch: 180 \tTraining Loss: 0.375388 \tValidation Loss: 0.373344  \tTrain acc: 0.868899 \tValidation acc: 0.868400\n",
            "Epoch: 190 \tTraining Loss: 0.367555 \tValidation Loss: 0.369384  \tTrain acc: 0.869433 \tValidation acc: 0.868000\n",
            "Epoch: 200 \tTraining Loss: 0.361270 \tValidation Loss: 0.365698  \tTrain acc: 0.872833 \tValidation acc: 0.868000\n",
            "Epoch: 210 \tTraining Loss: 0.354087 \tValidation Loss: 0.361920  \tTrain acc: 0.876100 \tValidation acc: 0.869000\n",
            "Epoch: 220 \tTraining Loss: 0.347275 \tValidation Loss: 0.359197  \tTrain acc: 0.877434 \tValidation acc: 0.872400\n",
            "Epoch: 230 \tTraining Loss: 0.343769 \tValidation Loss: 0.356093  \tTrain acc: 0.879450 \tValidation acc: 0.872800\n",
            "Epoch: 240 \tTraining Loss: 0.338360 \tValidation Loss: 0.353721  \tTrain acc: 0.881467 \tValidation acc: 0.872000\n",
            "Epoch: 250 \tTraining Loss: 0.331888 \tValidation Loss: 0.351671  \tTrain acc: 0.884733 \tValidation acc: 0.874400\n",
            "Epoch: 260 \tTraining Loss: 0.325951 \tValidation Loss: 0.350920  \tTrain acc: 0.885384 \tValidation acc: 0.875200\n",
            "Epoch: 270 \tTraining Loss: 0.323625 \tValidation Loss: 0.346862  \tTrain acc: 0.886967 \tValidation acc: 0.878400\n",
            "Epoch: 280 \tTraining Loss: 0.318796 \tValidation Loss: 0.344616  \tTrain acc: 0.888684 \tValidation acc: 0.877400\n",
            "Epoch: 290 \tTraining Loss: 0.312758 \tValidation Loss: 0.342778  \tTrain acc: 0.890801 \tValidation acc: 0.879800\n",
            "Epoch: 300 \tTraining Loss: 0.310534 \tValidation Loss: 0.340983  \tTrain acc: 0.891367 \tValidation acc: 0.881200\n",
            "finished, appending losses\n",
            "Processing model  5\n",
            "Epoch: 10 \tTraining Loss: 1.242599 \tValidation Loss: 1.066423  \tTrain acc: 0.508516 \tValidation acc: 0.617800\n",
            "Epoch: 20 \tTraining Loss: 0.892384 \tValidation Loss: 0.750940  \tTrain acc: 0.656934 \tValidation acc: 0.714800\n",
            "Epoch: 30 \tTraining Loss: 0.753723 \tValidation Loss: 0.639528  \tTrain acc: 0.715417 \tValidation acc: 0.759800\n",
            "Epoch: 40 \tTraining Loss: 0.683914 \tValidation Loss: 0.582145  \tTrain acc: 0.748267 \tValidation acc: 0.786000\n",
            "Epoch: 50 \tTraining Loss: 0.631833 \tValidation Loss: 0.541715  \tTrain acc: 0.770916 \tValidation acc: 0.802000\n",
            "Epoch: 60 \tTraining Loss: 0.591942 \tValidation Loss: 0.510817  \tTrain acc: 0.789082 \tValidation acc: 0.813800\n",
            "Epoch: 70 \tTraining Loss: 0.565152 \tValidation Loss: 0.488004  \tTrain acc: 0.801166 \tValidation acc: 0.820400\n",
            "Epoch: 80 \tTraining Loss: 0.540211 \tValidation Loss: 0.471426  \tTrain acc: 0.810866 \tValidation acc: 0.829400\n",
            "Epoch: 90 \tTraining Loss: 0.526114 \tValidation Loss: 0.457700  \tTrain acc: 0.818133 \tValidation acc: 0.835000\n",
            "Epoch: 100 \tTraining Loss: 0.506715 \tValidation Loss: 0.447512  \tTrain acc: 0.824249 \tValidation acc: 0.838800\n",
            "Epoch: 110 \tTraining Loss: 0.493502 \tValidation Loss: 0.437484  \tTrain acc: 0.828782 \tValidation acc: 0.841600\n",
            "Epoch: 120 \tTraining Loss: 0.480881 \tValidation Loss: 0.428849  \tTrain acc: 0.833315 \tValidation acc: 0.845600\n",
            "Epoch: 130 \tTraining Loss: 0.469855 \tValidation Loss: 0.422008  \tTrain acc: 0.835565 \tValidation acc: 0.847400\n",
            "Epoch: 140 \tTraining Loss: 0.461388 \tValidation Loss: 0.415471  \tTrain acc: 0.839666 \tValidation acc: 0.850200\n",
            "Epoch: 150 \tTraining Loss: 0.451382 \tValidation Loss: 0.409556  \tTrain acc: 0.844549 \tValidation acc: 0.854400\n",
            "Epoch: 160 \tTraining Loss: 0.442026 \tValidation Loss: 0.403309  \tTrain acc: 0.848666 \tValidation acc: 0.854600\n",
            "Epoch: 170 \tTraining Loss: 0.430944 \tValidation Loss: 0.398244  \tTrain acc: 0.852733 \tValidation acc: 0.858400\n",
            "Epoch: 180 \tTraining Loss: 0.425332 \tValidation Loss: 0.393855  \tTrain acc: 0.852766 \tValidation acc: 0.860000\n",
            "Epoch: 190 \tTraining Loss: 0.418048 \tValidation Loss: 0.388226  \tTrain acc: 0.857066 \tValidation acc: 0.861800\n",
            "Epoch: 200 \tTraining Loss: 0.410420 \tValidation Loss: 0.384365  \tTrain acc: 0.859116 \tValidation acc: 0.862000\n",
            "Epoch: 210 \tTraining Loss: 0.405710 \tValidation Loss: 0.380771  \tTrain acc: 0.860566 \tValidation acc: 0.864800\n",
            "Epoch: 220 \tTraining Loss: 0.400337 \tValidation Loss: 0.377513  \tTrain acc: 0.863150 \tValidation acc: 0.866000\n",
            "Epoch: 230 \tTraining Loss: 0.391135 \tValidation Loss: 0.373753  \tTrain acc: 0.865217 \tValidation acc: 0.866800\n",
            "Epoch: 240 \tTraining Loss: 0.388327 \tValidation Loss: 0.370715  \tTrain acc: 0.866050 \tValidation acc: 0.866000\n",
            "Epoch: 250 \tTraining Loss: 0.380966 \tValidation Loss: 0.368276  \tTrain acc: 0.868117 \tValidation acc: 0.866000\n",
            "Epoch: 260 \tTraining Loss: 0.375219 \tValidation Loss: 0.366570  \tTrain acc: 0.871500 \tValidation acc: 0.868000\n",
            "Epoch: 270 \tTraining Loss: 0.370323 \tValidation Loss: 0.363879  \tTrain acc: 0.873617 \tValidation acc: 0.869800\n",
            "Epoch: 280 \tTraining Loss: 0.365077 \tValidation Loss: 0.361517  \tTrain acc: 0.873700 \tValidation acc: 0.872400\n",
            "Epoch: 290 \tTraining Loss: 0.364611 \tValidation Loss: 0.358468  \tTrain acc: 0.875200 \tValidation acc: 0.870800\n",
            "Epoch: 300 \tTraining Loss: 0.355175 \tValidation Loss: 0.357325  \tTrain acc: 0.878584 \tValidation acc: 0.872000\n",
            "finished, appending losses\n"
          ],
          "name": "stdout"
        }
      ]
    },
    {
      "cell_type": "code",
      "metadata": {
        "colab": {
          "base_uri": "https://localhost:8080/"
        },
        "id": "eQxqwS51qSUR",
        "outputId": "cf61895b-3000-4325-982d-205b79fc41f7"
      },
      "source": [
        "print('Processing 2 layer')\n",
        "i = 0\n",
        "for model in models_2_layer:\n",
        "  model.apply(weight_reset)\n",
        "  optimizer = torch.optim.SGD(model.parameters(), lr=0.01)\n",
        "  print('Processing model ', i)\n",
        "  i += 1\n",
        "\n",
        "  train_losses = []\n",
        "  train_accs = []\n",
        "\n",
        "  dev_losses = []\n",
        "  dev_accs = []\n",
        "\n",
        "  model.train() # prep model for training\n",
        "\n",
        "  for epoch in range(100):\n",
        "    # monitor training loss and accuracy\n",
        "    train_loss = 0.0\n",
        "    train_acc = 0.0\n",
        "\n",
        "    # monitor validation loss and accuracy\n",
        "    dev_loss = 0.0\n",
        "    dev_acc = 0.0\n",
        "\n",
        "    for images, labels in train_loader:\n",
        "        X = images.view(-1,784)\n",
        "\n",
        "        # clear gradients of optimized variables\n",
        "        optimizer.zero_grad()\n",
        "\n",
        "        # forward pass\n",
        "        output = model(X, 2)\n",
        "        loss = criterion(output, labels)\n",
        "        \n",
        "        result = torch.argmax(output, dim=1)\n",
        "\n",
        "        train_loss+=loss.item()\n",
        "        train_acc+=torch.mean((result==labels).type(torch.float))\n",
        "        \n",
        "        loss.backward()\n",
        "        # update parameters\n",
        "        optimizer.step()\n",
        "    else:\n",
        "        train_loss=train_loss/len(train_loader)\n",
        "        train_acc=train_acc/len(train_loader)\n",
        "        \n",
        "        # disable gradient calculation\n",
        "        with torch.no_grad():\n",
        "            model.eval()\n",
        "            output=model(dev_images, 2)\n",
        "            dev_loss=criterion(output,dev_labels)\n",
        "            model.train()\n",
        "        \n",
        "        result_labels=torch.argmax(output,dim=1)\n",
        "        dev_acc=torch.mean((result_labels==dev_labels).type(torch.float))\n",
        "        \n",
        "        train_losses.append(train_loss)\n",
        "        dev_losses.append(dev_loss.item())\n",
        "        \n",
        "        train_accs.append(train_acc.item())\n",
        "        dev_accs.append(dev_acc.item())\n",
        "        \n",
        "        if (epoch+1) % 10 == 0:\n",
        "          print('Epoch: {} \\tTraining Loss: {:.6f} \\tValidation Loss: {:.6f}  \\tTrain acc: {:.6f} \\tValidation acc: {:.6f}'.format(\n",
        "            epoch+1, \n",
        "            train_loss,\n",
        "            dev_loss,\n",
        "            train_acc,\n",
        "            dev_acc\n",
        "            ))\n",
        "\n",
        "  print('finished, appending losses')\n",
        "  train_losses_all.append(train_losses)\n",
        "  dev_losses_all.append(dev_losses)\n",
        "  train_accs_all.append(train_losses)\n",
        "  dev_accs_all.append(dev_losses)"
      ],
      "execution_count": 35,
      "outputs": [
        {
          "output_type": "stream",
          "text": [
            "Processing 2 layer\n",
            "Processing model  0\n",
            "Epoch: 10 \tTraining Loss: 0.404316 \tValidation Loss: 0.420017  \tTrain acc: 0.855783 \tValidation acc: 0.849400\n",
            "Epoch: 20 \tTraining Loss: 0.335154 \tValidation Loss: 0.376220  \tTrain acc: 0.879434 \tValidation acc: 0.865200\n",
            "Epoch: 30 \tTraining Loss: 0.296041 \tValidation Loss: 0.346117  \tTrain acc: 0.893434 \tValidation acc: 0.880400\n",
            "Epoch: 40 \tTraining Loss: 0.264301 \tValidation Loss: 0.333679  \tTrain acc: 0.904934 \tValidation acc: 0.881600\n",
            "Epoch: 50 \tTraining Loss: 0.237001 \tValidation Loss: 0.324783  \tTrain acc: 0.914700 \tValidation acc: 0.883600\n",
            "Epoch: 60 \tTraining Loss: 0.214317 \tValidation Loss: 0.318578  \tTrain acc: 0.923801 \tValidation acc: 0.887000\n",
            "Epoch: 70 \tTraining Loss: 0.192803 \tValidation Loss: 0.319094  \tTrain acc: 0.931784 \tValidation acc: 0.889400\n",
            "Epoch: 80 \tTraining Loss: 0.171752 \tValidation Loss: 0.317690  \tTrain acc: 0.939750 \tValidation acc: 0.888400\n",
            "Epoch: 90 \tTraining Loss: 0.155830 \tValidation Loss: 0.319856  \tTrain acc: 0.944918 \tValidation acc: 0.895600\n",
            "Epoch: 100 \tTraining Loss: 0.136313 \tValidation Loss: 0.328844  \tTrain acc: 0.952601 \tValidation acc: 0.895200\n",
            "finished, appending losses\n",
            "Processing model  1\n",
            "Epoch: 10 \tTraining Loss: 0.409207 \tValidation Loss: 0.421136  \tTrain acc: 0.854599 \tValidation acc: 0.850600\n",
            "Epoch: 20 \tTraining Loss: 0.341531 \tValidation Loss: 0.374268  \tTrain acc: 0.876900 \tValidation acc: 0.867400\n",
            "Epoch: 30 \tTraining Loss: 0.302144 \tValidation Loss: 0.357466  \tTrain acc: 0.890734 \tValidation acc: 0.873000\n",
            "Epoch: 40 \tTraining Loss: 0.270017 \tValidation Loss: 0.335852  \tTrain acc: 0.902418 \tValidation acc: 0.879000\n",
            "Epoch: 50 \tTraining Loss: 0.242957 \tValidation Loss: 0.330461  \tTrain acc: 0.912351 \tValidation acc: 0.882200\n",
            "Epoch: 60 \tTraining Loss: 0.220521 \tValidation Loss: 0.326528  \tTrain acc: 0.920285 \tValidation acc: 0.885000\n",
            "Epoch: 70 \tTraining Loss: 0.198483 \tValidation Loss: 0.318847  \tTrain acc: 0.929534 \tValidation acc: 0.888000\n",
            "Epoch: 80 \tTraining Loss: 0.178874 \tValidation Loss: 0.323621  \tTrain acc: 0.936251 \tValidation acc: 0.887600\n",
            "Epoch: 90 \tTraining Loss: 0.160239 \tValidation Loss: 0.326000  \tTrain acc: 0.943667 \tValidation acc: 0.890000\n",
            "Epoch: 100 \tTraining Loss: 0.143603 \tValidation Loss: 0.328594  \tTrain acc: 0.948801 \tValidation acc: 0.890400\n",
            "finished, appending losses\n",
            "Processing model  2\n",
            "Epoch: 10 \tTraining Loss: 0.417579 \tValidation Loss: 0.424353  \tTrain acc: 0.850566 \tValidation acc: 0.851400\n",
            "Epoch: 20 \tTraining Loss: 0.349372 \tValidation Loss: 0.374964  \tTrain acc: 0.874850 \tValidation acc: 0.867400\n",
            "Epoch: 30 \tTraining Loss: 0.311187 \tValidation Loss: 0.350794  \tTrain acc: 0.888684 \tValidation acc: 0.878200\n",
            "Epoch: 40 \tTraining Loss: 0.281348 \tValidation Loss: 0.341576  \tTrain acc: 0.898318 \tValidation acc: 0.875600\n",
            "Epoch: 50 \tTraining Loss: 0.256018 \tValidation Loss: 0.326928  \tTrain acc: 0.908117 \tValidation acc: 0.884400\n",
            "Epoch: 60 \tTraining Loss: 0.234727 \tValidation Loss: 0.320475  \tTrain acc: 0.916101 \tValidation acc: 0.888600\n",
            "Epoch: 70 \tTraining Loss: 0.216250 \tValidation Loss: 0.321504  \tTrain acc: 0.922334 \tValidation acc: 0.887800\n",
            "Epoch: 80 \tTraining Loss: 0.199325 \tValidation Loss: 0.319987  \tTrain acc: 0.928385 \tValidation acc: 0.889400\n",
            "Epoch: 90 \tTraining Loss: 0.182315 \tValidation Loss: 0.313217  \tTrain acc: 0.935634 \tValidation acc: 0.893000\n",
            "Epoch: 100 \tTraining Loss: 0.168211 \tValidation Loss: 0.320244  \tTrain acc: 0.939601 \tValidation acc: 0.892800\n",
            "finished, appending losses\n",
            "Processing model  3\n",
            "Epoch: 10 \tTraining Loss: 0.429733 \tValidation Loss: 0.427848  \tTrain acc: 0.846466 \tValidation acc: 0.849600\n",
            "Epoch: 20 \tTraining Loss: 0.356984 \tValidation Loss: 0.381149  \tTrain acc: 0.871083 \tValidation acc: 0.861200\n",
            "Epoch: 30 \tTraining Loss: 0.316401 \tValidation Loss: 0.351339  \tTrain acc: 0.886817 \tValidation acc: 0.874200\n",
            "Epoch: 40 \tTraining Loss: 0.284952 \tValidation Loss: 0.337036  \tTrain acc: 0.896917 \tValidation acc: 0.880600\n",
            "Epoch: 50 \tTraining Loss: 0.262129 \tValidation Loss: 0.326698  \tTrain acc: 0.905884 \tValidation acc: 0.883000\n",
            "Epoch: 60 \tTraining Loss: 0.239840 \tValidation Loss: 0.324888  \tTrain acc: 0.914517 \tValidation acc: 0.885600\n",
            "Epoch: 70 \tTraining Loss: 0.221245 \tValidation Loss: 0.322661  \tTrain acc: 0.920118 \tValidation acc: 0.886800\n",
            "Epoch: 80 \tTraining Loss: 0.203538 \tValidation Loss: 0.321613  \tTrain acc: 0.927451 \tValidation acc: 0.889400\n",
            "Epoch: 90 \tTraining Loss: 0.187550 \tValidation Loss: 0.317967  \tTrain acc: 0.932868 \tValidation acc: 0.889000\n",
            "Epoch: 100 \tTraining Loss: 0.171686 \tValidation Loss: 0.319223  \tTrain acc: 0.937668 \tValidation acc: 0.894400\n",
            "finished, appending losses\n",
            "Processing model  4\n",
            "Epoch: 10 \tTraining Loss: 0.438015 \tValidation Loss: 0.433367  \tTrain acc: 0.843466 \tValidation acc: 0.843000\n",
            "Epoch: 20 \tTraining Loss: 0.367740 \tValidation Loss: 0.380859  \tTrain acc: 0.868650 \tValidation acc: 0.861600\n",
            "Epoch: 30 \tTraining Loss: 0.326567 \tValidation Loss: 0.357703  \tTrain acc: 0.882817 \tValidation acc: 0.870600\n",
            "Epoch: 40 \tTraining Loss: 0.298800 \tValidation Loss: 0.343671  \tTrain acc: 0.892850 \tValidation acc: 0.876200\n",
            "Epoch: 50 \tTraining Loss: 0.277543 \tValidation Loss: 0.334077  \tTrain acc: 0.900567 \tValidation acc: 0.880800\n",
            "Epoch: 60 \tTraining Loss: 0.258480 \tValidation Loss: 0.328789  \tTrain acc: 0.906918 \tValidation acc: 0.880000\n",
            "Epoch: 70 \tTraining Loss: 0.242279 \tValidation Loss: 0.323656  \tTrain acc: 0.912851 \tValidation acc: 0.885400\n",
            "Epoch: 80 \tTraining Loss: 0.225720 \tValidation Loss: 0.320875  \tTrain acc: 0.917951 \tValidation acc: 0.885800\n",
            "Epoch: 90 \tTraining Loss: 0.213444 \tValidation Loss: 0.320253  \tTrain acc: 0.922551 \tValidation acc: 0.887800\n",
            "Epoch: 100 \tTraining Loss: 0.202227 \tValidation Loss: 0.320986  \tTrain acc: 0.927834 \tValidation acc: 0.889000\n",
            "finished, appending losses\n",
            "Processing model  5\n",
            "Epoch: 10 \tTraining Loss: 0.415559 \tValidation Loss: 0.418711  \tTrain acc: 0.852816 \tValidation acc: 0.850000\n",
            "Epoch: 20 \tTraining Loss: 0.346025 \tValidation Loss: 0.371364  \tTrain acc: 0.876717 \tValidation acc: 0.867400\n",
            "Epoch: 30 \tTraining Loss: 0.305774 \tValidation Loss: 0.348132  \tTrain acc: 0.890617 \tValidation acc: 0.875800\n",
            "Epoch: 40 \tTraining Loss: 0.275947 \tValidation Loss: 0.333765  \tTrain acc: 0.901301 \tValidation acc: 0.884000\n",
            "Epoch: 50 \tTraining Loss: 0.252124 \tValidation Loss: 0.327590  \tTrain acc: 0.910101 \tValidation acc: 0.886000\n",
            "Epoch: 60 \tTraining Loss: 0.230136 \tValidation Loss: 0.322966  \tTrain acc: 0.916935 \tValidation acc: 0.887000\n",
            "Epoch: 70 \tTraining Loss: 0.210508 \tValidation Loss: 0.314635  \tTrain acc: 0.925034 \tValidation acc: 0.890400\n",
            "Epoch: 80 \tTraining Loss: 0.192376 \tValidation Loss: 0.311226  \tTrain acc: 0.930968 \tValidation acc: 0.891800\n",
            "Epoch: 90 \tTraining Loss: 0.173316 \tValidation Loss: 0.310835  \tTrain acc: 0.938951 \tValidation acc: 0.893400\n",
            "Epoch: 100 \tTraining Loss: 0.159322 \tValidation Loss: 0.312114  \tTrain acc: 0.943384 \tValidation acc: 0.895000\n",
            "finished, appending losses\n",
            "Processing model  6\n",
            "Epoch: 10 \tTraining Loss: 0.424012 \tValidation Loss: 0.426148  \tTrain acc: 0.847800 \tValidation acc: 0.845400\n",
            "Epoch: 20 \tTraining Loss: 0.355322 \tValidation Loss: 0.375624  \tTrain acc: 0.874084 \tValidation acc: 0.865000\n",
            "Epoch: 30 \tTraining Loss: 0.313140 \tValidation Loss: 0.349935  \tTrain acc: 0.888568 \tValidation acc: 0.875400\n",
            "Epoch: 40 \tTraining Loss: 0.283124 \tValidation Loss: 0.333720  \tTrain acc: 0.897834 \tValidation acc: 0.880400\n",
            "Epoch: 50 \tTraining Loss: 0.258653 \tValidation Loss: 0.325119  \tTrain acc: 0.906400 \tValidation acc: 0.885400\n",
            "Epoch: 60 \tTraining Loss: 0.237676 \tValidation Loss: 0.319381  \tTrain acc: 0.914335 \tValidation acc: 0.885600\n",
            "Epoch: 70 \tTraining Loss: 0.215400 \tValidation Loss: 0.318941  \tTrain acc: 0.923901 \tValidation acc: 0.887600\n",
            "Epoch: 80 \tTraining Loss: 0.200575 \tValidation Loss: 0.315236  \tTrain acc: 0.929401 \tValidation acc: 0.888400\n",
            "Epoch: 90 \tTraining Loss: 0.181187 \tValidation Loss: 0.315068  \tTrain acc: 0.935967 \tValidation acc: 0.891000\n",
            "Epoch: 100 \tTraining Loss: 0.165207 \tValidation Loss: 0.313116  \tTrain acc: 0.941768 \tValidation acc: 0.893400\n",
            "finished, appending losses\n",
            "Processing model  7\n",
            "Epoch: 10 \tTraining Loss: 0.429183 \tValidation Loss: 0.424711  \tTrain acc: 0.845949 \tValidation acc: 0.851600\n",
            "Epoch: 20 \tTraining Loss: 0.360992 \tValidation Loss: 0.379298  \tTrain acc: 0.870134 \tValidation acc: 0.865200\n",
            "Epoch: 30 \tTraining Loss: 0.322662 \tValidation Loss: 0.356390  \tTrain acc: 0.884950 \tValidation acc: 0.872000\n",
            "Epoch: 40 \tTraining Loss: 0.295068 \tValidation Loss: 0.347282  \tTrain acc: 0.894601 \tValidation acc: 0.876800\n",
            "Epoch: 50 \tTraining Loss: 0.270911 \tValidation Loss: 0.333745  \tTrain acc: 0.902384 \tValidation acc: 0.881600\n",
            "Epoch: 60 \tTraining Loss: 0.251505 \tValidation Loss: 0.327516  \tTrain acc: 0.909401 \tValidation acc: 0.885000\n",
            "Epoch: 70 \tTraining Loss: 0.234517 \tValidation Loss: 0.325185  \tTrain acc: 0.915467 \tValidation acc: 0.886200\n",
            "Epoch: 80 \tTraining Loss: 0.217881 \tValidation Loss: 0.321964  \tTrain acc: 0.921551 \tValidation acc: 0.890000\n",
            "Epoch: 90 \tTraining Loss: 0.201520 \tValidation Loss: 0.319314  \tTrain acc: 0.927334 \tValidation acc: 0.891400\n",
            "Epoch: 100 \tTraining Loss: 0.188871 \tValidation Loss: 0.316820  \tTrain acc: 0.931385 \tValidation acc: 0.894800\n",
            "finished, appending losses\n",
            "Processing model  8\n",
            "Epoch: 10 \tTraining Loss: 0.451831 \tValidation Loss: 0.432555  \tTrain acc: 0.839049 \tValidation acc: 0.845600\n",
            "Epoch: 20 \tTraining Loss: 0.376408 \tValidation Loss: 0.379547  \tTrain acc: 0.866483 \tValidation acc: 0.864600\n",
            "Epoch: 30 \tTraining Loss: 0.337758 \tValidation Loss: 0.356373  \tTrain acc: 0.879050 \tValidation acc: 0.870400\n",
            "Epoch: 40 \tTraining Loss: 0.310200 \tValidation Loss: 0.339718  \tTrain acc: 0.890400 \tValidation acc: 0.880200\n",
            "Epoch: 50 \tTraining Loss: 0.284462 \tValidation Loss: 0.329556  \tTrain acc: 0.898101 \tValidation acc: 0.881800\n",
            "Epoch: 60 \tTraining Loss: 0.264168 \tValidation Loss: 0.325812  \tTrain acc: 0.905617 \tValidation acc: 0.883600\n",
            "Epoch: 70 \tTraining Loss: 0.248570 \tValidation Loss: 0.318676  \tTrain acc: 0.911551 \tValidation acc: 0.887800\n",
            "Epoch: 80 \tTraining Loss: 0.231737 \tValidation Loss: 0.316780  \tTrain acc: 0.917185 \tValidation acc: 0.888600\n",
            "Epoch: 90 \tTraining Loss: 0.215549 \tValidation Loss: 0.316954  \tTrain acc: 0.923700 \tValidation acc: 0.889200\n",
            "Epoch: 100 \tTraining Loss: 0.202951 \tValidation Loss: 0.315813  \tTrain acc: 0.927901 \tValidation acc: 0.891600\n",
            "finished, appending losses\n",
            "Processing model  9\n",
            "Epoch: 10 \tTraining Loss: 0.463389 \tValidation Loss: 0.437430  \tTrain acc: 0.835916 \tValidation acc: 0.842800\n",
            "Epoch: 20 \tTraining Loss: 0.388843 \tValidation Loss: 0.386497  \tTrain acc: 0.862650 \tValidation acc: 0.860400\n",
            "Epoch: 30 \tTraining Loss: 0.348879 \tValidation Loss: 0.358735  \tTrain acc: 0.876284 \tValidation acc: 0.870600\n",
            "Epoch: 40 \tTraining Loss: 0.321180 \tValidation Loss: 0.344553  \tTrain acc: 0.885717 \tValidation acc: 0.872600\n",
            "Epoch: 50 \tTraining Loss: 0.299335 \tValidation Loss: 0.337539  \tTrain acc: 0.892284 \tValidation acc: 0.879800\n",
            "Epoch: 60 \tTraining Loss: 0.279014 \tValidation Loss: 0.327421  \tTrain acc: 0.899784 \tValidation acc: 0.885200\n",
            "Epoch: 70 \tTraining Loss: 0.265701 \tValidation Loss: 0.323833  \tTrain acc: 0.905384 \tValidation acc: 0.887200\n",
            "Epoch: 80 \tTraining Loss: 0.251777 \tValidation Loss: 0.322312  \tTrain acc: 0.908585 \tValidation acc: 0.885600\n",
            "Epoch: 90 \tTraining Loss: 0.242253 \tValidation Loss: 0.318713  \tTrain acc: 0.912601 \tValidation acc: 0.887200\n",
            "Epoch: 100 \tTraining Loss: 0.227436 \tValidation Loss: 0.317085  \tTrain acc: 0.917784 \tValidation acc: 0.888800\n",
            "finished, appending losses\n"
          ],
          "name": "stdout"
        }
      ]
    },
    {
      "cell_type": "code",
      "metadata": {
        "colab": {
          "base_uri": "https://localhost:8080/",
          "height": 1000
        },
        "id": "MiaoE5yAOebC",
        "outputId": "e9ce2ab2-fa0f-4bd1-9d87-55a0132f6857"
      },
      "source": [
        "print('Processing 2 layer')\n",
        "i = 0\n",
        "for model in models_2_layer:\n",
        "  model.apply(weight_reset)\n",
        "  optimizer = torch.optim.SGD(model.parameters(), lr=0.01, momentum=0.1)\n",
        "  print('Processing model ', i)\n",
        "  i += 1\n",
        "\n",
        "  train_losses = []\n",
        "  train_accs = []\n",
        "\n",
        "  dev_losses = []\n",
        "  dev_accs = []\n",
        "\n",
        "  model.train() # prep model for training\n",
        "\n",
        "  for epoch in range(100):\n",
        "    # monitor training loss and accuracy\n",
        "    train_loss = 0.0\n",
        "    train_acc = 0.0\n",
        "\n",
        "    # monitor validation loss and accuracy\n",
        "    dev_loss = 0.0\n",
        "    dev_acc = 0.0\n",
        "\n",
        "    for images, labels in train_loader:\n",
        "        X = images.view(-1,784)\n",
        "\n",
        "        # clear gradients of optimized variables\n",
        "        optimizer.zero_grad()\n",
        "\n",
        "        # forward pass\n",
        "        output = model(X, 2)\n",
        "        loss = criterion(output, labels)\n",
        "        \n",
        "        result = torch.argmax(output, dim=1)\n",
        "\n",
        "        train_loss+=loss.item()\n",
        "        train_acc+=torch.mean((result==labels).type(torch.float))\n",
        "        \n",
        "        loss.backward()\n",
        "        # update parameters\n",
        "        optimizer.step()\n",
        "    else:\n",
        "        train_loss=train_loss/len(train_loader)\n",
        "        train_acc=train_acc/len(train_loader)\n",
        "        \n",
        "        # disable gradient calculation\n",
        "        with torch.no_grad():\n",
        "            model.eval()\n",
        "            output=model(dev_images, 2)\n",
        "            dev_loss=criterion(output,dev_labels)\n",
        "            model.train()\n",
        "        \n",
        "        result_labels=torch.argmax(output,dim=1)\n",
        "        dev_acc=torch.mean((result_labels==dev_labels).type(torch.float))\n",
        "        \n",
        "        train_losses.append(train_loss)\n",
        "        dev_losses.append(dev_loss.item())\n",
        "        \n",
        "        train_accs.append(train_acc.item())\n",
        "        dev_accs.append(dev_acc.item())\n",
        "        \n",
        "        if (epoch+1) % 10 == 0:\n",
        "          print('Epoch: {} \\tTraining Loss: {:.6f} \\tValidation Loss: {:.6f}  \\tTrain acc: {:.6f} \\tValidation acc: {:.6f}'.format(\n",
        "            epoch+1, \n",
        "            train_loss,\n",
        "            dev_loss,\n",
        "            train_acc,\n",
        "            dev_acc\n",
        "            ))\n",
        "\n",
        "  print('finished, appending losses')\n",
        "  train_losses_all.append(train_losses)\n",
        "  dev_losses_all.append(dev_losses)\n",
        "  train_accs_all.append(train_losses)\n",
        "  dev_accs_all.append(dev_losses)"
      ],
      "execution_count": 36,
      "outputs": [
        {
          "output_type": "stream",
          "text": [
            "Processing 2 layer\n",
            "Processing model  0\n",
            "Epoch: 10 \tTraining Loss: 0.393419 \tValidation Loss: 0.413535  \tTrain acc: 0.859650 \tValidation acc: 0.852600\n",
            "Epoch: 20 \tTraining Loss: 0.327147 \tValidation Loss: 0.366710  \tTrain acc: 0.882800 \tValidation acc: 0.870400\n",
            "Epoch: 30 \tTraining Loss: 0.286904 \tValidation Loss: 0.344257  \tTrain acc: 0.897184 \tValidation acc: 0.879800\n",
            "Epoch: 40 \tTraining Loss: 0.254174 \tValidation Loss: 0.333108  \tTrain acc: 0.908551 \tValidation acc: 0.881400\n",
            "Epoch: 50 \tTraining Loss: 0.225755 \tValidation Loss: 0.321767  \tTrain acc: 0.918518 \tValidation acc: 0.886200\n",
            "Epoch: 60 \tTraining Loss: 0.200414 \tValidation Loss: 0.320927  \tTrain acc: 0.927951 \tValidation acc: 0.887600\n",
            "Epoch: 70 \tTraining Loss: 0.177568 \tValidation Loss: 0.319211  \tTrain acc: 0.936534 \tValidation acc: 0.890000\n",
            "Epoch: 80 \tTraining Loss: 0.158202 \tValidation Loss: 0.322883  \tTrain acc: 0.944401 \tValidation acc: 0.892000\n",
            "Epoch: 90 \tTraining Loss: 0.139372 \tValidation Loss: 0.327977  \tTrain acc: 0.951184 \tValidation acc: 0.894600\n",
            "Epoch: 100 \tTraining Loss: 0.122456 \tValidation Loss: 0.342738  \tTrain acc: 0.956984 \tValidation acc: 0.891800\n",
            "finished, appending losses\n",
            "Processing model  1\n",
            "Epoch: 10 \tTraining Loss: 0.400042 \tValidation Loss: 0.411847  \tTrain acc: 0.857550 \tValidation acc: 0.853000\n",
            "Epoch: 20 \tTraining Loss: 0.332266 \tValidation Loss: 0.364716  \tTrain acc: 0.879817 \tValidation acc: 0.871000\n",
            "Epoch: 30 \tTraining Loss: 0.288790 \tValidation Loss: 0.344376  \tTrain acc: 0.896368 \tValidation acc: 0.879400\n",
            "Epoch: 40 \tTraining Loss: 0.257453 \tValidation Loss: 0.325394  \tTrain acc: 0.907801 \tValidation acc: 0.886200\n",
            "Epoch: 50 \tTraining Loss: 0.229555 \tValidation Loss: 0.323024  \tTrain acc: 0.917968 \tValidation acc: 0.888400\n",
            "Epoch: 60 \tTraining Loss: 0.205864 \tValidation Loss: 0.320105  \tTrain acc: 0.926517 \tValidation acc: 0.889600\n",
            "Epoch: 70 \tTraining Loss: 0.181848 \tValidation Loss: 0.318155  \tTrain acc: 0.936500 \tValidation acc: 0.888800\n",
            "Epoch: 80 \tTraining Loss: 0.161325 \tValidation Loss: 0.317593  \tTrain acc: 0.942268 \tValidation acc: 0.890000\n",
            "Epoch: 90 \tTraining Loss: 0.145704 \tValidation Loss: 0.325835  \tTrain acc: 0.949401 \tValidation acc: 0.890600\n",
            "Epoch: 100 \tTraining Loss: 0.129335 \tValidation Loss: 0.327365  \tTrain acc: 0.954650 \tValidation acc: 0.896000\n",
            "finished, appending losses\n",
            "Processing model  2\n",
            "Epoch: 10 \tTraining Loss: 0.408899 \tValidation Loss: 0.417623  \tTrain acc: 0.853949 \tValidation acc: 0.852800\n",
            "Epoch: 20 \tTraining Loss: 0.340247 \tValidation Loss: 0.370348  \tTrain acc: 0.877650 \tValidation acc: 0.867400\n",
            "Epoch: 30 \tTraining Loss: 0.300206 \tValidation Loss: 0.345882  \tTrain acc: 0.893117 \tValidation acc: 0.877200\n",
            "Epoch: 40 \tTraining Loss: 0.268280 \tValidation Loss: 0.333500  \tTrain acc: 0.902951 \tValidation acc: 0.883600\n",
            "Epoch: 50 \tTraining Loss: 0.242438 \tValidation Loss: 0.324839  \tTrain acc: 0.912734 \tValidation acc: 0.886200\n",
            "Epoch: 60 \tTraining Loss: 0.220384 \tValidation Loss: 0.324162  \tTrain acc: 0.920534 \tValidation acc: 0.886200\n",
            "Epoch: 70 \tTraining Loss: 0.201392 \tValidation Loss: 0.317467  \tTrain acc: 0.927951 \tValidation acc: 0.887200\n",
            "Epoch: 80 \tTraining Loss: 0.182761 \tValidation Loss: 0.320488  \tTrain acc: 0.934434 \tValidation acc: 0.889400\n",
            "Epoch: 90 \tTraining Loss: 0.165905 \tValidation Loss: 0.323878  \tTrain acc: 0.941351 \tValidation acc: 0.890000\n",
            "Epoch: 100 \tTraining Loss: 0.150543 \tValidation Loss: 0.324744  \tTrain acc: 0.946684 \tValidation acc: 0.892200\n",
            "finished, appending losses\n",
            "Processing model  3\n",
            "Epoch: 10 \tTraining Loss: 0.421266 \tValidation Loss: 0.423674  \tTrain acc: 0.848949 \tValidation acc: 0.851200\n",
            "Epoch: 20 \tTraining Loss: 0.350655 \tValidation Loss: 0.371425  \tTrain acc: 0.874750 \tValidation acc: 0.865800\n",
            "Epoch: 30 \tTraining Loss: 0.308630 \tValidation Loss: 0.345702  \tTrain acc: 0.890884 \tValidation acc: 0.875400\n",
            "Epoch: 40 \tTraining Loss: 0.276115 \tValidation Loss: 0.329354  \tTrain acc: 0.900667 \tValidation acc: 0.880800\n",
            "Epoch: 50 \tTraining Loss: 0.253081 \tValidation Loss: 0.322510  \tTrain acc: 0.909535 \tValidation acc: 0.886000\n",
            "Epoch: 60 \tTraining Loss: 0.229372 \tValidation Loss: 0.321522  \tTrain acc: 0.917318 \tValidation acc: 0.887200\n",
            "Epoch: 70 \tTraining Loss: 0.211857 \tValidation Loss: 0.323362  \tTrain acc: 0.924151 \tValidation acc: 0.888800\n",
            "Epoch: 80 \tTraining Loss: 0.192532 \tValidation Loss: 0.319504  \tTrain acc: 0.930717 \tValidation acc: 0.889600\n",
            "Epoch: 90 \tTraining Loss: 0.177929 \tValidation Loss: 0.314958  \tTrain acc: 0.936534 \tValidation acc: 0.893000\n",
            "Epoch: 100 \tTraining Loss: 0.163786 \tValidation Loss: 0.318763  \tTrain acc: 0.941567 \tValidation acc: 0.894400\n",
            "finished, appending losses\n",
            "Processing model  4\n",
            "Epoch: 10 \tTraining Loss: 0.429685 \tValidation Loss: 0.433426  \tTrain acc: 0.846499 \tValidation acc: 0.846000\n",
            "Epoch: 20 \tTraining Loss: 0.362284 \tValidation Loss: 0.385378  \tTrain acc: 0.869416 \tValidation acc: 0.863200\n",
            "Epoch: 30 \tTraining Loss: 0.324664 \tValidation Loss: 0.355086  \tTrain acc: 0.883350 \tValidation acc: 0.873000\n",
            "Epoch: 40 \tTraining Loss: 0.295621 \tValidation Loss: 0.339587  \tTrain acc: 0.892900 \tValidation acc: 0.879400\n",
            "Epoch: 50 \tTraining Loss: 0.273937 \tValidation Loss: 0.330552  \tTrain acc: 0.901534 \tValidation acc: 0.881800\n",
            "Epoch: 60 \tTraining Loss: 0.253689 \tValidation Loss: 0.321692  \tTrain acc: 0.907817 \tValidation acc: 0.888800\n",
            "Epoch: 70 \tTraining Loss: 0.234579 \tValidation Loss: 0.325194  \tTrain acc: 0.915318 \tValidation acc: 0.889600\n"
          ],
          "name": "stdout"
        },
        {
          "output_type": "error",
          "ename": "KeyboardInterrupt",
          "evalue": "ignored",
          "traceback": [
            "\u001b[0;31m---------------------------------------------------------------------------\u001b[0m",
            "\u001b[0;31mKeyboardInterrupt\u001b[0m                         Traceback (most recent call last)",
            "\u001b[0;32m<ipython-input-36-9ffe7426a38a>\u001b[0m in \u001b[0;36m<module>\u001b[0;34m()\u001b[0m\n\u001b[1;32m     24\u001b[0m     \u001b[0mdev_acc\u001b[0m \u001b[0;34m=\u001b[0m \u001b[0;36m0.0\u001b[0m\u001b[0;34m\u001b[0m\u001b[0;34m\u001b[0m\u001b[0m\n\u001b[1;32m     25\u001b[0m \u001b[0;34m\u001b[0m\u001b[0m\n\u001b[0;32m---> 26\u001b[0;31m     \u001b[0;32mfor\u001b[0m \u001b[0mimages\u001b[0m\u001b[0;34m,\u001b[0m \u001b[0mlabels\u001b[0m \u001b[0;32min\u001b[0m \u001b[0mtrain_loader\u001b[0m\u001b[0;34m:\u001b[0m\u001b[0;34m\u001b[0m\u001b[0;34m\u001b[0m\u001b[0m\n\u001b[0m\u001b[1;32m     27\u001b[0m         \u001b[0mX\u001b[0m \u001b[0;34m=\u001b[0m \u001b[0mimages\u001b[0m\u001b[0;34m.\u001b[0m\u001b[0mview\u001b[0m\u001b[0;34m(\u001b[0m\u001b[0;34m-\u001b[0m\u001b[0;36m1\u001b[0m\u001b[0;34m,\u001b[0m\u001b[0;36m784\u001b[0m\u001b[0;34m)\u001b[0m\u001b[0;34m\u001b[0m\u001b[0;34m\u001b[0m\u001b[0m\n\u001b[1;32m     28\u001b[0m \u001b[0;34m\u001b[0m\u001b[0m\n",
            "\u001b[0;32m/usr/local/lib/python3.6/dist-packages/torch/utils/data/dataloader.py\u001b[0m in \u001b[0;36m__next__\u001b[0;34m(self)\u001b[0m\n\u001b[1;32m    433\u001b[0m         \u001b[0;32mif\u001b[0m \u001b[0mself\u001b[0m\u001b[0;34m.\u001b[0m\u001b[0m_sampler_iter\u001b[0m \u001b[0;32mis\u001b[0m \u001b[0;32mNone\u001b[0m\u001b[0;34m:\u001b[0m\u001b[0;34m\u001b[0m\u001b[0;34m\u001b[0m\u001b[0m\n\u001b[1;32m    434\u001b[0m             \u001b[0mself\u001b[0m\u001b[0;34m.\u001b[0m\u001b[0m_reset\u001b[0m\u001b[0;34m(\u001b[0m\u001b[0;34m)\u001b[0m\u001b[0;34m\u001b[0m\u001b[0;34m\u001b[0m\u001b[0m\n\u001b[0;32m--> 435\u001b[0;31m         \u001b[0mdata\u001b[0m \u001b[0;34m=\u001b[0m \u001b[0mself\u001b[0m\u001b[0;34m.\u001b[0m\u001b[0m_next_data\u001b[0m\u001b[0;34m(\u001b[0m\u001b[0;34m)\u001b[0m\u001b[0;34m\u001b[0m\u001b[0;34m\u001b[0m\u001b[0m\n\u001b[0m\u001b[1;32m    436\u001b[0m         \u001b[0mself\u001b[0m\u001b[0;34m.\u001b[0m\u001b[0m_num_yielded\u001b[0m \u001b[0;34m+=\u001b[0m \u001b[0;36m1\u001b[0m\u001b[0;34m\u001b[0m\u001b[0;34m\u001b[0m\u001b[0m\n\u001b[1;32m    437\u001b[0m         \u001b[0;32mif\u001b[0m \u001b[0mself\u001b[0m\u001b[0;34m.\u001b[0m\u001b[0m_dataset_kind\u001b[0m \u001b[0;34m==\u001b[0m \u001b[0m_DatasetKind\u001b[0m\u001b[0;34m.\u001b[0m\u001b[0mIterable\u001b[0m \u001b[0;32mand\u001b[0m\u001b[0;31m \u001b[0m\u001b[0;31m\\\u001b[0m\u001b[0;34m\u001b[0m\u001b[0;34m\u001b[0m\u001b[0m\n",
            "\u001b[0;32m/usr/local/lib/python3.6/dist-packages/torch/utils/data/dataloader.py\u001b[0m in \u001b[0;36m_next_data\u001b[0;34m(self)\u001b[0m\n\u001b[1;32m    473\u001b[0m     \u001b[0;32mdef\u001b[0m \u001b[0m_next_data\u001b[0m\u001b[0;34m(\u001b[0m\u001b[0mself\u001b[0m\u001b[0;34m)\u001b[0m\u001b[0;34m:\u001b[0m\u001b[0;34m\u001b[0m\u001b[0;34m\u001b[0m\u001b[0m\n\u001b[1;32m    474\u001b[0m         \u001b[0mindex\u001b[0m \u001b[0;34m=\u001b[0m \u001b[0mself\u001b[0m\u001b[0;34m.\u001b[0m\u001b[0m_next_index\u001b[0m\u001b[0;34m(\u001b[0m\u001b[0;34m)\u001b[0m  \u001b[0;31m# may raise StopIteration\u001b[0m\u001b[0;34m\u001b[0m\u001b[0;34m\u001b[0m\u001b[0m\n\u001b[0;32m--> 475\u001b[0;31m         \u001b[0mdata\u001b[0m \u001b[0;34m=\u001b[0m \u001b[0mself\u001b[0m\u001b[0;34m.\u001b[0m\u001b[0m_dataset_fetcher\u001b[0m\u001b[0;34m.\u001b[0m\u001b[0mfetch\u001b[0m\u001b[0;34m(\u001b[0m\u001b[0mindex\u001b[0m\u001b[0;34m)\u001b[0m  \u001b[0;31m# may raise StopIteration\u001b[0m\u001b[0;34m\u001b[0m\u001b[0;34m\u001b[0m\u001b[0m\n\u001b[0m\u001b[1;32m    476\u001b[0m         \u001b[0;32mif\u001b[0m \u001b[0mself\u001b[0m\u001b[0;34m.\u001b[0m\u001b[0m_pin_memory\u001b[0m\u001b[0;34m:\u001b[0m\u001b[0;34m\u001b[0m\u001b[0;34m\u001b[0m\u001b[0m\n\u001b[1;32m    477\u001b[0m             \u001b[0mdata\u001b[0m \u001b[0;34m=\u001b[0m \u001b[0m_utils\u001b[0m\u001b[0;34m.\u001b[0m\u001b[0mpin_memory\u001b[0m\u001b[0;34m.\u001b[0m\u001b[0mpin_memory\u001b[0m\u001b[0;34m(\u001b[0m\u001b[0mdata\u001b[0m\u001b[0;34m)\u001b[0m\u001b[0;34m\u001b[0m\u001b[0;34m\u001b[0m\u001b[0m\n",
            "\u001b[0;32m/usr/local/lib/python3.6/dist-packages/torch/utils/data/_utils/fetch.py\u001b[0m in \u001b[0;36mfetch\u001b[0;34m(self, possibly_batched_index)\u001b[0m\n\u001b[1;32m     42\u001b[0m     \u001b[0;32mdef\u001b[0m \u001b[0mfetch\u001b[0m\u001b[0;34m(\u001b[0m\u001b[0mself\u001b[0m\u001b[0;34m,\u001b[0m \u001b[0mpossibly_batched_index\u001b[0m\u001b[0;34m)\u001b[0m\u001b[0;34m:\u001b[0m\u001b[0;34m\u001b[0m\u001b[0;34m\u001b[0m\u001b[0m\n\u001b[1;32m     43\u001b[0m         \u001b[0;32mif\u001b[0m \u001b[0mself\u001b[0m\u001b[0;34m.\u001b[0m\u001b[0mauto_collation\u001b[0m\u001b[0;34m:\u001b[0m\u001b[0;34m\u001b[0m\u001b[0;34m\u001b[0m\u001b[0m\n\u001b[0;32m---> 44\u001b[0;31m             \u001b[0mdata\u001b[0m \u001b[0;34m=\u001b[0m \u001b[0;34m[\u001b[0m\u001b[0mself\u001b[0m\u001b[0;34m.\u001b[0m\u001b[0mdataset\u001b[0m\u001b[0;34m[\u001b[0m\u001b[0midx\u001b[0m\u001b[0;34m]\u001b[0m \u001b[0;32mfor\u001b[0m \u001b[0midx\u001b[0m \u001b[0;32min\u001b[0m \u001b[0mpossibly_batched_index\u001b[0m\u001b[0;34m]\u001b[0m\u001b[0;34m\u001b[0m\u001b[0;34m\u001b[0m\u001b[0m\n\u001b[0m\u001b[1;32m     45\u001b[0m         \u001b[0;32melse\u001b[0m\u001b[0;34m:\u001b[0m\u001b[0;34m\u001b[0m\u001b[0;34m\u001b[0m\u001b[0m\n\u001b[1;32m     46\u001b[0m             \u001b[0mdata\u001b[0m \u001b[0;34m=\u001b[0m \u001b[0mself\u001b[0m\u001b[0;34m.\u001b[0m\u001b[0mdataset\u001b[0m\u001b[0;34m[\u001b[0m\u001b[0mpossibly_batched_index\u001b[0m\u001b[0;34m]\u001b[0m\u001b[0;34m\u001b[0m\u001b[0;34m\u001b[0m\u001b[0m\n",
            "\u001b[0;32m/usr/local/lib/python3.6/dist-packages/torch/utils/data/_utils/fetch.py\u001b[0m in \u001b[0;36m<listcomp>\u001b[0;34m(.0)\u001b[0m\n\u001b[1;32m     42\u001b[0m     \u001b[0;32mdef\u001b[0m \u001b[0mfetch\u001b[0m\u001b[0;34m(\u001b[0m\u001b[0mself\u001b[0m\u001b[0;34m,\u001b[0m \u001b[0mpossibly_batched_index\u001b[0m\u001b[0;34m)\u001b[0m\u001b[0;34m:\u001b[0m\u001b[0;34m\u001b[0m\u001b[0;34m\u001b[0m\u001b[0m\n\u001b[1;32m     43\u001b[0m         \u001b[0;32mif\u001b[0m \u001b[0mself\u001b[0m\u001b[0;34m.\u001b[0m\u001b[0mauto_collation\u001b[0m\u001b[0;34m:\u001b[0m\u001b[0;34m\u001b[0m\u001b[0;34m\u001b[0m\u001b[0m\n\u001b[0;32m---> 44\u001b[0;31m             \u001b[0mdata\u001b[0m \u001b[0;34m=\u001b[0m \u001b[0;34m[\u001b[0m\u001b[0mself\u001b[0m\u001b[0;34m.\u001b[0m\u001b[0mdataset\u001b[0m\u001b[0;34m[\u001b[0m\u001b[0midx\u001b[0m\u001b[0;34m]\u001b[0m \u001b[0;32mfor\u001b[0m \u001b[0midx\u001b[0m \u001b[0;32min\u001b[0m \u001b[0mpossibly_batched_index\u001b[0m\u001b[0;34m]\u001b[0m\u001b[0;34m\u001b[0m\u001b[0;34m\u001b[0m\u001b[0m\n\u001b[0m\u001b[1;32m     45\u001b[0m         \u001b[0;32melse\u001b[0m\u001b[0;34m:\u001b[0m\u001b[0;34m\u001b[0m\u001b[0;34m\u001b[0m\u001b[0m\n\u001b[1;32m     46\u001b[0m             \u001b[0mdata\u001b[0m \u001b[0;34m=\u001b[0m \u001b[0mself\u001b[0m\u001b[0;34m.\u001b[0m\u001b[0mdataset\u001b[0m\u001b[0;34m[\u001b[0m\u001b[0mpossibly_batched_index\u001b[0m\u001b[0;34m]\u001b[0m\u001b[0;34m\u001b[0m\u001b[0;34m\u001b[0m\u001b[0m\n",
            "\u001b[0;32m/usr/local/lib/python3.6/dist-packages/torchvision/datasets/mnist.py\u001b[0m in \u001b[0;36m__getitem__\u001b[0;34m(self, index)\u001b[0m\n\u001b[1;32m    104\u001b[0m \u001b[0;34m\u001b[0m\u001b[0m\n\u001b[1;32m    105\u001b[0m         \u001b[0;32mif\u001b[0m \u001b[0mself\u001b[0m\u001b[0;34m.\u001b[0m\u001b[0mtransform\u001b[0m \u001b[0;32mis\u001b[0m \u001b[0;32mnot\u001b[0m \u001b[0;32mNone\u001b[0m\u001b[0;34m:\u001b[0m\u001b[0;34m\u001b[0m\u001b[0;34m\u001b[0m\u001b[0m\n\u001b[0;32m--> 106\u001b[0;31m             \u001b[0mimg\u001b[0m \u001b[0;34m=\u001b[0m \u001b[0mself\u001b[0m\u001b[0;34m.\u001b[0m\u001b[0mtransform\u001b[0m\u001b[0;34m(\u001b[0m\u001b[0mimg\u001b[0m\u001b[0;34m)\u001b[0m\u001b[0;34m\u001b[0m\u001b[0;34m\u001b[0m\u001b[0m\n\u001b[0m\u001b[1;32m    107\u001b[0m \u001b[0;34m\u001b[0m\u001b[0m\n\u001b[1;32m    108\u001b[0m         \u001b[0;32mif\u001b[0m \u001b[0mself\u001b[0m\u001b[0;34m.\u001b[0m\u001b[0mtarget_transform\u001b[0m \u001b[0;32mis\u001b[0m \u001b[0;32mnot\u001b[0m \u001b[0;32mNone\u001b[0m\u001b[0;34m:\u001b[0m\u001b[0;34m\u001b[0m\u001b[0;34m\u001b[0m\u001b[0m\n",
            "\u001b[0;32m/usr/local/lib/python3.6/dist-packages/torchvision/transforms/transforms.py\u001b[0m in \u001b[0;36m__call__\u001b[0;34m(self, img)\u001b[0m\n\u001b[1;32m     65\u001b[0m     \u001b[0;32mdef\u001b[0m \u001b[0m__call__\u001b[0m\u001b[0;34m(\u001b[0m\u001b[0mself\u001b[0m\u001b[0;34m,\u001b[0m \u001b[0mimg\u001b[0m\u001b[0;34m)\u001b[0m\u001b[0;34m:\u001b[0m\u001b[0;34m\u001b[0m\u001b[0;34m\u001b[0m\u001b[0m\n\u001b[1;32m     66\u001b[0m         \u001b[0;32mfor\u001b[0m \u001b[0mt\u001b[0m \u001b[0;32min\u001b[0m \u001b[0mself\u001b[0m\u001b[0;34m.\u001b[0m\u001b[0mtransforms\u001b[0m\u001b[0;34m:\u001b[0m\u001b[0;34m\u001b[0m\u001b[0;34m\u001b[0m\u001b[0m\n\u001b[0;32m---> 67\u001b[0;31m             \u001b[0mimg\u001b[0m \u001b[0;34m=\u001b[0m \u001b[0mt\u001b[0m\u001b[0;34m(\u001b[0m\u001b[0mimg\u001b[0m\u001b[0;34m)\u001b[0m\u001b[0;34m\u001b[0m\u001b[0;34m\u001b[0m\u001b[0m\n\u001b[0m\u001b[1;32m     68\u001b[0m         \u001b[0;32mreturn\u001b[0m \u001b[0mimg\u001b[0m\u001b[0;34m\u001b[0m\u001b[0;34m\u001b[0m\u001b[0m\n\u001b[1;32m     69\u001b[0m \u001b[0;34m\u001b[0m\u001b[0m\n",
            "\u001b[0;32m/usr/local/lib/python3.6/dist-packages/torchvision/transforms/transforms.py\u001b[0m in \u001b[0;36m__call__\u001b[0;34m(self, pic)\u001b[0m\n\u001b[1;32m    102\u001b[0m             \u001b[0mTensor\u001b[0m\u001b[0;34m:\u001b[0m \u001b[0mConverted\u001b[0m \u001b[0mimage\u001b[0m\u001b[0;34m.\u001b[0m\u001b[0;34m\u001b[0m\u001b[0;34m\u001b[0m\u001b[0m\n\u001b[1;32m    103\u001b[0m         \"\"\"\n\u001b[0;32m--> 104\u001b[0;31m         \u001b[0;32mreturn\u001b[0m \u001b[0mF\u001b[0m\u001b[0;34m.\u001b[0m\u001b[0mto_tensor\u001b[0m\u001b[0;34m(\u001b[0m\u001b[0mpic\u001b[0m\u001b[0;34m)\u001b[0m\u001b[0;34m\u001b[0m\u001b[0;34m\u001b[0m\u001b[0m\n\u001b[0m\u001b[1;32m    105\u001b[0m \u001b[0;34m\u001b[0m\u001b[0m\n\u001b[1;32m    106\u001b[0m     \u001b[0;32mdef\u001b[0m \u001b[0m__repr__\u001b[0m\u001b[0;34m(\u001b[0m\u001b[0mself\u001b[0m\u001b[0;34m)\u001b[0m\u001b[0;34m:\u001b[0m\u001b[0;34m\u001b[0m\u001b[0;34m\u001b[0m\u001b[0m\n",
            "\u001b[0;32m/usr/local/lib/python3.6/dist-packages/torchvision/transforms/functional.py\u001b[0m in \u001b[0;36mto_tensor\u001b[0;34m(pic)\u001b[0m\n\u001b[1;32m     94\u001b[0m         \u001b[0mimg\u001b[0m \u001b[0;34m=\u001b[0m \u001b[0;36m255\u001b[0m \u001b[0;34m*\u001b[0m \u001b[0mtorch\u001b[0m\u001b[0;34m.\u001b[0m\u001b[0mfrom_numpy\u001b[0m\u001b[0;34m(\u001b[0m\u001b[0mnp\u001b[0m\u001b[0;34m.\u001b[0m\u001b[0marray\u001b[0m\u001b[0;34m(\u001b[0m\u001b[0mpic\u001b[0m\u001b[0;34m,\u001b[0m \u001b[0mnp\u001b[0m\u001b[0;34m.\u001b[0m\u001b[0muint8\u001b[0m\u001b[0;34m,\u001b[0m \u001b[0mcopy\u001b[0m\u001b[0;34m=\u001b[0m\u001b[0;32mFalse\u001b[0m\u001b[0;34m)\u001b[0m\u001b[0;34m)\u001b[0m\u001b[0;34m\u001b[0m\u001b[0;34m\u001b[0m\u001b[0m\n\u001b[1;32m     95\u001b[0m     \u001b[0;32melse\u001b[0m\u001b[0;34m:\u001b[0m\u001b[0;34m\u001b[0m\u001b[0;34m\u001b[0m\u001b[0m\n\u001b[0;32m---> 96\u001b[0;31m         \u001b[0mimg\u001b[0m \u001b[0;34m=\u001b[0m \u001b[0mtorch\u001b[0m\u001b[0;34m.\u001b[0m\u001b[0mByteTensor\u001b[0m\u001b[0;34m(\u001b[0m\u001b[0mtorch\u001b[0m\u001b[0;34m.\u001b[0m\u001b[0mByteStorage\u001b[0m\u001b[0;34m.\u001b[0m\u001b[0mfrom_buffer\u001b[0m\u001b[0;34m(\u001b[0m\u001b[0mpic\u001b[0m\u001b[0;34m.\u001b[0m\u001b[0mtobytes\u001b[0m\u001b[0;34m(\u001b[0m\u001b[0;34m)\u001b[0m\u001b[0;34m)\u001b[0m\u001b[0;34m)\u001b[0m\u001b[0;34m\u001b[0m\u001b[0;34m\u001b[0m\u001b[0m\n\u001b[0m\u001b[1;32m     97\u001b[0m \u001b[0;34m\u001b[0m\u001b[0m\n\u001b[1;32m     98\u001b[0m     \u001b[0mimg\u001b[0m \u001b[0;34m=\u001b[0m \u001b[0mimg\u001b[0m\u001b[0;34m.\u001b[0m\u001b[0mview\u001b[0m\u001b[0;34m(\u001b[0m\u001b[0mpic\u001b[0m\u001b[0;34m.\u001b[0m\u001b[0msize\u001b[0m\u001b[0;34m[\u001b[0m\u001b[0;36m1\u001b[0m\u001b[0;34m]\u001b[0m\u001b[0;34m,\u001b[0m \u001b[0mpic\u001b[0m\u001b[0;34m.\u001b[0m\u001b[0msize\u001b[0m\u001b[0;34m[\u001b[0m\u001b[0;36m0\u001b[0m\u001b[0;34m]\u001b[0m\u001b[0;34m,\u001b[0m \u001b[0mlen\u001b[0m\u001b[0;34m(\u001b[0m\u001b[0mpic\u001b[0m\u001b[0;34m.\u001b[0m\u001b[0mgetbands\u001b[0m\u001b[0;34m(\u001b[0m\u001b[0;34m)\u001b[0m\u001b[0;34m)\u001b[0m\u001b[0;34m)\u001b[0m\u001b[0;34m\u001b[0m\u001b[0;34m\u001b[0m\u001b[0m\n",
            "\u001b[0;31mKeyboardInterrupt\u001b[0m: "
          ]
        }
      ]
    }
  ]
}