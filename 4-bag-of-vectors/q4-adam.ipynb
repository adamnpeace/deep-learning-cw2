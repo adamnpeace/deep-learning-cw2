{
 "cells": [
  {
   "cell_type": "markdown",
   "metadata": {},
   "source": [
    "# 4. Bag Of Vectors Sentiment Analysis"
   ]
  },
  {
   "cell_type": "markdown",
   "metadata": {
    "id": "Qin-3MdvMZIK"
   },
   "source": [
    "## 0. Loading data"
   ]
  },
  {
   "cell_type": "code",
   "execution_count": 1,
   "metadata": {
    "id": "hSqQCDdSesiE"
   },
   "outputs": [],
   "source": [
    "import os, sys, csv, time, string, unicodedata\n",
    "from collections import OrderedDict\n",
    "from copy import deepcopy\n",
    "\n",
    "import numpy as np\n",
    "import matplotlib.pyplot as plt\n",
    "\n",
    "import torch\n",
    "import torch.nn as nn\n",
    "import torch.optim as optim\n",
    "\n",
    "import torchtext as tt\n",
    "\n",
    "device = torch.device(\"cuda:0\" if torch.cuda.is_available() else \"cpu\")"
   ]
  },
  {
   "cell_type": "markdown",
   "metadata": {
    "id": "w6dZkZPVLX8h"
   },
   "source": [
    "First, load train/dev/test data"
   ]
  },
  {
   "cell_type": "code",
   "execution_count": 2,
   "metadata": {
    "id": "tUhoRqaB1xR3"
   },
   "outputs": [],
   "source": [
    "!curl -fsS https://nlp.stanford.edu/sentiment/trainDevTestTrees_PTB.zip -o /tmp/trainDevTestTrees_PTB.zip\n",
    "!unzip -q -o -d ./data /tmp/trainDevTestTrees_PTB.zip\n",
    "!rm -f /tmp/trainDevTestTrees_PTB.zip"
   ]
  },
  {
   "cell_type": "code",
   "execution_count": 3,
   "metadata": {},
   "outputs": [],
   "source": [
    "def get_dataset(path):\n",
    "    dataset = [[0, 0]]\n",
    "    for line in open(path, 'r').readlines():\n",
    "        soup = line.split()\n",
    "        tokens = []\n",
    "        for chunk in soup[2:]:\n",
    "            if not chunk.endswith(\")\"):\n",
    "                continue\n",
    "            tokens.append(chunk.rstrip(')'))\n",
    "        dataset.append([\n",
    "            ' '.join(tokens), \n",
    "            int(soup[0].lstrip('('))])\n",
    "    return dataset\n",
    "\n",
    "with open(\"./data/train.csv\", \"w\") as f:\n",
    "    csv.writer(f).writerows(get_dataset(\"./data/trees/train.txt\"))\n",
    "with open(\"./data/val.csv\", \"w\") as f:\n",
    "    csv.writer(f).writerows(get_dataset(\"./data/trees/dev.txt\"))\n",
    "with open(\"./data/test.csv\", \"w\") as f:\n",
    "    csv.writer(f).writerows(get_dataset(\"./data/trees/test.txt\"))"
   ]
  },
  {
   "cell_type": "code",
   "execution_count": 4,
   "metadata": {},
   "outputs": [
    {
     "name": "stderr",
     "output_type": "stream",
     "text": [
      "/home/dojo/.pyenv/versions/3.8.6/envs/c0090/lib/python3.8/site-packages/torchtext/data/field.py:150: UserWarning: Field class will be retired soon and moved to torchtext.legacy. Please see the most recent release notes for further information.\n",
      "  warnings.warn('{} class will be retired soon and moved to torchtext.legacy. Please see the most recent release notes for further information.'.format(self.__class__.__name__), UserWarning)\n",
      "/home/dojo/.pyenv/versions/3.8.6/envs/c0090/lib/python3.8/site-packages/torchtext/data/field.py:150: UserWarning: LabelField class will be retired soon and moved to torchtext.legacy. Please see the most recent release notes for further information.\n",
      "  warnings.warn('{} class will be retired soon and moved to torchtext.legacy. Please see the most recent release notes for further information.'.format(self.__class__.__name__), UserWarning)\n",
      "/home/dojo/.pyenv/versions/3.8.6/envs/c0090/lib/python3.8/site-packages/torchtext/data/example.py:68: UserWarning: Example class will be retired soon and moved to torchtext.legacy. Please see the most recent release notes for further information.\n",
      "  warnings.warn('Example class will be retired soon and moved to torchtext.legacy. Please see the most recent release notes for further information.', UserWarning)\n",
      "/home/dojo/.pyenv/versions/3.8.6/envs/c0090/lib/python3.8/site-packages/torchtext/data/example.py:78: UserWarning: Example class will be retired soon and moved to torchtext.legacy. Please see the most recent release notes for further information.\n",
      "  warnings.warn('Example class will be retired soon and moved to torchtext.legacy. Please see the most recent release notes for further information.', UserWarning)\n"
     ]
    }
   ],
   "source": [
    "TEXT = tt.data.Field(tokenize = 'spacy')\n",
    "LABEL = tt.data.LabelField()\n",
    "fields = [('Text', TEXT), ('Label', LABEL)]\n",
    "\n",
    "train_data, val_data, test_data = tt.data.TabularDataset.splits(path='./data', \n",
    "                                            format='csv', \n",
    "                                            train='train.csv', \n",
    "                                            validation='val.csv', \n",
    "                                            test='test.csv',\n",
    "                                            fields=fields, \n",
    "                                            skip_header=True)"
   ]
  },
  {
   "cell_type": "markdown",
   "metadata": {
    "id": "w9QbkrM9Mjad"
   },
   "source": [
    "The standard way of loading vectors doesn't work well with colab and Google vectors - first, RAM explodes; second, torchtext is not compatible with their vector types so you'd have to convert it to vector type manually. I avoid this by constructing embedding matrix manually instead."
   ]
  },
  {
   "cell_type": "code",
   "execution_count": 5,
   "metadata": {
    "colab": {
     "base_uri": "https://localhost:8080/"
    },
    "id": "kEVXjGIRMern",
    "outputId": "58106903-e493-4327-a51e-a7747070ac3d"
   },
   "outputs": [],
   "source": [
    "# load pretrained vectors\n",
    "import gensim.downloader as api\n",
    "w2v = api.load('word2vec-google-news-300')"
   ]
  },
  {
   "cell_type": "markdown",
   "metadata": {
    "id": "vK4JiuamMRuc"
   },
   "source": [
    "## 1. Implementing bag of vectors model\n",
    "\n",
    "### 1.0 Building embedding matrix\n",
    "\n",
    "Next, we need to create vocabulary to make up embedding matrix.\n",
    "\n",
    "In the OG version, we would use vectors from the code commented out at the very top of the notebook. Unfortunately, for me google colab RAM explodes when I try to do it, so I had to build this matrix manually.\n",
    "\n",
    "What are we doing?\n",
    "\n",
    "We're using word embeddings - essentially some very smart scientists decided to produce this massive massive dictionary of word vectors, each recording their meaning. Those vectors are called embeddings.\n",
    "\n",
    "With them we can do some cool tricks like calculating embedding['king'] - embedding['man'] (returning, as expected, 'queen' as the most similar matrix).\n",
    "\n",
    "We don't care how the vectors are produced, we just want to use the results. And, of course, Pontus being, well, something, gave us the biggest database that's incompatible with pytorch to work with:)"
   ]
  },
  {
   "cell_type": "code",
   "execution_count": 6,
   "metadata": {
    "colab": {
     "base_uri": "https://localhost:8080/"
    },
    "id": "8d4YJSWLKNx-",
    "outputId": "0cf3ca52-abdf-4621-b554-964d8542a26d"
   },
   "outputs": [
    {
     "data": {
      "text/plain": [
       "torch.Size([17199, 300])"
      ]
     },
     "execution_count": 6,
     "metadata": {},
     "output_type": "execute_result"
    }
   ],
   "source": [
    "TEXT.build_vocab(train_data)\n",
    "\n",
    "LABEL.build_vocab(train_data)\n",
    "\n",
    "embedding_matrix = np.zeros((len(TEXT.vocab), 300))\n",
    "\n",
    "for index,word in enumerate(TEXT.vocab.stoi):\n",
    "    try:\n",
    "        # update embedding matrix using pretrained vectors if defined\n",
    "        embedding_matrix[index] = w2v[word] \n",
    "    except:\n",
    "        # else keep as zero\n",
    "        pass\n",
    "\n",
    "# we want to convert it to a tensor when done\n",
    "em = torch.from_numpy(embedding_matrix)\n",
    "em.size()"
   ]
  },
  {
   "cell_type": "markdown",
   "metadata": {
    "id": "zPuRGcxfMz2Z"
   },
   "source": [
    "### 1.1 Defining the model"
   ]
  },
  {
   "cell_type": "markdown",
   "metadata": {
    "id": "3a7fsdwgW870"
   },
   "source": [
    "We want to get embeddings for each word in a sentence, then corresponding vectors (so say for a sentence 'cat dog' we'd have a shape of 2x300), then we do the pooling to obtain a fixed representation - i.e. no matter how many wods there are in a sentence, we'll have 1x300 resulting vector.\n",
    "\n",
    "Then, we treat this vector as an input to a simple model, e.g. MLP (which turns out is again the hard thing to do cause all normal people use CNNs or at least RNNs)."
   ]
  },
  {
   "cell_type": "code",
   "execution_count": 7,
   "metadata": {
    "id": "wc85yzWtKQo-"
   },
   "outputs": [],
   "source": [
    "class BoVModel(nn.Module):\n",
    "    def __init__(self, \n",
    "                 embedding_matrix, \n",
    "                 freeze_embeddings, \n",
    "                 dropout, \n",
    "                 num_out_class, \n",
    "                 mlp_dims, \n",
    "                 modes):\n",
    "        \"\"\"\n",
    "        Parameters\n",
    "        ----------\n",
    "        embedding_matrix : fully-formed matrix of pretrained word embeddings \n",
    "        freeze_embeddings : boolean, tells if embeddings should stay the same during model fitting\n",
    "        dropout: model dropout rate\n",
    "        num_of_class: output classes number\n",
    "        mlp_dims: list of dimensionalities of hidden layers\n",
    "        modes: list of pooling modes to be applied after an embedding layer (results will be concatenated)\n",
    "        \"\"\"\n",
    "        super(BoVModel, self).__init__()\n",
    "        self.embedding = nn.Embedding.from_pretrained(embedding_matrix, freeze=freeze_embeddings)\n",
    "        self.dropout = nn.Dropout(dropout)\n",
    "        self.mode = modes\n",
    "        self.num_layers = len(mlp_dims) + 1\n",
    "        \n",
    "        # Define MLP structure based on how many layers dimensionalities are provided.\n",
    "        # If none - match from embedding to output.\n",
    "        # Note, input dimension reflects concatenation of pooling outcomes.\n",
    "        sizes = [300] + mlp_dims + [num_out_class]\n",
    "        layers = OrderedDict([])\n",
    "        for i in range(1, len(sizes)):\n",
    "            layers[\"dense\" + str(i)] = nn.Linear(sizes[i-1], sizes[i])\n",
    "            layers[\"relu\" + str(i)] = nn.ReLU()\n",
    "            if i > 1 and i < len(sizes) - 1: # Only apply to middle layers\n",
    "                layers[\"dropout\" + str(i)] = nn.Dropout(dropout)\n",
    "        self.mlp = nn.Sequential(layers)\n",
    "\n",
    "    def forward(self, input):\n",
    "        # First, go through the embedding layer.\n",
    "        x = self.embedding(input)\n",
    "        x_pooled = x\n",
    "        # Next, process all specified poolings and concatenate the results if necessary.\n",
    "        for i in range(len(self.mode)):\n",
    "            if i == 0:\n",
    "                if self.mode[i] == 'min':\n",
    "                    x_pooled = torch.min(x, dim=0).values\n",
    "                elif self.mode[i] == 'max':\n",
    "                    x_pooled = torch.max(x, dim=0).values\n",
    "                elif self.mode[i] == 'mean':\n",
    "                    x_pooled = torch.mean(x, dim=0)\n",
    "                elif self.mode[i] == 'sum':\n",
    "                    x_pooled = torch.sum(x, dim=0)\n",
    "            else:\n",
    "                if self.mode[i] == 'min':\n",
    "                    x_pooled = torch.cat((x_pooled, torch.min(x, dim=0).values), 1)\n",
    "                elif self.mode[i] == 'max':\n",
    "                    x_pooled = torch.cat((x_pooled, torch.max(x, dim=0).values), 1)\n",
    "                elif self.mode[i] == 'mean':\n",
    "                    x_pooled = torch.cat((x_pooled, torch.mean(x, dim=0)), 1)\n",
    "                elif self.mode[i] == 'sum':\n",
    "                    x_pooled = torch.cat((x_pooled, torch.sum(x, dim=0)), 1)\n",
    "        \n",
    "        x = self.mlp(x_pooled)\n",
    "    \n",
    "        return x"
   ]
  },
  {
   "cell_type": "markdown",
   "metadata": {
    "id": "LKrjqT1SQawz"
   },
   "source": [
    "## 1.2 Exploring model variants\n",
    "\n",
    "I did a grid search that processed a total of 352 * 3 models, keeping batch size and optimisation algorithm fixed."
   ]
  },
  {
   "cell_type": "code",
   "execution_count": 8,
   "metadata": {
    "id": "DYE22_GpRJHq"
   },
   "outputs": [],
   "source": [
    "def eval_model(model, data_iter, criterion):\n",
    "    acc, n_elems, loss = 0., 0, 0\n",
    "    model.eval()\n",
    "    with torch.no_grad():\n",
    "        for inputs, targets in data_iter:\n",
    "            outputs = model(inputs).squeeze()\n",
    "            loss += criterion(outputs, targets).item()\n",
    "            acc += (outputs.argmax(axis=1) == targets).sum()\n",
    "            n_elems += targets.numel()\n",
    "    acc /= n_elems\n",
    "    model.train()\n",
    "    return acc.item(), loss / len(data_iter)\n",
    "\n",
    "def show_metrics(model, epoch, best_seen=False):\n",
    "    if best_seen: sys.stdout.write(\"* Epoch \")\n",
    "    else: sys.stdout.write(\"  Epoch \")\n",
    "    print('{:3.0f} | Train loss {:.5f} | Train acc {:.2%} | Val loss {:.5f} | Val acc {:.2%}'\n",
    "            .format(epoch, model.train_losses[epoch], model.train_accs[epoch], \n",
    "                    model.val_losses[epoch], model.val_accs[epoch]))\n",
    "\n",
    "def train(model, train_iter, val_iter, criterion, model_path, n_epochs=300, init_patience=3):    \n",
    "    # Store metrics for the model\n",
    "    model.train_accs = np.zeros(n_epochs)\n",
    "    model.train_losses = np.zeros(n_epochs)\n",
    "    model.val_accs = np.zeros(n_epochs)\n",
    "    model.val_losses = np.zeros(n_epochs)\n",
    "    best_model = deepcopy(model)\n",
    "    \n",
    "    # 300 epochs is chosen from observing that most models converged between 100-200 epochs.\n",
    "    epoch, patience = 0, init_patience\n",
    "    \n",
    "    model.train_accs[epoch], model.train_losses[epoch] = eval_model(model, train_iter, criterion)\n",
    "    model.val_accs[epoch], model.val_losses[epoch] = eval_model(model, val_iter, criterion)\n",
    "    show_metrics(model, epoch)\n",
    "    epoch += 1\n",
    "    \n",
    "    while epoch < n_epochs and patience > 0:\n",
    "        # Prepare model for training.\n",
    "        model.train()\n",
    "        for sentences, labels in train_iter:\n",
    "            model.zero_grad() \n",
    "            out = model(sentences).squeeze() # Forward pass.\n",
    "            loss = criterion(out, labels) # Compute loss with CrossEntropyLoss\n",
    "            loss.backward() # Backprop\n",
    "            optimizer.step() # Update params\n",
    "        model.train_accs[epoch], model.train_losses[epoch] = eval_model(model, train_iter, criterion)\n",
    "        model.val_accs[epoch], model.val_losses[epoch] = eval_model(model, val_iter, criterion)\n",
    "\n",
    "        # Save the best model for later\n",
    "        if epoch > 2 or model.val_losses[epoch] < model.val_losses[:epoch].min():\n",
    "            best_model = deepcopy(model)\n",
    "            best_model.train_accs = model.train_accs[:epoch+1]\n",
    "            best_model.train_losses = model.train_losses[:epoch+1]\n",
    "            best_model.val_accs = model.val_accs[:epoch+1]\n",
    "            best_model.val_losses = model.val_losses[:epoch+1]\n",
    "            show_metrics(model, epoch, best_seen=True)\n",
    "        else: show_metrics(model, epoch)\n",
    "        \n",
    "        # Check for convergence.\n",
    "        if model.val_losses[epoch] > model.val_losses[epoch - 1]: patience -= 1\n",
    "        else: patience = init_patience\n",
    "        \n",
    "        epoch += 1\n",
    "    \n",
    "    # Remove unused epochs\n",
    "    model.train_accs = model.train_accs[:epoch]\n",
    "    model.train_losses = model.train_losses[:epoch]\n",
    "    model.val_accs = model.val_accs[:epoch]\n",
    "    model.val_losses = model.val_losses[:epoch]\n",
    "    \n",
    "    torch.save(best_model, os.path.join(model_path, \"best_model.torchmodel\"))\n",
    "    torch.save(model, os.path.join(model_path, \"final_model.torchmodel\"))\n",
    "    print(\"\"\"*********** DONE **********\\n \n",
    "        Validation accuracy at best epoch {} was {:.2%}. Returning that model.\"\"\"\n",
    "        .format(model.val_losses.argmin(), model.val_accs[model.val_losses.argmin()]))\n",
    "    return best_model"
   ]
  },
  {
   "cell_type": "markdown",
   "metadata": {
    "id": "l96n4XgsPf9S"
   },
   "source": [
    "## 1.3 Training the model.\n",
    "\n",
    "After grid search (see below), the best model is as follows."
   ]
  },
  {
   "cell_type": "code",
   "execution_count": 23,
   "metadata": {},
   "outputs": [],
   "source": [
    "bov_model = BoVModel(\n",
    "    embedding_matrix=em,\n",
    "    freeze_embeddings=True,\n",
    "    dropout=0.2,\n",
    "    num_out_class=5,\n",
    "    mlp_dims=[128, 16],\n",
    "    modes=[\"sum\"],\n",
    ").to(device)"
   ]
  },
  {
   "cell_type": "code",
   "execution_count": 24,
   "metadata": {},
   "outputs": [
    {
     "name": "stdout",
     "output_type": "stream",
     "text": [
      "Directory Exists... Skipping\n",
      "  Epoch   0 | Train loss 1.61269 | Train acc 18.66% | Val loss 1.60777 | Val acc 20.35%\n",
      "* Epoch   1 | Train loss 1.56048 | Train acc 34.41% | Val loss 1.57026 | Val acc 34.24%\n",
      "* Epoch   2 | Train loss 1.50909 | Train acc 40.39% | Val loss 1.51975 | Val acc 39.69%\n",
      "* Epoch   3 | Train loss 1.45569 | Train acc 42.15% | Val loss 1.47301 | Val acc 41.33%\n",
      "* Epoch   4 | Train loss 1.42574 | Train acc 42.97% | Val loss 1.45061 | Val acc 40.33%\n",
      "* Epoch   5 | Train loss 1.39090 | Train acc 43.38% | Val loss 1.42395 | Val acc 41.33%\n",
      "* Epoch   6 | Train loss 1.36099 | Train acc 43.87% | Val loss 1.40126 | Val acc 41.60%\n",
      "* Epoch   7 | Train loss 1.33870 | Train acc 44.23% | Val loss 1.39232 | Val acc 41.69%\n",
      "* Epoch   8 | Train loss 1.32121 | Train acc 44.23% | Val loss 1.37905 | Val acc 41.69%\n",
      "* Epoch   9 | Train loss 1.31028 | Train acc 44.56% | Val loss 1.37176 | Val acc 41.69%\n",
      "* Epoch  10 | Train loss 1.30046 | Train acc 44.87% | Val loss 1.36588 | Val acc 42.23%\n",
      "* Epoch  11 | Train loss 1.28985 | Train acc 45.32% | Val loss 1.36279 | Val acc 42.51%\n",
      "* Epoch  12 | Train loss 1.28420 | Train acc 45.27% | Val loss 1.36580 | Val acc 41.51%\n",
      "* Epoch  13 | Train loss 1.27500 | Train acc 46.24% | Val loss 1.36090 | Val acc 42.33%\n",
      "* Epoch  14 | Train loss 1.26987 | Train acc 46.66% | Val loss 1.35904 | Val acc 42.60%\n",
      "* Epoch  15 | Train loss 1.26239 | Train acc 46.65% | Val loss 1.35340 | Val acc 42.96%\n",
      "* Epoch  16 | Train loss 1.25244 | Train acc 47.25% | Val loss 1.35202 | Val acc 42.96%\n",
      "* Epoch  17 | Train loss 1.25107 | Train acc 46.99% | Val loss 1.34780 | Val acc 43.69%\n",
      "* Epoch  18 | Train loss 1.24426 | Train acc 47.55% | Val loss 1.34689 | Val acc 43.69%\n",
      "* Epoch  19 | Train loss 1.24085 | Train acc 47.64% | Val loss 1.34489 | Val acc 43.05%\n",
      "* Epoch  20 | Train loss 1.23136 | Train acc 47.65% | Val loss 1.34942 | Val acc 43.05%\n",
      "* Epoch  21 | Train loss 1.22598 | Train acc 48.49% | Val loss 1.34593 | Val acc 44.14%\n",
      "* Epoch  22 | Train loss 1.22124 | Train acc 48.76% | Val loss 1.34582 | Val acc 44.32%\n",
      "* Epoch  23 | Train loss 1.21622 | Train acc 49.24% | Val loss 1.34719 | Val acc 43.87%\n",
      "* Epoch  24 | Train loss 1.21063 | Train acc 49.45% | Val loss 1.34395 | Val acc 43.69%\n",
      "* Epoch  25 | Train loss 1.20693 | Train acc 49.30% | Val loss 1.34638 | Val acc 43.60%\n",
      "* Epoch  26 | Train loss 1.20179 | Train acc 49.99% | Val loss 1.34314 | Val acc 43.51%\n",
      "* Epoch  27 | Train loss 1.19670 | Train acc 50.40% | Val loss 1.34306 | Val acc 43.69%\n",
      "* Epoch  28 | Train loss 1.19262 | Train acc 50.41% | Val loss 1.34382 | Val acc 44.14%\n",
      "* Epoch  29 | Train loss 1.18908 | Train acc 51.04% | Val loss 1.34171 | Val acc 43.96%\n",
      "* Epoch  30 | Train loss 1.18622 | Train acc 50.49% | Val loss 1.35277 | Val acc 41.14%\n",
      "* Epoch  31 | Train loss 1.18273 | Train acc 51.42% | Val loss 1.35136 | Val acc 41.96%\n",
      "* Epoch  32 | Train loss 1.17684 | Train acc 51.15% | Val loss 1.34417 | Val acc 43.96%\n",
      "* Epoch  33 | Train loss 1.16897 | Train acc 52.11% | Val loss 1.34436 | Val acc 42.42%\n",
      "* Epoch  34 | Train loss 1.16704 | Train acc 51.39% | Val loss 1.34590 | Val acc 42.51%\n",
      "* Epoch  35 | Train loss 1.16035 | Train acc 52.43% | Val loss 1.34712 | Val acc 42.60%\n",
      "*********** DONE **********\n",
      " \n",
      "        Validation accuracy at best epoch 29 was 43.96%. Returning that model.\n"
     ]
    }
   ],
   "source": [
    "batch_size=64\n",
    "lr = 1e-4\n",
    "optimizer = optim.Adam(filter(lambda p: p.requires_grad, bov_model.parameters()), lr=lr)\n",
    "criterion = nn.CrossEntropyLoss()\n",
    "\n",
    "train_iter, val_iter = tt.data.BucketIterator.splits(datasets=(train_data, val_data),\n",
    "    batch_sizes=(batch_size, batch_size), sort_key=lambda x: len(x.Text),\n",
    "    device=device, sort_within_batch=False)\n",
    "\n",
    "test_iter = tt.data.Iterator(test_data, batch_size=batch_size,\n",
    "    sort_key=lambda x: len(x.Text), device=device, sort_within_batch=False)\n",
    "\n",
    "model_path = \"./models/{}-{}\".format(\"BoV\", time.strftime(\"%m-%d-%H%M\", time.gmtime()))\n",
    "try: os.mkdir(model_path)\n",
    "except FileExistsError: print(\"Directory Exists... Skipping\")\n",
    "    \n",
    "best_model = train(bov_model.double(), train_iter, val_iter, criterion, model_path, n_epochs=300, init_patience=3)\n",
    "final_model = deepcopy(bov_model)"
   ]
  },
  {
   "cell_type": "markdown",
   "metadata": {
    "id": "fXWD5b93YP3l"
   },
   "source": [
    "## 1.4 Loss plot for final model"
   ]
  },
  {
   "cell_type": "code",
   "execution_count": 25,
   "metadata": {
    "colab": {
     "base_uri": "https://localhost:8080/",
     "height": 351
    },
    "id": "z-8S8w9cU0uC",
    "outputId": "cf3fac9f-4b7c-4e8e-e7f6-7d3d6bd936f3"
   },
   "outputs": [
    {
     "data": {
      "image/png": "[encoded data removed]",
      "text/plain": [
       "<Figure size 720x360 with 1 Axes>"
      ]
     },
     "metadata": {
      "needs_background": "light"
     },
     "output_type": "display_data"
    }
   ],
   "source": [
    "plt.figure(figsize=(10,5))\n",
    "plt.plot(final_model.train_losses, label=\"Training loss\")\n",
    "plt.plot(final_model.val_losses, label=\"Validation loss\")\n",
    "plt.axvline(final_model.val_losses.argmin(), linestyle='dotted', color='g',label='Final model')\n",
    "plt.xlabel(\"Epochs\")\n",
    "plt.ylabel(\"Loss\")\n",
    "plt.legend()\n",
    "plt.savefig(os.path.join(model_path, \"losses.png\"))"
   ]
  },
  {
   "cell_type": "code",
   "execution_count": 26,
   "metadata": {
    "colab": {
     "base_uri": "https://localhost:8080/",
     "height": 351
    },
    "id": "3wkrZadFaFdZ",
    "outputId": "b4dc6995-bead-465b-ddd4-42cc6a1e1fab"
   },
   "outputs": [
    {
     "data": {
      "image/png": "[encoded data removed]",
      "text/plain": [
       "<Figure size 720x360 with 1 Axes>"
      ]
     },
     "metadata": {
      "needs_background": "light"
     },
     "output_type": "display_data"
    }
   ],
   "source": [
    "plt.figure(figsize=(10,5))\n",
    "plt.plot(final_model.train_accs, label=\"Training accuracy\")\n",
    "plt.plot(final_model.val_accs, label=\"Validation accuracy\")\n",
    "plt.axvline(final_model.val_losses.argmin(), linestyle='dotted', color='g',label='Final model')\n",
    "plt.xlabel(\"Epochs\")\n",
    "plt.ylabel(\"Accuracy\")\n",
    "plt.legend()\n",
    "plt.savefig(os.path.join(model_path, \"accs.png\"))"
   ]
  },
  {
   "cell_type": "markdown",
   "metadata": {
    "id": "h2-alnBtY0C0"
   },
   "source": [
    "## 1.5 Final accuracies"
   ]
  },
  {
   "cell_type": "code",
   "execution_count": 28,
   "metadata": {
    "colab": {
     "base_uri": "https://localhost:8080/"
    },
    "id": "gGa5RJNXZA5E",
    "outputId": "f95a8330-ffbd-4f9b-ad69-5cb1de63b0c4"
   },
   "outputs": [
    {
     "name": "stdout",
     "output_type": "stream",
     "text": [
      "Training Accuracy: 48.76%\n",
      "Validation Accuracy: 44.32%\n",
      "Test Accuracy: 43.26%\n"
     ]
    }
   ],
   "source": [
    "# Obtain best epoch accuracies and add a newly obtained test set value.\n",
    "test_acc, _ = eval_model(best_model, test_iter, criterion)\n",
    "\n",
    "print(\"Training Accuracy: {:.2%}\".format(best_model.train_accs[best_model.val_accs.argmax()]))\n",
    "print(\"Validation Accuracy: {:.2%}\".format(best_model.val_accs.max()))\n",
    "print(\"Test Accuracy: {:.2%}\".format(test_acc))"
   ]
  },
  {
   "cell_type": "markdown",
   "metadata": {
    "id": "OnhxOr0PZx0x"
   },
   "source": [
    "## 1.6 New sentences classification"
   ]
  },
  {
   "cell_type": "code",
   "execution_count": 166,
   "metadata": {
    "colab": {
     "base_uri": "https://localhost:8080/"
    },
    "id": "FiuKnHO0KkoM",
    "outputId": "8c4b9bbd-bb77-4d8d-9732-b50755f24b86"
   },
   "outputs": [
    {
     "name": "stdout",
     "output_type": "stream",
     "text": [
      "Review 0 - Predicted Rating: 3:\n",
      "  Very well done , from acting to cinematography all first rate.\n",
      "Review 1 - Predicted Rating: 4:\n",
      "  I have seen a lot of terrible movies in my life and this was the worst by far!\n",
      "Review 2 - Predicted Rating: 4:\n",
      "  As far as horror movies go, this is one of the only ones in my life that I felt I wasted my time that I won't get back.\n",
      "Review 3 - Predicted Rating: 0:\n",
      "  Cheap move using Deaf culture as the only interesting feature.\n",
      "Review 4 - Predicted Rating: 3:\n",
      "  honestly amazing, i was literally holding my breath through out the movie, Emily Blunt and John Krasinski were brilliant the whole way.\n"
     ]
    }
   ],
   "source": [
    "# Reviews source: https://www.rottentomatoes.com/m/a_quiet_place_2018/reviews?type=user\n",
    "\n",
    "reviews = [\n",
    "    \"Very well done , from acting to cinematography all first rate.\",\n",
    "    \"I have seen a lot of terrible movies in my life and this was the worst by far!\",\n",
    "    \"As far as horror movies go, this is one of the only ones in my life that I felt I wasted my time that I won't get back.\",\n",
    "    \"Cheap move using Deaf culture as the only interesting feature.\",\n",
    "    \"honestly amazing, i was literally holding my breath through out the movie, Emily Blunt and John Krasinski were brilliant the whole way.\",\n",
    "]\n",
    "\n",
    "field = [('Text', TEXT)]\n",
    "\n",
    "with open(\"./data/examples.csv\", \"w\") as f:\n",
    "    csv.writer(f).writerows([[r] for r in reviews])\n",
    "    \n",
    "example_data = tt.data.TabularDataset(path='./data/examples.csv', \n",
    "                format='csv', fields=field)\n",
    "\n",
    "example_iter = tt.data.Iterator(example_data, batch_size=1, device=device, shuffle=False)\n",
    "\n",
    "best_model.eval()\n",
    "pred_idxs = []\n",
    "with torch.no_grad():\n",
    "    for inputs, _ in example_iter:\n",
    "        outputs = best_model(inputs).squeeze()\n",
    "        pred_idxs_tensor = outputs.argmax(axis=-1)\n",
    "        pred_idxs.append(pred_idxs_tensor.item())\n",
    "\n",
    "for i in range(len(pred_idxs)):\n",
    "    print(\"Review {} - Predicted Rating: {}:\\n  {}\".format(i, pred_idxs[i], reviews[i]))"
   ]
  },
  {
   "cell_type": "code",
   "execution_count": null,
   "metadata": {},
   "outputs": [],
   "source": []
  }
 ],
 "metadata": {
  "colab": {
   "collapsed_sections": [],
   "name": "debugging_is_shit",
   "provenance": []
  },
  "kernelspec": {
   "display_name": "Python 3",
   "language": "python",
   "name": "python3"
  },
  "language_info": {
   "codemirror_mode": {
    "name": "ipython",
    "version": 3
   },
   "file_extension": ".py",
   "mimetype": "text/x-python",
   "name": "python",
   "nbconvert_exporter": "python",
   "pygments_lexer": "ipython3",
   "version": "3.8.6"
  }
 },
 "nbformat": 4,
 "nbformat_minor": 4
}
