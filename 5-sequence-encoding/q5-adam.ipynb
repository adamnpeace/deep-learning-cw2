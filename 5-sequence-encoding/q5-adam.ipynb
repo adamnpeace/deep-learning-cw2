{
 "cells": [
  {
   "cell_type": "markdown",
   "metadata": {},
   "source": [
    "# 5. Bag Of Vectors Sentiment Analysis with Timesteps"
   ]
  },
  {
   "cell_type": "markdown",
   "metadata": {
    "id": "Qin-3MdvMZIK"
   },
   "source": [
    "## 0. Loading data"
   ]
  },
  {
   "cell_type": "code",
   "execution_count": 1,
   "metadata": {
    "id": "hSqQCDdSesiE"
   },
   "outputs": [],
   "source": [
    "import os, sys, csv, time, string, unicodedata\n",
    "from collections import OrderedDict\n",
    "from copy import deepcopy\n",
    "\n",
    "import numpy as np\n",
    "import matplotlib.pyplot as plt\n",
    "\n",
    "import torch\n",
    "import torch.nn as nn\n",
    "import torch.optim as optim\n",
    "\n",
    "import torchtext as tt\n",
    "\n",
    "device = torch.device(\"cuda:0\" if torch.cuda.is_available() else \"cpu\")"
   ]
  },
  {
   "cell_type": "markdown",
   "metadata": {
    "id": "w6dZkZPVLX8h"
   },
   "source": [
    "First, load train/dev/test data"
   ]
  },
  {
   "cell_type": "code",
   "execution_count": 2,
   "metadata": {
    "id": "tUhoRqaB1xR3"
   },
   "outputs": [],
   "source": [
    "!curl -fsS https://nlp.stanford.edu/sentiment/trainDevTestTrees_PTB.zip -o /tmp/trainDevTestTrees_PTB.zip\n",
    "!unzip -q -o -d ./data /tmp/trainDevTestTrees_PTB.zip\n",
    "!rm -f /tmp/trainDevTestTrees_PTB.zip"
   ]
  },
  {
   "cell_type": "code",
   "execution_count": 3,
   "metadata": {},
   "outputs": [],
   "source": [
    "def get_dataset(path):\n",
    "    dataset = [[0, 0]]\n",
    "    for line in open(path, 'r').readlines():\n",
    "        soup = line.split()\n",
    "        tokens = []\n",
    "        for chunk in soup[2:]:\n",
    "            if not chunk.endswith(\")\"):\n",
    "                continue\n",
    "            tokens.append(chunk.rstrip(')'))\n",
    "        dataset.append([\n",
    "            ' '.join(tokens), \n",
    "            int(soup[0].lstrip('('))])\n",
    "    return dataset\n",
    "\n",
    "with open(\"./data/train.csv\", \"w\") as f:\n",
    "    csv.writer(f).writerows(get_dataset(\"./data/trees/train.txt\"))\n",
    "with open(\"./data/val.csv\", \"w\") as f:\n",
    "    csv.writer(f).writerows(get_dataset(\"./data/trees/dev.txt\"))\n",
    "with open(\"./data/test.csv\", \"w\") as f:\n",
    "    csv.writer(f).writerows(get_dataset(\"./data/trees/test.txt\"))"
   ]
  },
  {
   "cell_type": "code",
   "execution_count": 4,
   "metadata": {},
   "outputs": [
    {
     "name": "stderr",
     "output_type": "stream",
     "text": [
      "/home/dojo/.pyenv/versions/3.8.6/envs/c0090/lib/python3.8/site-packages/torchtext/data/field.py:150: UserWarning: Field class will be retired soon and moved to torchtext.legacy. Please see the most recent release notes for further information.\n",
      "  warnings.warn('{} class will be retired soon and moved to torchtext.legacy. Please see the most recent release notes for further information.'.format(self.__class__.__name__), UserWarning)\n",
      "/home/dojo/.pyenv/versions/3.8.6/envs/c0090/lib/python3.8/site-packages/torchtext/data/field.py:150: UserWarning: LabelField class will be retired soon and moved to torchtext.legacy. Please see the most recent release notes for further information.\n",
      "  warnings.warn('{} class will be retired soon and moved to torchtext.legacy. Please see the most recent release notes for further information.'.format(self.__class__.__name__), UserWarning)\n",
      "/home/dojo/.pyenv/versions/3.8.6/envs/c0090/lib/python3.8/site-packages/torchtext/data/example.py:68: UserWarning: Example class will be retired soon and moved to torchtext.legacy. Please see the most recent release notes for further information.\n",
      "  warnings.warn('Example class will be retired soon and moved to torchtext.legacy. Please see the most recent release notes for further information.', UserWarning)\n",
      "/home/dojo/.pyenv/versions/3.8.6/envs/c0090/lib/python3.8/site-packages/torchtext/data/example.py:78: UserWarning: Example class will be retired soon and moved to torchtext.legacy. Please see the most recent release notes for further information.\n",
      "  warnings.warn('Example class will be retired soon and moved to torchtext.legacy. Please see the most recent release notes for further information.', UserWarning)\n"
     ]
    }
   ],
   "source": [
    "TEXT = tt.data.Field(tokenize = 'spacy')\n",
    "LABEL = tt.data.LabelField()\n",
    "fields = [('Text', TEXT), ('Label', LABEL)]\n",
    "\n",
    "train_data, val_data, testds = tt.data.TabularDataset.splits(path='./data', \n",
    "                                            format='csv', \n",
    "                                            train='train.csv', \n",
    "                                            validation='val.csv', \n",
    "                                            test='test.csv',\n",
    "                                            fields=fields, \n",
    "                                            skip_header=True)"
   ]
  },
  {
   "cell_type": "markdown",
   "metadata": {
    "id": "w9QbkrM9Mjad"
   },
   "source": [
    "The standard way of loading vectors doesn't work well with colab and Google vectors - first, RAM explodes; second, torchtext is not compatible with their vector types so you'd have to convert it to vector type manually. I avoid this by constructing embedding matrix manually instead."
   ]
  },
  {
   "cell_type": "code",
   "execution_count": 5,
   "metadata": {
    "colab": {
     "base_uri": "https://localhost:8080/"
    },
    "id": "kEVXjGIRMern",
    "outputId": "58106903-e493-4327-a51e-a7747070ac3d"
   },
   "outputs": [],
   "source": [
    "# load pretrained vectors\n",
    "import gensim.downloader as api\n",
    "w2v = api.load('word2vec-google-news-300')"
   ]
  },
  {
   "cell_type": "markdown",
   "metadata": {
    "id": "vK4JiuamMRuc"
   },
   "source": [
    "## 1. Implementing bag of vectors model\n",
    "\n",
    "### 1.0 Building embedding matrix\n",
    "\n",
    "Next, we need to create vocabulary to make up embedding matrix.\n",
    "\n",
    "In the OG version, we would use vectors from the code commented out at the very top of the notebook. Unfortunately, for me google colab RAM explodes when I try to do it, so I had to build this matrix manually.\n",
    "\n",
    "What are we doing?\n",
    "\n",
    "We're using word embeddings - essentially some very smart scientists decided to produce this massive massive dictionary of word vectors, each recording their meaning. Those vectors are called embeddings.\n",
    "\n",
    "With them we can do some cool tricks like calculating embedding['king'] - embedding['man'] (returning, as expected, 'queen' as the most similar matrix).\n",
    "\n",
    "We don't care how the vectors are produced, we just want to use the results. And, of course, Pontus being, well, something, gave us the biggest database that's incompatible with pytorch to work with:)"
   ]
  },
  {
   "cell_type": "code",
   "execution_count": 6,
   "metadata": {
    "colab": {
     "base_uri": "https://localhost:8080/"
    },
    "id": "8d4YJSWLKNx-",
    "outputId": "0cf3ca52-abdf-4621-b554-964d8542a26d"
   },
   "outputs": [
    {
     "data": {
      "text/plain": [
       "torch.Size([17199, 300])"
      ]
     },
     "execution_count": 6,
     "metadata": {},
     "output_type": "execute_result"
    }
   ],
   "source": [
    "TEXT.build_vocab(train_data)\n",
    "\n",
    "LABEL.build_vocab(train_data)\n",
    "\n",
    "embedding_matrix = np.zeros((len(TEXT.vocab), 300))\n",
    "\n",
    "for index,word in enumerate(TEXT.vocab.stoi):\n",
    "    try:\n",
    "        # update embedding matrix using pretrained vectors if defined\n",
    "        embedding_matrix[index] = w2v[word] \n",
    "    except:\n",
    "        # else keep as zero\n",
    "        pass\n",
    "\n",
    "# we want to convert it to a tensor when done\n",
    "em = torch.from_numpy(embedding_matrix)\n",
    "em.size()"
   ]
  },
  {
   "cell_type": "markdown",
   "metadata": {
    "id": "zPuRGcxfMz2Z"
   },
   "source": [
    "### 1.1 Defining the model"
   ]
  },
  {
   "cell_type": "markdown",
   "metadata": {
    "id": "3a7fsdwgW870"
   },
   "source": [
    "We want to get embeddings for each word in a sentence, then corresponding vectors (so say for a sentence 'cat dog' we'd have a shape of 2x300), then we do the pooling to obtain a fixed representation - i.e. no matter how many wods there are in a sentence, we'll have 1x300 resulting vector.\n",
    "\n",
    "Then, we treat this vector as an input to a simple model, e.g. MLP (which turns out is again the hard thing to do cause all normal people use CNNs or at least RNNs)."
   ]
  },
  {
   "cell_type": "code",
   "execution_count": 7,
   "metadata": {
    "id": "wc85yzWtKQo-"
   },
   "outputs": [],
   "source": [
    "class BoVModel(nn.Module):\n",
    "    def __init__(self, \n",
    "        embedding_matrix, freeze_embeddings, num_out_class,  mlp_dims,\n",
    "        arch=\"vanilla\", dropout=0.5, hidden_size=200):\n",
    "        super(BoVModel, self).__init__()\n",
    "        self.freeze_embeddings = freeze_embeddings\n",
    "        self.arch = arch\n",
    "        self.mlp_dims = mlp_dims\n",
    "        self.num_out_class = num_out_class\n",
    "        self.dropout = nn.Dropout(dropout)\n",
    "        self.hidden_size = hidden_size\n",
    "        \n",
    "        self.embedding = nn.Embedding.from_pretrained(\n",
    "            embedding_matrix, freeze=self.freeze_embeddings)\n",
    "        \n",
    "        if arch == \"vanilla\": self.rnn = nn.RNN(300, self.hidden_size)\n",
    "        elif arch == \"gru\": self.rnn = nn.GRU(300, self.hidden_size)\n",
    "        elif arch == \"lstm\": self.rnn = nn.LSTM(300, self.hidden_size)\n",
    "        \n",
    "        sizes = [self.hidden_size] + self.mlp_dims + [self.num_out_class]\n",
    "        layers = OrderedDict([])\n",
    "        for i in range(1, len(sizes)):\n",
    "            layers[\"dense\" + str(i)] = nn.Linear(sizes[i-1], sizes[i])\n",
    "            layers[\"relu\" + str(i)] = nn.ReLU()\n",
    "            if i > 1 and i < len(sizes) - 1: # Only apply to middle layers\n",
    "                layers[\"dropout\" + str(i)] = nn.Dropout(dropout)\n",
    "        self.mlp = nn.Sequential(layers)\n",
    "\n",
    "    def forward(self, input):\n",
    "        # First, go through the embedding layer.\n",
    "        x = self.embedding(input)\n",
    "        # Then, run embedding through the RNN\n",
    "        outputs, h = self.rnn(x)\n",
    "        \n",
    "        if self.arch == \"lstm\": h = h[0] # Get hidden layer since it is (h, c)\n",
    "        \n",
    "        # Finally, pass the results to MLP.\n",
    "        x = self.mlp(h)\n",
    "        return x"
   ]
  },
  {
   "cell_type": "markdown",
   "metadata": {
    "id": "LKrjqT1SQawz"
   },
   "source": [
    "## 1.2 Exploring model variants\n",
    "\n",
    "I did a grid search that processed a total of 352 * 3 models, keeping batch size and optimisation algorithm fixed."
   ]
  },
  {
   "cell_type": "code",
   "execution_count": 8,
   "metadata": {
    "id": "DYE22_GpRJHq"
   },
   "outputs": [],
   "source": [
    "def eval_model(model, data_iter, criterion):\n",
    "    acc, n_elems, loss = 0., 0, 0\n",
    "    model.eval()\n",
    "    with torch.no_grad():\n",
    "        for inputs, targets in data_iter:\n",
    "            outputs = model(inputs).squeeze()\n",
    "            loss += criterion(outputs, targets).item()\n",
    "            acc += (outputs.argmax(axis=1) == targets).sum()\n",
    "            n_elems += targets.numel()\n",
    "    acc /= n_elems\n",
    "    model.train()\n",
    "    return acc.item(), loss / len(data_iter)\n",
    "\n",
    "def show_metrics(model, epoch, best_seen=False):\n",
    "    if best_seen: sys.stdout.write(\"* Epoch \")\n",
    "    else: sys.stdout.write(\"  Epoch \")\n",
    "    print('{:3.0f} | Train loss {:.5f} | Train acc {:.2%} | Val loss {:.5f} | Val acc {:.2%}'\n",
    "            .format(epoch, model.train_losses[epoch], model.train_accs[epoch], \n",
    "                    model.val_losses[epoch], model.val_accs[epoch]))\n",
    "    \n",
    "def train(model, train_iter, val_iter, criterion, model_path, n_epochs=300, init_patience=3):    \n",
    "    # Store metrics for the model\n",
    "    model.train_accs = np.zeros(n_epochs)\n",
    "    model.train_losses = np.zeros(n_epochs)\n",
    "    model.val_accs = np.zeros(n_epochs)\n",
    "    model.val_losses = np.zeros(n_epochs)\n",
    "    best_model = deepcopy(model)\n",
    "    \n",
    "    # 300 epochs is chosen from observing that most models converged between 100-200 epochs.\n",
    "    epoch, patience = 0, init_patience\n",
    "    \n",
    "    model.train_accs[epoch], model.train_losses[epoch] = eval_model(model, train_iter, criterion)\n",
    "    model.val_accs[epoch], model.val_losses[epoch] = eval_model(model, val_iter, criterion)\n",
    "    show_metrics(model, epoch)\n",
    "    epoch += 1\n",
    "    \n",
    "    while epoch < n_epochs and patience > 0:\n",
    "        # Prepare model for training.\n",
    "        model.train()\n",
    "        for sentences, labels in train_iter:\n",
    "            model.zero_grad() \n",
    "            outputs = model(sentences).squeeze() # Forward pass.\n",
    "            loss = criterion(outputs, labels) # Compute loss with CrossEntropyLoss\n",
    "            loss.backward() # Backprop\n",
    "            optimizer.step() # Update params\n",
    "        \n",
    "        model.train_accs[epoch], model.train_losses[epoch] = eval_model(model, train_iter, criterion)\n",
    "        model.val_accs[epoch], model.val_losses[epoch] = eval_model(model, val_iter, criterion)\n",
    "\n",
    "        # Save the best model for later\n",
    "        if epoch < 2 or model.val_losses[epoch] < model.val_losses[:epoch].min():\n",
    "            best_model = deepcopy(model)\n",
    "            best_model.train_accs = model.train_accs[:epoch+1]\n",
    "            best_model.train_losses = model.train_losses[:epoch+1]\n",
    "            best_model.val_accs = model.val_accs[:epoch+1]\n",
    "            best_model.val_losses = model.val_losses[:epoch+1]\n",
    "            show_metrics(model, epoch, best_seen=True)\n",
    "        else: show_metrics(model, epoch)\n",
    "            \n",
    "        # Check for convergence\n",
    "        if model.val_losses[epoch] > model.val_losses[epoch - 1]: patience -= 1\n",
    "        else: patience = init_patience\n",
    "        \n",
    "        epoch += 1\n",
    "    \n",
    "    # Remove unused epochs\n",
    "    model.train_accs = model.train_accs[:epoch]\n",
    "    model.train_losses = model.train_losses[:epoch]\n",
    "    model.val_accs = model.val_accs[:epoch]\n",
    "    model.val_losses = model.val_losses[:epoch]\n",
    "    \n",
    "    torch.save(best_model, os.path.join(model_path, \"best_model.torchmodel\"))\n",
    "    torch.save(model, os.path.join(model_path, \"final_model.torchmodel\"))\n",
    "    print(\"\"\"*********** DONE **********\\n \n",
    "        Validation accuracy at best epoch {} was {:.2%}. Returning that model.\"\"\"\n",
    "        .format(model.val_losses.argmin(), model.val_accs[model.val_losses.argmin()]))\n",
    "    return best_model"
   ]
  },
  {
   "cell_type": "markdown",
   "metadata": {
    "id": "b3t7ZI69S7hL"
   },
   "source": [
    "## 1.3 Training the model.\n",
    "\n",
    "After grid search (see below), the best model is as follows."
   ]
  },
  {
   "cell_type": "code",
   "execution_count": 9,
   "metadata": {},
   "outputs": [],
   "source": [
    "bov_model = BoVModel(\n",
    "    embedding_matrix=em,\n",
    "    freeze_embeddings=True,\n",
    "    num_out_class=5,\n",
    "    mlp_dims=[128, 16],\n",
    "    arch=\"gru\", # [\"vanilla\"], \"lstm\"\n",
    "    dropout=0.4,\n",
    "    hidden_size=200,\n",
    ").to(device)"
   ]
  },
  {
   "cell_type": "code",
   "execution_count": 10,
   "metadata": {},
   "outputs": [
    {
     "name": "stderr",
     "output_type": "stream",
     "text": [
      "/home/dojo/.pyenv/versions/3.8.6/envs/c0090/lib/python3.8/site-packages/torchtext/data/iterator.py:48: UserWarning: BucketIterator class will be retired soon and moved to torchtext.legacy. Please see the most recent release notes for further information.\n",
      "  warnings.warn('{} class will be retired soon and moved to torchtext.legacy. Please see the most recent release notes for further information.'.format(self.__class__.__name__), UserWarning)\n",
      "/home/dojo/.pyenv/versions/3.8.6/envs/c0090/lib/python3.8/site-packages/torchtext/data/iterator.py:48: UserWarning: Iterator class will be retired soon and moved to torchtext.legacy. Please see the most recent release notes for further information.\n",
      "  warnings.warn('{} class will be retired soon and moved to torchtext.legacy. Please see the most recent release notes for further information.'.format(self.__class__.__name__), UserWarning)\n",
      "/home/dojo/.pyenv/versions/3.8.6/envs/c0090/lib/python3.8/site-packages/torchtext/data/batch.py:23: UserWarning: Batch class will be retired soon and moved to torchtext.legacy. Please see the most recent release notes for further information.\n",
      "  warnings.warn('{} class will be retired soon and moved to torchtext.legacy. Please see the most recent release notes for further information.'.format(self.__class__.__name__), UserWarning)\n"
     ]
    },
    {
     "name": "stdout",
     "output_type": "stream",
     "text": [
      "  Epoch   0 | Train loss 1.62090 | Train acc 12.78% | Val loss 1.61949 | Val acc 12.62%\n",
      "* Epoch   1 | Train loss 1.60476 | Train acc 25.96% | Val loss 1.60334 | Val acc 26.25%\n",
      "* Epoch   2 | Train loss 1.60001 | Train acc 25.96% | Val loss 1.59992 | Val acc 26.25%\n",
      "* Epoch   3 | Train loss 1.60029 | Train acc 25.96% | Val loss 1.59975 | Val acc 26.25%\n",
      "* Epoch   4 | Train loss 1.59966 | Train acc 25.96% | Val loss 1.59886 | Val acc 26.25%\n",
      "* Epoch   5 | Train loss 1.57823 | Train acc 25.96% | Val loss 1.58341 | Val acc 26.25%\n",
      "* Epoch   6 | Train loss 1.58040 | Train acc 26.05% | Val loss 1.58063 | Val acc 27.07%\n",
      "* Epoch   7 | Train loss 1.57065 | Train acc 27.18% | Val loss 1.57497 | Val acc 27.25%\n",
      "  Epoch   8 | Train loss 1.57207 | Train acc 27.26% | Val loss 1.57572 | Val acc 27.70%\n",
      "* Epoch   9 | Train loss 1.56925 | Train acc 27.35% | Val loss 1.57408 | Val acc 30.25%\n",
      "* Epoch  10 | Train loss 1.56359 | Train acc 29.49% | Val loss 1.56926 | Val acc 32.97%\n",
      "* Epoch  11 | Train loss 1.53937 | Train acc 34.35% | Val loss 1.55475 | Val acc 35.33%\n",
      "* Epoch  12 | Train loss 1.52076 | Train acc 39.07% | Val loss 1.55120 | Val acc 34.97%\n",
      "* Epoch  13 | Train loss 1.48044 | Train acc 38.69% | Val loss 1.51871 | Val acc 36.60%\n",
      "  Epoch  14 | Train loss 1.46836 | Train acc 40.98% | Val loss 1.52223 | Val acc 36.42%\n",
      "* Epoch  15 | Train loss 1.46372 | Train acc 41.29% | Val loss 1.51819 | Val acc 36.69%\n",
      "* Epoch  16 | Train loss 1.45103 | Train acc 41.55% | Val loss 1.51493 | Val acc 36.51%\n",
      "* Epoch  17 | Train loss 1.44080 | Train acc 41.74% | Val loss 1.51051 | Val acc 37.06%\n",
      "  Epoch  18 | Train loss 1.45471 | Train acc 41.07% | Val loss 1.52358 | Val acc 34.79%\n",
      "* Epoch  19 | Train loss 1.43066 | Train acc 42.40% | Val loss 1.50340 | Val acc 37.15%\n",
      "* Epoch  20 | Train loss 1.42461 | Train acc 42.90% | Val loss 1.49715 | Val acc 38.42%\n",
      "* Epoch  21 | Train loss 1.41710 | Train acc 42.30% | Val loss 1.49306 | Val acc 37.78%\n",
      "* Epoch  22 | Train loss 1.40899 | Train acc 43.05% | Val loss 1.49157 | Val acc 37.69%\n",
      "* Epoch  23 | Train loss 1.40611 | Train acc 43.27% | Val loss 1.48972 | Val acc 37.24%\n",
      "  Epoch  24 | Train loss 1.40701 | Train acc 43.15% | Val loss 1.49088 | Val acc 37.15%\n",
      "* Epoch  25 | Train loss 1.39745 | Train acc 43.56% | Val loss 1.48163 | Val acc 37.69%\n",
      "* Epoch  26 | Train loss 1.39218 | Train acc 43.87% | Val loss 1.47979 | Val acc 37.51%\n",
      "* Epoch  27 | Train loss 1.38844 | Train acc 44.18% | Val loss 1.47852 | Val acc 38.06%\n",
      "* Epoch  28 | Train loss 1.38551 | Train acc 43.98% | Val loss 1.47700 | Val acc 37.87%\n",
      "* Epoch  29 | Train loss 1.38599 | Train acc 42.67% | Val loss 1.47342 | Val acc 37.15%\n",
      "* Epoch  30 | Train loss 1.38024 | Train acc 43.63% | Val loss 1.46410 | Val acc 39.24%\n",
      "  Epoch  31 | Train loss 1.36966 | Train acc 44.94% | Val loss 1.46660 | Val acc 38.42%\n",
      "* Epoch  32 | Train loss 1.36700 | Train acc 44.49% | Val loss 1.46325 | Val acc 38.33%\n",
      "* Epoch  33 | Train loss 1.38503 | Train acc 43.66% | Val loss 1.45812 | Val acc 40.05%\n",
      "  Epoch  34 | Train loss 1.36711 | Train acc 43.90% | Val loss 1.46274 | Val acc 38.42%\n",
      "* Epoch  35 | Train loss 1.35355 | Train acc 45.56% | Val loss 1.45280 | Val acc 39.60%\n",
      "* Epoch  36 | Train loss 1.34444 | Train acc 45.63% | Val loss 1.45018 | Val acc 40.05%\n",
      "* Epoch  37 | Train loss 1.34794 | Train acc 45.12% | Val loss 1.44713 | Val acc 40.51%\n",
      "* Epoch  38 | Train loss 1.33981 | Train acc 46.00% | Val loss 1.44658 | Val acc 40.78%\n",
      "* Epoch  39 | Train loss 1.33683 | Train acc 45.93% | Val loss 1.44591 | Val acc 40.78%\n",
      "* Epoch  40 | Train loss 1.33929 | Train acc 45.47% | Val loss 1.44205 | Val acc 40.15%\n",
      "  Epoch  41 | Train loss 1.33948 | Train acc 45.53% | Val loss 1.44225 | Val acc 39.96%\n",
      "* Epoch  42 | Train loss 1.32961 | Train acc 46.31% | Val loss 1.43923 | Val acc 40.15%\n",
      "  Epoch  43 | Train loss 1.32844 | Train acc 46.83% | Val loss 1.44108 | Val acc 39.78%\n",
      "* Epoch  44 | Train loss 1.31768 | Train acc 47.04% | Val loss 1.43759 | Val acc 40.05%\n",
      "* Epoch  45 | Train loss 1.31021 | Train acc 47.12% | Val loss 1.43563 | Val acc 40.24%\n",
      "  Epoch  46 | Train loss 1.31197 | Train acc 46.90% | Val loss 1.43750 | Val acc 39.78%\n",
      "* Epoch  47 | Train loss 1.30789 | Train acc 47.47% | Val loss 1.43156 | Val acc 40.87%\n",
      "* Epoch  48 | Train loss 1.30239 | Train acc 47.43% | Val loss 1.42926 | Val acc 40.60%\n",
      "* Epoch  49 | Train loss 1.30362 | Train acc 47.72% | Val loss 1.42905 | Val acc 41.51%\n",
      "  Epoch  50 | Train loss 1.30605 | Train acc 47.52% | Val loss 1.43197 | Val acc 40.42%\n",
      "  Epoch  51 | Train loss 1.29816 | Train acc 47.74% | Val loss 1.42910 | Val acc 41.05%\n",
      "* Epoch  52 | Train loss 1.28919 | Train acc 47.95% | Val loss 1.42862 | Val acc 41.51%\n",
      "* Epoch  53 | Train loss 1.28309 | Train acc 48.31% | Val loss 1.42509 | Val acc 40.87%\n",
      "  Epoch  54 | Train loss 1.27590 | Train acc 48.44% | Val loss 1.42795 | Val acc 40.78%\n",
      "  Epoch  55 | Train loss 1.28301 | Train acc 48.47% | Val loss 1.43006 | Val acc 41.05%\n",
      "  Epoch  56 | Train loss 1.27456 | Train acc 48.47% | Val loss 1.43106 | Val acc 40.24%\n",
      "*********** DONE **********\n",
      " \n",
      "        Validation accuracy at best epoch 53 was 40.87%. Returning that model.\n"
     ]
    }
   ],
   "source": [
    "batch_size=64\n",
    "lr = 1e-4\n",
    "optimizer = optim.Adam(bov_model.parameters(), lr=lr)\n",
    "criterion = nn.CrossEntropyLoss()\n",
    "\n",
    "train_iter, val_iter = tt.data.BucketIterator.splits(datasets=(train_data, val_data),\n",
    "    batch_sizes=(batch_size, batch_size), sort_key=lambda x: len(x.Text),\n",
    "    device=device, sort_within_batch=False)\n",
    "\n",
    "test_iter = tt.data.Iterator(testds, batch_size=batch_size,\n",
    "    sort_key=lambda x: len(x.Text), device=device, sort_within_batch=False)\n",
    "\n",
    "model_path = \"./models/{}-{}\".format(\"BoV\", time.strftime(\"%m-%d-%H%M\", time.gmtime()))\n",
    "try: os.mkdir(model_path)\n",
    "except FileExistsError: print(\"Directory Exists... Skipping\")\n",
    "    \n",
    "best_model = train(bov_model.double(), train_iter, val_iter, criterion, model_path, n_epochs=300, init_patience=3)\n",
    "final_model = deepcopy(bov_model)"
   ]
  },
  {
   "cell_type": "markdown",
   "metadata": {
    "id": "fXWD5b93YP3l"
   },
   "source": [
    "## 1.4 Loss plot for final model"
   ]
  },
  {
   "cell_type": "code",
   "execution_count": 11,
   "metadata": {
    "colab": {
     "base_uri": "https://localhost:8080/",
     "height": 351
    },
    "id": "z-8S8w9cU0uC",
    "outputId": "cf3fac9f-4b7c-4e8e-e7f6-7d3d6bd936f3"
   },
   "outputs": [
    {
     "data": {
      "image/png": "[encoded data removed]",
      "text/plain": [
       "<Figure size 720x360 with 1 Axes>"
      ]
     },
     "metadata": {
      "needs_background": "light"
     },
     "output_type": "display_data"
    }
   ],
   "source": [
    "plt.figure(figsize=(10,5))\n",
    "plt.plot(final_model.train_losses, label=\"Training loss\")\n",
    "plt.plot(final_model.val_losses, label=\"Validation loss\")\n",
    "plt.axvline(final_model.val_losses.argmin(), linestyle='dotted', color='g',label='Final model')\n",
    "plt.xlabel(\"Epochs\")\n",
    "plt.ylabel(\"Loss\")\n",
    "plt.legend()\n",
    "plt.savefig(os.path.join(model_path, \"losses.png\"))"
   ]
  },
  {
   "cell_type": "code",
   "execution_count": 12,
   "metadata": {
    "colab": {
     "base_uri": "https://localhost:8080/",
     "height": 351
    },
    "id": "3wkrZadFaFdZ",
    "outputId": "b4dc6995-bead-465b-ddd4-42cc6a1e1fab"
   },
   "outputs": [
    {
     "data": {
      "image/png": "[encoded data removed]",
      "text/plain": [
       "<Figure size 720x360 with 1 Axes>"
      ]
     },
     "metadata": {
      "needs_background": "light"
     },
     "output_type": "display_data"
    }
   ],
   "source": [
    "plt.figure(figsize=(10,5))\n",
    "plt.plot(final_model.train_accs, label=\"Training accuracy\")\n",
    "plt.plot(final_model.val_accs, label=\"Validation accuracy\")\n",
    "plt.axvline(final_model.val_losses.argmin(), linestyle='dotted', color='g',label='Final model')\n",
    "plt.xlabel(\"Epochs\")\n",
    "plt.ylabel(\"Accuracy\")\n",
    "plt.legend()\n",
    "plt.savefig(os.path.join(model_path, \"accs.png\"))"
   ]
  },
  {
   "cell_type": "markdown",
   "metadata": {
    "id": "h2-alnBtY0C0"
   },
   "source": [
    "## 1.5 Final accuracies"
   ]
  },
  {
   "cell_type": "code",
   "execution_count": 13,
   "metadata": {
    "colab": {
     "base_uri": "https://localhost:8080/"
    },
    "id": "gGa5RJNXZA5E",
    "outputId": "f95a8330-ffbd-4f9b-ad69-5cb1de63b0c4"
   },
   "outputs": [
    {
     "name": "stderr",
     "output_type": "stream",
     "text": [
      "/home/dojo/.pyenv/versions/3.8.6/envs/c0090/lib/python3.8/site-packages/torchtext/data/batch.py:23: UserWarning: Batch class will be retired soon and moved to torchtext.legacy. Please see the most recent release notes for further information.\n",
      "  warnings.warn('{} class will be retired soon and moved to torchtext.legacy. Please see the most recent release notes for further information.'.format(self.__class__.__name__), UserWarning)\n",
      "/home/dojo/.pyenv/versions/3.8.6/envs/c0090/lib/python3.8/site-packages/torch/nn/modules/rnn.py:739: UserWarning: RNN module weights are not part of single contiguous chunk of memory. This means they need to be compacted at every call, possibly greatly increasing memory usage. To compact weights again call flatten_parameters(). (Triggered internally at  /pytorch/aten/src/ATen/native/cudnn/RNN.cpp:775.)\n",
      "  result = _VF.gru(input, hx, self._flat_weights, self.bias, self.num_layers,\n"
     ]
    },
    {
     "name": "stdout",
     "output_type": "stream",
     "text": [
      "Training Accuracy: 47.72%\n",
      "Validation Accuracy: 41.51%\n",
      "Test Accuracy: 40.32%\n"
     ]
    }
   ],
   "source": [
    "# Obtain best epoch accuracies and add a newly obtained test set value.\n",
    "test_acc, _ = eval_model(best_model, test_iter, criterion)\n",
    "\n",
    "print(\"Training Accuracy: {:.2%}\".format(best_model.train_accs[best_model.val_accs.argmax()]))\n",
    "print(\"Validation Accuracy: {:.2%}\".format(best_model.val_accs.max()))\n",
    "print(\"Test Accuracy: {:.2%}\".format(test_acc))"
   ]
  },
  {
   "cell_type": "markdown",
   "metadata": {
    "id": "OnhxOr0PZx0x"
   },
   "source": [
    "## 1.6 New sentences classification"
   ]
  },
  {
   "cell_type": "code",
   "execution_count": 15,
   "metadata": {
    "colab": {
     "base_uri": "https://localhost:8080/"
    },
    "id": "FiuKnHO0KkoM",
    "outputId": "8c4b9bbd-bb77-4d8d-9732-b50755f24b86"
   },
   "outputs": [
    {
     "name": "stdout",
     "output_type": "stream",
     "text": [
      "Review 0 - Predicted Rating: 0:\n",
      "  Very well done , from acting to cinematography all first rate.\n",
      "Review 1 - Predicted Rating: 4:\n",
      "  I have seen a lot of terrible movies in my life and this was the worst by far!\n",
      "Review 2 - Predicted Rating: 4:\n",
      "  As far as horror movies go, this is one of the only ones in my life that I felt I wasted my time that I won't get back.\n",
      "Review 3 - Predicted Rating: 1:\n",
      "  Cheap move using Deaf culture as the only interesting feature.\n",
      "Review 4 - Predicted Rating: 0:\n",
      "  honestly amazing, i was literally holding my breath through out the movie, Emily Blunt and John Krasinski were brilliant the whole way.\n"
     ]
    }
   ],
   "source": [
    "# Reviews source: https://www.rottentomatoes.com/m/a_quiet_place_2018/reviews?type=user\n",
    "\n",
    "reviews = [\n",
    "    \"Very well done , from acting to cinematography all first rate.\",\n",
    "    \"I have seen a lot of terrible movies in my life and this was the worst by far!\",\n",
    "    \"As far as horror movies go, this is one of the only ones in my life that I felt I wasted my time that I won't get back.\",\n",
    "    \"Cheap move using Deaf culture as the only interesting feature.\",\n",
    "    \"honestly amazing, i was literally holding my breath through out the movie, Emily Blunt and John Krasinski were brilliant the whole way.\",\n",
    "]\n",
    "\n",
    "field = [('Text', TEXT)]\n",
    "\n",
    "with open(\"./data/examples.csv\", \"w\") as f:\n",
    "    csv.writer(f).writerows([[r] for r in reviews])\n",
    "    \n",
    "example_data = tt.data.TabularDataset(path='./data/examples.csv', \n",
    "                format='csv', fields=field)\n",
    "\n",
    "example_iter = tt.data.Iterator(example_data, batch_size=1, device=device, shuffle=False)\n",
    "\n",
    "best_model.eval()\n",
    "pred_idxs = []\n",
    "with torch.no_grad():\n",
    "    for inputs, _ in example_iter:\n",
    "        outputs = best_model(inputs).squeeze()\n",
    "        pred_idxs_tensor = outputs.argmax(axis=-1)\n",
    "        pred_idxs.append(pred_idxs_tensor.item())\n",
    "\n",
    "for i in range(len(pred_idxs)):\n",
    "    print(\"Review {} - Predicted Rating: {}:\\n  {}\".format(i, pred_idxs[i], reviews[i]))"
   ]
  },
  {
   "cell_type": "code",
   "execution_count": null,
   "metadata": {
    "id": "kOJIA2zUaZHQ"
   },
   "outputs": [],
   "source": []
  }
 ],
 "metadata": {
  "colab": {
   "collapsed_sections": [],
   "name": "debugging_is_shit",
   "provenance": []
  },
  "kernelspec": {
   "display_name": "Python 3",
   "language": "python",
   "name": "python3"
  },
  "language_info": {
   "codemirror_mode": {
    "name": "ipython",
    "version": 3
   },
   "file_extension": ".py",
   "mimetype": "text/x-python",
   "name": "python",
   "nbconvert_exporter": "python",
   "pygments_lexer": "ipython3",
   "version": "3.8.6"
  }
 },
 "nbformat": 4,
 "nbformat_minor": 4
}
