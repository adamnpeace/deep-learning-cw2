{
 "cells": [
  {
   "cell_type": "markdown",
   "metadata": {},
   "source": [
    "# Q3 - Using Builtin RNN Classes"
   ]
  },
  {
   "cell_type": "code",
   "execution_count": 16,
   "metadata": {},
   "outputs": [],
   "source": [
    "import os, sys, time, string, unicodedata\n",
    "from copy import deepcopy\n",
    "import numpy as np\n",
    "import torch\n",
    "import torch.nn as nn\n",
    "import torch.optim as optim\n",
    "from matplotlib import pyplot as plt\n",
    "%matplotlib inline"
   ]
  },
  {
   "cell_type": "code",
   "execution_count": null,
   "metadata": {},
   "outputs": [],
   "source": [
    "try: os.mkdir(\"./models\")\n",
    "except FileExistsError: print(\"Directory Exists... Skipping\")"
   ]
  },
  {
   "cell_type": "code",
   "execution_count": 4,
   "metadata": {},
   "outputs": [
    {
     "name": "stdout",
     "output_type": "stream",
     "text": [
      "Using GPU\n"
     ]
    }
   ],
   "source": [
    "device = torch.device(\"cpu\")\n",
    "if torch.cuda.is_available: device = torch.device(\"cuda\"); print(\"Using GPU\")"
   ]
  },
  {
   "cell_type": "markdown",
   "metadata": {},
   "source": [
    "# Download and Preprocess Data"
   ]
  },
  {
   "cell_type": "code",
   "execution_count": 5,
   "metadata": {},
   "outputs": [],
   "source": [
    "!curl -fsS https://nlp.stanford.edu/sentiment/trainDevTestTrees_PTB.zip -o /tmp/trainDevTestTrees_PTB.zip\n",
    "!unzip -q -o -d ./data /tmp/trainDevTestTrees_PTB.zip\n",
    "!rm -f /tmp/trainDevTestTrees_PTB.zip"
   ]
  },
  {
   "cell_type": "code",
   "execution_count": 6,
   "metadata": {},
   "outputs": [],
   "source": [
    "def normalize_sentence(s):\n",
    "    replacements = [(\" ,\", \",\"), (\" .\", \".\"), (\" '\", \"'\"), \n",
    "                    (\"\\/\", \"/\"), (\" ;\", \";\"), (\" :\", \":\"),\n",
    "                    (\" %\", \"%\"), (u\"æ\", \"ae\"), (u\"Æ\", \"AE\"), \n",
    "                    (u\"œ\", \"oe\"), (u\"Œ\", \"OE\"), (\"-LRB- \", \"(\"), \n",
    "                    (\" -RRB-\", \")\"), (\"-LRB-\", \"(\"), (\"-RRB-\", \")\"),\n",
    "                    (\" n't\", \"n't\"), (\"`` \", '\"'), (\"``\", '\"'),\n",
    "                    (\"''\", '\"'), (\"` \", \"'\"), (\"$ \", \"$\"),\n",
    "                    (\" !\", \"!\"), (\"\\\\\", \"\"), (\" ?\", \"?\")]\n",
    "    for to_replace, replacement in replacements:\n",
    "        s = s.replace(to_replace, replacement)\n",
    "    return ''.join(\n",
    "        c for c in unicodedata.normalize('NFD', s)\n",
    "        if unicodedata.category(c) != 'Mn'\n",
    "        and c in string.ascii_letters + ' .,;:\\'-#!/\"=&$?|_'\n",
    "    ) # https://stackoverflow.com/a/518232/2809427\n",
    "\n",
    "def get_corpus(path, eol=' '):\n",
    "    corpus = \"\"\n",
    "    with open(path, 'r') as fp:\n",
    "        for line in fp.readlines():\n",
    "            soup = line.split()\n",
    "            tokens = []\n",
    "            for chunk in soup[2:]:\n",
    "                if chunk.endswith(')'):\n",
    "                    tokens.append(chunk.rstrip(')'))\n",
    "            corpus += normalize_sentence(\" \".join(tokens)) + eol\n",
    "    return corpus\n",
    "\n",
    "train_corpus = get_corpus(\"./data/trees/train.txt\")\n",
    "val_corpus = get_corpus(\"./data/trees/dev.txt\")\n",
    "test_corpus = get_corpus(\"./data/trees/test.txt\")"
   ]
  },
  {
   "cell_type": "code",
   "execution_count": 7,
   "metadata": {},
   "outputs": [
    {
     "name": "stdout",
     "output_type": "stream",
     "text": [
      "Train corpus has 67 unique chars.\n"
     ]
    }
   ],
   "source": [
    "chars = list(set(train_corpus))\n",
    "vocab_size = len(chars)\n",
    "char_to_idx = { ch:i for i,ch in enumerate(chars) }\n",
    "idx_to_char = { i:ch for i,ch in enumerate(chars) }\n",
    "print('Train corpus has {} unique chars.'.format(vocab_size))"
   ]
  },
  {
   "cell_type": "code",
   "execution_count": 8,
   "metadata": {},
   "outputs": [],
   "source": [
    "class SSTDataset(torch.utils.data.Dataset):\n",
    "    def __init__(self, corpus, seq_len, vocab_size, device):\n",
    "        self.corpus = corpus\n",
    "        self.seq_len = seq_len\n",
    "        self.vocab_size = vocab_size\n",
    "        self.device = device\n",
    "        self.corpus_len = len(self.corpus)\n",
    "        self.corpus_tensor = torch.tensor([char_to_idx[c] for c in self.corpus]).to(device)\n",
    "        self.corpus_ohe = torch.zeros(self.corpus_len, self.vocab_size).to(device)\n",
    "        for i in range(self.corpus_len):\n",
    "            self.corpus_ohe[i, self.corpus_tensor[i]] = 1\n",
    "        \n",
    "        print('corpus is {} characters long, {} unique chars.'.format(\n",
    "            self.corpus_len, self.vocab_size))\n",
    "    \n",
    "    def __len__(self):\n",
    "        return len(self.corpus) // seq_len\n",
    "    \n",
    "    def __getitem__(self, idx):\n",
    "        if torch.is_tensor(idx):\n",
    "            idx = idx.item()\n",
    "        start = idx * self.seq_len\n",
    "        input = self.corpus_ohe[start:start+self.seq_len]\n",
    "        target = self.corpus_tensor[start+1:start+self.seq_len+1]\n",
    "        return input, target"
   ]
  },
  {
   "cell_type": "code",
   "execution_count": 9,
   "metadata": {},
   "outputs": [
    {
     "name": "stdout",
     "output_type": "stream",
     "text": [
      "corpus is 858720 characters long, 67 unique chars.\n",
      "corpus is 111526 characters long, 67 unique chars.\n",
      "corpus is 222395 characters long, 67 unique chars.\n"
     ]
    }
   ],
   "source": [
    "# Load datasets\n",
    "seq_len = 200\n",
    "train_dataset = SSTDataset(train_corpus, seq_len, vocab_size, device)\n",
    "val_dataset = SSTDataset(val_corpus, seq_len, vocab_size, device)\n",
    "test_dataset = SSTDataset(test_corpus, seq_len, vocab_size, device)"
   ]
  },
  {
   "cell_type": "markdown",
   "metadata": {},
   "source": [
    "# Model Implementation"
   ]
  },
  {
   "cell_type": "code",
   "execution_count": 10,
   "metadata": {},
   "outputs": [],
   "source": [
    "batch_size = 8\n",
    "\n",
    "# Create Data Loaders\n",
    "train_loader = torch.utils.data.DataLoader(train_dataset, \n",
    "                batch_size=batch_size, shuffle=True, drop_last=True)\n",
    "val_loader = torch.utils.data.DataLoader(val_dataset, \n",
    "                batch_size=len(val_dataset), shuffle=True, drop_last=True)\n",
    "test_loader = torch.utils.data.DataLoader(test_dataset, \n",
    "                batch_size=len(test_dataset), shuffle=True, drop_last=True)"
   ]
  },
  {
   "cell_type": "code",
   "execution_count": 11,
   "metadata": {},
   "outputs": [],
   "source": [
    "class RNN(nn.Module):\n",
    "    def __init__(self, vocab_size, hidden_size, arch=\"vanilla\"):\n",
    "        super(RNN, self).__init__()\n",
    "        self.hidden_size = hidden_size\n",
    "        self.arch = arch\n",
    "        \n",
    "        # Select what architecture to use.\n",
    "        # Since we don't need to provide hidden_0 (or cell_0) tensors\n",
    "        # for any of the models, we can use this one class for all 3\n",
    "        if arch == \"vanilla\":\n",
    "            self.rnn = nn.RNN(vocab_size, hidden_size, batch_first=True)\n",
    "        elif arch == \"gru\":\n",
    "            self.rnn = nn.GRU(vocab_size, hidden_size, batch_first=True)\n",
    "        elif arch == \"lstm\":\n",
    "            self.rnn = nn.LSTM(vocab_size, hidden_size, batch_first=True)\n",
    "            \n",
    "        self.fc = nn.Linear(hidden_size, vocab_size)\n",
    "\n",
    "    def forward(self, input):\n",
    "        hs, h_n = self.rnn(input)\n",
    "        outputs = self.fc(hs).squeeze()\n",
    "        outputs = torch.softmax(outputs, axis=-1) # size [batch_size, seq_len, vocab_size]\n",
    "        return outputs, h_n"
   ]
  },
  {
   "cell_type": "markdown",
   "metadata": {},
   "source": [
    "## Define Hyperparameters"
   ]
  },
  {
   "cell_type": "code",
   "execution_count": 27,
   "metadata": {},
   "outputs": [],
   "source": [
    "def eval_model(model, data_iter, criterion):\n",
    "    \"\"\"Evaluate our model\n",
    "    Parameters\n",
    "    ------\n",
    "    model - model to be evaluated\n",
    "    data_iter - data iterator object\n",
    "    criterion - loss function\n",
    "    \n",
    "    Returns\n",
    "    -------\n",
    "    accuracy - the dataset accuracy according to (correct / total)\n",
    "    loss - the dataset loss according to criterion\n",
    "    \"\"\"\n",
    "    acc, n_chars, loss = 0., 0, 0\n",
    "    with torch.no_grad(): # Don't save computation tree\n",
    "        for input_batch, target_batch in data_iter:\n",
    "            outputs, _ = model(input_batch)\n",
    "            for t in range(target_batch.size(1)): # seq len\n",
    "                loss += criterion(torch.log(outputs[:, t]), target_batch[:, t])\n",
    "            loss /= target_batch.size(1) # seq len\n",
    "            acc += torch.sum(outputs.argmax(axis=-1) == target_batch)\n",
    "            n_chars += target_batch.numel()\n",
    "    return acc / n_chars, loss\n",
    "\n",
    "def show_metrics(model, epoch, best_seen=False):\n",
    "    \"\"\"Display the running metrics while training\"\"\"\n",
    "    if best_seen: sys.stdout.write(\"* Epoch \")\n",
    "    else: sys.stdout.write(\"  Epoch \")\n",
    "    print('{:3.0f} | Train loss {:.5f} | Train acc {:.2%} | Val loss {:.5f} | Val acc {:.2%}'\n",
    "            .format(epoch, model.train_losses[epoch], model.train_accs[epoch], \n",
    "                    model.val_losses[epoch], model.val_accs[epoch]))\n",
    "    \n",
    "def train(model, train_iter, val_iter, criterion, model_path, n_epochs=300, init_patience=3):\n",
    "    \"\"\"Train our RNN\n",
    "    Saves the best and final models to file, returns the best model\n",
    "    Parameters\n",
    "    ----------\n",
    "    model - BoV model object\n",
    "    train_iter - train data iterator\n",
    "    val_iter - validation data iterator\n",
    "    criterion - loss function\n",
    "    model_path - directory to store model checkpoints in\n",
    "    n_epochs - max number of epochs\n",
    "    init_patience - max number of consecutively worse epochs to allow\n",
    "    \n",
    "    Returns\n",
    "    -------\n",
    "    best_model - a model checkpoint from the best observed model\n",
    "    \"\"\"\n",
    "    # Store metrics for the model\n",
    "    model.train_accs = np.zeros(n_epochs)\n",
    "    model.train_losses = np.zeros(n_epochs)\n",
    "    model.val_accs = np.zeros(n_epochs)\n",
    "    model.val_losses = np.zeros(n_epochs)\n",
    "    best_model = deepcopy(model)\n",
    "    \n",
    "    # 300 epochs is chosen from observing that most models converged between 100-200 epochs.\n",
    "    epoch, patience = 0, init_patience\n",
    "    \n",
    "    model.train_accs[epoch], model.train_losses[epoch] = eval_model(model, train_iter, criterion)\n",
    "    model.val_accs[epoch], model.val_losses[epoch] = eval_model(model, val_iter, criterion)\n",
    "    show_metrics(model, epoch)\n",
    "    epoch += 1\n",
    "    \n",
    "    while epoch < n_epochs and patience > 0:\n",
    "        # Prepare model for training.\n",
    "        model.train()\n",
    "        for input_batch, target_batch in train_iter:\n",
    "            model.zero_grad()\n",
    "            loss = 0\n",
    "            outputs, h_n = model(input_batch) # Forward pass.\n",
    "            for t in range(target_batch.size(1)): # seq len\n",
    "                loss += criterion(torch.log(outputs[:, t]), target_batch[:, t])\n",
    "            loss /= target_batch.size(1) # seq len\n",
    "            loss.backward() # Backprop\n",
    "            optimizer.step() # Update params\n",
    "        \n",
    "        model.eval()\n",
    "        model.train_accs[epoch], model.train_losses[epoch] = eval_model(model, train_iter, criterion)\n",
    "        model.val_accs[epoch], model.val_losses[epoch] = eval_model(model, val_iter, criterion)\n",
    "\n",
    "        # Save the best model for later\n",
    "        if epoch < 2 or model.val_losses[epoch] < model.val_losses[:epoch].min():\n",
    "            best_model = deepcopy(model)\n",
    "            best_model.train_accs = model.train_accs[:epoch+1]\n",
    "            best_model.train_losses = model.train_losses[:epoch+1]\n",
    "            best_model.val_accs = model.val_accs[:epoch+1]\n",
    "            best_model.val_losses = model.val_losses[:epoch+1]\n",
    "            torch.save(best_model, os.path.join(model_path, \"best_model.torchmodel\"))\n",
    "            show_metrics(model, epoch, best_seen=True)\n",
    "        else: show_metrics(model, epoch)\n",
    "            \n",
    "        # Check for convergence\n",
    "        if model.val_losses[epoch] > model.val_losses[epoch - 1]: patience -= 1\n",
    "        else: patience = init_patience\n",
    "        \n",
    "        epoch += 1\n",
    "    \n",
    "    # Remove unused epochs\n",
    "    model.train_accs = model.train_accs[:epoch]\n",
    "    model.train_losses = model.train_losses[:epoch]\n",
    "    model.val_accs = model.val_accs[:epoch]\n",
    "    model.val_losses = model.val_losses[:epoch]\n",
    "    torch.save(model, os.path.join(model_path, \"final_model.torchmodel\"))\n",
    "    \n",
    "    print(\"\"\"*********** DONE **********\\n \n",
    "        Validation accuracy at best epoch {} was {:.2%}. Returning that model.\"\"\"\n",
    "        .format(model.val_losses.argmin(), model.val_accs[model.val_losses.argmin()]))\n",
    "    return best_model"
   ]
  },
  {
   "cell_type": "code",
   "execution_count": 28,
   "metadata": {},
   "outputs": [],
   "source": [
    "# hyperparameters\n",
    "hidden_size = 250 # size of hidden layer\n",
    "lr = 1e-3\n",
    "n_epochs = 100\n",
    "init_patience = 5\n",
    "arch = \"gru\"\n",
    "PATH = \"./models/{}-{}\".format(arch, time.strftime(\"%m-%d-%H%M\", time.gmtime()))\n",
    "\n",
    "rnn = RNN(vocab_size, hidden_size, arch).to(device)\n",
    "criterion = nn.NLLLoss()\n",
    "optimizer = optim.Adam(rnn.parameters(), lr=lr)\n",
    "losses, train_accs, val_accs = np.zeros(n_epochs), np.zeros(n_epochs), np.zeros(n_epochs)\n",
    "epoch, patience = 0, init_patience"
   ]
  },
  {
   "cell_type": "markdown",
   "metadata": {},
   "source": [
    "## Train Model"
   ]
  },
  {
   "cell_type": "code",
   "execution_count": 29,
   "metadata": {},
   "outputs": [
    {
     "name": "stdout",
     "output_type": "stream",
     "text": [
      "Directory Exists... Skipping\n",
      "Model folder: ./models/BoV-12-14-2137\n",
      "  Epoch   0 | Train loss 4.22291 | Train acc 0.31% | Val loss 4.20231 | Val acc 0.35%\n",
      "* Epoch   1 | Train loss 2.21707 | Train acc 35.95% | Val loss 2.22422 | Val acc 35.95%\n",
      "* Epoch   2 | Train loss 1.98723 | Train acc 41.72% | Val loss 2.00388 | Val acc 41.57%\n",
      "* Epoch   3 | Train loss 1.89734 | Train acc 45.84% | Val loss 1.84368 | Val acc 45.71%\n",
      "* Epoch   4 | Train loss 1.79706 | Train acc 49.53% | Val loss 1.73040 | Val acc 49.27%\n",
      "* Epoch   5 | Train loss 1.67091 | Train acc 51.87% | Val loss 1.65666 | Val acc 51.42%\n",
      "* Epoch   6 | Train loss 1.56950 | Train acc 53.50% | Val loss 1.60469 | Val acc 52.88%\n",
      "* Epoch   7 | Train loss 1.52474 | Train acc 54.78% | Val loss 1.56955 | Val acc 53.83%\n",
      "* Epoch   8 | Train loss 1.52539 | Train acc 56.05% | Val loss 1.53692 | Val acc 54.99%\n",
      "* Epoch   9 | Train loss 1.44023 | Train acc 56.75% | Val loss 1.51630 | Val acc 55.39%\n",
      "* Epoch  10 | Train loss 1.45974 | Train acc 57.51% | Val loss 1.49916 | Val acc 55.88%\n",
      "* Epoch  11 | Train loss 1.39887 | Train acc 58.08% | Val loss 1.48379 | Val acc 56.34%\n",
      "* Epoch  12 | Train loss 1.39271 | Train acc 58.65% | Val loss 1.47499 | Val acc 56.59%\n",
      "* Epoch  13 | Train loss 1.32856 | Train acc 59.02% | Val loss 1.46680 | Val acc 56.80%\n",
      "* Epoch  14 | Train loss 1.39218 | Train acc 59.39% | Val loss 1.46040 | Val acc 56.96%\n",
      "* Epoch  15 | Train loss 1.42189 | Train acc 59.87% | Val loss 1.45209 | Val acc 57.22%\n",
      "* Epoch  16 | Train loss 1.29960 | Train acc 60.14% | Val loss 1.44922 | Val acc 57.36%\n",
      "* Epoch  17 | Train loss 1.29893 | Train acc 60.47% | Val loss 1.44455 | Val acc 57.42%\n",
      "* Epoch  18 | Train loss 1.31333 | Train acc 60.91% | Val loss 1.44160 | Val acc 57.65%\n",
      "* Epoch  19 | Train loss 1.36767 | Train acc 61.14% | Val loss 1.43926 | Val acc 57.71%\n",
      "* Epoch  20 | Train loss 1.28563 | Train acc 61.32% | Val loss 1.43826 | Val acc 57.70%\n",
      "* Epoch  21 | Train loss 1.24812 | Train acc 61.68% | Val loss 1.43734 | Val acc 57.91%\n",
      "  Epoch  22 | Train loss 1.26769 | Train acc 61.80% | Val loss 1.43791 | Val acc 57.85%\n",
      "  Epoch  23 | Train loss 1.32958 | Train acc 62.05% | Val loss 1.43751 | Val acc 57.91%\n",
      "* Epoch  24 | Train loss 1.17466 | Train acc 62.31% | Val loss 1.43445 | Val acc 57.99%\n",
      "  Epoch  25 | Train loss 1.22674 | Train acc 62.43% | Val loss 1.43692 | Val acc 57.99%\n",
      "  Epoch  26 | Train loss 1.27053 | Train acc 62.62% | Val loss 1.43821 | Val acc 57.94%\n",
      "* Epoch  27 | Train loss 1.30968 | Train acc 62.85% | Val loss 1.43422 | Val acc 58.11%\n",
      "  Epoch  28 | Train loss 1.25464 | Train acc 62.96% | Val loss 1.43788 | Val acc 58.16%\n",
      "  Epoch  29 | Train loss 1.21619 | Train acc 63.14% | Val loss 1.44341 | Val acc 58.06%\n",
      "  Epoch  30 | Train loss 1.14504 | Train acc 63.23% | Val loss 1.44233 | Val acc 58.01%\n",
      "  Epoch  31 | Train loss 1.18466 | Train acc 63.45% | Val loss 1.44292 | Val acc 58.01%\n",
      "  Epoch  32 | Train loss 1.20361 | Train acc 63.58% | Val loss 1.44593 | Val acc 57.96%\n",
      "  Epoch  33 | Train loss 1.25199 | Train acc 63.80% | Val loss 1.44307 | Val acc 58.17%\n",
      "  Epoch  34 | Train loss 1.12130 | Train acc 63.82% | Val loss 1.44935 | Val acc 57.96%\n",
      "  Epoch  35 | Train loss 1.18634 | Train acc 63.94% | Val loss 1.45235 | Val acc 57.88%\n",
      "  Epoch  36 | Train loss 1.15690 | Train acc 64.10% | Val loss 1.45195 | Val acc 57.91%\n",
      "  Epoch  37 | Train loss 1.18018 | Train acc 64.19% | Val loss 1.45632 | Val acc 58.05%\n",
      "  Epoch  38 | Train loss 1.20530 | Train acc 64.33% | Val loss 1.45370 | Val acc 58.00%\n",
      "  Epoch  39 | Train loss 1.12530 | Train acc 64.47% | Val loss 1.45627 | Val acc 57.95%\n",
      "  Epoch  40 | Train loss 1.12566 | Train acc 64.37% | Val loss 1.45996 | Val acc 57.95%\n",
      "  Epoch  41 | Train loss 1.15369 | Train acc 64.57% | Val loss 1.46248 | Val acc 57.92%\n",
      "  Epoch  42 | Train loss 1.27262 | Train acc 64.64% | Val loss 1.46501 | Val acc 57.83%\n",
      "  Epoch  43 | Train loss 1.14962 | Train acc 64.62% | Val loss 1.47005 | Val acc 57.77%\n",
      "  Epoch  44 | Train loss 1.14199 | Train acc 64.81% | Val loss 1.46717 | Val acc 57.85%\n",
      "  Epoch  45 | Train loss 1.19592 | Train acc 64.93% | Val loss 1.46980 | Val acc 57.89%\n",
      "  Epoch  46 | Train loss 1.11902 | Train acc 64.90% | Val loss 1.47439 | Val acc 57.69%\n",
      "  Epoch  47 | Train loss 1.14771 | Train acc 64.96% | Val loss 1.47646 | Val acc 57.69%\n",
      "  Epoch  48 | Train loss 1.16728 | Train acc 65.06% | Val loss 1.47514 | Val acc 57.64%\n",
      "  Epoch  49 | Train loss 1.15979 | Train acc 65.20% | Val loss 1.47619 | Val acc 57.73%\n",
      "  Epoch  50 | Train loss 1.13679 | Train acc 65.21% | Val loss 1.48208 | Val acc 57.59%\n",
      "  Epoch  51 | Train loss 1.15672 | Train acc 65.31% | Val loss 1.48027 | Val acc 57.80%\n",
      "  Epoch  52 | Train loss 1.14307 | Train acc 65.36% | Val loss 1.48456 | Val acc 57.51%\n",
      "  Epoch  53 | Train loss 1.17089 | Train acc 65.30% | Val loss 1.48454 | Val acc 57.64%\n",
      "  Epoch  54 | Train loss 1.20504 | Train acc 65.39% | Val loss 1.49043 | Val acc 57.49%\n",
      "  Epoch  55 | Train loss 1.19798 | Train acc 65.57% | Val loss 1.48721 | Val acc 57.60%\n",
      "  Epoch  56 | Train loss 1.18168 | Train acc 65.52% | Val loss 1.48855 | Val acc 57.66%\n",
      "  Epoch  57 | Train loss 1.14354 | Train acc 65.58% | Val loss 1.48799 | Val acc 57.58%\n",
      "  Epoch  58 | Train loss 1.13421 | Train acc 65.52% | Val loss 1.48693 | Val acc 57.69%\n",
      "  Epoch  59 | Train loss 1.09105 | Train acc 65.66% | Val loss 1.49361 | Val acc 57.49%\n",
      "  Epoch  60 | Train loss 1.19143 | Train acc 65.75% | Val loss 1.49346 | Val acc 57.48%\n",
      "  Epoch  61 | Train loss 1.17116 | Train acc 65.78% | Val loss 1.49710 | Val acc 57.56%\n",
      "  Epoch  62 | Train loss 1.08324 | Train acc 65.81% | Val loss 1.49849 | Val acc 57.56%\n",
      "  Epoch  63 | Train loss 1.26587 | Train acc 65.80% | Val loss 1.50303 | Val acc 57.41%\n",
      "  Epoch  64 | Train loss 1.12269 | Train acc 65.86% | Val loss 1.49845 | Val acc 57.48%\n",
      "  Epoch  65 | Train loss 1.11455 | Train acc 65.78% | Val loss 1.50218 | Val acc 57.34%\n",
      "  Epoch  66 | Train loss 1.11371 | Train acc 65.91% | Val loss 1.50126 | Val acc 57.45%\n",
      "  Epoch  67 | Train loss 1.07356 | Train acc 65.95% | Val loss 1.50216 | Val acc 57.39%\n",
      "  Epoch  68 | Train loss 1.15219 | Train acc 65.98% | Val loss 1.50762 | Val acc 57.41%\n",
      "  Epoch  69 | Train loss 1.08980 | Train acc 66.01% | Val loss 1.50561 | Val acc 57.40%\n",
      "  Epoch  70 | Train loss 1.12580 | Train acc 65.97% | Val loss 1.50773 | Val acc 57.33%\n",
      "  Epoch  71 | Train loss 1.12776 | Train acc 66.02% | Val loss 1.50769 | Val acc 57.37%\n",
      "  Epoch  72 | Train loss 1.06633 | Train acc 65.93% | Val loss 1.51331 | Val acc 57.27%\n",
      "  Epoch  73 | Train loss 1.10864 | Train acc 66.13% | Val loss 1.51073 | Val acc 57.37%\n",
      "  Epoch  74 | Train loss 1.11698 | Train acc 66.08% | Val loss 1.51127 | Val acc 57.40%\n",
      "  Epoch  75 | Train loss 1.09970 | Train acc 66.04% | Val loss 1.51128 | Val acc 57.45%\n",
      "  Epoch  76 | Train loss 1.08202 | Train acc 66.04% | Val loss 1.51159 | Val acc 57.32%\n",
      "  Epoch  77 | Train loss 1.17209 | Train acc 66.16% | Val loss 1.51900 | Val acc 57.33%\n",
      "  Epoch  78 | Train loss 1.12224 | Train acc 66.20% | Val loss 1.51523 | Val acc 57.39%\n",
      "  Epoch  79 | Train loss 1.19950 | Train acc 65.99% | Val loss 1.51766 | Val acc 57.32%\n",
      "  Epoch  80 | Train loss 1.12584 | Train acc 66.11% | Val loss 1.51482 | Val acc 57.35%\n",
      "  Epoch  81 | Train loss 1.06195 | Train acc 66.27% | Val loss 1.52085 | Val acc 57.24%\n",
      "  Epoch  82 | Train loss 1.06000 | Train acc 66.28% | Val loss 1.51981 | Val acc 57.38%\n",
      "  Epoch  83 | Train loss 1.11657 | Train acc 66.39% | Val loss 1.51821 | Val acc 57.24%\n",
      "  Epoch  84 | Train loss 1.07930 | Train acc 66.34% | Val loss 1.52175 | Val acc 57.39%\n",
      "  Epoch  85 | Train loss 1.10930 | Train acc 66.39% | Val loss 1.52375 | Val acc 57.31%\n",
      "  Epoch  86 | Train loss 1.11031 | Train acc 66.28% | Val loss 1.52404 | Val acc 57.28%\n",
      "  Epoch  87 | Train loss 1.10716 | Train acc 66.30% | Val loss 1.52378 | Val acc 57.26%\n",
      "  Epoch  88 | Train loss 1.14078 | Train acc 66.47% | Val loss 1.52108 | Val acc 57.29%\n",
      "  Epoch  89 | Train loss 1.17108 | Train acc 66.25% | Val loss 1.52372 | Val acc 57.32%\n",
      "  Epoch  90 | Train loss 1.14478 | Train acc 66.44% | Val loss 1.52789 | Val acc 57.15%\n",
      "  Epoch  91 | Train loss 1.22943 | Train acc 66.29% | Val loss 1.52704 | Val acc 57.23%\n",
      "  Epoch  92 | Train loss 1.11082 | Train acc 66.29% | Val loss 1.52528 | Val acc 57.27%\n",
      "  Epoch  93 | Train loss 1.11132 | Train acc 66.49% | Val loss 1.52860 | Val acc 57.22%\n",
      "  Epoch  94 | Train loss 1.06709 | Train acc 66.56% | Val loss 1.52983 | Val acc 57.12%\n",
      "  Epoch  95 | Train loss 1.09835 | Train acc 66.49% | Val loss 1.53134 | Val acc 57.11%\n",
      "  Epoch  96 | Train loss 1.08517 | Train acc 66.43% | Val loss 1.52691 | Val acc 57.20%\n",
      "  Epoch  97 | Train loss 1.10070 | Train acc 66.43% | Val loss 1.53268 | Val acc 57.14%\n",
      "  Epoch  98 | Train loss 1.21238 | Train acc 66.38% | Val loss 1.53660 | Val acc 57.05%\n",
      "  Epoch  99 | Train loss 1.15215 | Train acc 66.62% | Val loss 1.53090 | Val acc 57.20%\n",
      "  Epoch 100 | Train loss 1.07371 | Train acc 66.51% | Val loss 1.53407 | Val acc 57.11%\n",
      "  Epoch 101 | Train loss 1.13163 | Train acc 66.60% | Val loss 1.53365 | Val acc 57.11%\n",
      "  Epoch 102 | Train loss 1.09354 | Train acc 66.50% | Val loss 1.53564 | Val acc 57.06%\n",
      "  Epoch 103 | Train loss 1.11748 | Train acc 66.35% | Val loss 1.53351 | Val acc 57.09%\n",
      "  Epoch 104 | Train loss 1.13946 | Train acc 66.40% | Val loss 1.53490 | Val acc 57.06%\n",
      "  Epoch 105 | Train loss 1.09691 | Train acc 66.67% | Val loss 1.53162 | Val acc 57.23%\n",
      "  Epoch 106 | Train loss 1.15255 | Train acc 66.64% | Val loss 1.53291 | Val acc 57.26%\n",
      "  Epoch 107 | Train loss 1.12286 | Train acc 66.47% | Val loss 1.53701 | Val acc 57.10%\n",
      "  Epoch 108 | Train loss 1.14326 | Train acc 66.62% | Val loss 1.53956 | Val acc 57.04%\n",
      "  Epoch 109 | Train loss 1.07849 | Train acc 66.75% | Val loss 1.53748 | Val acc 57.04%\n",
      "  Epoch 110 | Train loss 1.11330 | Train acc 66.53% | Val loss 1.53753 | Val acc 57.18%\n",
      "  Epoch 111 | Train loss 1.10991 | Train acc 66.71% | Val loss 1.53797 | Val acc 57.17%\n",
      "  Epoch 112 | Train loss 1.07719 | Train acc 66.68% | Val loss 1.53851 | Val acc 57.12%\n",
      "  Epoch 113 | Train loss 1.10602 | Train acc 66.53% | Val loss 1.54544 | Val acc 56.87%\n",
      "  Epoch 114 | Train loss 1.10918 | Train acc 66.68% | Val loss 1.53896 | Val acc 57.17%\n",
      "  Epoch 115 | Train loss 1.08243 | Train acc 66.53% | Val loss 1.54147 | Val acc 57.10%\n",
      "  Epoch 116 | Train loss 1.13673 | Train acc 66.71% | Val loss 1.54347 | Val acc 57.13%\n",
      "  Epoch 117 | Train loss 1.05188 | Train acc 66.79% | Val loss 1.53686 | Val acc 57.19%\n",
      "  Epoch 118 | Train loss 1.18563 | Train acc 66.73% | Val loss 1.54350 | Val acc 57.12%\n",
      "  Epoch 119 | Train loss 1.11545 | Train acc 66.42% | Val loss 1.54131 | Val acc 57.07%\n",
      "  Epoch 120 | Train loss 1.08953 | Train acc 66.78% | Val loss 1.53916 | Val acc 57.12%\n",
      "  Epoch 121 | Train loss 1.10106 | Train acc 66.67% | Val loss 1.54382 | Val acc 57.11%\n",
      "  Epoch 122 | Train loss 1.11389 | Train acc 66.61% | Val loss 1.54091 | Val acc 56.98%\n",
      "  Epoch 123 | Train loss 1.05488 | Train acc 66.71% | Val loss 1.54514 | Val acc 56.89%\n",
      "  Epoch 124 | Train loss 1.12826 | Train acc 66.67% | Val loss 1.54668 | Val acc 57.01%\n",
      "  Epoch 125 | Train loss 1.03218 | Train acc 66.85% | Val loss 1.54223 | Val acc 57.11%\n",
      "  Epoch 126 | Train loss 1.02242 | Train acc 66.88% | Val loss 1.54389 | Val acc 57.06%\n",
      "  Epoch 127 | Train loss 1.14862 | Train acc 66.67% | Val loss 1.54705 | Val acc 57.07%\n",
      "  Epoch 128 | Train loss 1.04853 | Train acc 66.90% | Val loss 1.54450 | Val acc 57.15%\n",
      "  Epoch 129 | Train loss 1.12498 | Train acc 66.60% | Val loss 1.54500 | Val acc 56.95%\n",
      "  Epoch 130 | Train loss 1.02008 | Train acc 66.90% | Val loss 1.54717 | Val acc 57.04%\n",
      "  Epoch 131 | Train loss 1.09999 | Train acc 66.73% | Val loss 1.54319 | Val acc 57.16%\n",
      "  Epoch 132 | Train loss 1.12889 | Train acc 66.81% | Val loss 1.54253 | Val acc 57.08%\n",
      "  Epoch 133 | Train loss 1.11694 | Train acc 66.80% | Val loss 1.54665 | Val acc 57.00%\n",
      "  Epoch 134 | Train loss 1.09527 | Train acc 66.94% | Val loss 1.54496 | Val acc 57.16%\n",
      "  Epoch 135 | Train loss 1.04918 | Train acc 66.82% | Val loss 1.54827 | Val acc 57.14%\n",
      "  Epoch 136 | Train loss 1.04548 | Train acc 66.87% | Val loss 1.54628 | Val acc 57.12%\n",
      "  Epoch 137 | Train loss 1.10022 | Train acc 66.80% | Val loss 1.54811 | Val acc 57.02%\n",
      "  Epoch 138 | Train loss 1.04918 | Train acc 66.75% | Val loss 1.54630 | Val acc 57.22%\n",
      "  Epoch 139 | Train loss 1.12727 | Train acc 66.90% | Val loss 1.54826 | Val acc 57.07%\n",
      "  Epoch 140 | Train loss 1.02684 | Train acc 66.92% | Val loss 1.54626 | Val acc 57.07%\n",
      "  Epoch 141 | Train loss 1.07717 | Train acc 67.07% | Val loss 1.55066 | Val acc 57.03%\n",
      "  Epoch 142 | Train loss 1.08335 | Train acc 66.83% | Val loss 1.55147 | Val acc 56.88%\n",
      "  Epoch 143 | Train loss 1.12670 | Train acc 66.79% | Val loss 1.54783 | Val acc 57.05%\n",
      "  Epoch 144 | Train loss 1.10074 | Train acc 66.83% | Val loss 1.55189 | Val acc 57.03%\n",
      "  Epoch 145 | Train loss 1.09960 | Train acc 66.98% | Val loss 1.55080 | Val acc 56.92%\n",
      "  Epoch 146 | Train loss 1.05949 | Train acc 66.95% | Val loss 1.55428 | Val acc 56.95%\n",
      "  Epoch 147 | Train loss 1.13302 | Train acc 66.96% | Val loss 1.54937 | Val acc 57.07%\n",
      "  Epoch 148 | Train loss 1.08120 | Train acc 66.95% | Val loss 1.55594 | Val acc 56.78%\n",
      "  Epoch 149 | Train loss 1.06408 | Train acc 66.76% | Val loss 1.55642 | Val acc 56.83%\n",
      "  Epoch 150 | Train loss 1.10629 | Train acc 66.94% | Val loss 1.55572 | Val acc 56.93%\n",
      "  Epoch 151 | Train loss 1.09276 | Train acc 66.88% | Val loss 1.55564 | Val acc 56.89%\n",
      "  Epoch 152 | Train loss 1.05007 | Train acc 66.70% | Val loss 1.56016 | Val acc 56.84%\n",
      "  Epoch 153 | Train loss 1.14859 | Train acc 66.89% | Val loss 1.55192 | Val acc 57.06%\n",
      "  Epoch 154 | Train loss 1.08887 | Train acc 66.92% | Val loss 1.55079 | Val acc 57.00%\n",
      "  Epoch 155 | Train loss 1.08607 | Train acc 67.00% | Val loss 1.55593 | Val acc 57.01%\n",
      "  Epoch 156 | Train loss 1.13689 | Train acc 66.95% | Val loss 1.55484 | Val acc 57.14%\n",
      "  Epoch 157 | Train loss 1.08337 | Train acc 66.95% | Val loss 1.55170 | Val acc 56.99%\n",
      "  Epoch 158 | Train loss 1.11441 | Train acc 66.90% | Val loss 1.55923 | Val acc 56.93%\n",
      "  Epoch 159 | Train loss 1.08838 | Train acc 66.97% | Val loss 1.54959 | Val acc 57.02%\n",
      "  Epoch 160 | Train loss 1.05455 | Train acc 66.94% | Val loss 1.55287 | Val acc 57.08%\n",
      "  Epoch 161 | Train loss 1.12824 | Train acc 67.13% | Val loss 1.55667 | Val acc 57.08%\n",
      "  Epoch 162 | Train loss 1.07903 | Train acc 66.90% | Val loss 1.55737 | Val acc 57.00%\n",
      "  Epoch 163 | Train loss 1.10590 | Train acc 67.02% | Val loss 1.55296 | Val acc 57.06%\n",
      "  Epoch 164 | Train loss 1.02316 | Train acc 67.11% | Val loss 1.55552 | Val acc 57.04%\n",
      "  Epoch 165 | Train loss 1.11777 | Train acc 66.99% | Val loss 1.55631 | Val acc 57.00%\n",
      "  Epoch 166 | Train loss 1.14299 | Train acc 67.04% | Val loss 1.55653 | Val acc 56.91%\n",
      "  Epoch 167 | Train loss 1.01865 | Train acc 67.03% | Val loss 1.55860 | Val acc 56.94%\n",
      "  Epoch 168 | Train loss 1.04071 | Train acc 67.03% | Val loss 1.56045 | Val acc 56.78%\n",
      "  Epoch 169 | Train loss 1.09178 | Train acc 66.95% | Val loss 1.55928 | Val acc 56.84%\n",
      "  Epoch 170 | Train loss 1.10848 | Train acc 66.94% | Val loss 1.55736 | Val acc 56.93%\n",
      "  Epoch 171 | Train loss 1.05998 | Train acc 67.20% | Val loss 1.55706 | Val acc 56.99%\n",
      "  Epoch 172 | Train loss 1.08150 | Train acc 67.25% | Val loss 1.55863 | Val acc 57.02%\n",
      "  Epoch 173 | Train loss 1.08345 | Train acc 66.98% | Val loss 1.55803 | Val acc 56.96%\n",
      "  Epoch 174 | Train loss 0.99379 | Train acc 66.91% | Val loss 1.55918 | Val acc 56.91%\n",
      "  Epoch 175 | Train loss 1.06697 | Train acc 67.05% | Val loss 1.56430 | Val acc 56.92%\n",
      "  Epoch 176 | Train loss 1.10379 | Train acc 67.00% | Val loss 1.56100 | Val acc 56.88%\n",
      "  Epoch 177 | Train loss 1.16385 | Train acc 67.03% | Val loss 1.55792 | Val acc 57.09%\n",
      "  Epoch 178 | Train loss 1.09946 | Train acc 67.04% | Val loss 1.55934 | Val acc 56.92%\n",
      "  Epoch 179 | Train loss 1.11020 | Train acc 66.98% | Val loss 1.56237 | Val acc 56.96%\n",
      "  Epoch 180 | Train loss 1.10881 | Train acc 67.18% | Val loss 1.55995 | Val acc 56.92%\n",
      "  Epoch 181 | Train loss 1.02397 | Train acc 67.11% | Val loss 1.55691 | Val acc 56.93%\n",
      "  Epoch 182 | Train loss 1.12078 | Train acc 67.00% | Val loss 1.55728 | Val acc 56.92%\n",
      "  Epoch 183 | Train loss 1.08134 | Train acc 67.08% | Val loss 1.55508 | Val acc 57.01%\n",
      "  Epoch 184 | Train loss 1.07908 | Train acc 67.10% | Val loss 1.56570 | Val acc 56.89%\n",
      "  Epoch 185 | Train loss 1.06010 | Train acc 66.95% | Val loss 1.56146 | Val acc 56.82%\n",
      "  Epoch 186 | Train loss 1.09305 | Train acc 66.99% | Val loss 1.56109 | Val acc 57.01%\n",
      "  Epoch 187 | Train loss 1.02968 | Train acc 67.15% | Val loss 1.56158 | Val acc 56.94%\n",
      "  Epoch 188 | Train loss 1.05479 | Train acc 67.16% | Val loss 1.56426 | Val acc 56.91%\n",
      "  Epoch 189 | Train loss 1.08604 | Train acc 66.85% | Val loss 1.56573 | Val acc 56.77%\n",
      "  Epoch 190 | Train loss 1.07198 | Train acc 67.20% | Val loss 1.56230 | Val acc 56.84%\n",
      "  Epoch 191 | Train loss 1.09398 | Train acc 67.05% | Val loss 1.56894 | Val acc 56.77%\n",
      "  Epoch 192 | Train loss 1.04842 | Train acc 67.23% | Val loss 1.56027 | Val acc 57.00%\n",
      "  Epoch 193 | Train loss 1.10520 | Train acc 67.18% | Val loss 1.56344 | Val acc 56.82%\n",
      "  Epoch 194 | Train loss 1.12219 | Train acc 66.92% | Val loss 1.56653 | Val acc 56.77%\n",
      "  Epoch 195 | Train loss 1.08817 | Train acc 67.13% | Val loss 1.56036 | Val acc 56.97%\n",
      "  Epoch 196 | Train loss 1.15309 | Train acc 67.15% | Val loss 1.56582 | Val acc 56.82%\n",
      "  Epoch 197 | Train loss 1.11028 | Train acc 67.08% | Val loss 1.55861 | Val acc 56.87%\n",
      "  Epoch 198 | Train loss 1.06454 | Train acc 67.05% | Val loss 1.56885 | Val acc 56.76%\n",
      "  Epoch 199 | Train loss 1.02294 | Train acc 67.03% | Val loss 1.56542 | Val acc 56.87%\n",
      "*********** DONE **********\n",
      " \n",
      "        Validation accuracy at best epoch 27 was 58.11%. Returning that model.\n"
     ]
    }
   ],
   "source": [
    "model_path = \"./models/{}-{}\".format(\"BoV\", time.strftime(\"%m-%d-%H%M\", time.gmtime()))\n",
    "try: os.mkdir(model_path)\n",
    "except FileExistsError: print(\"Directory Exists... Skipping\")\n",
    "print(\"Model folder: {}\".format(model_path))\n",
    "\n",
    "best_model = train(rnn, train_loader, val_loader, criterion, model_path, n_epochs=200, init_patience=10)\n",
    "final_model = deepcopy(rnn)"
   ]
  },
  {
   "cell_type": "code",
   "execution_count": 22,
   "metadata": {
    "colab": {
     "base_uri": "https://localhost:8080/",
     "height": 351
    },
    "id": "z-8S8w9cU0uC",
    "outputId": "cf3fac9f-4b7c-4e8e-e7f6-7d3d6bd936f3"
   },
   "outputs": [
    {
     "data": {
      "image/png": "[encoded data removed]",
      "text/plain": [
       "<Figure size 720x360 with 1 Axes>"
      ]
     },
     "metadata": {
      "needs_background": "light"
     },
     "output_type": "display_data"
    }
   ],
   "source": [
    "plt.figure(figsize=(10,5))\n",
    "plt.plot(final_model.train_losses, label=\"Training loss\")\n",
    "plt.plot(final_model.val_losses, label=\"Validation loss\")\n",
    "plt.axvline(final_model.val_losses.argmin(), linestyle='dotted', color='g',label='Final model')\n",
    "plt.xlabel(\"Epochs\")\n",
    "plt.ylabel(\"Loss\")\n",
    "plt.legend()\n",
    "plt.savefig(os.path.join(model_path, \"losses.png\"))"
   ]
  },
  {
   "cell_type": "code",
   "execution_count": 23,
   "metadata": {
    "colab": {
     "base_uri": "https://localhost:8080/",
     "height": 351
    },
    "id": "3wkrZadFaFdZ",
    "outputId": "b4dc6995-bead-465b-ddd4-42cc6a1e1fab"
   },
   "outputs": [
    {
     "data": {
      "image/png": "[encoded data removed]",
      "text/plain": [
       "<Figure size 720x360 with 1 Axes>"
      ]
     },
     "metadata": {
      "needs_background": "light"
     },
     "output_type": "display_data"
    }
   ],
   "source": [
    "plt.figure(figsize=(10,5))\n",
    "plt.plot(final_model.train_accs, label=\"Training accuracy\")\n",
    "plt.plot(final_model.val_accs, label=\"Validation accuracy\")\n",
    "plt.axvline(final_model.val_losses.argmin(), linestyle='dotted', color='g',label='Final model')\n",
    "plt.xlabel(\"Epochs\")\n",
    "plt.ylabel(\"Accuracy\")\n",
    "plt.legend()\n",
    "plt.savefig(os.path.join(model_path, \"accs.png\"))"
   ]
  },
  {
   "cell_type": "markdown",
   "metadata": {},
   "source": [
    "## Test Accuracy"
   ]
  },
  {
   "cell_type": "code",
   "execution_count": 46,
   "metadata": {},
   "outputs": [
    {
     "name": "stdout",
     "output_type": "stream",
     "text": [
      "Test accuracy: 57.87%\n"
     ]
    }
   ],
   "source": [
    "print(\"Test accuracy: {:.2%}\".format(eval_model(rnn, test_loader, criterion)[0]))"
   ]
  },
  {
   "cell_type": "markdown",
   "metadata": {},
   "source": [
    "# Generate Sequences"
   ]
  },
  {
   "cell_type": "code",
   "execution_count": 45,
   "metadata": {},
   "outputs": [
    {
     "data": {
      "text/plain": [
       "'\"To be or not to be darks a fall picked phonanced and pitched off another and mediocre junk beganed details he was taw look a half-down the bentament with a few of the issible defeatingly, indulgently'"
      ]
     },
     "execution_count": 45,
     "metadata": {},
     "output_type": "execute_result"
    }
   ],
   "source": [
    "def predict_one(model, s, argmax=False):\n",
    "    batch_size = 1\n",
    "    corpus_tensor = torch.tensor([char_to_idx[c] for c in s])\n",
    "    corpus_ohe = torch.zeros(batch_size, corpus_tensor.size(0), vocab_size).to(device)\n",
    "    for i in range(corpus_tensor.size(0)):\n",
    "        corpus_ohe[0, i, corpus_tensor[i]] = 1\n",
    "    \n",
    "    with torch.no_grad():\n",
    "        outputs, _ = model(corpus_ohe)\n",
    "        last_prob = outputs[-1]\n",
    "        argmax_idx = last_prob.argmax().item()\n",
    "        sample_idx = last_prob.multinomial(num_samples=1, replacement=True).item()\n",
    "        \n",
    "        if argmax:\n",
    "            pred_char = idx_to_char[argmax_idx]\n",
    "        else:\n",
    "            pred_char = idx_to_char[sample_idx]\n",
    "    return pred_char\n",
    "\n",
    "def predict_n_from_seed(n, seed, model):\n",
    "    output = seed\n",
    "    for _ in range(n - len(output)):\n",
    "        c = predict_one(model, output)\n",
    "        output += c\n",
    "    return output\n",
    "\n",
    "predict_n_from_seed(200, '\"To be or not to be', rnn)"
   ]
  },
  {
   "cell_type": "code",
   "execution_count": null,
   "metadata": {},
   "outputs": [],
   "source": []
  }
 ],
 "metadata": {
  "kernelspec": {
   "display_name": "Python 3",
   "language": "python",
   "name": "python3"
  },
  "language_info": {
   "codemirror_mode": {
    "name": "ipython",
    "version": 3
   },
   "file_extension": ".py",
   "mimetype": "text/x-python",
   "name": "python",
   "nbconvert_exporter": "python",
   "pygments_lexer": "ipython3",
   "version": "3.8.6"
  }
 },
 "nbformat": 4,
 "nbformat_minor": 4
}
