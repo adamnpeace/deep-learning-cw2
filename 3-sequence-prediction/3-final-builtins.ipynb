{
 "cells": [
  {
   "cell_type": "markdown",
   "metadata": {},
   "source": [
    "# Q3 - Using Builtin RNN Classes"
   ]
  },
  {
   "cell_type": "code",
   "execution_count": 24,
   "metadata": {},
   "outputs": [],
   "source": [
    "import os, sys, time, string, unicodedata\n",
    "import numpy as np\n",
    "import torch\n",
    "import torch.nn as nn\n",
    "import torch.optim as optim\n",
    "from matplotlib import pyplot as plt\n",
    "%matplotlib inline"
   ]
  },
  {
   "cell_type": "code",
   "execution_count": 2,
   "metadata": {},
   "outputs": [
    {
     "name": "stdout",
     "output_type": "stream",
     "text": [
      "Using GPU\n"
     ]
    }
   ],
   "source": [
    "device = torch.device(\"cpu\")\n",
    "if torch.cuda.is_available: device = torch.device(\"cuda\"); print(\"Using GPU\")"
   ]
  },
  {
   "cell_type": "markdown",
   "metadata": {},
   "source": [
    "# Download and Preprocess Data"
   ]
  },
  {
   "cell_type": "code",
   "execution_count": 3,
   "metadata": {},
   "outputs": [],
   "source": [
    "!curl -fsS https://nlp.stanford.edu/sentiment/trainDevTestTrees_PTB.zip -o /tmp/trainDevTestTrees_PTB.zip\n",
    "!unzip -q -o -d ./data /tmp/trainDevTestTrees_PTB.zip\n",
    "!rm -f /tmp/trainDevTestTrees_PTB.zip"
   ]
  },
  {
   "cell_type": "code",
   "execution_count": 4,
   "metadata": {},
   "outputs": [],
   "source": [
    "def normalize_sentence(s):\n",
    "    replacements = [(\" ,\", \",\"), (\" .\", \".\"), (\" '\", \"'\"), \n",
    "                    (\"\\/\", \"/\"), (\" ;\", \";\"), (\" :\", \":\"),\n",
    "                    (\" %\", \"%\"), (u\"æ\", \"ae\"), (u\"Æ\", \"AE\"), \n",
    "                    (u\"œ\", \"oe\"), (u\"Œ\", \"OE\"), (\"-LRB- \", \"(\"), \n",
    "                    (\" -RRB-\", \")\"), (\"-LRB-\", \"(\"), (\"-RRB-\", \")\"),\n",
    "                    (\" n't\", \"n't\"), (\"`` \", '\"'), (\"``\", '\"'),\n",
    "                    (\"''\", '\"'), (\"` \", \"'\"), (\"$ \", \"$\"),\n",
    "                    (\" !\", \"!\"), (\"\\\\\", \"\"), (\" ?\", \"?\")]\n",
    "    for to_replace, replacement in replacements:\n",
    "        s = s.replace(to_replace, replacement)\n",
    "    return ''.join(\n",
    "        c for c in unicodedata.normalize('NFD', s)\n",
    "        if unicodedata.category(c) != 'Mn'\n",
    "        and c in string.ascii_letters + ' .,;:\\'-#!/\"=&$?|_'\n",
    "    ) # https://stackoverflow.com/a/518232/2809427\n",
    "\n",
    "def get_corpus(path, eol=' '):\n",
    "    corpus = \"\"\n",
    "    with open(path, 'r') as fp:\n",
    "        for line in fp.readlines():\n",
    "            soup = line.split()\n",
    "            tokens = []\n",
    "            for chunk in soup[2:]:\n",
    "                if chunk.endswith(')'):\n",
    "                    tokens.append(chunk.rstrip(')'))\n",
    "            corpus += normalize_sentence(\" \".join(tokens)) + eol\n",
    "    return corpus\n",
    "\n",
    "train_corpus = get_corpus(\"./data/trees/train.txt\")\n",
    "val_corpus = get_corpus(\"./data/trees/dev.txt\")\n",
    "test_corpus = get_corpus(\"./data/trees/test.txt\")"
   ]
  },
  {
   "cell_type": "code",
   "execution_count": 5,
   "metadata": {},
   "outputs": [
    {
     "name": "stdout",
     "output_type": "stream",
     "text": [
      "Train corpus has 67 unique chars.\n"
     ]
    }
   ],
   "source": [
    "chars = list(set(train_corpus))\n",
    "vocab_size = len(chars)\n",
    "char_to_idx = { ch:i for i,ch in enumerate(chars) }\n",
    "idx_to_char = { i:ch for i,ch in enumerate(chars) }\n",
    "print('Train corpus has {} unique chars.'.format(vocab_size))"
   ]
  },
  {
   "cell_type": "code",
   "execution_count": 6,
   "metadata": {},
   "outputs": [],
   "source": [
    "class SSTDataset(torch.utils.data.Dataset):\n",
    "    def __init__(self, corpus, seq_len, vocab_size, device):\n",
    "        self.corpus = corpus\n",
    "        self.seq_len = seq_len\n",
    "        self.vocab_size = vocab_size\n",
    "        self.device = device\n",
    "        self.corpus_len = len(self.corpus)\n",
    "        self.corpus_tensor = torch.tensor([char_to_idx[c] for c in self.corpus]).to(device)\n",
    "        self.corpus_ohe = torch.zeros(self.corpus_len, self.vocab_size).to(device)\n",
    "        for i in range(self.corpus_len):\n",
    "            self.corpus_ohe[i, self.corpus_tensor[i]] = 1\n",
    "        \n",
    "        print('corpus is {} characters long, {} unique chars.'.format(\n",
    "            self.corpus_len, self.vocab_size))\n",
    "    \n",
    "    def __len__(self):\n",
    "        return len(self.corpus) // seq_len\n",
    "    \n",
    "    def __getitem__(self, idx):\n",
    "        if torch.is_tensor(idx):\n",
    "            idx = idx.item()\n",
    "        start = idx * self.seq_len\n",
    "        input = self.corpus_ohe[start:start+self.seq_len]\n",
    "        target = self.corpus_tensor[start+1:start+self.seq_len+1]\n",
    "        return input, target"
   ]
  },
  {
   "cell_type": "code",
   "execution_count": 7,
   "metadata": {},
   "outputs": [
    {
     "name": "stdout",
     "output_type": "stream",
     "text": [
      "corpus is 858720 characters long, 67 unique chars.\n",
      "corpus is 111526 characters long, 67 unique chars.\n",
      "corpus is 222395 characters long, 67 unique chars.\n"
     ]
    }
   ],
   "source": [
    "# Load datasets\n",
    "seq_len = 200\n",
    "train_dataset = SSTDataset(train_corpus, seq_len, vocab_size, device)\n",
    "val_dataset = SSTDataset(val_corpus, seq_len, vocab_size, device)\n",
    "test_dataset = SSTDataset(test_corpus, seq_len, vocab_size, device)"
   ]
  },
  {
   "cell_type": "markdown",
   "metadata": {},
   "source": [
    "# Model Implementation"
   ]
  },
  {
   "cell_type": "code",
   "execution_count": 9,
   "metadata": {},
   "outputs": [],
   "source": [
    "class RNN(nn.Module):\n",
    "    def __init__(self, vocab_size, hidden_size, arch=\"vanilla\"):\n",
    "        super(RNN, self).__init__()\n",
    "        self.hidden_size = hidden_size\n",
    "        self.arch = arch\n",
    "        \n",
    "        # Select what architecture to use.\n",
    "        # Since we don't need to provide hidden_0 (or cell_0) tensors\n",
    "        # for any of the models, we can use this one class for all 3\n",
    "        if arch == \"vanilla\":\n",
    "            self.rnn = nn.RNN(vocab_size, hidden_size, batch_first=True)\n",
    "        elif arch == \"gru\":\n",
    "            self.rnn = nn.GRU(vocab_size, hidden_size, batch_first=True)\n",
    "        elif arch == \"lstm\":\n",
    "            self.rnn = nn.LSTM(vocab_size, hidden_size, batch_first=True)\n",
    "            \n",
    "        self.fc = nn.Linear(hidden_size, vocab_size)\n",
    "\n",
    "    def forward(self, input):\n",
    "        hs, h_n = self.rnn(input)\n",
    "        outputs = self.fc(hs).squeeze()\n",
    "        outputs = torch.softmax(outputs, axis=-1) # size [batch_size, seq_len, vocab_size]\n",
    "        return outputs, h_n"
   ]
  },
  {
   "cell_type": "code",
   "execution_count": 10,
   "metadata": {},
   "outputs": [],
   "source": [
    "batch_size = 8\n",
    "\n",
    "# Create Data Loaders\n",
    "train_loader = torch.utils.data.DataLoader(train_dataset, \n",
    "                batch_size=batch_size, shuffle=True, drop_last=True)\n",
    "val_loader = torch.utils.data.DataLoader(val_dataset, \n",
    "                batch_size=len(val_dataset), shuffle=True, drop_last=True)\n",
    "test_loader = torch.utils.data.DataLoader(test_dataset, \n",
    "                batch_size=len(test_dataset), shuffle=True, drop_last=True)"
   ]
  },
  {
   "cell_type": "markdown",
   "metadata": {},
   "source": [
    "## Define Hyperparameters"
   ]
  },
  {
   "cell_type": "code",
   "execution_count": 16,
   "metadata": {},
   "outputs": [],
   "source": [
    "# hyperparameters\n",
    "hidden_size = 250 # size of hidden layer\n",
    "lr = 1e-3\n",
    "n_epochs = 100\n",
    "init_patience = 5\n",
    "arch = \"gru\"\n",
    "PATH = \"./models/{}-{}\".format(arch, time.strftime(\"%m-%d-%H%M\", time.gmtime()))\n",
    "\n",
    "rnn = RNN(vocab_size, hidden_size, arch).to(device)\n",
    "criterion = nn.NLLLoss()\n",
    "optimizer = optim.Adam(rnn.parameters(), lr=lr)\n",
    "losses, train_accs, val_accs = np.zeros(n_epochs), np.zeros(n_epochs), np.zeros(n_epochs)\n",
    "epoch, patience = 0, init_patience"
   ]
  },
  {
   "cell_type": "markdown",
   "metadata": {},
   "source": [
    "## Train Model"
   ]
  },
  {
   "cell_type": "code",
   "execution_count": 17,
   "metadata": {},
   "outputs": [
    {
     "name": "stdout",
     "output_type": "stream",
     "text": [
      "Epoch 0: Loss 2.561509, Train Acc 2.07%, Val Acc 2.05%\n",
      "Epoch 1: Loss 2.124767, Train Acc 35.24%, Val Acc 35.22%\n",
      "Epoch 2: Loss 1.943786, Train Acc 40.76%, Val Acc 40.75%\n",
      "Epoch 3: Loss 1.813608, Train Acc 45.13%, Val Acc 45.09%\n",
      "Epoch 4: Loss 1.715846, Train Acc 48.67%, Val Acc 48.54%\n",
      "Epoch 5: Loss 1.642568, Train Acc 51.15%, Val Acc 50.81%\n",
      "Epoch 6: Loss 1.586692, Train Acc 52.86%, Val Acc 52.22%\n",
      "Epoch 7: Loss 1.542223, Train Acc 54.20%, Val Acc 53.42%\n",
      "Epoch 8: Loss 1.506464, Train Acc 55.40%, Val Acc 54.29%\n",
      "Epoch 9: Loss 1.476364, Train Acc 56.11%, Val Acc 54.90%\n",
      "Epoch 10: Loss 1.451110, Train Acc 57.04%, Val Acc 55.60%\n",
      "Epoch 11: Loss 1.429590, Train Acc 57.67%, Val Acc 55.86%\n",
      "Epoch 12: Loss 1.410797, Train Acc 58.25%, Val Acc 56.29%\n",
      "Epoch 13: Loss 1.393896, Train Acc 58.68%, Val Acc 56.58%\n",
      "Epoch 14: Loss 1.379291, Train Acc 59.08%, Val Acc 56.77%\n",
      "Epoch 15: Loss 1.365588, Train Acc 59.66%, Val Acc 57.13%\n",
      "Epoch 16: Loss 1.353142, Train Acc 60.01%, Val Acc 57.35%\n",
      "Epoch 17: Loss 1.341774, Train Acc 60.28%, Val Acc 57.38%\n",
      "Epoch 18: Loss 1.330655, Train Acc 60.50%, Val Acc 57.53%\n",
      "Epoch 19: Loss 1.321156, Train Acc 60.82%, Val Acc 57.63%\n",
      "Epoch 20: Loss 1.312022, Train Acc 61.05%, Val Acc 57.62%\n",
      "Epoch 21: Loss 1.303429, Train Acc 61.20%, Val Acc 57.76%\n",
      "Epoch 22: Loss 1.294939, Train Acc 61.56%, Val Acc 57.85%\n",
      "Epoch 23: Loss 1.287471, Train Acc 61.79%, Val Acc 57.94%\n",
      "Epoch 24: Loss 1.280176, Train Acc 61.96%, Val Acc 57.83%\n",
      "Epoch 25: Loss 1.272822, Train Acc 62.19%, Val Acc 57.94%\n",
      "Epoch 26: Loss 1.267169, Train Acc 62.47%, Val Acc 58.01%\n",
      "Epoch 27: Loss 1.260320, Train Acc 62.53%, Val Acc 57.94%\n",
      "Epoch 28: Loss 1.254814, Train Acc 62.72%, Val Acc 58.02%\n",
      "Epoch 29: Loss 1.249177, Train Acc 62.89%, Val Acc 58.27%\n",
      "Epoch 30: Loss 1.244056, Train Acc 63.05%, Val Acc 57.99%\n",
      "Epoch 31: Loss 1.238287, Train Acc 63.19%, Val Acc 57.96%\n",
      "Epoch 32: Loss 1.233959, Train Acc 63.31%, Val Acc 57.97%\n",
      "Epoch 33: Loss 1.228676, Train Acc 63.37%, Val Acc 57.91%\n",
      "Epoch 34: Loss 1.224406, Train Acc 63.67%, Val Acc 58.01%\n",
      "************ DONE ************\n",
      "Test accuracy: 0.5786543488502502\n"
     ]
    }
   ],
   "source": [
    "def get_acc(model, data_loader):\n",
    "    acc, n_chars = 0., 0\n",
    "    with torch.no_grad(): # Don't save computation tree\n",
    "        for input_batch, target_batch in data_loader:\n",
    "            outputs, _ = model(input_batch)\n",
    "            acc += torch.sum(outputs.argmax(axis=-1) == target_batch)\n",
    "            n_chars += target_batch.numel()\n",
    "    return acc / n_chars\n",
    "\n",
    "while epoch < n_epochs and patience > 0:\n",
    "    batch_loss = 0\n",
    "    n_batches = len(train_dataset) // batch_size\n",
    "    \n",
    "    # Compute accuracies\n",
    "    train_accs[epoch] = get_acc(rnn, train_loader)\n",
    "    val_accs[epoch] = get_acc(rnn, val_loader)\n",
    "    \n",
    "    # Perform forward pass and backprop\n",
    "    for input_batch, target_batch in train_loader:\n",
    "        rnn.zero_grad()\n",
    "        outputs, h_n = rnn(input_batch)\n",
    "        loss = 0\n",
    "        for t in range(target_batch.size(1)): # seq len\n",
    "            loss += criterion(torch.log(outputs[:, t]), target_batch[:, t])\n",
    "        loss /= target_batch.size(1) # seq len\n",
    "        loss.backward()\n",
    "        optimizer.step()\n",
    "        \n",
    "        batch_loss += loss\n",
    "\n",
    "    losses[epoch] = batch_loss / n_batches\n",
    "    print(\"Epoch {}: Loss {:.6f}, Train Acc {:.2%}, Val Acc {:.2%}\"\n",
    "          .format(epoch, losses[epoch], train_accs[epoch], val_accs[epoch]))    \n",
    "\n",
    "    # Implements patience: will break if acc doesn't improve for 5 consecutive epochs\n",
    "    if val_accs[epoch] < val_accs.max(): patience -= 1\n",
    "    else: patience = init_patience # reset patience if we improve\n",
    "    epoch += 1\n",
    "print(\"************ DONE ************\")"
   ]
  },
  {
   "cell_type": "code",
   "execution_count": 32,
   "metadata": {},
   "outputs": [
    {
     "name": "stdout",
     "output_type": "stream",
     "text": [
      "Model finished within 35 epochs.\n"
     ]
    }
   ],
   "source": [
    "END = np.where(train_accs == 0)[0][0]\n",
    "print(\"Model finished within {} epochs.\".format(END))"
   ]
  },
  {
   "cell_type": "code",
   "execution_count": 37,
   "metadata": {},
   "outputs": [
    {
     "name": "stdout",
     "output_type": "stream",
     "text": [
      "Directory Exists... Skipping\n"
     ]
    }
   ],
   "source": [
    "try: os.mkdir(PATH)\n",
    "except: print(\"Directory Exists... Skipping\")"
   ]
  },
  {
   "cell_type": "code",
   "execution_count": 38,
   "metadata": {},
   "outputs": [],
   "source": [
    "rnn.losses = losses[:END]\n",
    "rnn.train_accs = train_accs[:END]\n",
    "rnn.val_accs = val_accs[:END]\n",
    "torch.save(rnn, os.path.join(PATH, \"model.torchmodel\"))"
   ]
  },
  {
   "cell_type": "code",
   "execution_count": 39,
   "metadata": {},
   "outputs": [
    {
     "data": {
      "image/png": "[encoded data removed]",
      "text/plain": [
       "<Figure size 720x360 with 1 Axes>"
      ]
     },
     "metadata": {
      "needs_background": "light"
     },
     "output_type": "display_data"
    }
   ],
   "source": [
    "plt.figure(figsize=(10, 5))\n",
    "plt.plot(rnn.losses)\n",
    "plt.title(\"Loss vs Epochs\")\n",
    "plt.xlabel(\"Epochs\")\n",
    "plt.ylabel(\"Training Loss\")\n",
    "plt.savefig(os.path.join(PATH, \"loss_curve.png\"))"
   ]
  },
  {
   "cell_type": "code",
   "execution_count": 40,
   "metadata": {},
   "outputs": [
    {
     "data": {
      "image/png": "[encoded data removed]",
      "text/plain": [
       "<Figure size 720x360 with 1 Axes>"
      ]
     },
     "metadata": {
      "needs_background": "light"
     },
     "output_type": "display_data"
    }
   ],
   "source": [
    "plt.figure(figsize=(10, 5))\n",
    "plt.plot(rnn.train_accs)\n",
    "plt.plot(rnn.val_accs)\n",
    "plt.title(\"Accuracy vs Epochs\")\n",
    "plt.xlabel(\"Epochs\")\n",
    "plt.ylabel(\"Accuracy\")\n",
    "plt.ylim(0, 1)\n",
    "plt.legend([\"Train Accuracy\", \"Validation Accuracy\"])\n",
    "plt.savefig(os.path.join(PATH, \"acc_curve.png\"))"
   ]
  },
  {
   "cell_type": "markdown",
   "metadata": {},
   "source": [
    "## Test Accuracy"
   ]
  },
  {
   "cell_type": "code",
   "execution_count": 46,
   "metadata": {},
   "outputs": [
    {
     "name": "stdout",
     "output_type": "stream",
     "text": [
      "Test accuracy: 57.87%\n"
     ]
    }
   ],
   "source": [
    "print(\"Test accuracy: {:.2%}\".format(get_acc(rnn, test_loader)))"
   ]
  },
  {
   "cell_type": "markdown",
   "metadata": {},
   "source": [
    "# Generate Sequences"
   ]
  },
  {
   "cell_type": "code",
   "execution_count": 45,
   "metadata": {},
   "outputs": [
    {
     "data": {
      "text/plain": [
       "'\"To be or not to be darks a fall picked phonanced and pitched off another and mediocre junk beganed details he was taw look a half-down the bentament with a few of the issible defeatingly, indulgently'"
      ]
     },
     "execution_count": 45,
     "metadata": {},
     "output_type": "execute_result"
    }
   ],
   "source": [
    "def predict_one(model, s, argmax=False):\n",
    "    batch_size = 1\n",
    "    corpus_tensor = torch.tensor([char_to_idx[c] for c in s])\n",
    "    corpus_ohe = torch.zeros(batch_size, corpus_tensor.size(0), vocab_size).to(device)\n",
    "    for i in range(corpus_tensor.size(0)):\n",
    "        corpus_ohe[0, i, corpus_tensor[i]] = 1\n",
    "    \n",
    "    with torch.no_grad():\n",
    "        outputs, _ = model(corpus_ohe)\n",
    "        last_prob = outputs[-1]\n",
    "        argmax_idx = last_prob.argmax().item()\n",
    "        sample_idx = last_prob.multinomial(num_samples=1, replacement=True).item()\n",
    "        \n",
    "        if argmax:\n",
    "            pred_char = idx_to_char[argmax_idx]\n",
    "        else:\n",
    "            pred_char = idx_to_char[sample_idx]\n",
    "    return pred_char\n",
    "\n",
    "def predict_n_from_seed(n, seed, model):\n",
    "    output = seed\n",
    "    for _ in range(n - len(output)):\n",
    "        c = predict_one(model, output)\n",
    "        output += c\n",
    "    return output\n",
    "\n",
    "predict_n_from_seed(200, '\"To be or not to be', rnn)"
   ]
  },
  {
   "cell_type": "code",
   "execution_count": null,
   "metadata": {},
   "outputs": [],
   "source": []
  }
 ],
 "metadata": {
  "kernelspec": {
   "display_name": "Python 3",
   "language": "python",
   "name": "python3"
  },
  "language_info": {
   "codemirror_mode": {
    "name": "ipython",
    "version": 3
   },
   "file_extension": ".py",
   "mimetype": "text/x-python",
   "name": "python",
   "nbconvert_exporter": "python",
   "pygments_lexer": "ipython3",
   "version": "3.8.6"
  }
 },
 "nbformat": 4,
 "nbformat_minor": 4
}
