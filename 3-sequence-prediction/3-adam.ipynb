{
 "cells": [
  {
   "cell_type": "code",
   "execution_count": 1,
   "metadata": {},
   "outputs": [],
   "source": [
    "import numpy as np\n",
    "import time\n",
    "import torch\n",
    "import torch.nn as nn\n",
    "import torch.nn.functional as F\n",
    "import torch.optim as optim\n",
    "from matplotlib import pyplot as plt\n",
    "%matplotlib inline"
   ]
  },
  {
   "cell_type": "code",
   "execution_count": 2,
   "metadata": {},
   "outputs": [],
   "source": [
    "import string\n",
    "import unicodedata\n",
    "\n",
    "!curl -fsS https://nlp.stanford.edu/sentiment/trainDevTestTrees_PTB.zip -o /tmp/trainDevTestTrees_PTB.zip\n",
    "!unzip -q -o -d ./data /tmp/trainDevTestTrees_PTB.zip\n",
    "!rm -f /tmp/trainDevTestTrees_PTB.zip\n",
    "\n",
    "def loadsst(path):\n",
    "    xs = []\n",
    "    ys = []\n",
    "    file1 = open(path, 'r')\n",
    "    Lines = file1.readlines()\n",
    "    for line in Lines:\n",
    "        soup = line.split()\n",
    "        ys.append(int(soup[0].lstrip('(')))\n",
    "        tokens = []\n",
    "        for chunk in soup[2:]:\n",
    "            if not chunk.endswith(\")\"):\n",
    "                continue\n",
    "            tokens.append(chunk.rstrip(')'))\n",
    "        xs.append(tokens)\n",
    "    return xs, ys\n",
    "\n",
    "ssttrainxs, ssttrainys = loadsst(\"./data/trees/train.txt\")\n",
    "sstvalidxs, sstvalidys = loadsst(\"./data/trees/dev.txt\")\n",
    "ssttestxs, ssttestys = loadsst(\"./data/trees/test.txt\")\n",
    "\n",
    "def normalize(s):\n",
    "    for i in range(len(s)):\n",
    "        replacements = [(\" ,\", \",\"), (\" .\", \".\"), (\" '\", \"'\"), \n",
    "                        (\"\\/\", \"/\"), (\" ;\", \";\"), (\" :\", \":\"),\n",
    "                        (\" %\", \"%\"), (u\"æ\", \"ae\"), (u\"Æ\", \"AE\"), \n",
    "                        (u\"œ\", \"oe\"), (u\"Œ\", \"OE\"), (\"-LRB- \", \"(\"), \n",
    "                        (\" -RRB-\", \")\"), (\"-LRB-\", \"(\"), (\"-RRB-\", \")\"),\n",
    "                        (\" n't\", \"n't\"), (\"`` \", '\"'), (\"``\", '\"'),\n",
    "                        (\"''\", '\"'), (\"` \", \"'\"), (\"$ \", \"$\"),\n",
    "                        (\" !\", \"!\"), (\"\\\\\", \"\")]\n",
    "        for to_replace, replacement in replacements:\n",
    "            s = s.replace(to_replace, replacement)\n",
    "    # https://stackoverflow.com/a/518232/2809427\n",
    "    def unicodeToAscii(s):\n",
    "        allowed_chars = string.ascii_letters + ' .,;:\\'-#!/\"=&$|_'\n",
    "        return ''.join(\n",
    "            c for c in unicodedata.normalize('NFD', s)\n",
    "            if unicodedata.category(c) != 'Mn'\n",
    "            and c in allowed_chars\n",
    "        )\n",
    "    return unicodeToAscii(s)\n",
    "\n",
    "def get_normalized_dataset(dataset):\n",
    "    return [normalize(\" \".join(sentence)) for sentence in dataset]\n",
    "\n",
    "trainxs_corpus = \"_\".join(get_normalized_dataset(ssttrainxs))\n",
    "validxs_corpus = \"_\".join(get_normalized_dataset(sstvalidxs))\n",
    "testxs_corpus = \"_\".join(get_normalized_dataset(ssttestxs))\n",
    "\n",
    "seq_len = 200\n",
    "\n",
    "corpus_to_ss = lambda corpus: [corpus[(i*200):((i+1)*200)] for i in range(len(corpus) // seq_len)]\n",
    "trainxs_sentences = corpus_to_ss(trainxs_corpus)"
   ]
  },
  {
   "cell_type": "code",
   "execution_count": 3,
   "metadata": {},
   "outputs": [
    {
     "name": "stdout",
     "output_type": "stream",
     "text": [
      "4292 sentences, 67 letters in vocab, max seq len is 200\n"
     ]
    }
   ],
   "source": [
    "vocab = sorted(list(set(trainxs_corpus)))\n",
    "n_sentences, vocab_size = len(trainxs_sentences), len(vocab)\n",
    "maxlen = len(max(trainxs_sentences, key=len))\n",
    "char_to_idx = { ch:idx for idx,ch in enumerate(vocab) }\n",
    "idx_to_char = { idx:ch for idx,ch in enumerate(vocab) }\n",
    "print(\"{} sentences, {} letters in vocab, max seq len is {}\".format(n_sentences, vocab_size, maxlen))"
   ]
  },
  {
   "cell_type": "code",
   "execution_count": 4,
   "metadata": {},
   "outputs": [],
   "source": [
    "def pad_inputs(sentences, maxlen):\n",
    "    for i in range(len(sentences)):\n",
    "        while len(sentences[i]) < maxlen:\n",
    "            sentences[i] += ' '\n",
    "    return sentences\n",
    "trainxs = pad_inputs(trainxs_sentences, maxlen)"
   ]
  },
  {
   "cell_type": "code",
   "execution_count": 5,
   "metadata": {},
   "outputs": [],
   "source": [
    "def get_input_target(ss):\n",
    "    \"\"\"Get input and target from padded sentences\"\"\"\n",
    "    input_ss = []\n",
    "    target_ss = []\n",
    "    for i in range(len(ss)):\n",
    "        input_ss.append([char_to_idx[c] for c in ss[i][:-1]])\n",
    "        target_ss.append([char_to_idx[c] for c in ss[i][1:]])\n",
    "    return input_ss, target_ss\n",
    "input_ss, target_ss = get_input_target(trainxs)"
   ]
  },
  {
   "cell_type": "code",
   "execution_count": 6,
   "metadata": {},
   "outputs": [
    {
     "name": "stdout",
     "output_type": "stream",
     "text": [
      "[33, 48, 45, 0, 31, 55, 43, 51, 0, 49, 59, 0, 44, 45, 59, 60, 49, 54, 45, 44, 0, 60, 55, 0, 42, 45, 0, 60, 48, 45, 0, 59, 60, 0, 16, 45, 54, 60, 61, 58, 65, 6, 59, 0, 54, 45, 63, 0, 2, 16, 55, 54, 41, 54, 2, 0, 41, 54, 44, 0, 60, 48, 41, 60, 0, 48, 45, 6, 59, 0, 47, 55, 49, 54, 47, 0, 60, 55, 0, 53, 41, 51, 45, 0, 41, 0, 59, 56, 52, 41, 59, 48, 0, 45, 62, 45, 54, 0, 47, 58, 45, 41, 60, 45, 58, 0, 60, 48, 41, 54, 0, 14, 58, 54, 55, 52, 44, 0, 32, 43, 48, 63, 41, 58, 66, 45, 54, 45, 47, 47, 45, 58, 7, 0, 23, 45, 41, 54, 8, 16, 52, 41, 61, 44, 0, 35, 41, 54, 0, 17, 41, 53, 53, 45, 0, 55, 58, 0, 32, 60, 45, 62, 45, 54, 0, 32, 45, 47, 41, 52, 9, 40, 33, 48, 45, 0, 47, 55, 58, 47, 45, 55, 61, 59, 52, 65, 0, 45, 52, 41, 42, 55, 58, 41, 60, 45, 0, 43, 55]\n",
      "[48, 45, 0, 31, 55, 43, 51, 0, 49, 59, 0, 44, 45, 59, 60, 49, 54, 45, 44, 0, 60, 55, 0, 42, 45, 0, 60, 48, 45, 0, 59, 60, 0, 16, 45, 54, 60, 61, 58, 65, 6, 59, 0, 54, 45, 63, 0, 2, 16, 55, 54, 41, 54, 2, 0, 41, 54, 44, 0, 60, 48, 41, 60, 0, 48, 45, 6, 59, 0, 47, 55, 49, 54, 47, 0, 60, 55, 0, 53, 41, 51, 45, 0, 41, 0, 59, 56, 52, 41, 59, 48, 0, 45, 62, 45, 54, 0, 47, 58, 45, 41, 60, 45, 58, 0, 60, 48, 41, 54, 0, 14, 58, 54, 55, 52, 44, 0, 32, 43, 48, 63, 41, 58, 66, 45, 54, 45, 47, 47, 45, 58, 7, 0, 23, 45, 41, 54, 8, 16, 52, 41, 61, 44, 0, 35, 41, 54, 0, 17, 41, 53, 53, 45, 0, 55, 58, 0, 32, 60, 45, 62, 45, 54, 0, 32, 45, 47, 41, 52, 9, 40, 33, 48, 45, 0, 47, 55, 58, 47, 45, 55, 61, 59, 52, 65, 0, 45, 52, 41, 42, 55, 58, 41, 60, 45, 0, 43, 55, 54]\n"
     ]
    }
   ],
   "source": [
    "print(input_ss[0])\n",
    "print(target_ss[0])"
   ]
  },
  {
   "cell_type": "code",
   "execution_count": 150,
   "metadata": {},
   "outputs": [],
   "source": [
    "# Hyperparameters\n",
    "seq_len = maxlen - 1\n",
    "batch_size = n_sentences\n",
    "n_epochs = 300\n",
    "lr = 0.01"
   ]
  },
  {
   "cell_type": "code",
   "execution_count": 102,
   "metadata": {},
   "outputs": [],
   "source": [
    "def one_hot_encode(ss, vocab_size, seq_len, batch_size):\n",
    "    tensor = torch.zeros(batch_size, seq_len, vocab_size)\n",
    "    for i in range(batch_size):\n",
    "        for j in range(seq_len):\n",
    "            tensor[i, j, ss[i][j]] = 1\n",
    "    return tensor"
   ]
  },
  {
   "cell_type": "code",
   "execution_count": 103,
   "metadata": {},
   "outputs": [],
   "source": [
    "input_ohe = one_hot_encode(input_ss, vocab_size, seq_len, batch_size)\n",
    "target_tensor = torch.Tensor(target_ss) # No OHE necessary"
   ]
  },
  {
   "cell_type": "code",
   "execution_count": 139,
   "metadata": {},
   "outputs": [],
   "source": [
    "device = torch.device(\"cpu\")\n",
    "if torch.cuda.is_available: device = torch.device(\"cuda\")"
   ]
  },
  {
   "cell_type": "code",
   "execution_count": 152,
   "metadata": {},
   "outputs": [
    {
     "name": "stdout",
     "output_type": "stream",
     "text": [
      "Epoch: 10/300............. Loss: 3.4778\n",
      "Epoch: 20/300............. Loss: 3.4418\n",
      "Epoch: 30/300............. Loss: 3.1740\n",
      "Epoch: 40/300............. Loss: 2.9741\n",
      "Epoch: 50/300............. Loss: 2.8564\n",
      "Epoch: 60/300............. Loss: 2.7667\n",
      "Epoch: 70/300............. Loss: 2.6974\n",
      "Epoch: 80/300............. Loss: 2.6532\n",
      "Epoch: 90/300............. Loss: 2.6149\n",
      "Epoch: 100/300............. Loss: 2.5804\n",
      "Epoch: 110/300............. Loss: 2.5512\n",
      "Epoch: 120/300............. Loss: 2.5264\n",
      "Epoch: 130/300............. Loss: 2.5054\n",
      "Epoch: 140/300............. Loss: 2.4874\n",
      "Epoch: 150/300............. Loss: 2.4714\n",
      "Epoch: 160/300............. Loss: 2.4570\n",
      "Epoch: 170/300............. Loss: 2.4440\n",
      "Epoch: 180/300............. Loss: 2.4322\n",
      "Epoch: 190/300............. Loss: 2.4215\n",
      "Epoch: 200/300............. Loss: 2.4117\n",
      "Epoch: 210/300............. Loss: 2.4026\n",
      "Epoch: 220/300............. Loss: 2.3943\n",
      "Epoch: 230/300............. Loss: 2.3865\n",
      "Epoch: 240/300............. Loss: 2.3792\n",
      "Epoch: 250/300............. Loss: 2.3724\n",
      "Epoch: 260/300............. Loss: 2.3661\n",
      "Epoch: 270/300............. Loss: 2.3601\n",
      "Epoch: 280/300............. Loss: 2.3546\n",
      "Epoch: 290/300............. Loss: 2.3494\n",
      "Epoch: 300/300............. Loss: 2.3446\n"
     ]
    }
   ],
   "source": [
    "class RNN(nn.Module):\n",
    "    def __init__(self, input_size, output_size, hidden_size):\n",
    "        super(RNN, self).__init__()\n",
    "\n",
    "        self.hidden_size = hidden_size\n",
    "        self.rnn = nn.RNN(input_size, hidden_size, 1, batch_first=True)\n",
    "        self.fc = nn.Linear(hidden_size, output_size)\n",
    "        \n",
    "        self.i2h = nn.Linear(input_size + hidden_size, hidden_size)\n",
    "        self.i2o = nn.Linear(input_size + hidden_size, output_size)\n",
    "        self.softmax = nn.Softmax(dim=2)\n",
    "\n",
    "    def forward(self, input, hidden):\n",
    "        combined = torch.cat((input, hidden), 2)\n",
    "        hidden = self.i2h(combined)\n",
    "        output = self.i2o(combined)\n",
    "#         output = self.softmax(output)\n",
    "        return output, hidden\n",
    "\n",
    "    def init_hidden(self, batch_size):\n",
    "#         return torch.zeros(1, batch_size, self.hidden_size)\n",
    "        return torch.zeros(batch_size, 1, self.hidden_size)\n",
    "\n",
    "rnn = RNN(input_size=vocab_size, output_size=vocab_size, hidden_size=23)\n",
    "\n",
    "criterion = nn.CrossEntropyLoss()\n",
    "optimizer = optim.Adam(rnn.parameters(), lr=lr)\n",
    "\n",
    "rnn.to(device)\n",
    "\n",
    "def train(input_ohe, target_tensor, n_epochs):\n",
    "    loss_ary = []\n",
    "    target_tensor = target_tensor.to(device)\n",
    "    input_ohe = input_ohe.to(device)\n",
    "    for epoch in range(1, n_epochs + 1):\n",
    "        optimizer.zero_grad()\n",
    "        hidden = rnn.init_hidden(batch_size).to(device)\n",
    "        loss = 0\n",
    "        input_len = input_ohe.size(1)\n",
    "        for c_i in range(input_len):\n",
    "            output, hidden = rnn(input_ohe[:, c_i, :].unsqueeze(1), hidden)\n",
    "            loss += criterion(output.view(-1, vocab_size), target_tensor[:, c_i].long()) / input_len\n",
    "        \n",
    "        loss_ary.append(loss)\n",
    "        loss.backward()\n",
    "        optimizer.step()\n",
    "        \n",
    "        if epoch%10 == 0:\n",
    "            print('Epoch: {}/{}.............'.format(epoch, n_epochs), end=' ')\n",
    "            print(\"Loss: {:.4f}\".format(loss.item()))\n",
    "    return rnn, loss_ary\n",
    "rnn, loss_ary = train(input_ohe, target_tensor, n_epochs)"
   ]
  },
  {
   "cell_type": "code",
   "execution_count": 153,
   "metadata": {},
   "outputs": [
    {
     "data": {
      "text/plain": [
       "(1.8446271419525146, 5.565851783752441)"
      ]
     },
     "execution_count": 153,
     "metadata": {},
     "output_type": "execute_result"
    },
    {
     "data": {
      "image/png": "[encoded data removed]",
      "text/plain": [
       "<Figure size 432x288 with 1 Axes>"
      ]
     },
     "metadata": {
      "needs_background": "light"
     },
     "output_type": "display_data"
    }
   ],
   "source": [
    "to_plot = [(i, j) for i, j in enumerate(loss_ary) if i%1==0]\n",
    "plt.plot([i[0] for i in to_plot], [i[1] for i in to_plot])\n",
    "plt.ylim(min(loss_ary).item()-0.5, max(loss_ary).item()+0.1)"
   ]
  },
  {
   "cell_type": "code",
   "execution_count": 154,
   "metadata": {},
   "outputs": [],
   "source": [
    "def predict_one(model, s, argmax=False):\n",
    "    batch_size = 1\n",
    "    s_tensor = torch.tensor([char_to_idx[c] for c in s]).unsqueeze(0)\n",
    "    s_ohe = one_hot_encode(s_tensor, vocab_size, s_tensor.size(1), batch_size)\n",
    "    hidden = model.init_hidden(batch_size)\n",
    "    for c_i in range(s_ohe.size(1)):\n",
    "#         output, hidden = rnn(s_ohe[:, c_i, :].unsqueeze(1), hidden)\n",
    "        \n",
    "    prob = F.softmax(output, dim=2)\n",
    "    \n",
    "    last_prob = prob[0, -1]\n",
    "    argmax_idx = last_prob.argmax()\n",
    "    sample_idx = last_prob.multinomial(num_samples=1, replacement=True)\n",
    "    pred_char = idx_to_char[sample_idx.item()]\n",
    "    if argmax:\n",
    "        pred_char = idx_to_char[argmax_idx.item()]\n",
    "    \n",
    "    return pred_char, hidden"
   ]
  },
  {
   "cell_type": "code",
   "execution_count": 155,
   "metadata": {},
   "outputs": [],
   "source": [
    "def predict_n_from_seed(n, seed, model):\n",
    "    model = model.cpu()\n",
    "    output = seed\n",
    "    with torch.no_grad():\n",
    "        for _ in range(n - len(output)):\n",
    "            c, h = predict_one(model, output)\n",
    "            output += c\n",
    "    return output"
   ]
  },
  {
   "cell_type": "code",
   "execution_count": 156,
   "metadata": {},
   "outputs": [
    {
     "ename": "RuntimeError",
     "evalue": "invalid multinomial distribution (encountering probability entry < 0)",
     "output_type": "error",
     "traceback": [
      "\u001b[0;31m---------------------------------------------------------------------------\u001b[0m",
      "\u001b[0;31mRuntimeError\u001b[0m                              Traceback (most recent call last)",
      "\u001b[0;32m<ipython-input-156-c9a24617a526>\u001b[0m in \u001b[0;36m<module>\u001b[0;34m\u001b[0m\n\u001b[0;32m----> 1\u001b[0;31m \u001b[0mpredict_n_from_seed\u001b[0m\u001b[0;34m(\u001b[0m\u001b[0;36m200\u001b[0m\u001b[0;34m,\u001b[0m \u001b[0;34m'We all live in'\u001b[0m\u001b[0;34m,\u001b[0m \u001b[0mrnn\u001b[0m\u001b[0;34m)\u001b[0m\u001b[0;34m\u001b[0m\u001b[0;34m\u001b[0m\u001b[0m\n\u001b[0m",
      "\u001b[0;32m<ipython-input-155-aff4140baa76>\u001b[0m in \u001b[0;36mpredict_n_from_seed\u001b[0;34m(n, seed, model)\u001b[0m\n\u001b[1;32m      4\u001b[0m     \u001b[0;32mwith\u001b[0m \u001b[0mtorch\u001b[0m\u001b[0;34m.\u001b[0m\u001b[0mno_grad\u001b[0m\u001b[0;34m(\u001b[0m\u001b[0;34m)\u001b[0m\u001b[0;34m:\u001b[0m\u001b[0;34m\u001b[0m\u001b[0;34m\u001b[0m\u001b[0m\n\u001b[1;32m      5\u001b[0m         \u001b[0;32mfor\u001b[0m \u001b[0m_\u001b[0m \u001b[0;32min\u001b[0m \u001b[0mrange\u001b[0m\u001b[0;34m(\u001b[0m\u001b[0mn\u001b[0m \u001b[0;34m-\u001b[0m \u001b[0mlen\u001b[0m\u001b[0;34m(\u001b[0m\u001b[0moutput\u001b[0m\u001b[0;34m)\u001b[0m\u001b[0;34m)\u001b[0m\u001b[0;34m:\u001b[0m\u001b[0;34m\u001b[0m\u001b[0;34m\u001b[0m\u001b[0m\n\u001b[0;32m----> 6\u001b[0;31m             \u001b[0mc\u001b[0m\u001b[0;34m,\u001b[0m \u001b[0mh\u001b[0m \u001b[0;34m=\u001b[0m \u001b[0mpredict_one\u001b[0m\u001b[0;34m(\u001b[0m\u001b[0mmodel\u001b[0m\u001b[0;34m,\u001b[0m \u001b[0moutput\u001b[0m\u001b[0;34m)\u001b[0m\u001b[0;34m\u001b[0m\u001b[0;34m\u001b[0m\u001b[0m\n\u001b[0m\u001b[1;32m      7\u001b[0m             \u001b[0moutput\u001b[0m \u001b[0;34m+=\u001b[0m \u001b[0mc\u001b[0m\u001b[0;34m\u001b[0m\u001b[0;34m\u001b[0m\u001b[0m\n\u001b[1;32m      8\u001b[0m     \u001b[0;32mreturn\u001b[0m \u001b[0moutput\u001b[0m\u001b[0;34m\u001b[0m\u001b[0;34m\u001b[0m\u001b[0m\n",
      "\u001b[0;32m<ipython-input-154-7fa2947dfa7e>\u001b[0m in \u001b[0;36mpredict_one\u001b[0;34m(model, s, argmax)\u001b[0m\n\u001b[1;32m     12\u001b[0m     \u001b[0mlast_prob\u001b[0m \u001b[0;34m=\u001b[0m \u001b[0mprob\u001b[0m\u001b[0;34m[\u001b[0m\u001b[0;36m0\u001b[0m\u001b[0;34m,\u001b[0m \u001b[0;34m-\u001b[0m\u001b[0;36m1\u001b[0m\u001b[0;34m]\u001b[0m\u001b[0;34m\u001b[0m\u001b[0;34m\u001b[0m\u001b[0m\n\u001b[1;32m     13\u001b[0m     \u001b[0margmax_idx\u001b[0m \u001b[0;34m=\u001b[0m \u001b[0mlast_prob\u001b[0m\u001b[0;34m.\u001b[0m\u001b[0margmax\u001b[0m\u001b[0;34m(\u001b[0m\u001b[0;34m)\u001b[0m\u001b[0;34m\u001b[0m\u001b[0;34m\u001b[0m\u001b[0m\n\u001b[0;32m---> 14\u001b[0;31m     \u001b[0msample_idx\u001b[0m \u001b[0;34m=\u001b[0m \u001b[0mlast_prob\u001b[0m\u001b[0;34m.\u001b[0m\u001b[0mmultinomial\u001b[0m\u001b[0;34m(\u001b[0m\u001b[0mnum_samples\u001b[0m\u001b[0;34m=\u001b[0m\u001b[0;36m1\u001b[0m\u001b[0;34m,\u001b[0m \u001b[0mreplacement\u001b[0m\u001b[0;34m=\u001b[0m\u001b[0;32mTrue\u001b[0m\u001b[0;34m)\u001b[0m\u001b[0;34m\u001b[0m\u001b[0;34m\u001b[0m\u001b[0m\n\u001b[0m\u001b[1;32m     15\u001b[0m     \u001b[0mpred_char\u001b[0m \u001b[0;34m=\u001b[0m \u001b[0midx_to_char\u001b[0m\u001b[0;34m[\u001b[0m\u001b[0msample_idx\u001b[0m\u001b[0;34m.\u001b[0m\u001b[0mitem\u001b[0m\u001b[0;34m(\u001b[0m\u001b[0;34m)\u001b[0m\u001b[0;34m]\u001b[0m\u001b[0;34m\u001b[0m\u001b[0;34m\u001b[0m\u001b[0m\n\u001b[1;32m     16\u001b[0m     \u001b[0;32mif\u001b[0m \u001b[0margmax\u001b[0m\u001b[0;34m:\u001b[0m\u001b[0;34m\u001b[0m\u001b[0;34m\u001b[0m\u001b[0m\n",
      "\u001b[0;31mRuntimeError\u001b[0m: invalid multinomial distribution (encountering probability entry < 0)"
     ]
    }
   ],
   "source": [
    "predict_n_from_seed(200, 'We all live in', rnn)"
   ]
  },
  {
   "cell_type": "code",
   "execution_count": null,
   "metadata": {},
   "outputs": [],
   "source": []
  }
 ],
 "metadata": {
  "kernelspec": {
   "display_name": "Python 3",
   "language": "python",
   "name": "python3"
  },
  "language_info": {
   "codemirror_mode": {
    "name": "ipython",
    "version": 3
   },
   "file_extension": ".py",
   "mimetype": "text/x-python",
   "name": "python",
   "nbconvert_exporter": "python",
   "pygments_lexer": "ipython3",
   "version": "3.8.6"
  }
 },
 "nbformat": 4,
 "nbformat_minor": 4
}
