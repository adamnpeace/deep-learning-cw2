{
 "cells": [
  {
   "cell_type": "code",
   "execution_count": 57,
   "metadata": {},
   "outputs": [],
   "source": [
    "import numpy as np\n",
    "import time\n",
    "import torch\n",
    "import torch.nn as nn\n",
    "import torch.nn.functional as F\n",
    "import torch.optim as optim\n",
    "from matplotlib import pyplot as plt\n",
    "%matplotlib inline"
   ]
  },
  {
   "cell_type": "code",
   "execution_count": 2,
   "metadata": {},
   "outputs": [],
   "source": [
    "import string\n",
    "import unicodedata\n",
    "\n",
    "!curl -fsS https://nlp.stanford.edu/sentiment/trainDevTestTrees_PTB.zip -o /tmp/trainDevTestTrees_PTB.zip\n",
    "!unzip -q -o -d ./data /tmp/trainDevTestTrees_PTB.zip\n",
    "!rm -f /tmp/trainDevTestTrees_PTB.zip\n",
    "\n",
    "def loadsst(path):\n",
    "    xs = []\n",
    "    ys = []\n",
    "    file1 = open(path, 'r')\n",
    "    Lines = file1.readlines()\n",
    "    for line in Lines:\n",
    "        soup = line.split()\n",
    "        ys.append(int(soup[0].lstrip('(')))\n",
    "        tokens = []\n",
    "        for chunk in soup[2:]:\n",
    "            if not chunk.endswith(\")\"):\n",
    "                continue\n",
    "            tokens.append(chunk.rstrip(')'))\n",
    "        xs.append(tokens)\n",
    "    return xs, ys\n",
    "\n",
    "ssttrainxs, ssttrainys = loadsst(\"./data/trees/train.txt\")\n",
    "sstvalidxs, sstvalidys = loadsst(\"./data/trees/dev.txt\")\n",
    "ssttestxs, ssttestys = loadsst(\"./data/trees/test.txt\")\n",
    "\n",
    "all_letters = string.ascii_letters + ' .,;:\\'-#!/\"=&$|_'\n",
    "n_letters = len(all_letters)\n",
    "\n",
    "# https://stackoverflow.com/a/518232/2809427\n",
    "def unicodeToAscii(s):\n",
    "    return ''.join(\n",
    "        c for c in unicodedata.normalize('NFD', s)\n",
    "        if unicodedata.category(c) != 'Mn'\n",
    "        and c in all_letters\n",
    "    )\n",
    "\n",
    "def normalize(string):\n",
    "    for i in range(len(string)):\n",
    "        replacements = [(\" ,\", \",\"), (\" .\", \".\"), (\" '\", \"'\"), \n",
    "                        (\"\\/\", \"/\"), (\" ;\", \";\"), (\" :\", \":\"),\n",
    "                        (\" %\", \"%\"), (u\"æ\", \"ae\"), (u\"Æ\", \"AE\"), \n",
    "                        (u\"œ\", \"oe\"), (u\"Œ\", \"OE\"), (\"-LRB- \", \"(\"), \n",
    "                        (\" -RRB-\", \")\"), (\"-LRB-\", \"(\"), (\"-RRB-\", \")\"),\n",
    "                        (\" n't\", \"n't\"), (\"`` \", '\"'), (\"``\", '\"'),\n",
    "                        (\"''\", '\"'), (\"` \", \"'\"), (\"$ \", \"$\"),\n",
    "                        (\" !\", \"!\"), (\"\\\\\", \"\")]\n",
    "        for to_replace, replacement in replacements:\n",
    "            string = string.replace(to_replace, replacement)\n",
    "    return unicodeToAscii(string)\n",
    "\n",
    "def get_normalized_dataset(dataset):\n",
    "    return [normalize(\" \".join(sentence)) for sentence in dataset]\n",
    "\n",
    "trainxs_corpus = \"_\".join(get_normalized_dataset(ssttrainxs))\n",
    "validxs_corpus = \"_\".join(get_normalized_dataset(sstvalidxs))\n",
    "testxs_corpus = \"_\".join(get_normalized_dataset(ssttestxs))\n",
    "\n",
    "seq_len = 200\n",
    "\n",
    "corpus_to_ss = lambda corpus: [corpus[(i*200):((i+1)*200)] for i in range(len(corpus) // seq_len)]\n",
    "trainxs_sentences = corpus_to_ss(trainxs_corpus)"
   ]
  },
  {
   "cell_type": "code",
   "execution_count": 6,
   "metadata": {},
   "outputs": [
    {
     "name": "stdout",
     "output_type": "stream",
     "text": [
      "4292 sentences, 67 letters in vocab, max seq len is 200\n"
     ]
    }
   ],
   "source": [
    "vocab = sorted(list(set(trainxs_corpus)))\n",
    "n_sentences, vocab_size = len(trainxs_sentences), len(vocab)\n",
    "maxlen = len(max(trainxs_sentences, key=len))\n",
    "char_to_idx = { ch:idx for idx,ch in enumerate(vocab) }\n",
    "idx_to_char = { idx:ch for idx,ch in enumerate(vocab) }\n",
    "print(\"{} sentences, {} letters in vocab, max seq len is {}\".format(n_sentences, vocab_size, maxlen))"
   ]
  },
  {
   "cell_type": "code",
   "execution_count": 7,
   "metadata": {},
   "outputs": [],
   "source": [
    "def pad_inputs(sentences, maxlen):\n",
    "    for i in range(len(sentences)):\n",
    "        while len(sentences[i]) < maxlen:\n",
    "            sentences[i] += ' '\n",
    "    return sentences\n",
    "trainxs = pad_inputs(trainxs_sentences, maxlen)"
   ]
  },
  {
   "cell_type": "code",
   "execution_count": 8,
   "metadata": {},
   "outputs": [],
   "source": [
    "def get_input_target(ss):\n",
    "    \"\"\"Get input and target from padded sentences\"\"\"\n",
    "    input_ss = []\n",
    "    target_ss = []\n",
    "    for i in range(len(ss)):\n",
    "        input_ss.append([char_to_idx[c] for c in ss[i][:-1]])\n",
    "        target_ss.append([char_to_idx[c] for c in ss[i][1:]])\n",
    "    return input_ss, target_ss\n",
    "input_ss, target_ss = get_input_target(trainxs)"
   ]
  },
  {
   "cell_type": "code",
   "execution_count": 9,
   "metadata": {},
   "outputs": [
    {
     "name": "stdout",
     "output_type": "stream",
     "text": [
      "[33, 48, 45, 0, 31, 55, 43, 51, 0, 49, 59, 0, 44, 45, 59, 60, 49, 54, 45, 44, 0, 60, 55, 0, 42, 45, 0, 60, 48, 45, 0, 59, 60, 0, 16, 45, 54, 60, 61, 58, 65, 6, 59, 0, 54, 45, 63, 0, 2, 16, 55, 54, 41, 54, 2, 0, 41, 54, 44, 0, 60, 48, 41, 60, 0, 48, 45, 6, 59, 0, 47, 55, 49, 54, 47, 0, 60, 55, 0, 53, 41, 51, 45, 0, 41, 0, 59, 56, 52, 41, 59, 48, 0, 45, 62, 45, 54, 0, 47, 58, 45, 41, 60, 45, 58, 0, 60, 48, 41, 54, 0, 14, 58, 54, 55, 52, 44, 0, 32, 43, 48, 63, 41, 58, 66, 45, 54, 45, 47, 47, 45, 58, 7, 0, 23, 45, 41, 54, 8, 16, 52, 41, 61, 44, 0, 35, 41, 54, 0, 17, 41, 53, 53, 45, 0, 55, 58, 0, 32, 60, 45, 62, 45, 54, 0, 32, 45, 47, 41, 52, 9, 40, 33, 48, 45, 0, 47, 55, 58, 47, 45, 55, 61, 59, 52, 65, 0, 45, 52, 41, 42, 55, 58, 41, 60, 45, 0, 43, 55]\n",
      "[48, 45, 0, 31, 55, 43, 51, 0, 49, 59, 0, 44, 45, 59, 60, 49, 54, 45, 44, 0, 60, 55, 0, 42, 45, 0, 60, 48, 45, 0, 59, 60, 0, 16, 45, 54, 60, 61, 58, 65, 6, 59, 0, 54, 45, 63, 0, 2, 16, 55, 54, 41, 54, 2, 0, 41, 54, 44, 0, 60, 48, 41, 60, 0, 48, 45, 6, 59, 0, 47, 55, 49, 54, 47, 0, 60, 55, 0, 53, 41, 51, 45, 0, 41, 0, 59, 56, 52, 41, 59, 48, 0, 45, 62, 45, 54, 0, 47, 58, 45, 41, 60, 45, 58, 0, 60, 48, 41, 54, 0, 14, 58, 54, 55, 52, 44, 0, 32, 43, 48, 63, 41, 58, 66, 45, 54, 45, 47, 47, 45, 58, 7, 0, 23, 45, 41, 54, 8, 16, 52, 41, 61, 44, 0, 35, 41, 54, 0, 17, 41, 53, 53, 45, 0, 55, 58, 0, 32, 60, 45, 62, 45, 54, 0, 32, 45, 47, 41, 52, 9, 40, 33, 48, 45, 0, 47, 55, 58, 47, 45, 55, 61, 59, 52, 65, 0, 45, 52, 41, 42, 55, 58, 41, 60, 45, 0, 43, 55, 54]\n"
     ]
    }
   ],
   "source": [
    "print(input_ss[0])\n",
    "print(target_ss[0])"
   ]
  },
  {
   "cell_type": "code",
   "execution_count": 10,
   "metadata": {},
   "outputs": [],
   "source": [
    "# Hyperparameters\n",
    "seq_len = maxlen - 1\n",
    "batch_size = n_sentences\n",
    "n_epochs = 200\n",
    "lr = 0.01"
   ]
  },
  {
   "cell_type": "code",
   "execution_count": 11,
   "metadata": {},
   "outputs": [],
   "source": [
    "def one_hot_encode(ss, vocab_size, seq_len, batch_size):\n",
    "    tensor = torch.zeros(batch_size, seq_len, vocab_size)\n",
    "    for i in range(batch_size):\n",
    "        for j in range(seq_len):\n",
    "            tensor[i, j, ss[i][j]] = 1\n",
    "    return tensor"
   ]
  },
  {
   "cell_type": "code",
   "execution_count": 12,
   "metadata": {},
   "outputs": [],
   "source": [
    "input_ohe = one_hot_encode(input_ss, vocab_size, seq_len, batch_size)\n",
    "target_tensor = torch.Tensor(target_ss) # No OHE necessary"
   ]
  },
  {
   "cell_type": "code",
   "execution_count": 13,
   "metadata": {},
   "outputs": [],
   "source": [
    "# device = torch.device(\"cpu\")\n",
    "# if torch.cuda.is_available: device = torch.device(\"cuda\")"
   ]
  },
  {
   "cell_type": "code",
   "execution_count": 14,
   "metadata": {},
   "outputs": [],
   "source": [
    "class RNN(nn.Module):\n",
    "    def __init__(self, input_size, output_size, hidden_size):\n",
    "        super(RNN, self).__init__()\n",
    "\n",
    "        self.hidden_size = hidden_size\n",
    "\n",
    "        # define Layers\n",
    "        self.rnn = nn.RNN(input_size, hidden_size, 1, batch_first=True)\n",
    "        self.fc = nn.Linear(hidden_size, output_size)\n",
    "\n",
    "    def forward(self, input):\n",
    "        batch_size = input.size(0)\n",
    "        \n",
    "        # Init hidden state for first input\n",
    "        hidden = self.init_hidden(batch_size)\n",
    "        \n",
    "        # pass input and hidden state into the model\n",
    "        output, hidden = self.rnn(input, hidden)\n",
    "        \n",
    "        # reshape outputs so it can pass into fc layer\n",
    "        output = output.contiguous().view(-1, self.hidden_size)\n",
    "        output = self.fc(output)\n",
    "        \n",
    "        return output, hidden\n",
    "\n",
    "    def init_hidden(self, batch_size):\n",
    "        return torch.zeros(1, batch_size, self.hidden_size)"
   ]
  },
  {
   "cell_type": "code",
   "execution_count": 15,
   "metadata": {},
   "outputs": [],
   "source": [
    "rnn = RNN(input_size=vocab_size, output_size=vocab_size, hidden_size=23)"
   ]
  },
  {
   "cell_type": "code",
   "execution_count": 17,
   "metadata": {},
   "outputs": [],
   "source": [
    "criterion = nn.CrossEntropyLoss()\n",
    "optimizer = optim.Adam(rnn.parameters(), lr=lr)"
   ]
  },
  {
   "cell_type": "code",
   "execution_count": 18,
   "metadata": {},
   "outputs": [
    {
     "name": "stdout",
     "output_type": "stream",
     "text": [
      "Epoch: 10/200............. Loss: 3.1532\n",
      "Epoch: 20/200............. Loss: 3.1122\n",
      "Epoch: 30/200............. Loss: 3.0791\n",
      "Epoch: 40/200............. Loss: 3.0236\n",
      "Epoch: 50/200............. Loss: 2.9526\n",
      "Epoch: 60/200............. Loss: 2.8553\n",
      "Epoch: 70/200............. Loss: 2.7548\n",
      "Epoch: 80/200............. Loss: 2.6610\n",
      "Epoch: 90/200............. Loss: 2.5838\n",
      "Epoch: 100/200............. Loss: 2.5232\n",
      "Epoch: 110/200............. Loss: 2.4751\n",
      "Epoch: 120/200............. Loss: 2.4362\n",
      "Epoch: 130/200............. Loss: 2.4026\n",
      "Epoch: 140/200............. Loss: 2.3741\n",
      "Epoch: 150/200............. Loss: 2.3497\n",
      "Epoch: 160/200............. Loss: 2.3295\n",
      "Epoch: 170/200............. Loss: 2.3121\n",
      "Epoch: 180/200............. Loss: 2.2967\n",
      "Epoch: 190/200............. Loss: 2.2824\n",
      "Epoch: 200/200............. Loss: 2.2691\n"
     ]
    }
   ],
   "source": [
    "# Training Run\n",
    "loss_ary = []\n",
    "for epoch in range(1, n_epochs + 1):\n",
    "    optimizer.zero_grad() # Clears existing gradients from previous epoch\n",
    "    \n",
    "    output, hidden = rnn(input_ohe)\n",
    "    loss = criterion(output, target_tensor.view(-1).long())\n",
    "    loss.backward() # Does backpropagation and calculates gradients\n",
    "    optimizer.step() # Updates the weights accordingly\n",
    "    \n",
    "    if epoch%10 == 0:\n",
    "        print('Epoch: {}/{}.............'.format(epoch, n_epochs), end=' ')\n",
    "        print(\"Loss: {:.4f}\".format(loss.item()))\n",
    "    loss_ary.append(loss)"
   ]
  },
  {
   "cell_type": "code",
   "execution_count": 49,
   "metadata": {},
   "outputs": [],
   "source": [
    "def sample_idx_from_prob(prob):\n",
    "    idx = prob.multinomial(num_samples=1, replacement=True)\n",
    "    return idx.item()\n",
    "\n",
    "def predict(model, s):\n",
    "    s = np.array([[char_to_idx[c] for c in s]])\n",
    "    s_ohe = one_hot_encode(s, vocab_size, s.shape[1], 1)\n",
    "    \n",
    "    out, _ = model(s_ohe)\n",
    "\n",
    "    prob = F.softmax(out[-1], dim=0)\n",
    "#     print(prob)\n",
    "#     print(prob.data)\n",
    "\n",
    "#     out_idx = torch.max(prob, dim=0)[1].item()\n",
    "    out_idx = sample_idx_from_prob(prob)\n",
    "\n",
    "    return idx_to_char[out_idx], hidden"
   ]
  },
  {
   "cell_type": "code",
   "execution_count": 50,
   "metadata": {},
   "outputs": [],
   "source": [
    "# This function takes the desired output length and input characters as arguments, returning the produced sentence\n",
    "def sample(model, out_len, start='hey'):\n",
    "    model.eval() # eval mode\n",
    "    start = start.lower()\n",
    "    # First off, run through the starting characters\n",
    "    chars = [ch for ch in start]\n",
    "    size = out_len - len(chars)\n",
    "    # Now pass in the previous characters and get a new one\n",
    "    for ii in range(size):\n",
    "        char, h = predict(model, chars)\n",
    "        chars.append(char)\n",
    "\n",
    "    return ''.join(chars)"
   ]
  },
  {
   "cell_type": "code",
   "execution_count": 54,
   "metadata": {},
   "outputs": [
    {
     "data": {
      "text/plain": [
       "'good that auccares of ha that by ac rabet offe woncere pror tivioA Blrimcalemppeesssist._Hiturnon mot analike thishi mat cronaly\\'s wontyan ateresrllemea ssam itek\" erooull in tostor._V ougoy een soulu'"
      ]
     },
     "execution_count": 54,
     "metadata": {},
     "output_type": "execute_result"
    }
   ],
   "source": [
    "sample(rnn, 200, 'good')"
   ]
  },
  {
   "cell_type": "code",
   "execution_count": 58,
   "metadata": {},
   "outputs": [
    {
     "data": {
      "text/plain": [
       "[<matplotlib.lines.Line2D at 0x7f5bfcf24670>]"
      ]
     },
     "execution_count": 58,
     "metadata": {},
     "output_type": "execute_result"
    },
    {
     "data": {
      "image/png": "[encoded data removed]",
      "text/plain": [
       "<Figure size 432x288 with 1 Axes>"
      ]
     },
     "metadata": {
      "needs_background": "light"
     },
     "output_type": "display_data"
    }
   ],
   "source": [
    "plt.plot(loss_ary)"
   ]
  },
  {
   "cell_type": "code",
   "execution_count": null,
   "metadata": {},
   "outputs": [],
   "source": []
  }
 ],
 "metadata": {
  "kernelspec": {
   "display_name": "Python 3",
   "language": "python",
   "name": "python3"
  },
  "language_info": {
   "codemirror_mode": {
    "name": "ipython",
    "version": 3
   },
   "file_extension": ".py",
   "mimetype": "text/x-python",
   "name": "python",
   "nbconvert_exporter": "python",
   "pygments_lexer": "ipython3",
   "version": "3.8.6"
  }
 },
 "nbformat": 4,
 "nbformat_minor": 4
}
