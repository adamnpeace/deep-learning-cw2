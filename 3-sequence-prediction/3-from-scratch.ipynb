{
 "cells": [
  {
   "cell_type": "markdown",
   "metadata": {},
   "source": [
    "# Work in Progress"
   ]
  },
  {
   "cell_type": "code",
   "execution_count": 1,
   "metadata": {},
   "outputs": [],
   "source": [
    "import sys\n",
    "import numpy as np\n",
    "import torch\n",
    "import torch.nn as nn\n",
    "import torch.optim as optim"
   ]
  },
  {
   "cell_type": "code",
   "execution_count": 12,
   "metadata": {},
   "outputs": [
    {
     "name": "stdout",
     "output_type": "stream",
     "text": [
      "data has 858720 characters, 67 unique.\n"
     ]
    }
   ],
   "source": [
    "# data I/O\n",
    "data = open('./data/train_corpus.txt', 'r').read() # should be simple plain text file\n",
    "# data = data[:1000]\n",
    "chars = list(set(data))\n",
    "data_size, vocab_size = len(data), len(chars)\n",
    "print('data has %d characters, %d unique.' % (data_size, vocab_size))\n",
    "char_to_idx = { ch:i for i,ch in enumerate(chars) }\n",
    "idx_to_char = { i:ch for i,ch in enumerate(chars) }"
   ]
  },
  {
   "cell_type": "code",
   "execution_count": 3,
   "metadata": {},
   "outputs": [],
   "source": [
    "# BOOOOOO Python loops too slowwww 👎\n",
    "class RNN(nn.Module):\n",
    "    def __init__(self, vocab_size, hidden_size):\n",
    "        super(RNN, self).__init__()\n",
    "        self.vocab_size = vocab_size\n",
    "        self.hidden_size = hidden_size\n",
    "        \n",
    "        self.Wxh = nn.Parameter(torch.randn(hidden_size, vocab_size) * 1e-2) # Xavier init\n",
    "        self.Whh = nn.Parameter(torch.randn(hidden_size, hidden_size) * 1e-2)\n",
    "        self.Why = nn.Parameter(torch.randn(vocab_size, hidden_size) * 1e-2)\n",
    "        self.bh = nn.Parameter(torch.zeros(hidden_size, 1))\n",
    "        self.by = nn.Parameter(torch.zeros(vocab_size, 1))\n",
    "        \n",
    "    def forward(self, input, hidden):\n",
    "        x = torch.zeros(vocab_size, 1)\n",
    "        x[input] = 1\n",
    "        hidden = torch.tanh(torch.mm(self.Wxh, x) + torch.mm(self.Whh, hidden + self.bh))\n",
    "        output = torch.mm(self.Why, hidden) + self.by # unnormalized log probs\n",
    "        output = torch.softmax(output, 0)\n",
    "        return output, hidden\n",
    "    \n",
    "    def init_hidden(self):\n",
    "        return torch.zeros(hidden_size, 1)\n",
    "    \n",
    "# hyperparameters\n",
    "hidden_size = 51\n",
    "seq_length = 23\n",
    "lr = 1e-2\n",
    "n_epochs = 400\n",
    "\n",
    "def train_slow(data, vocab_size, hidden_size, seq_length, lr, n_epochs):\n",
    "    rnn = RNN(vocab_size, hidden_size)\n",
    "\n",
    "    criterion = nn.NLLLoss()\n",
    "    optimizer = optim.Adam(rnn.parameters(), lr=lr)\n",
    "    batch_size = len(data) // seq_length \n",
    "    for epoch in range(100):\n",
    "        loss = 0\n",
    "        for batch_i in range(batch_size):\n",
    "            rnn.zero_grad()\n",
    "            hidden = rnn.init_hidden()\n",
    "            s = data[batch_i*seq_length:(batch_i+1)*seq_length+1]\n",
    "            input = [char_to_idx[c] for c in s[:-1]]\n",
    "            target = torch.Tensor([char_to_idx[c] for c in \n",
    "                                   s[1:]]).unsqueeze(1).long()\n",
    "            for t in range(seq_length-1):\n",
    "                output, hidden = rnn(input[t], hidden)\n",
    "                this_target = torch.tensor([target[t]])\n",
    "                loss += criterion(torch.log(output).T, target[t])\n",
    "        loss /= len(input) * num_seqs\n",
    "        loss.backward()\n",
    "        optimizer.step()\n",
    "        if epoch%10==0: print(\"Epoch {}, Loss: {}\".format(epoch, loss))\n",
    "    return rnn\n",
    "\n",
    "# model = train_slow(data, vocab_size, hidden_size, seq_length, lr, n_epochs)\n",
    "\n",
    "def test(data, model):\n",
    "    offset = 0\n",
    "    with torch.no_grad():\n",
    "        s = data[offset*seq_length:(offset+1)*seq_length+50]\n",
    "        input = [char_to_idx[c] for c in s]\n",
    "        print(s)\n",
    "        sys.stdout.write(s[0])\n",
    "        hidden = model.init_hidden()\n",
    "        for i in input:\n",
    "            output, hidden = model(i, hidden)\n",
    "            next_char = idx_to_char[int(output.argmax())]\n",
    "            sys.stdout.write(next_char)\n",
    "# test(data, model)"
   ]
  },
  {
   "cell_type": "code",
   "execution_count": null,
   "metadata": {},
   "outputs": [],
   "source": []
  }
 ],
 "metadata": {
  "kernelspec": {
   "display_name": "Python 3",
   "language": "python",
   "name": "python3"
  },
  "language_info": {
   "codemirror_mode": {
    "name": "ipython",
    "version": 3
   },
   "file_extension": ".py",
   "mimetype": "text/x-python",
   "name": "python",
   "nbconvert_exporter": "python",
   "pygments_lexer": "ipython3",
   "version": "3.8.6"
  }
 },
 "nbformat": 4,
 "nbformat_minor": 4
}
