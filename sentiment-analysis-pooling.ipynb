{
 "cells": [
  {
   "cell_type": "markdown",
   "metadata": {},
   "source": [
    "# Bag Of Vectors Sentiment Analysis\n",
    "\n",
    "Using:\n",
    "\n",
    "- Pooling for dimensionality reduction of the input sequences\n",
    "- Feedforward network to map to an output"
   ]
  },
  {
   "cell_type": "code",
   "execution_count": 1,
   "metadata": {
    "id": "hSqQCDdSesiE"
   },
   "outputs": [],
   "source": [
    "import os, sys, csv, time, string, unicodedata\n",
    "from copy import deepcopy\n",
    "\n",
    "import numpy as np\n",
    "import matplotlib.pyplot as plt\n",
    "\n",
    "import torch\n",
    "import torch.nn as nn\n",
    "import torch.optim as optim\n",
    "\n",
    "import torchtext as tt\n",
    "\n",
    "device = torch.device(\"cuda:0\" if torch.cuda.is_available() else \"cpu\")"
   ]
  },
  {
   "cell_type": "markdown",
   "metadata": {},
   "source": [
    "## Data Loading"
   ]
  },
  {
   "cell_type": "code",
   "execution_count": 2,
   "metadata": {
    "id": "tUhoRqaB1xR3"
   },
   "outputs": [],
   "source": [
    "!curl -fsS https://nlp.stanford.edu/sentiment/trainDevTestTrees_PTB.zip -o /tmp/trainDevTestTrees_PTB.zip\n",
    "!unzip -q -o -d ./data /tmp/trainDevTestTrees_PTB.zip\n",
    "!rm -f /tmp/trainDevTestTrees_PTB.zip"
   ]
  },
  {
   "cell_type": "code",
   "execution_count": 3,
   "metadata": {},
   "outputs": [],
   "source": [
    "def get_dataset(path):\n",
    "    dataset = [[0, 0]]\n",
    "    for line in open(path, 'r').readlines():\n",
    "        soup = line.split()\n",
    "        tokens = []\n",
    "        for chunk in soup[2:]:\n",
    "            if not chunk.endswith(\")\"):\n",
    "                continue\n",
    "            tokens.append(chunk.rstrip(')'))\n",
    "        dataset.append([\n",
    "            ' '.join(tokens), \n",
    "            int(soup[0].lstrip('('))])\n",
    "    return dataset\n",
    "\n",
    "with open(\"./data/train.csv\", \"w\") as f:\n",
    "    csv.writer(f).writerows(get_dataset(\"./data/trees/train.txt\"))\n",
    "with open(\"./data/val.csv\", \"w\") as f:\n",
    "    csv.writer(f).writerows(get_dataset(\"./data/trees/dev.txt\"))\n",
    "with open(\"./data/test.csv\", \"w\") as f:\n",
    "    csv.writer(f).writerows(get_dataset(\"./data/trees/test.txt\"))"
   ]
  },
  {
   "cell_type": "code",
   "execution_count": 4,
   "metadata": {},
   "outputs": [
    {
     "name": "stderr",
     "output_type": "stream",
     "text": [
      "/home/dojo/.pyenv/versions/3.8.6/envs/c0090/lib/python3.8/site-packages/torchtext/data/field.py:150: UserWarning: Field class will be retired soon and moved to torchtext.legacy. Please see the most recent release notes for further information.\n",
      "  warnings.warn('{} class will be retired soon and moved to torchtext.legacy. Please see the most recent release notes for further information.'.format(self.__class__.__name__), UserWarning)\n",
      "/home/dojo/.pyenv/versions/3.8.6/envs/c0090/lib/python3.8/site-packages/torchtext/data/field.py:150: UserWarning: LabelField class will be retired soon and moved to torchtext.legacy. Please see the most recent release notes for further information.\n",
      "  warnings.warn('{} class will be retired soon and moved to torchtext.legacy. Please see the most recent release notes for further information.'.format(self.__class__.__name__), UserWarning)\n",
      "/home/dojo/.pyenv/versions/3.8.6/envs/c0090/lib/python3.8/site-packages/torchtext/data/example.py:68: UserWarning: Example class will be retired soon and moved to torchtext.legacy. Please see the most recent release notes for further information.\n",
      "  warnings.warn('Example class will be retired soon and moved to torchtext.legacy. Please see the most recent release notes for further information.', UserWarning)\n",
      "/home/dojo/.pyenv/versions/3.8.6/envs/c0090/lib/python3.8/site-packages/torchtext/data/example.py:78: UserWarning: Example class will be retired soon and moved to torchtext.legacy. Please see the most recent release notes for further information.\n",
      "  warnings.warn('Example class will be retired soon and moved to torchtext.legacy. Please see the most recent release notes for further information.', UserWarning)\n"
     ]
    }
   ],
   "source": [
    "TEXT = tt.data.Field(tokenize = 'spacy')\n",
    "LABEL = tt.data.LabelField()\n",
    "fields = [('Text', TEXT), ('Label', LABEL)]\n",
    "\n",
    "train_data, val_data, test_data = tt.data.TabularDataset.splits(path='./data', \n",
    "                                            format='csv', \n",
    "                                            train='train.csv', \n",
    "                                            validation='val.csv', \n",
    "                                            test='test.csv',\n",
    "                                            fields=fields, \n",
    "                                            skip_header=True)"
   ]
  },
  {
   "cell_type": "code",
   "execution_count": 5,
   "metadata": {
    "colab": {
     "base_uri": "https://localhost:8080/"
    },
    "id": "kEVXjGIRMern",
    "outputId": "58106903-e493-4327-a51e-a7747070ac3d"
   },
   "outputs": [],
   "source": [
    "# load pretrained vectors\n",
    "import gensim.downloader as api\n",
    "w2v = api.load('word2vec-google-news-300')"
   ]
  },
  {
   "cell_type": "code",
   "execution_count": 22,
   "metadata": {
    "colab": {
     "base_uri": "https://localhost:8080/"
    },
    "id": "8d4YJSWLKNx-",
    "outputId": "0cf3ca52-abdf-4621-b554-964d8542a26d"
   },
   "outputs": [
    {
     "data": {
      "text/plain": [
       "torch.Size([17199, 300])"
      ]
     },
     "execution_count": 22,
     "metadata": {},
     "output_type": "execute_result"
    }
   ],
   "source": [
    "TEXT.build_vocab(train_data)\n",
    "\n",
    "LABEL.build_vocab(train_data)\n",
    "\n",
    "embedding_matrix = np.zeros((len(TEXT.vocab), 300))\n",
    "\n",
    "for index,word in enumerate(TEXT.vocab.stoi):\n",
    "    try:\n",
    "        # update embedding matrix using pretrained vectors if defined\n",
    "        embedding_matrix[index] = w2v[word] \n",
    "    except:\n",
    "        # else keep as zero\n",
    "        pass\n",
    "\n",
    "# we want to convert it to a tensor when done\n",
    "em = torch.from_numpy(embedding_matrix)\n",
    "EMBEDDING_SIZE = em.size(1)\n",
    "em.size()"
   ]
  },
  {
   "cell_type": "markdown",
   "metadata": {
    "id": "3a7fsdwgW870"
   },
   "source": [
    "# Model Definition\n",
    "\n",
    "We want to get embeddings for each word in a sentence, then corresponding vectors (so say for a sentence 'cat dog' we'd have a shape of 2x300), then we yse the RNN to obtain a fixed representation - i.e. no matter how many wods there are in a sentence, we'll have 1x300 resulting vector.\n",
    "\n",
    "Then, we treat this vector as an input to a simple model, e.g. MLP."
   ]
  },
  {
   "cell_type": "code",
   "execution_count": 27,
   "metadata": {
    "id": "wc85yzWtKQo-"
   },
   "outputs": [],
   "source": [
    "class BoVModel(nn.Module):\n",
    "    def __init__(self, \n",
    "                 embedding_matrix, \n",
    "                 freeze_embeddings, \n",
    "                 dropout, \n",
    "                 num_out_class, \n",
    "                 mlp_dims, \n",
    "                 modes):\n",
    "        \"\"\"\n",
    "        Parameters\n",
    "        ----------\n",
    "        embedding_matrix : fully-formed matrix of pretrained word embeddings \n",
    "        freeze_embeddings : boolean, tells if embeddings should stay the same during model fitting\n",
    "        dropout: model dropout rate\n",
    "        num_of_class: output classes number\n",
    "        mlp_dims: list of dimensionalities of hidden layers\n",
    "        modes: list of pooling modes to be applied after an embedding layer (results will be concatenated)\n",
    "        \"\"\"\n",
    "        super(BoVModel, self).__init__()\n",
    "        self.embedding = nn.Embedding.from_pretrained(embedding_matrix, freeze=freeze_embeddings)\n",
    "        self.dropout = nn.Dropout(dropout)\n",
    "        self.mode = modes\n",
    "        self.num_layers = len(mlp_dims) + 1\n",
    "\n",
    "        # Define MLP structure based on how many layers dimensionalities are provided.\n",
    "        # If none - match from embedding to output.\n",
    "        # Note, input dimension reflects concatenation of pooling outcomes.\n",
    "        sizes = [EMBEDDING_SIZE * len(modes)] + mlp_dims + [num_out_class]\n",
    "        mlp = [nn.Dropout(dropout)]\n",
    "        for i in range(0, len(sizes) - 1):\n",
    "            mlp.append(nn.Linear(sizes[i], sizes[i+1]))\n",
    "            mlp.append(nn.Tanh())\n",
    "            if i < len(sizes) - 2: # Only apply to middle layers\n",
    "                mlp.append(nn.Dropout(dropout))\n",
    "        \n",
    "        self.mlp = nn.Sequential(*mlp)\n",
    "        print(\"MLP Arch:\\n\", self.mlp)\n",
    "\n",
    "    def forward(self, input):\n",
    "        # First, go through the embedding layer.\n",
    "        x = self.embedding(input)\n",
    "        x_pooled = x\n",
    "        # Next, process all specified poolings and concatenate the results if necessary.\n",
    "        for i in range(len(self.mode)):\n",
    "            if i == 0:\n",
    "                if self.mode[i] == 'min':\n",
    "                    x_pooled = torch.min(x, dim=0).values\n",
    "                elif self.mode[i] == 'max':\n",
    "                    x_pooled = torch.max(x, dim=0).values\n",
    "                elif self.mode[i] == 'mean':\n",
    "                    x_pooled = torch.mean(x, dim=0)\n",
    "                elif self.mode[i] == 'sum':\n",
    "                    x_pooled = torch.sum(x, dim=0)\n",
    "            else:\n",
    "                if self.mode[i] == 'min':\n",
    "                    x_pooled = torch.cat((x_pooled, torch.min(x, dim=0).values), 1)\n",
    "                elif self.mode[i] == 'max':\n",
    "                    x_pooled = torch.cat((x_pooled, torch.max(x, dim=0).values), 1)\n",
    "                elif self.mode[i] == 'mean':\n",
    "                    x_pooled = torch.cat((x_pooled, torch.mean(x, dim=0)), 1)\n",
    "                elif self.mode[i] == 'sum':\n",
    "                    x_pooled = torch.cat((x_pooled, torch.sum(x, dim=0)), 1)\n",
    "        \n",
    "        x = self.mlp(x_pooled)\n",
    "        \n",
    "        return x"
   ]
  },
  {
   "cell_type": "markdown",
   "metadata": {
    "id": "LKrjqT1SQawz"
   },
   "source": [
    "# Model Training"
   ]
  },
  {
   "cell_type": "code",
   "execution_count": 28,
   "metadata": {
    "id": "DYE22_GpRJHq"
   },
   "outputs": [],
   "source": [
    "def eval_model(model, data_iter, criterion):\n",
    "    \"\"\"Evaluate our model\n",
    "    Parameters\n",
    "    ------\n",
    "    model - model to be evaluated\n",
    "    data_iter - data iterator object\n",
    "    criterion - loss function\n",
    "    \n",
    "    Returns\n",
    "    -------\n",
    "    accuracy - the dataset accuracy according to (correct / total)\n",
    "    loss - the dataset loss according to criterion\n",
    "    \"\"\"\n",
    "    acc, n_elems, loss = 0., 0, 0\n",
    "    model.eval()\n",
    "    with torch.no_grad():\n",
    "        for inputs, targets in data_iter:\n",
    "            outputs = model(inputs).squeeze()\n",
    "            loss += criterion(outputs, targets).item()\n",
    "            acc += (outputs.argmax(axis=1) == targets).sum()\n",
    "            n_elems += targets.numel()\n",
    "    acc /= n_elems\n",
    "    model.train()\n",
    "    return acc.item(), loss / len(data_iter)\n",
    "\n",
    "def show_metrics(model, epoch, best_seen=False):\n",
    "    \"\"\"Display the running metrics while training\"\"\"\n",
    "    if best_seen: sys.stdout.write(\"* Epoch \")\n",
    "    else: sys.stdout.write(\"  Epoch \")\n",
    "    print('{:3.0f} | Train loss {:.5f} | Train acc {:.2%} | Val loss {:.5f} | Val acc {:.2%}'\n",
    "            .format(epoch, model.train_losses[epoch], model.train_accs[epoch], \n",
    "                    model.val_losses[epoch], model.val_accs[epoch]))\n",
    "\n",
    "def train(model, train_iter, val_iter, criterion, model_path, n_epochs=300, init_patience=3):\n",
    "    \"\"\"Train our Bag of Vectors model\n",
    "    Saves the best and final models to file, returns the best model\n",
    "    Parameters\n",
    "    ----------\n",
    "    model - BoV model object\n",
    "    train_iter - train data iterator\n",
    "    val_iter - validation data iterator\n",
    "    criterion - loss function\n",
    "    model_path - directory to store model checkpoints in\n",
    "    n_epochs - max number of epochs\n",
    "    init_patience - max number of consecutively worse epochs to allow\n",
    "    \n",
    "    Returns\n",
    "    -------\n",
    "    best_model - a model checkpoint from the best observed model\n",
    "    \"\"\"\n",
    "    # Store metrics for the model\n",
    "    model.train_accs = np.zeros(n_epochs)\n",
    "    model.train_losses = np.zeros(n_epochs)\n",
    "    model.val_accs = np.zeros(n_epochs)\n",
    "    model.val_losses = np.zeros(n_epochs)\n",
    "    best_model = deepcopy(model)\n",
    "    \n",
    "    # 300 epochs is chosen from observing that most models converged between 100-200 epochs.\n",
    "    epoch, patience = 0, init_patience\n",
    "    \n",
    "    model.train_accs[epoch], model.train_losses[epoch] = eval_model(model, train_iter, criterion)\n",
    "    model.val_accs[epoch], model.val_losses[epoch] = eval_model(model, val_iter, criterion)\n",
    "    show_metrics(model, epoch)\n",
    "    epoch += 1\n",
    "    \n",
    "    while epoch < n_epochs and patience > 0:\n",
    "        # Prepare model for training.\n",
    "        model.train()\n",
    "        for sentences, labels in train_iter:\n",
    "            model.zero_grad() \n",
    "            out = model(sentences).squeeze() # Forward pass.\n",
    "            loss = criterion(out, labels) # Compute loss with CrossEntropyLoss\n",
    "            loss.backward() # Backprop\n",
    "            optimizer.step() # Update params\n",
    "        model.train_accs[epoch], model.train_losses[epoch] = eval_model(model, train_iter, criterion)\n",
    "        model.val_accs[epoch], model.val_losses[epoch] = eval_model(model, val_iter, criterion)\n",
    "\n",
    "        # Save the best model for later\n",
    "        if epoch < 2 or model.val_losses[epoch] < model.val_losses[:epoch].min():\n",
    "            best_model = deepcopy(model)\n",
    "            best_model.train_accs = model.train_accs[:epoch+1]\n",
    "            best_model.train_losses = model.train_losses[:epoch+1]\n",
    "            best_model.val_accs = model.val_accs[:epoch+1]\n",
    "            best_model.val_losses = model.val_losses[:epoch+1]\n",
    "            show_metrics(model, epoch, best_seen=True)\n",
    "        else: show_metrics(model, epoch)\n",
    "        \n",
    "        # Check for convergence.\n",
    "        if model.val_losses[epoch] > model.val_losses[epoch - 1]: patience -= 1\n",
    "        else: patience = init_patience\n",
    "        \n",
    "        epoch += 1\n",
    "    \n",
    "    # Remove unused epochs\n",
    "    model.train_accs = model.train_accs[:epoch]\n",
    "    model.train_losses = model.train_losses[:epoch]\n",
    "    model.val_accs = model.val_accs[:epoch]\n",
    "    model.val_losses = model.val_losses[:epoch]\n",
    "    \n",
    "    torch.save(best_model, os.path.join(model_path, \"best_model.torchmodel\"))\n",
    "    torch.save(model, os.path.join(model_path, \"final_model.torchmodel\"))\n",
    "    print(\"\"\"*********** DONE **********\\n \n",
    "        Validation accuracy at best epoch {} was {:.2%}. Returning that model.\"\"\"\n",
    "        .format(model.val_losses.argmin(), model.val_accs[model.val_losses.argmin()]))\n",
    "    return best_model"
   ]
  },
  {
   "cell_type": "code",
   "execution_count": 57,
   "metadata": {},
   "outputs": [
    {
     "name": "stdout",
     "output_type": "stream",
     "text": [
      "MLP Arch:\n",
      " Sequential(\n",
      "  (0): Dropout(p=0.5, inplace=False)\n",
      "  (1): Linear(in_features=300, out_features=128, bias=True)\n",
      "  (2): Tanh()\n",
      "  (3): Dropout(p=0.5, inplace=False)\n",
      "  (4): Linear(in_features=128, out_features=16, bias=True)\n",
      "  (5): Tanh()\n",
      "  (6): Dropout(p=0.5, inplace=False)\n",
      "  (7): Linear(in_features=16, out_features=5, bias=True)\n",
      "  (8): Tanh()\n",
      ")\n"
     ]
    }
   ],
   "source": [
    "bov_model = BoVModel(\n",
    "    embedding_matrix=em,\n",
    "    freeze_embeddings=True,\n",
    "    dropout=0.5,\n",
    "    num_out_class=5,\n",
    "    mlp_dims=[128, 16],\n",
    "    modes=[\"sum\"],\n",
    ").to(device)"
   ]
  },
  {
   "cell_type": "code",
   "execution_count": 58,
   "metadata": {},
   "outputs": [
    {
     "name": "stderr",
     "output_type": "stream",
     "text": [
      "/home/dojo/.pyenv/versions/3.8.6/envs/c0090/lib/python3.8/site-packages/torchtext/data/iterator.py:48: UserWarning: BucketIterator class will be retired soon and moved to torchtext.legacy. Please see the most recent release notes for further information.\n",
      "  warnings.warn('{} class will be retired soon and moved to torchtext.legacy. Please see the most recent release notes for further information.'.format(self.__class__.__name__), UserWarning)\n",
      "/home/dojo/.pyenv/versions/3.8.6/envs/c0090/lib/python3.8/site-packages/torchtext/data/iterator.py:48: UserWarning: Iterator class will be retired soon and moved to torchtext.legacy. Please see the most recent release notes for further information.\n",
      "  warnings.warn('{} class will be retired soon and moved to torchtext.legacy. Please see the most recent release notes for further information.'.format(self.__class__.__name__), UserWarning)\n",
      "/home/dojo/.pyenv/versions/3.8.6/envs/c0090/lib/python3.8/site-packages/torchtext/data/batch.py:23: UserWarning: Batch class will be retired soon and moved to torchtext.legacy. Please see the most recent release notes for further information.\n",
      "  warnings.warn('{} class will be retired soon and moved to torchtext.legacy. Please see the most recent release notes for further information.'.format(self.__class__.__name__), UserWarning)\n"
     ]
    },
    {
     "name": "stdout",
     "output_type": "stream",
     "text": [
      "Model folder: ./models/BoV-12-14-2126\n",
      "  Epoch   0 | Train loss 1.64392 | Train acc 13.87% | Val loss 1.63823 | Val acc 12.53%\n",
      "* Epoch   1 | Train loss 1.62084 | Train acc 20.14% | Val loss 1.61694 | Val acc 18.44%\n",
      "* Epoch   2 | Train loss 1.60296 | Train acc 24.37% | Val loss 1.60064 | Val acc 25.34%\n",
      "* Epoch   3 | Train loss 1.59010 | Train acc 26.73% | Val loss 1.58911 | Val acc 27.97%\n",
      "* Epoch   4 | Train loss 1.58006 | Train acc 27.54% | Val loss 1.58031 | Val acc 28.43%\n",
      "* Epoch   5 | Train loss 1.57226 | Train acc 28.03% | Val loss 1.57350 | Val acc 28.25%\n",
      "* Epoch   6 | Train loss 1.56638 | Train acc 28.56% | Val loss 1.56841 | Val acc 29.16%\n",
      "* Epoch   7 | Train loss 1.56100 | Train acc 29.10% | Val loss 1.56411 | Val acc 30.06%\n",
      "* Epoch   8 | Train loss 1.55710 | Train acc 29.97% | Val loss 1.56047 | Val acc 30.70%\n",
      "* Epoch   9 | Train loss 1.55319 | Train acc 30.51% | Val loss 1.55724 | Val acc 31.06%\n",
      "* Epoch  10 | Train loss 1.54968 | Train acc 31.03% | Val loss 1.55427 | Val acc 31.06%\n",
      "* Epoch  11 | Train loss 1.54668 | Train acc 31.74% | Val loss 1.55149 | Val acc 31.61%\n",
      "* Epoch  12 | Train loss 1.54367 | Train acc 32.69% | Val loss 1.54868 | Val acc 31.88%\n",
      "* Epoch  13 | Train loss 1.54059 | Train acc 33.43% | Val loss 1.54600 | Val acc 31.79%\n",
      "* Epoch  14 | Train loss 1.53778 | Train acc 34.09% | Val loss 1.54361 | Val acc 33.42%\n",
      "* Epoch  15 | Train loss 1.53495 | Train acc 34.34% | Val loss 1.54113 | Val acc 33.33%\n",
      "* Epoch  16 | Train loss 1.53216 | Train acc 35.04% | Val loss 1.53852 | Val acc 34.60%\n",
      "* Epoch  17 | Train loss 1.52895 | Train acc 35.39% | Val loss 1.53604 | Val acc 34.88%\n",
      "* Epoch  18 | Train loss 1.52662 | Train acc 35.86% | Val loss 1.53315 | Val acc 35.24%\n",
      "* Epoch  19 | Train loss 1.52351 | Train acc 36.08% | Val loss 1.53047 | Val acc 35.42%\n",
      "* Epoch  20 | Train loss 1.52045 | Train acc 36.47% | Val loss 1.52797 | Val acc 34.97%\n",
      "* Epoch  21 | Train loss 1.51793 | Train acc 36.54% | Val loss 1.52532 | Val acc 35.42%\n",
      "* Epoch  22 | Train loss 1.51480 | Train acc 36.79% | Val loss 1.52271 | Val acc 35.60%\n",
      "* Epoch  23 | Train loss 1.51242 | Train acc 37.11% | Val loss 1.52020 | Val acc 35.33%\n",
      "* Epoch  24 | Train loss 1.50997 | Train acc 37.31% | Val loss 1.51774 | Val acc 35.51%\n",
      "* Epoch  25 | Train loss 1.50687 | Train acc 37.51% | Val loss 1.51471 | Val acc 35.69%\n",
      "* Epoch  26 | Train loss 1.50476 | Train acc 37.73% | Val loss 1.51221 | Val acc 35.97%\n",
      "* Epoch  27 | Train loss 1.50113 | Train acc 37.70% | Val loss 1.50963 | Val acc 35.97%\n",
      "* Epoch  28 | Train loss 1.49819 | Train acc 37.90% | Val loss 1.50717 | Val acc 36.15%\n",
      "* Epoch  29 | Train loss 1.49553 | Train acc 38.07% | Val loss 1.50452 | Val acc 36.60%\n",
      "* Epoch  30 | Train loss 1.49277 | Train acc 38.24% | Val loss 1.50197 | Val acc 36.42%\n",
      "* Epoch  31 | Train loss 1.49000 | Train acc 38.24% | Val loss 1.49938 | Val acc 36.88%\n",
      "* Epoch  32 | Train loss 1.48764 | Train acc 38.33% | Val loss 1.49679 | Val acc 36.69%\n",
      "* Epoch  33 | Train loss 1.48469 | Train acc 38.53% | Val loss 1.49415 | Val acc 36.51%\n",
      "* Epoch  34 | Train loss 1.48158 | Train acc 38.69% | Val loss 1.49155 | Val acc 36.60%\n",
      "* Epoch  35 | Train loss 1.47902 | Train acc 38.86% | Val loss 1.48893 | Val acc 36.78%\n",
      "* Epoch  36 | Train loss 1.47664 | Train acc 38.93% | Val loss 1.48655 | Val acc 37.06%\n",
      "* Epoch  37 | Train loss 1.47432 | Train acc 39.09% | Val loss 1.48415 | Val acc 37.33%\n",
      "* Epoch  38 | Train loss 1.47161 | Train acc 39.17% | Val loss 1.48196 | Val acc 37.24%\n",
      "* Epoch  39 | Train loss 1.46894 | Train acc 39.26% | Val loss 1.47956 | Val acc 37.51%\n",
      "* Epoch  40 | Train loss 1.46663 | Train acc 39.28% | Val loss 1.47718 | Val acc 37.60%\n",
      "* Epoch  41 | Train loss 1.46370 | Train acc 39.42% | Val loss 1.47470 | Val acc 37.69%\n",
      "* Epoch  42 | Train loss 1.46131 | Train acc 39.48% | Val loss 1.47257 | Val acc 37.69%\n",
      "* Epoch  43 | Train loss 1.45898 | Train acc 39.62% | Val loss 1.47053 | Val acc 37.69%\n",
      "* Epoch  44 | Train loss 1.45719 | Train acc 39.67% | Val loss 1.46833 | Val acc 37.78%\n",
      "* Epoch  45 | Train loss 1.45452 | Train acc 39.72% | Val loss 1.46620 | Val acc 37.69%\n",
      "* Epoch  46 | Train loss 1.45241 | Train acc 39.83% | Val loss 1.46427 | Val acc 38.15%\n",
      "* Epoch  47 | Train loss 1.45002 | Train acc 39.89% | Val loss 1.46205 | Val acc 38.15%\n",
      "* Epoch  48 | Train loss 1.44801 | Train acc 39.92% | Val loss 1.45999 | Val acc 38.15%\n",
      "* Epoch  49 | Train loss 1.44565 | Train acc 39.92% | Val loss 1.45790 | Val acc 38.24%\n",
      "* Epoch  50 | Train loss 1.44330 | Train acc 40.11% | Val loss 1.45608 | Val acc 38.24%\n",
      "* Epoch  51 | Train loss 1.44122 | Train acc 40.07% | Val loss 1.45419 | Val acc 38.51%\n",
      "* Epoch  52 | Train loss 1.43943 | Train acc 40.09% | Val loss 1.45211 | Val acc 38.78%\n",
      "* Epoch  53 | Train loss 1.43743 | Train acc 40.07% | Val loss 1.45062 | Val acc 38.78%\n",
      "* Epoch  54 | Train loss 1.43577 | Train acc 40.16% | Val loss 1.44886 | Val acc 38.78%\n",
      "* Epoch  55 | Train loss 1.43352 | Train acc 40.23% | Val loss 1.44704 | Val acc 38.60%\n",
      "* Epoch  56 | Train loss 1.43174 | Train acc 40.30% | Val loss 1.44562 | Val acc 39.24%\n",
      "* Epoch  57 | Train loss 1.42995 | Train acc 40.41% | Val loss 1.44370 | Val acc 39.42%\n",
      "* Epoch  58 | Train loss 1.42756 | Train acc 40.40% | Val loss 1.44183 | Val acc 39.51%\n",
      "* Epoch  59 | Train loss 1.42597 | Train acc 40.51% | Val loss 1.44017 | Val acc 39.51%\n",
      "* Epoch  60 | Train loss 1.42399 | Train acc 40.52% | Val loss 1.43836 | Val acc 39.33%\n",
      "* Epoch  61 | Train loss 1.42229 | Train acc 40.66% | Val loss 1.43667 | Val acc 39.24%\n",
      "* Epoch  62 | Train loss 1.42044 | Train acc 40.67% | Val loss 1.43554 | Val acc 39.24%\n",
      "* Epoch  63 | Train loss 1.41955 | Train acc 40.65% | Val loss 1.43417 | Val acc 39.24%\n",
      "* Epoch  64 | Train loss 1.41755 | Train acc 40.71% | Val loss 1.43242 | Val acc 39.33%\n",
      "* Epoch  65 | Train loss 1.41581 | Train acc 40.75% | Val loss 1.43069 | Val acc 39.42%\n",
      "* Epoch  66 | Train loss 1.41442 | Train acc 40.87% | Val loss 1.42972 | Val acc 39.06%\n",
      "* Epoch  67 | Train loss 1.41279 | Train acc 40.86% | Val loss 1.42803 | Val acc 39.24%\n",
      "* Epoch  68 | Train loss 1.41109 | Train acc 40.86% | Val loss 1.42663 | Val acc 39.15%\n",
      "* Epoch  69 | Train loss 1.40947 | Train acc 40.88% | Val loss 1.42511 | Val acc 39.42%\n",
      "* Epoch  70 | Train loss 1.40778 | Train acc 40.89% | Val loss 1.42357 | Val acc 39.42%\n",
      "* Epoch  71 | Train loss 1.40635 | Train acc 41.03% | Val loss 1.42273 | Val acc 39.15%\n",
      "* Epoch  72 | Train loss 1.40609 | Train acc 41.00% | Val loss 1.42188 | Val acc 39.24%\n",
      "* Epoch  73 | Train loss 1.40395 | Train acc 41.03% | Val loss 1.42044 | Val acc 39.24%\n",
      "* Epoch  74 | Train loss 1.40274 | Train acc 41.06% | Val loss 1.41949 | Val acc 39.33%\n",
      "* Epoch  75 | Train loss 1.40207 | Train acc 41.10% | Val loss 1.41836 | Val acc 39.15%\n",
      "* Epoch  76 | Train loss 1.39993 | Train acc 41.06% | Val loss 1.41690 | Val acc 39.15%\n",
      "* Epoch  77 | Train loss 1.39909 | Train acc 41.08% | Val loss 1.41570 | Val acc 39.24%\n",
      "* Epoch  78 | Train loss 1.39749 | Train acc 41.15% | Val loss 1.41455 | Val acc 39.15%\n",
      "* Epoch  79 | Train loss 1.39676 | Train acc 41.21% | Val loss 1.41370 | Val acc 39.15%\n",
      "* Epoch  80 | Train loss 1.39552 | Train acc 41.30% | Val loss 1.41263 | Val acc 39.24%\n",
      "* Epoch  81 | Train loss 1.39436 | Train acc 41.29% | Val loss 1.41201 | Val acc 39.51%\n",
      "* Epoch  82 | Train loss 1.39304 | Train acc 41.34% | Val loss 1.41120 | Val acc 39.51%\n",
      "* Epoch  83 | Train loss 1.39192 | Train acc 41.28% | Val loss 1.40980 | Val acc 39.42%\n",
      "* Epoch  84 | Train loss 1.39119 | Train acc 41.35% | Val loss 1.40855 | Val acc 39.24%\n",
      "* Epoch  85 | Train loss 1.38979 | Train acc 41.42% | Val loss 1.40808 | Val acc 39.15%\n",
      "* Epoch  86 | Train loss 1.38881 | Train acc 41.41% | Val loss 1.40728 | Val acc 39.15%\n",
      "* Epoch  87 | Train loss 1.38785 | Train acc 41.46% | Val loss 1.40620 | Val acc 39.51%\n",
      "* Epoch  88 | Train loss 1.38699 | Train acc 41.42% | Val loss 1.40549 | Val acc 39.42%\n",
      "* Epoch  89 | Train loss 1.38545 | Train acc 41.46% | Val loss 1.40418 | Val acc 39.42%\n",
      "* Epoch  90 | Train loss 1.38475 | Train acc 41.44% | Val loss 1.40287 | Val acc 39.51%\n",
      "* Epoch  91 | Train loss 1.38379 | Train acc 41.44% | Val loss 1.40257 | Val acc 39.42%\n",
      "* Epoch  92 | Train loss 1.38273 | Train acc 41.42% | Val loss 1.40155 | Val acc 39.51%\n",
      "* Epoch  93 | Train loss 1.38182 | Train acc 41.53% | Val loss 1.40085 | Val acc 39.42%\n",
      "* Epoch  94 | Train loss 1.38104 | Train acc 41.44% | Val loss 1.39986 | Val acc 39.60%\n",
      "* Epoch  95 | Train loss 1.38008 | Train acc 41.55% | Val loss 1.39927 | Val acc 39.51%\n",
      "* Epoch  96 | Train loss 1.37889 | Train acc 41.63% | Val loss 1.39867 | Val acc 39.51%\n",
      "* Epoch  97 | Train loss 1.37841 | Train acc 41.57% | Val loss 1.39776 | Val acc 39.69%\n",
      "* Epoch  98 | Train loss 1.37759 | Train acc 41.62% | Val loss 1.39695 | Val acc 39.78%\n",
      "* Epoch  99 | Train loss 1.37651 | Train acc 41.87% | Val loss 1.39694 | Val acc 39.42%\n",
      "* Epoch 100 | Train loss 1.37574 | Train acc 41.94% | Val loss 1.39635 | Val acc 39.51%\n",
      "* Epoch 101 | Train loss 1.37489 | Train acc 41.89% | Val loss 1.39523 | Val acc 39.51%\n",
      "* Epoch 102 | Train loss 1.37415 | Train acc 41.87% | Val loss 1.39494 | Val acc 39.60%\n",
      "* Epoch 103 | Train loss 1.37336 | Train acc 41.85% | Val loss 1.39404 | Val acc 39.60%\n",
      "* Epoch 104 | Train loss 1.37298 | Train acc 41.91% | Val loss 1.39313 | Val acc 39.51%\n",
      "* Epoch 105 | Train loss 1.37237 | Train acc 41.88% | Val loss 1.39225 | Val acc 39.60%\n",
      "* Epoch 106 | Train loss 1.37157 | Train acc 41.74% | Val loss 1.39143 | Val acc 39.42%\n",
      "* Epoch 107 | Train loss 1.37061 | Train acc 41.76% | Val loss 1.39057 | Val acc 39.69%\n",
      "  Epoch 108 | Train loss 1.36946 | Train acc 41.97% | Val loss 1.39061 | Val acc 39.69%\n",
      "* Epoch 109 | Train loss 1.36951 | Train acc 42.01% | Val loss 1.39019 | Val acc 39.78%\n",
      "* Epoch 110 | Train loss 1.36817 | Train acc 42.09% | Val loss 1.38958 | Val acc 39.69%\n",
      "  Epoch 111 | Train loss 1.36757 | Train acc 42.05% | Val loss 1.38970 | Val acc 39.51%\n",
      "* Epoch 112 | Train loss 1.36731 | Train acc 42.02% | Val loss 1.38829 | Val acc 39.60%\n",
      "* Epoch 113 | Train loss 1.36641 | Train acc 42.01% | Val loss 1.38764 | Val acc 39.69%\n",
      "* Epoch 114 | Train loss 1.36579 | Train acc 41.87% | Val loss 1.38658 | Val acc 39.51%\n",
      "  Epoch 115 | Train loss 1.36463 | Train acc 42.02% | Val loss 1.38687 | Val acc 39.69%\n",
      "* Epoch 116 | Train loss 1.36437 | Train acc 42.01% | Val loss 1.38606 | Val acc 39.69%\n",
      "* Epoch 117 | Train loss 1.36323 | Train acc 42.04% | Val loss 1.38531 | Val acc 39.69%\n",
      "  Epoch 118 | Train loss 1.36289 | Train acc 42.26% | Val loss 1.38538 | Val acc 39.78%\n",
      "* Epoch 119 | Train loss 1.36274 | Train acc 42.25% | Val loss 1.38435 | Val acc 39.78%\n",
      "* Epoch 120 | Train loss 1.36118 | Train acc 42.17% | Val loss 1.38352 | Val acc 39.69%\n",
      "* Epoch 121 | Train loss 1.36087 | Train acc 42.23% | Val loss 1.38346 | Val acc 39.69%\n",
      "* Epoch 122 | Train loss 1.36042 | Train acc 42.23% | Val loss 1.38291 | Val acc 39.69%\n",
      "* Epoch 123 | Train loss 1.35975 | Train acc 42.30% | Val loss 1.38241 | Val acc 39.69%\n",
      "* Epoch 124 | Train loss 1.35958 | Train acc 42.17% | Val loss 1.38153 | Val acc 39.96%\n",
      "* Epoch 125 | Train loss 1.35832 | Train acc 42.32% | Val loss 1.38150 | Val acc 39.87%\n",
      "* Epoch 126 | Train loss 1.35831 | Train acc 42.38% | Val loss 1.38145 | Val acc 39.96%\n",
      "* Epoch 127 | Train loss 1.35806 | Train acc 42.39% | Val loss 1.38070 | Val acc 39.96%\n",
      "  Epoch 128 | Train loss 1.35722 | Train acc 42.45% | Val loss 1.38086 | Val acc 39.96%\n",
      "* Epoch 129 | Train loss 1.35631 | Train acc 42.44% | Val loss 1.37979 | Val acc 39.96%\n",
      "* Epoch 130 | Train loss 1.35606 | Train acc 42.44% | Val loss 1.37907 | Val acc 39.87%\n",
      "* Epoch 131 | Train loss 1.35549 | Train acc 42.45% | Val loss 1.37876 | Val acc 39.96%\n",
      "* Epoch 132 | Train loss 1.35505 | Train acc 42.40% | Val loss 1.37830 | Val acc 39.87%\n",
      "  Epoch 133 | Train loss 1.35474 | Train acc 42.46% | Val loss 1.37877 | Val acc 39.87%\n",
      "* Epoch 134 | Train loss 1.35410 | Train acc 42.43% | Val loss 1.37751 | Val acc 39.87%\n",
      "* Epoch 135 | Train loss 1.35337 | Train acc 42.36% | Val loss 1.37669 | Val acc 39.87%\n",
      "* Epoch 136 | Train loss 1.35287 | Train acc 42.39% | Val loss 1.37605 | Val acc 40.05%\n",
      "  Epoch 137 | Train loss 1.35271 | Train acc 42.45% | Val loss 1.37636 | Val acc 40.05%\n",
      "* Epoch 138 | Train loss 1.35185 | Train acc 42.35% | Val loss 1.37519 | Val acc 39.87%\n",
      "  Epoch 139 | Train loss 1.35143 | Train acc 42.49% | Val loss 1.37544 | Val acc 40.15%\n",
      "  Epoch 140 | Train loss 1.35164 | Train acc 42.46% | Val loss 1.37540 | Val acc 40.24%\n",
      "* Epoch 141 | Train loss 1.35114 | Train acc 42.52% | Val loss 1.37456 | Val acc 40.15%\n",
      "* Epoch 142 | Train loss 1.35002 | Train acc 42.50% | Val loss 1.37429 | Val acc 40.05%\n",
      "  Epoch 143 | Train loss 1.35011 | Train acc 42.49% | Val loss 1.37453 | Val acc 40.15%\n",
      "* Epoch 144 | Train loss 1.35051 | Train acc 42.50% | Val loss 1.37384 | Val acc 40.05%\n",
      "* Epoch 145 | Train loss 1.34922 | Train acc 42.46% | Val loss 1.37348 | Val acc 40.15%\n",
      "* Epoch 146 | Train loss 1.34849 | Train acc 42.52% | Val loss 1.37304 | Val acc 40.05%\n",
      "* Epoch 147 | Train loss 1.34785 | Train acc 42.56% | Val loss 1.37284 | Val acc 39.96%\n",
      "* Epoch 148 | Train loss 1.34811 | Train acc 42.56% | Val loss 1.37189 | Val acc 40.24%\n",
      "* Epoch 149 | Train loss 1.34768 | Train acc 42.65% | Val loss 1.37166 | Val acc 40.15%\n",
      "  Epoch 150 | Train loss 1.34741 | Train acc 42.57% | Val loss 1.37179 | Val acc 40.15%\n",
      "  Epoch 151 | Train loss 1.34754 | Train acc 42.70% | Val loss 1.37198 | Val acc 40.15%\n",
      "  Epoch 152 | Train loss 1.34707 | Train acc 42.60% | Val loss 1.37177 | Val acc 40.05%\n",
      "* Epoch 153 | Train loss 1.34672 | Train acc 42.68% | Val loss 1.37152 | Val acc 40.15%\n",
      "* Epoch 154 | Train loss 1.34589 | Train acc 42.71% | Val loss 1.37046 | Val acc 40.05%\n",
      "  Epoch 155 | Train loss 1.34561 | Train acc 42.72% | Val loss 1.37076 | Val acc 40.24%\n",
      "* Epoch 156 | Train loss 1.34550 | Train acc 42.76% | Val loss 1.36971 | Val acc 40.15%\n",
      "  Epoch 157 | Train loss 1.34500 | Train acc 42.77% | Val loss 1.36972 | Val acc 40.33%\n",
      "  Epoch 158 | Train loss 1.34442 | Train acc 42.78% | Val loss 1.37008 | Val acc 40.33%\n",
      "* Epoch 159 | Train loss 1.34398 | Train acc 42.71% | Val loss 1.36866 | Val acc 40.51%\n",
      "  Epoch 160 | Train loss 1.34355 | Train acc 42.80% | Val loss 1.36880 | Val acc 40.33%\n",
      "* Epoch 161 | Train loss 1.34338 | Train acc 42.84% | Val loss 1.36863 | Val acc 40.24%\n",
      "* Epoch 162 | Train loss 1.34291 | Train acc 42.85% | Val loss 1.36824 | Val acc 40.33%\n",
      "  Epoch 163 | Train loss 1.34260 | Train acc 42.74% | Val loss 1.36864 | Val acc 40.51%\n",
      "* Epoch 164 | Train loss 1.34258 | Train acc 42.76% | Val loss 1.36817 | Val acc 40.42%\n",
      "  Epoch 165 | Train loss 1.34246 | Train acc 42.85% | Val loss 1.36865 | Val acc 40.51%\n",
      "* Epoch 166 | Train loss 1.34216 | Train acc 42.81% | Val loss 1.36782 | Val acc 40.51%\n",
      "* Epoch 167 | Train loss 1.34117 | Train acc 42.85% | Val loss 1.36769 | Val acc 40.24%\n",
      "  Epoch 168 | Train loss 1.34179 | Train acc 42.90% | Val loss 1.36843 | Val acc 40.24%\n",
      "* Epoch 169 | Train loss 1.34103 | Train acc 42.81% | Val loss 1.36722 | Val acc 40.24%\n",
      "* Epoch 170 | Train loss 1.34032 | Train acc 42.91% | Val loss 1.36664 | Val acc 40.33%\n",
      "* Epoch 171 | Train loss 1.34056 | Train acc 42.90% | Val loss 1.36658 | Val acc 40.42%\n",
      "  Epoch 172 | Train loss 1.34022 | Train acc 42.95% | Val loss 1.36667 | Val acc 40.24%\n",
      "* Epoch 173 | Train loss 1.33997 | Train acc 42.94% | Val loss 1.36623 | Val acc 40.51%\n",
      "* Epoch 174 | Train loss 1.33997 | Train acc 42.94% | Val loss 1.36570 | Val acc 40.51%\n",
      "* Epoch 175 | Train loss 1.33926 | Train acc 42.94% | Val loss 1.36551 | Val acc 40.42%\n",
      "  Epoch 176 | Train loss 1.33856 | Train acc 43.04% | Val loss 1.36562 | Val acc 40.42%\n",
      "* Epoch 177 | Train loss 1.33888 | Train acc 43.06% | Val loss 1.36511 | Val acc 40.33%\n",
      "* Epoch 178 | Train loss 1.33836 | Train acc 43.01% | Val loss 1.36437 | Val acc 40.42%\n",
      "* Epoch 179 | Train loss 1.33807 | Train acc 42.98% | Val loss 1.36418 | Val acc 40.42%\n",
      "  Epoch 180 | Train loss 1.33776 | Train acc 42.95% | Val loss 1.36420 | Val acc 40.51%\n",
      "* Epoch 181 | Train loss 1.33708 | Train acc 42.99% | Val loss 1.36353 | Val acc 40.51%\n",
      "* Epoch 182 | Train loss 1.33700 | Train acc 42.99% | Val loss 1.36334 | Val acc 40.60%\n",
      "* Epoch 183 | Train loss 1.33726 | Train acc 43.00% | Val loss 1.36331 | Val acc 40.51%\n",
      "  Epoch 184 | Train loss 1.33707 | Train acc 42.97% | Val loss 1.36332 | Val acc 40.60%\n",
      "  Epoch 185 | Train loss 1.33685 | Train acc 43.00% | Val loss 1.36333 | Val acc 40.42%\n",
      "* Epoch 186 | Train loss 1.33635 | Train acc 42.95% | Val loss 1.36303 | Val acc 40.42%\n",
      "* Epoch 187 | Train loss 1.33632 | Train acc 43.05% | Val loss 1.36202 | Val acc 40.78%\n",
      "* Epoch 188 | Train loss 1.33688 | Train acc 43.00% | Val loss 1.36196 | Val acc 40.78%\n",
      "* Epoch 189 | Train loss 1.33556 | Train acc 42.97% | Val loss 1.36192 | Val acc 40.60%\n",
      "  Epoch 190 | Train loss 1.33570 | Train acc 42.97% | Val loss 1.36255 | Val acc 40.60%\n",
      "  Epoch 191 | Train loss 1.33518 | Train acc 43.04% | Val loss 1.36265 | Val acc 40.51%\n",
      "  Epoch 192 | Train loss 1.33558 | Train acc 42.99% | Val loss 1.36329 | Val acc 40.60%\n",
      "  Epoch 193 | Train loss 1.33560 | Train acc 42.97% | Val loss 1.36377 | Val acc 40.51%\n",
      "*********** DONE **********\n",
      " \n",
      "        Validation accuracy at best epoch 189 was 40.60%. Returning that model.\n"
     ]
    }
   ],
   "source": [
    "batch_size=64\n",
    "lr = 1e-5\n",
    "optimizer = optim.Adam(filter(lambda p: p.requires_grad, bov_model.parameters()), lr=lr)\n",
    "criterion = nn.CrossEntropyLoss()\n",
    "\n",
    "train_iter, val_iter = tt.data.BucketIterator.splits(datasets=(train_data, val_data),\n",
    "    batch_sizes=(batch_size, batch_size), sort_key=lambda x: len(x.Text),\n",
    "    device=device, sort_within_batch=False)\n",
    "\n",
    "model_path = \"./models/{}-{}\".format(\"BoV\", time.strftime(\"%m-%d-%H%M\", time.gmtime()))\n",
    "try: os.mkdir(model_path)\n",
    "except FileExistsError: print(\"Directory Exists... Skipping\")\n",
    "print(\"Model folder: {}\".format(model_path))\n",
    "\n",
    "best_model = train(bov_model.double(), train_iter, val_iter, criterion, model_path, n_epochs=300, init_patience=4)\n",
    "final_model = deepcopy(bov_model) # bov_model now contains the final model after all epochs"
   ]
  },
  {
   "cell_type": "markdown",
   "metadata": {
    "id": "fXWD5b93YP3l"
   },
   "source": [
    "# Model Evaluation"
   ]
  },
  {
   "cell_type": "code",
   "execution_count": 55,
   "metadata": {
    "colab": {
     "base_uri": "https://localhost:8080/",
     "height": 351
    },
    "id": "z-8S8w9cU0uC",
    "outputId": "cf3fac9f-4b7c-4e8e-e7f6-7d3d6bd936f3"
   },
   "outputs": [
    {
     "data": {
      "image/png": "[encoded data removed]",
      "text/plain": [
       "<Figure size 720x360 with 1 Axes>"
      ]
     },
     "metadata": {
      "needs_background": "light"
     },
     "output_type": "display_data"
    }
   ],
   "source": [
    "plt.figure(figsize=(10,5))\n",
    "plt.plot(final_model.train_losses, label=\"Training loss\")\n",
    "plt.plot(final_model.val_losses, label=\"Validation loss\")\n",
    "plt.axvline(final_model.val_losses.argmin(), linestyle='dotted', color='g',label='Final model')\n",
    "plt.xlabel(\"Epochs\")\n",
    "plt.ylabel(\"Loss\")\n",
    "plt.legend()\n",
    "plt.savefig(os.path.join(model_path, \"losses.png\"))"
   ]
  },
  {
   "cell_type": "code",
   "execution_count": 56,
   "metadata": {
    "colab": {
     "base_uri": "https://localhost:8080/",
     "height": 351
    },
    "id": "3wkrZadFaFdZ",
    "outputId": "b4dc6995-bead-465b-ddd4-42cc6a1e1fab"
   },
   "outputs": [
    {
     "data": {
      "image/png": "[encoded data removed]",
      "text/plain": [
       "<Figure size 720x360 with 1 Axes>"
      ]
     },
     "metadata": {
      "needs_background": "light"
     },
     "output_type": "display_data"
    }
   ],
   "source": [
    "plt.figure(figsize=(10,5))\n",
    "plt.plot(final_model.train_accs, label=\"Training accuracy\")\n",
    "plt.plot(final_model.val_accs, label=\"Validation accuracy\")\n",
    "plt.axvline(final_model.val_losses.argmin(), linestyle='dotted', color='g',label='Final model')\n",
    "plt.xlabel(\"Epochs\")\n",
    "plt.ylabel(\"Accuracy\")\n",
    "plt.legend()\n",
    "plt.savefig(os.path.join(model_path, \"accs.png\"))"
   ]
  },
  {
   "cell_type": "markdown",
   "metadata": {
    "id": "h2-alnBtY0C0"
   },
   "source": [
    "# Evaluating on Test Set"
   ]
  },
  {
   "cell_type": "code",
   "execution_count": 45,
   "metadata": {
    "colab": {
     "base_uri": "https://localhost:8080/"
    },
    "id": "gGa5RJNXZA5E",
    "outputId": "f95a8330-ffbd-4f9b-ad69-5cb1de63b0c4"
   },
   "outputs": [
    {
     "name": "stdout",
     "output_type": "stream",
     "text": [
      "Training Accuracy: 48.29%\n",
      "Validation Accuracy: 43.32%\n",
      "Test Accuracy: 44.03%\n"
     ]
    },
    {
     "name": "stderr",
     "output_type": "stream",
     "text": [
      "/home/dojo/.pyenv/versions/3.8.6/envs/c0090/lib/python3.8/site-packages/torchtext/data/batch.py:23: UserWarning: Batch class will be retired soon and moved to torchtext.legacy. Please see the most recent release notes for further information.\n",
      "  warnings.warn('{} class will be retired soon and moved to torchtext.legacy. Please see the most recent release notes for further information.'.format(self.__class__.__name__), UserWarning)\n"
     ]
    }
   ],
   "source": [
    "# Obtain best epoch accuracies and add a newly obtained test set value.\n",
    "test_iter = tt.data.Iterator(test_data, batch_size=batch_size,\n",
    "    sort_key=lambda x: len(x.Text), device=device, sort_within_batch=False)\n",
    "test_acc, _ = eval_model(best_model, test_iter, criterion)\n",
    "\n",
    "print(\"Training Accuracy: {:.2%}\".format(best_model.train_accs[best_model.val_losses.argmin()]))\n",
    "print(\"Validation Accuracy: {:.2%}\".format(best_model.val_accs[best_model.val_losses.argmin()]))\n",
    "print(\"Test Accuracy: {:.2%}\".format(test_acc))"
   ]
  },
  {
   "cell_type": "markdown",
   "metadata": {
    "id": "OnhxOr0PZx0x"
   },
   "source": [
    "# Testing on Unseen Reviews"
   ]
  },
  {
   "cell_type": "code",
   "execution_count": 166,
   "metadata": {
    "colab": {
     "base_uri": "https://localhost:8080/"
    },
    "id": "FiuKnHO0KkoM",
    "outputId": "8c4b9bbd-bb77-4d8d-9732-b50755f24b86"
   },
   "outputs": [
    {
     "name": "stdout",
     "output_type": "stream",
     "text": [
      "Review 0 - Predicted Rating: 3:\n",
      "  Very well done , from acting to cinematography all first rate.\n",
      "Review 1 - Predicted Rating: 4:\n",
      "  I have seen a lot of terrible movies in my life and this was the worst by far!\n",
      "Review 2 - Predicted Rating: 4:\n",
      "  As far as horror movies go, this is one of the only ones in my life that I felt I wasted my time that I won't get back.\n",
      "Review 3 - Predicted Rating: 0:\n",
      "  Cheap move using Deaf culture as the only interesting feature.\n",
      "Review 4 - Predicted Rating: 3:\n",
      "  honestly amazing, i was literally holding my breath through out the movie, Emily Blunt and John Krasinski were brilliant the whole way.\n"
     ]
    }
   ],
   "source": [
    "# Reviews source: https://www.rottentomatoes.com/m/a_quiet_place_2018/reviews?type=user\n",
    "\n",
    "reviews = [\n",
    "    \"Very well done , from acting to cinematography all first rate.\",\n",
    "    \"I have seen a lot of terrible movies in my life and this was the worst by far!\",\n",
    "    \"As far as horror movies go, this is one of the only ones in my life that I felt I wasted my time that I won't get back.\",\n",
    "    \"Cheap move using Deaf culture as the only interesting feature.\",\n",
    "    \"honestly amazing, i was literally holding my breath through out the movie, Emily Blunt and John Krasinski were brilliant the whole way.\",\n",
    "]\n",
    "\n",
    "field = [('Text', TEXT)]\n",
    "\n",
    "with open(\"./data/examples.csv\", \"w\") as f:\n",
    "    csv.writer(f).writerows([[r] for r in reviews])\n",
    "    \n",
    "example_data = tt.data.TabularDataset(path='./data/examples.csv', \n",
    "                format='csv', fields=field)\n",
    "\n",
    "example_iter = tt.data.Iterator(example_data, batch_size=1, device=device, shuffle=False)\n",
    "\n",
    "best_model.eval()\n",
    "pred_idxs = []\n",
    "with torch.no_grad():\n",
    "    for inputs, _ in example_iter:\n",
    "        outputs = best_model(inputs).squeeze()\n",
    "        pred_idxs_tensor = outputs.argmax(axis=-1)\n",
    "        pred_idxs.append(pred_idxs_tensor.item())\n",
    "\n",
    "for i in range(len(pred_idxs)):\n",
    "    print(\"Review {} - Predicted Rating: {}:\\n  {}\".format(i, pred_idxs[i], reviews[i]))"
   ]
  },
  {
   "cell_type": "code",
   "execution_count": null,
   "metadata": {},
   "outputs": [],
   "source": []
  }
 ],
 "metadata": {
  "colab": {
   "collapsed_sections": [],
   "name": "debugging_is_shit",
   "provenance": []
  },
  "kernelspec": {
   "display_name": "Python 3",
   "language": "python",
   "name": "python3"
  },
  "language_info": {
   "codemirror_mode": {
    "name": "ipython",
    "version": 3
   },
   "file_extension": ".py",
   "mimetype": "text/x-python",
   "name": "python",
   "nbconvert_exporter": "python",
   "pygments_lexer": "ipython3",
   "version": "3.8.6"
  }
 },
 "nbformat": 4,
 "nbformat_minor": 4
}
