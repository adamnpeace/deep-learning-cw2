{
 "cells": [
  {
   "cell_type": "markdown",
   "metadata": {},
   "source": [
    "# Bag Of Vectors Sentiment Analysis with Timesteps\n",
    "\n",
    "Using:\n",
    "\n",
    "- RNN for dimensionality reduction of the input sequences\n",
    "- Feedforward network to map to an output"
   ]
  },
  {
   "cell_type": "code",
   "execution_count": 1,
   "metadata": {
    "id": "hSqQCDdSesiE"
   },
   "outputs": [],
   "source": [
    "import os, sys, csv, time, string, unicodedata\n",
    "from collections import OrderedDict\n",
    "from copy import deepcopy\n",
    "\n",
    "import numpy as np\n",
    "import matplotlib.pyplot as plt\n",
    "\n",
    "import torch\n",
    "import torch.nn as nn\n",
    "import torch.optim as optim\n",
    "\n",
    "import torchtext as tt\n",
    "\n",
    "device = torch.device(\"cuda:0\" if torch.cuda.is_available() else \"cpu\")"
   ]
  },
  {
   "cell_type": "markdown",
   "metadata": {},
   "source": [
    "## Data Loading"
   ]
  },
  {
   "cell_type": "code",
   "execution_count": 2,
   "metadata": {
    "id": "tUhoRqaB1xR3"
   },
   "outputs": [],
   "source": [
    "!curl -fsS https://nlp.stanford.edu/sentiment/trainDevTestTrees_PTB.zip -o /tmp/trainDevTestTrees_PTB.zip\n",
    "!unzip -q -o -d ./data /tmp/trainDevTestTrees_PTB.zip\n",
    "!rm -f /tmp/trainDevTestTrees_PTB.zip"
   ]
  },
  {
   "cell_type": "code",
   "execution_count": 3,
   "metadata": {},
   "outputs": [],
   "source": [
    "def get_dataset(path):\n",
    "    dataset = [[0, 0]]\n",
    "    for line in open(path, 'r').readlines():\n",
    "        soup = line.split()\n",
    "        tokens = []\n",
    "        for chunk in soup[2:]:\n",
    "            if not chunk.endswith(\")\"):\n",
    "                continue\n",
    "            tokens.append(chunk.rstrip(')'))\n",
    "        dataset.append([\n",
    "            ' '.join(tokens), \n",
    "            int(soup[0].lstrip('('))])\n",
    "    return dataset\n",
    "\n",
    "with open(\"./data/train.csv\", \"w\") as f:\n",
    "    csv.writer(f).writerows(get_dataset(\"./data/trees/train.txt\"))\n",
    "with open(\"./data/val.csv\", \"w\") as f:\n",
    "    csv.writer(f).writerows(get_dataset(\"./data/trees/dev.txt\"))\n",
    "with open(\"./data/test.csv\", \"w\") as f:\n",
    "    csv.writer(f).writerows(get_dataset(\"./data/trees/test.txt\"))"
   ]
  },
  {
   "cell_type": "code",
   "execution_count": 4,
   "metadata": {},
   "outputs": [
    {
     "name": "stderr",
     "output_type": "stream",
     "text": [
      "/home/dojo/.pyenv/versions/3.8.6/envs/c0090/lib/python3.8/site-packages/torchtext/data/field.py:150: UserWarning: Field class will be retired soon and moved to torchtext.legacy. Please see the most recent release notes for further information.\n",
      "  warnings.warn('{} class will be retired soon and moved to torchtext.legacy. Please see the most recent release notes for further information.'.format(self.__class__.__name__), UserWarning)\n",
      "/home/dojo/.pyenv/versions/3.8.6/envs/c0090/lib/python3.8/site-packages/torchtext/data/field.py:150: UserWarning: LabelField class will be retired soon and moved to torchtext.legacy. Please see the most recent release notes for further information.\n",
      "  warnings.warn('{} class will be retired soon and moved to torchtext.legacy. Please see the most recent release notes for further information.'.format(self.__class__.__name__), UserWarning)\n",
      "/home/dojo/.pyenv/versions/3.8.6/envs/c0090/lib/python3.8/site-packages/torchtext/data/example.py:68: UserWarning: Example class will be retired soon and moved to torchtext.legacy. Please see the most recent release notes for further information.\n",
      "  warnings.warn('Example class will be retired soon and moved to torchtext.legacy. Please see the most recent release notes for further information.', UserWarning)\n",
      "/home/dojo/.pyenv/versions/3.8.6/envs/c0090/lib/python3.8/site-packages/torchtext/data/example.py:78: UserWarning: Example class will be retired soon and moved to torchtext.legacy. Please see the most recent release notes for further information.\n",
      "  warnings.warn('Example class will be retired soon and moved to torchtext.legacy. Please see the most recent release notes for further information.', UserWarning)\n"
     ]
    }
   ],
   "source": [
    "TEXT = tt.data.Field(tokenize = 'spacy')\n",
    "LABEL = tt.data.LabelField()\n",
    "fields = [('Text', TEXT), ('Label', LABEL)]\n",
    "\n",
    "train_data, val_data, testds = tt.data.TabularDataset.splits(path='./data', \n",
    "                                            format='csv', \n",
    "                                            train='train.csv', \n",
    "                                            validation='val.csv', \n",
    "                                            test='test.csv',\n",
    "                                            fields=fields, \n",
    "                                            skip_header=True)"
   ]
  },
  {
   "cell_type": "code",
   "execution_count": 5,
   "metadata": {
    "colab": {
     "base_uri": "https://localhost:8080/"
    },
    "id": "kEVXjGIRMern",
    "outputId": "58106903-e493-4327-a51e-a7747070ac3d"
   },
   "outputs": [],
   "source": [
    "# load pretrained vectors\n",
    "import gensim.downloader as api\n",
    "w2v = api.load('word2vec-google-news-300')"
   ]
  },
  {
   "cell_type": "code",
   "execution_count": 6,
   "metadata": {
    "colab": {
     "base_uri": "https://localhost:8080/"
    },
    "id": "8d4YJSWLKNx-",
    "outputId": "0cf3ca52-abdf-4621-b554-964d8542a26d"
   },
   "outputs": [
    {
     "data": {
      "text/plain": [
       "torch.Size([17199, 300])"
      ]
     },
     "execution_count": 6,
     "metadata": {},
     "output_type": "execute_result"
    }
   ],
   "source": [
    "TEXT.build_vocab(train_data)\n",
    "\n",
    "LABEL.build_vocab(train_data)\n",
    "\n",
    "embedding_matrix = np.zeros((len(TEXT.vocab), 300))\n",
    "\n",
    "for index,word in enumerate(TEXT.vocab.stoi):\n",
    "    try:\n",
    "        # update embedding matrix using pretrained vectors if defined\n",
    "        embedding_matrix[index] = w2v[word] \n",
    "    except:\n",
    "        # else keep as zero\n",
    "        pass\n",
    "\n",
    "# we want to convert it to a tensor when done\n",
    "em = torch.from_numpy(embedding_matrix)\n",
    "em.size()"
   ]
  },
  {
   "cell_type": "markdown",
   "metadata": {
    "id": "3a7fsdwgW870"
   },
   "source": [
    "# Model Definition\n",
    "\n",
    "We want to get embeddings for each word in a sentence, then corresponding vectors (so say for a sentence 'cat dog' we'd have a shape of 2x300), then we do pooling to obtain a fixed representation - i.e. no matter how many wods there are in a sentence, we'll have 1x300 resulting vector.\n",
    "\n",
    "Then, we treat this vector as an input to a simple model, e.g. MLP."
   ]
  },
  {
   "cell_type": "code",
   "execution_count": 55,
   "metadata": {
    "id": "wc85yzWtKQo-"
   },
   "outputs": [],
   "source": [
    "class BoVModel(nn.Module):\n",
    "    \"\"\"\n",
    "    Parameters\n",
    "    ----------\n",
    "    embedding_matrix: fully-formed matrix of pretrained word embeddings \n",
    "    freeze_embeddings: boolean, tells if embeddings should stay the same during model fitting\n",
    "    num_of_class: output classes number\n",
    "    mlp_dims: list of dimensionalities of hidden layers in mlp\n",
    "    arch: What RNN type to use [\"vanilla\"], \"lstm\", \"gru\"\n",
    "    dropout: model dropout rate for mlp hidden layers\n",
    "    hidden_size: size of hidden state for the RNN (and cell state for LSTM)\n",
    "    \"\"\"\n",
    "    def __init__(self, \n",
    "        embedding_matrix, freeze_embeddings, num_out_class,  mlp_dims,\n",
    "        arch=\"vanilla\", dropout=0.5, hidden_size=200):\n",
    "        super(BoVModel, self).__init__()\n",
    "        self.freeze_embeddings = freeze_embeddings\n",
    "        self.arch = arch\n",
    "        self.mlp_dims = mlp_dims\n",
    "        self.num_out_class = num_out_class\n",
    "        self.dropout = nn.Dropout(dropout)\n",
    "        self.hidden_size = hidden_size\n",
    "        \n",
    "        self.embedding = nn.Embedding.from_pretrained(\n",
    "            embedding_matrix, freeze=self.freeze_embeddings)\n",
    "        \n",
    "        if arch == \"vanilla\": self.rnn = nn.RNN(300, self.hidden_size)\n",
    "        elif arch == \"gru\": self.rnn = nn.GRU(300, self.hidden_size)\n",
    "        elif arch == \"lstm\": self.rnn = nn.LSTM(300, self.hidden_size)\n",
    "        \n",
    "        sizes = [self.hidden_size] + self.mlp_dims + [self.num_out_class]\n",
    "        mlp = [nn.Dropout(dropout)]\n",
    "        for i in range(0, len(sizes) - 1):\n",
    "            mlp.append(nn.Linear(sizes[i], sizes[i+1]))\n",
    "            if i < len(sizes) - 2: # Only apply to middle layers\n",
    "                mlp.append(nn.ReLU())\n",
    "                mlp.append(nn.Dropout(dropout))\n",
    "        \n",
    "        self.mlp = nn.Sequential(*mlp)\n",
    "        print(\"MLP Arch:\\n\", self.mlp)\n",
    "\n",
    "    def forward(self, input):\n",
    "        # First, go through the embedding layer.\n",
    "        x = self.embedding(input)\n",
    "        # Then, run embedding through the RNN\n",
    "        outputs, h = self.rnn(x)\n",
    "        \n",
    "        if self.arch == \"lstm\": h = h[0] # Get hidden layer since it is (h, c)\n",
    "        \n",
    "        # Finally, pass the results to MLP.\n",
    "        x = self.mlp(h)\n",
    "        return x"
   ]
  },
  {
   "cell_type": "markdown",
   "metadata": {
    "id": "b3t7ZI69S7hL"
   },
   "source": [
    "# Model Training"
   ]
  },
  {
   "cell_type": "code",
   "execution_count": 56,
   "metadata": {
    "id": "DYE22_GpRJHq"
   },
   "outputs": [],
   "source": [
    "def show_metrics(model, epoch, best_seen=False):\n",
    "    \"\"\"Display the running metrics while training\"\"\"\n",
    "    if best_seen: sys.stdout.write(\"* Epoch \")\n",
    "    else: sys.stdout.write(\"  Epoch \")\n",
    "    print('{:3.0f} | Train loss {:.5f} | Train acc {:.2%} | Val loss {:.5f} | Val acc {:.2%}'\n",
    "            .format(epoch, model.train_losses[epoch], model.train_accs[epoch], \n",
    "                    model.val_losses[epoch], model.val_accs[epoch]))\n",
    "    \n",
    "def eval_model(model, data_iter, criterion):\n",
    "    \"\"\"Evaluate our model\n",
    "    Parameters\n",
    "    ------\n",
    "    model - model to be evaluated\n",
    "    data_iter - data iterator object\n",
    "    criterion - loss function\n",
    "    \n",
    "    Returns\n",
    "    -------\n",
    "    accuracy - the dataset accuracy according to (correct / total)\n",
    "    loss - the dataset loss according to criterion\n",
    "    \"\"\"\n",
    "    acc, n_elems, loss = 0., 0, 0\n",
    "    with torch.no_grad():\n",
    "        for inputs, targets in data_iter:\n",
    "            outputs = model(inputs).squeeze()\n",
    "            loss += criterion(outputs, targets).item()\n",
    "            acc += (outputs.argmax(axis=1) == targets).sum()\n",
    "            n_elems += targets.numel()\n",
    "    acc /= n_elems\n",
    "    return acc.item(), loss / len(data_iter)\n",
    "    \n",
    "def train(model, train_iter, val_iter, criterion, model_path, n_epochs=300, init_patience=3):\n",
    "    \"\"\"Train our Bag of Vectors model\n",
    "    Saves the best and final models to file, returns the best model\n",
    "    Parameters\n",
    "    ----------\n",
    "    model - BoV model object\n",
    "    train_iter - train data iterator\n",
    "    val_iter - validation data iterator\n",
    "    criterion - loss function\n",
    "    model_path - directory to store model checkpoints in\n",
    "    n_epochs - max number of epochs\n",
    "    init_patience - max number of consecutively worse epochs to allow\n",
    "    \n",
    "    Returns\n",
    "    -------\n",
    "    best_model - a model checkpoint from the best observed model\n",
    "    \"\"\"\n",
    "    # Store metrics for the model\n",
    "    model.train_accs = np.zeros(n_epochs)\n",
    "    model.train_losses = np.zeros(n_epochs)\n",
    "    model.val_accs = np.zeros(n_epochs)\n",
    "    model.val_losses = np.zeros(n_epochs)\n",
    "    best_model = deepcopy(model)\n",
    "    \n",
    "    # 300 epochs is chosen from observing that most models converged between 100-200 epochs.\n",
    "    epoch, patience = 0, init_patience\n",
    "    \n",
    "    model.train_accs[epoch], model.train_losses[epoch] = eval_model(model, train_iter, criterion)\n",
    "    model.val_accs[epoch], model.val_losses[epoch] = eval_model(model, val_iter, criterion)\n",
    "    show_metrics(model, epoch)\n",
    "    epoch += 1\n",
    "    \n",
    "    while epoch < n_epochs and patience > 0:\n",
    "        # Prepare model for training.\n",
    "        model.train()\n",
    "        for sentences, labels in train_iter:\n",
    "            model.zero_grad() \n",
    "            outputs = model(sentences).squeeze() # Forward pass.\n",
    "            loss = criterion(outputs, labels) # Compute loss with CrossEntropyLoss\n",
    "            loss.backward() # Backprop\n",
    "            optimizer.step() # Update params\n",
    "        \n",
    "        model.eval()\n",
    "        model.train_accs[epoch], model.train_losses[epoch] = eval_model(model, train_iter, criterion)\n",
    "        model.val_accs[epoch], model.val_losses[epoch] = eval_model(model, val_iter, criterion)\n",
    "\n",
    "        # Save the best model for later\n",
    "        if epoch < 2 or model.val_losses[epoch] < model.val_losses[:epoch].min():\n",
    "            best_model = deepcopy(model)\n",
    "            best_model.train_accs = model.train_accs[:epoch+1]\n",
    "            best_model.train_losses = model.train_losses[:epoch+1]\n",
    "            best_model.val_accs = model.val_accs[:epoch+1]\n",
    "            best_model.val_losses = model.val_losses[:epoch+1]\n",
    "            torch.save(best_model, os.path.join(model_path, \"best_model.torchmodel\"))\n",
    "            show_metrics(model, epoch, best_seen=True)\n",
    "        else: show_metrics(model, epoch)\n",
    "            \n",
    "        # Check for convergence\n",
    "        if model.val_losses[epoch] > model.val_losses[epoch - 1]: patience -= 1\n",
    "        else: patience = init_patience\n",
    "        \n",
    "        epoch += 1\n",
    "    \n",
    "    # Remove unused epochs\n",
    "    model.train_accs = model.train_accs[:epoch]\n",
    "    model.train_losses = model.train_losses[:epoch]\n",
    "    model.val_accs = model.val_accs[:epoch]\n",
    "    model.val_losses = model.val_losses[:epoch]\n",
    "    \n",
    "    torch.save(model, os.path.join(model_path, \"final_model.torchmodel\"))\n",
    "    print(\"\"\"*********** DONE **********\\n \n",
    "        Validation accuracy at best epoch {} was {:.2%}. Returning that model.\"\"\"\n",
    "        .format(model.val_losses.argmin(), model.val_accs[model.val_losses.argmin()]))\n",
    "    return best_model"
   ]
  },
  {
   "cell_type": "code",
   "execution_count": 58,
   "metadata": {},
   "outputs": [
    {
     "name": "stdout",
     "output_type": "stream",
     "text": [
      "MLP Arch:\n",
      " Sequential(\n",
      "  (0): Dropout(p=0, inplace=False)\n",
      "  (1): Linear(in_features=256, out_features=128, bias=True)\n",
      "  (2): ReLU()\n",
      "  (3): Dropout(p=0, inplace=False)\n",
      "  (4): Linear(in_features=128, out_features=16, bias=True)\n",
      "  (5): ReLU()\n",
      "  (6): Dropout(p=0, inplace=False)\n",
      "  (7): Linear(in_features=16, out_features=5, bias=True)\n",
      ")\n"
     ]
    }
   ],
   "source": [
    "bov_model = BoVModel(\n",
    "    embedding_matrix=em,\n",
    "    freeze_embeddings=True,\n",
    "    num_out_class=5,\n",
    "    mlp_dims=[128, 16],\n",
    "    arch=\"gru\", # [\"vanilla\"], \"lstm\"\n",
    "    dropout=0,\n",
    "    hidden_size=256,\n",
    ").to(device)"
   ]
  },
  {
   "cell_type": "code",
   "execution_count": 59,
   "metadata": {},
   "outputs": [
    {
     "name": "stdout",
     "output_type": "stream",
     "text": [
      "Model folder: ./models/BoV-12-15-0004\n",
      "  Epoch   0 | Train loss 1.60910 | Train acc 19.04% | Val loss 1.60636 | Val acc 20.16%\n",
      "* Epoch   1 | Train loss 1.56920 | Train acc 27.18% | Val loss 1.57509 | Val acc 26.79%\n",
      "* Epoch   2 | Train loss 1.56779 | Train acc 27.18% | Val loss 1.57370 | Val acc 27.07%\n",
      "* Epoch   3 | Train loss 1.56663 | Train acc 27.18% | Val loss 1.57277 | Val acc 27.97%\n",
      "* Epoch   4 | Train loss 1.56621 | Train acc 27.18% | Val loss 1.57176 | Val acc 27.79%\n",
      "* Epoch   5 | Train loss 1.56260 | Train acc 29.23% | Val loss 1.57069 | Val acc 31.79%\n",
      "* Epoch   6 | Train loss 1.54594 | Train acc 32.39% | Val loss 1.56745 | Val acc 30.43%\n",
      "* Epoch   7 | Train loss 1.47528 | Train acc 36.60% | Val loss 1.52089 | Val acc 33.97%\n",
      "* Epoch   8 | Train loss 1.39914 | Train acc 39.31% | Val loss 1.46050 | Val acc 36.69%\n",
      "* Epoch   9 | Train loss 1.35862 | Train acc 40.64% | Val loss 1.43824 | Val acc 37.69%\n",
      "* Epoch  10 | Train loss 1.34134 | Train acc 41.30% | Val loss 1.43688 | Val acc 39.24%\n",
      "* Epoch  11 | Train loss 1.33576 | Train acc 41.35% | Val loss 1.43231 | Val acc 38.60%\n",
      "* Epoch  12 | Train loss 1.30755 | Train acc 42.11% | Val loss 1.40641 | Val acc 38.69%\n",
      "  Epoch  13 | Train loss 1.30374 | Train acc 41.77% | Val loss 1.40830 | Val acc 39.60%\n",
      "* Epoch  14 | Train loss 1.29198 | Train acc 42.17% | Val loss 1.40422 | Val acc 38.96%\n",
      "* Epoch  15 | Train loss 1.27886 | Train acc 42.45% | Val loss 1.39789 | Val acc 38.96%\n",
      "* Epoch  16 | Train loss 1.27016 | Train acc 43.98% | Val loss 1.38643 | Val acc 38.87%\n",
      "  Epoch  17 | Train loss 1.28277 | Train acc 42.83% | Val loss 1.39264 | Val acc 38.69%\n",
      "* Epoch  18 | Train loss 1.25600 | Train acc 44.21% | Val loss 1.38263 | Val acc 39.06%\n",
      "* Epoch  19 | Train loss 1.24687 | Train acc 44.53% | Val loss 1.37525 | Val acc 39.24%\n",
      "  Epoch  20 | Train loss 1.26060 | Train acc 43.86% | Val loss 1.37768 | Val acc 39.24%\n",
      "* Epoch  21 | Train loss 1.23203 | Train acc 45.33% | Val loss 1.36830 | Val acc 39.06%\n",
      "* Epoch  22 | Train loss 1.22459 | Train acc 45.58% | Val loss 1.36304 | Val acc 39.69%\n",
      "  Epoch  23 | Train loss 1.23120 | Train acc 45.17% | Val loss 1.36686 | Val acc 38.96%\n",
      "* Epoch  24 | Train loss 1.22080 | Train acc 46.11% | Val loss 1.35163 | Val acc 39.69%\n",
      "  Epoch  25 | Train loss 1.21115 | Train acc 46.54% | Val loss 1.35272 | Val acc 39.69%\n",
      "  Epoch  26 | Train loss 1.25479 | Train acc 43.56% | Val loss 1.35841 | Val acc 39.24%\n",
      "* Epoch  27 | Train loss 1.20864 | Train acc 46.59% | Val loss 1.34665 | Val acc 39.69%\n",
      "* Epoch  28 | Train loss 1.19748 | Train acc 46.95% | Val loss 1.33927 | Val acc 40.33%\n",
      "* Epoch  29 | Train loss 1.19836 | Train acc 46.90% | Val loss 1.33489 | Val acc 39.87%\n",
      "* Epoch  30 | Train loss 1.20025 | Train acc 46.41% | Val loss 1.33001 | Val acc 41.60%\n",
      "  Epoch  31 | Train loss 1.20105 | Train acc 46.73% | Val loss 1.33309 | Val acc 40.69%\n",
      "* Epoch  32 | Train loss 1.17623 | Train acc 48.15% | Val loss 1.32198 | Val acc 40.87%\n",
      "  Epoch  33 | Train loss 1.17313 | Train acc 48.15% | Val loss 1.32252 | Val acc 41.33%\n",
      "  Epoch  34 | Train loss 1.18910 | Train acc 47.44% | Val loss 1.32728 | Val acc 41.60%\n",
      "* Epoch  35 | Train loss 1.16524 | Train acc 48.37% | Val loss 1.31542 | Val acc 41.33%\n",
      "  Epoch  36 | Train loss 1.16170 | Train acc 48.58% | Val loss 1.31591 | Val acc 41.60%\n",
      "* Epoch  37 | Train loss 1.15278 | Train acc 49.15% | Val loss 1.31139 | Val acc 41.69%\n",
      "  Epoch  38 | Train loss 1.15278 | Train acc 48.79% | Val loss 1.31161 | Val acc 40.87%\n",
      "* Epoch  39 | Train loss 1.15458 | Train acc 49.10% | Val loss 1.30722 | Val acc 42.05%\n",
      "* Epoch  40 | Train loss 1.14117 | Train acc 49.54% | Val loss 1.30620 | Val acc 42.96%\n",
      "* Epoch  41 | Train loss 1.13230 | Train acc 50.56% | Val loss 1.30392 | Val acc 42.60%\n",
      "  Epoch  42 | Train loss 1.12674 | Train acc 50.63% | Val loss 1.30449 | Val acc 42.78%\n",
      "* Epoch  43 | Train loss 1.13782 | Train acc 50.42% | Val loss 1.30077 | Val acc 43.14%\n",
      "  Epoch  44 | Train loss 1.11842 | Train acc 51.11% | Val loss 1.30100 | Val acc 42.14%\n",
      "* Epoch  45 | Train loss 1.11576 | Train acc 51.37% | Val loss 1.29960 | Val acc 42.33%\n",
      "  Epoch  46 | Train loss 1.10793 | Train acc 51.64% | Val loss 1.30187 | Val acc 43.05%\n",
      "  Epoch  47 | Train loss 1.11149 | Train acc 51.25% | Val loss 1.30743 | Val acc 42.78%\n",
      "* Epoch  48 | Train loss 1.09601 | Train acc 52.06% | Val loss 1.29917 | Val acc 42.87%\n",
      "  Epoch  49 | Train loss 1.10047 | Train acc 51.50% | Val loss 1.30585 | Val acc 43.51%\n",
      "* Epoch  50 | Train loss 1.08302 | Train acc 52.82% | Val loss 1.29749 | Val acc 43.23%\n",
      "  Epoch  51 | Train loss 1.08137 | Train acc 51.83% | Val loss 1.30446 | Val acc 43.32%\n",
      "* Epoch  52 | Train loss 1.07128 | Train acc 53.60% | Val loss 1.29726 | Val acc 43.05%\n",
      "  Epoch  53 | Train loss 1.07116 | Train acc 53.24% | Val loss 1.30937 | Val acc 44.05%\n",
      "  Epoch  54 | Train loss 1.05961 | Train acc 54.13% | Val loss 1.30371 | Val acc 44.14%\n",
      "  Epoch  55 | Train loss 1.04719 | Train acc 54.74% | Val loss 1.30141 | Val acc 43.60%\n",
      "  Epoch  56 | Train loss 1.05961 | Train acc 53.43% | Val loss 1.30302 | Val acc 43.69%\n",
      "  Epoch  57 | Train loss 1.03321 | Train acc 55.57% | Val loss 1.30495 | Val acc 43.69%\n",
      "  Epoch  58 | Train loss 1.02547 | Train acc 56.00% | Val loss 1.30448 | Val acc 44.14%\n",
      "  Epoch  59 | Train loss 1.02928 | Train acc 55.16% | Val loss 1.29810 | Val acc 43.42%\n",
      "  Epoch  60 | Train loss 1.01182 | Train acc 56.54% | Val loss 1.30107 | Val acc 44.14%\n",
      "* Epoch  61 | Train loss 1.00789 | Train acc 56.21% | Val loss 1.29578 | Val acc 43.42%\n",
      "  Epoch  62 | Train loss 1.00625 | Train acc 56.48% | Val loss 1.31115 | Val acc 44.50%\n",
      "  Epoch  63 | Train loss 1.03996 | Train acc 54.90% | Val loss 1.30175 | Val acc 42.69%\n",
      "* Epoch  64 | Train loss 1.00574 | Train acc 56.50% | Val loss 1.29446 | Val acc 43.51%\n",
      "  Epoch  65 | Train loss 1.00079 | Train acc 56.38% | Val loss 1.29816 | Val acc 44.14%\n",
      "  Epoch  66 | Train loss 0.97047 | Train acc 57.94% | Val loss 1.30534 | Val acc 43.51%\n",
      "  Epoch  67 | Train loss 1.00755 | Train acc 55.66% | Val loss 1.29871 | Val acc 42.96%\n",
      "  Epoch  68 | Train loss 0.97757 | Train acc 57.27% | Val loss 1.30078 | Val acc 43.14%\n",
      "* Epoch  69 | Train loss 1.04208 | Train acc 53.15% | Val loss 1.29431 | Val acc 44.96%\n",
      "  Epoch  70 | Train loss 0.94942 | Train acc 59.56% | Val loss 1.30166 | Val acc 43.42%\n",
      "  Epoch  71 | Train loss 0.94347 | Train acc 59.32% | Val loss 1.30545 | Val acc 43.32%\n",
      "  Epoch  72 | Train loss 0.92483 | Train acc 60.78% | Val loss 1.29641 | Val acc 43.14%\n",
      "  Epoch  73 | Train loss 0.92376 | Train acc 60.74% | Val loss 1.30423 | Val acc 42.96%\n",
      "  Epoch  74 | Train loss 0.94558 | Train acc 59.25% | Val loss 1.30437 | Val acc 43.42%\n",
      "  Epoch  75 | Train loss 0.91419 | Train acc 60.74% | Val loss 1.30962 | Val acc 43.60%\n",
      "  Epoch  76 | Train loss 0.91025 | Train acc 60.93% | Val loss 1.30830 | Val acc 43.42%\n",
      "  Epoch  77 | Train loss 0.88891 | Train acc 62.62% | Val loss 1.30655 | Val acc 42.60%\n",
      "  Epoch  78 | Train loss 0.91609 | Train acc 60.23% | Val loss 1.31402 | Val acc 43.32%\n",
      "  Epoch  79 | Train loss 0.89258 | Train acc 60.91% | Val loss 1.31693 | Val acc 41.96%\n",
      "  Epoch  80 | Train loss 0.92772 | Train acc 59.14% | Val loss 1.31463 | Val acc 42.69%\n",
      "  Epoch  81 | Train loss 0.86955 | Train acc 63.25% | Val loss 1.30420 | Val acc 42.33%\n",
      "  Epoch  82 | Train loss 0.89721 | Train acc 61.10% | Val loss 1.30726 | Val acc 42.78%\n",
      "  Epoch  83 | Train loss 0.87349 | Train acc 62.66% | Val loss 1.32524 | Val acc 41.42%\n",
      "  Epoch  84 | Train loss 0.85223 | Train acc 63.90% | Val loss 1.31598 | Val acc 42.96%\n",
      "  Epoch  85 | Train loss 0.83824 | Train acc 65.13% | Val loss 1.31710 | Val acc 42.78%\n",
      "  Epoch  86 | Train loss 0.84309 | Train acc 64.01% | Val loss 1.30884 | Val acc 42.33%\n",
      "  Epoch  87 | Train loss 0.85924 | Train acc 63.48% | Val loss 1.31818 | Val acc 43.05%\n",
      "  Epoch  88 | Train loss 0.83168 | Train acc 65.12% | Val loss 1.31947 | Val acc 42.60%\n",
      "  Epoch  89 | Train loss 0.81344 | Train acc 66.30% | Val loss 1.32509 | Val acc 42.69%\n",
      "  Epoch  90 | Train loss 0.80133 | Train acc 66.46% | Val loss 1.32702 | Val acc 41.51%\n",
      "  Epoch  91 | Train loss 0.82925 | Train acc 64.76% | Val loss 1.31897 | Val acc 42.78%\n",
      "  Epoch  92 | Train loss 0.80026 | Train acc 66.64% | Val loss 1.32464 | Val acc 41.42%\n",
      "  Epoch  93 | Train loss 0.76961 | Train acc 69.28% | Val loss 1.32265 | Val acc 42.42%\n",
      "  Epoch  94 | Train loss 0.77024 | Train acc 68.39% | Val loss 1.33321 | Val acc 42.69%\n",
      "  Epoch  95 | Train loss 0.78832 | Train acc 66.82% | Val loss 1.32724 | Val acc 43.51%\n",
      "  Epoch  96 | Train loss 0.76483 | Train acc 68.18% | Val loss 1.32888 | Val acc 42.51%\n",
      "  Epoch  97 | Train loss 0.82607 | Train acc 63.89% | Val loss 1.35964 | Val acc 41.60%\n",
      "  Epoch  98 | Train loss 0.78334 | Train acc 67.15% | Val loss 1.36226 | Val acc 41.42%\n",
      "  Epoch  99 | Train loss 0.85198 | Train acc 62.21% | Val loss 1.38564 | Val acc 41.24%\n",
      "  Epoch 100 | Train loss 0.71995 | Train acc 71.42% | Val loss 1.35619 | Val acc 41.96%\n",
      "  Epoch 101 | Train loss 0.72054 | Train acc 70.61% | Val loss 1.35787 | Val acc 40.87%\n",
      "  Epoch 102 | Train loss 0.70604 | Train acc 72.13% | Val loss 1.36367 | Val acc 40.78%\n",
      "  Epoch 103 | Train loss 0.69508 | Train acc 72.32% | Val loss 1.36474 | Val acc 41.05%\n",
      "  Epoch 104 | Train loss 0.70441 | Train acc 71.91% | Val loss 1.37261 | Val acc 41.24%\n",
      "  Epoch 105 | Train loss 0.70633 | Train acc 71.71% | Val loss 1.36147 | Val acc 42.42%\n",
      "  Epoch 106 | Train loss 0.76875 | Train acc 66.77% | Val loss 1.40800 | Val acc 41.42%\n",
      "  Epoch 107 | Train loss 0.71167 | Train acc 70.45% | Val loss 1.39840 | Val acc 41.69%\n",
      "  Epoch 108 | Train loss 0.70378 | Train acc 71.54% | Val loss 1.36400 | Val acc 42.05%\n",
      "  Epoch 109 | Train loss 0.65644 | Train acc 74.75% | Val loss 1.38335 | Val acc 41.60%\n",
      "  Epoch 110 | Train loss 0.69492 | Train acc 72.18% | Val loss 1.37132 | Val acc 42.87%\n",
      "  Epoch 111 | Train loss 0.70179 | Train acc 71.41% | Val loss 1.37360 | Val acc 42.42%\n",
      "  Epoch 112 | Train loss 0.64745 | Train acc 74.61% | Val loss 1.39950 | Val acc 42.14%\n",
      "  Epoch 113 | Train loss 0.66436 | Train acc 73.14% | Val loss 1.39658 | Val acc 42.51%\n",
      "  Epoch 114 | Train loss 0.66499 | Train acc 73.30% | Val loss 1.42590 | Val acc 42.05%\n",
      "  Epoch 115 | Train loss 0.65714 | Train acc 73.71% | Val loss 1.42342 | Val acc 41.96%\n",
      "  Epoch 116 | Train loss 0.60867 | Train acc 77.28% | Val loss 1.41864 | Val acc 41.78%\n",
      "  Epoch 117 | Train loss 0.62384 | Train acc 75.42% | Val loss 1.40136 | Val acc 42.33%\n",
      "  Epoch 118 | Train loss 0.66403 | Train acc 72.96% | Val loss 1.40893 | Val acc 41.78%\n",
      "  Epoch 119 | Train loss 0.63741 | Train acc 75.11% | Val loss 1.42372 | Val acc 41.33%\n",
      "  Epoch 120 | Train loss 0.60150 | Train acc 76.93% | Val loss 1.41709 | Val acc 41.60%\n",
      "  Epoch 121 | Train loss 0.58069 | Train acc 77.89% | Val loss 1.43049 | Val acc 42.23%\n",
      "  Epoch 122 | Train loss 0.58167 | Train acc 78.05% | Val loss 1.45499 | Val acc 41.42%\n",
      "  Epoch 123 | Train loss 0.57248 | Train acc 77.76% | Val loss 1.44140 | Val acc 42.14%\n",
      "  Epoch 124 | Train loss 0.58061 | Train acc 77.38% | Val loss 1.44891 | Val acc 40.87%\n",
      "  Epoch 125 | Train loss 0.56307 | Train acc 78.89% | Val loss 1.48572 | Val acc 41.78%\n",
      "  Epoch 126 | Train loss 0.56974 | Train acc 77.72% | Val loss 1.48664 | Val acc 40.78%\n",
      "  Epoch 127 | Train loss 0.53563 | Train acc 80.14% | Val loss 1.45829 | Val acc 41.33%\n",
      "  Epoch 128 | Train loss 0.62150 | Train acc 74.60% | Val loss 1.47483 | Val acc 41.87%\n",
      "  Epoch 129 | Train loss 0.53692 | Train acc 80.22% | Val loss 1.46290 | Val acc 42.96%\n",
      "  Epoch 130 | Train loss 0.52298 | Train acc 80.27% | Val loss 1.48094 | Val acc 41.42%\n",
      "  Epoch 131 | Train loss 0.54128 | Train acc 79.63% | Val loss 1.48530 | Val acc 41.51%\n",
      "  Epoch 132 | Train loss 0.50978 | Train acc 81.10% | Val loss 1.48174 | Val acc 41.96%\n",
      "  Epoch 133 | Train loss 0.58812 | Train acc 76.63% | Val loss 1.53868 | Val acc 41.60%\n",
      "  Epoch 134 | Train loss 0.54546 | Train acc 78.51% | Val loss 1.51131 | Val acc 42.05%\n",
      "  Epoch 135 | Train loss 0.57938 | Train acc 76.90% | Val loss 1.47949 | Val acc 41.96%\n",
      "  Epoch 136 | Train loss 0.60393 | Train acc 75.62% | Val loss 1.51170 | Val acc 41.60%\n",
      "  Epoch 137 | Train loss 0.54780 | Train acc 78.21% | Val loss 1.54459 | Val acc 41.05%\n",
      "  Epoch 138 | Train loss 0.48994 | Train acc 81.95% | Val loss 1.57482 | Val acc 41.42%\n",
      "  Epoch 139 | Train loss 0.53111 | Train acc 78.97% | Val loss 1.55670 | Val acc 40.60%\n",
      "  Epoch 140 | Train loss 0.50053 | Train acc 81.81% | Val loss 1.54270 | Val acc 40.60%\n",
      "  Epoch 141 | Train loss 0.49594 | Train acc 82.02% | Val loss 1.52836 | Val acc 41.78%\n",
      "  Epoch 142 | Train loss 0.48926 | Train acc 81.81% | Val loss 1.53210 | Val acc 42.69%\n",
      "  Epoch 143 | Train loss 0.46751 | Train acc 83.42% | Val loss 1.53123 | Val acc 41.96%\n",
      "  Epoch 144 | Train loss 0.46383 | Train acc 83.02% | Val loss 1.52958 | Val acc 42.05%\n",
      "  Epoch 145 | Train loss 0.44660 | Train acc 83.65% | Val loss 1.60162 | Val acc 40.33%\n",
      "  Epoch 146 | Train loss 0.52194 | Train acc 79.86% | Val loss 1.63966 | Val acc 40.87%\n",
      "  Epoch 147 | Train loss 0.44611 | Train acc 83.98% | Val loss 1.59048 | Val acc 41.60%\n",
      "  Epoch 148 | Train loss 0.43041 | Train acc 84.41% | Val loss 1.62416 | Val acc 40.96%\n",
      "  Epoch 149 | Train loss 0.49900 | Train acc 80.64% | Val loss 1.56296 | Val acc 42.05%\n",
      "  Epoch 150 | Train loss 0.42624 | Train acc 84.70% | Val loss 1.58919 | Val acc 41.51%\n",
      "  Epoch 151 | Train loss 0.43513 | Train acc 84.42% | Val loss 1.61440 | Val acc 41.78%\n",
      "  Epoch 152 | Train loss 0.44113 | Train acc 84.08% | Val loss 1.59962 | Val acc 42.51%\n",
      "  Epoch 153 | Train loss 0.48095 | Train acc 81.84% | Val loss 1.62980 | Val acc 41.24%\n",
      "  Epoch 154 | Train loss 0.42815 | Train acc 84.38% | Val loss 1.58994 | Val acc 42.05%\n",
      "  Epoch 155 | Train loss 0.42118 | Train acc 84.71% | Val loss 1.59929 | Val acc 41.42%\n",
      "  Epoch 156 | Train loss 0.57435 | Train acc 76.53% | Val loss 1.61469 | Val acc 41.78%\n",
      "  Epoch 157 | Train loss 0.43825 | Train acc 83.70% | Val loss 1.60756 | Val acc 42.42%\n",
      "  Epoch 158 | Train loss 0.39266 | Train acc 86.40% | Val loss 1.63829 | Val acc 41.69%\n",
      "  Epoch 159 | Train loss 0.40388 | Train acc 85.97% | Val loss 1.63260 | Val acc 41.69%\n",
      "  Epoch 160 | Train loss 0.43497 | Train acc 83.64% | Val loss 1.64024 | Val acc 41.14%\n",
      "  Epoch 161 | Train loss 0.39768 | Train acc 85.84% | Val loss 1.67584 | Val acc 41.24%\n",
      "  Epoch 162 | Train loss 0.44698 | Train acc 83.29% | Val loss 1.63780 | Val acc 41.05%\n",
      "  Epoch 163 | Train loss 0.39873 | Train acc 86.10% | Val loss 1.62929 | Val acc 41.14%\n",
      "  Epoch 164 | Train loss 0.42196 | Train acc 84.73% | Val loss 1.63437 | Val acc 40.78%\n",
      "  Epoch 165 | Train loss 0.37801 | Train acc 86.99% | Val loss 1.66591 | Val acc 40.60%\n",
      "  Epoch 166 | Train loss 0.39832 | Train acc 85.63% | Val loss 1.75340 | Val acc 40.78%\n",
      "  Epoch 167 | Train loss 0.40568 | Train acc 85.35% | Val loss 1.73822 | Val acc 40.51%\n",
      "  Epoch 168 | Train loss 0.42642 | Train acc 84.18% | Val loss 1.64156 | Val acc 41.51%\n",
      "  Epoch 169 | Train loss 0.37307 | Train acc 87.38% | Val loss 1.69905 | Val acc 41.24%\n",
      "  Epoch 170 | Train loss 0.39865 | Train acc 85.71% | Val loss 1.73423 | Val acc 41.14%\n",
      "  Epoch 171 | Train loss 0.34926 | Train acc 88.18% | Val loss 1.69450 | Val acc 41.51%\n",
      "  Epoch 172 | Train loss 0.37535 | Train acc 87.10% | Val loss 1.72454 | Val acc 40.60%\n",
      "  Epoch 173 | Train loss 0.35780 | Train acc 87.52% | Val loss 1.71952 | Val acc 40.69%\n",
      "  Epoch 174 | Train loss 0.36004 | Train acc 87.87% | Val loss 1.64317 | Val acc 41.42%\n",
      "  Epoch 175 | Train loss 0.36910 | Train acc 87.15% | Val loss 1.66839 | Val acc 42.14%\n",
      "  Epoch 176 | Train loss 0.39049 | Train acc 85.77% | Val loss 1.65954 | Val acc 41.42%\n",
      "  Epoch 177 | Train loss 0.33897 | Train acc 88.69% | Val loss 1.71174 | Val acc 40.60%\n",
      "  Epoch 178 | Train loss 0.32702 | Train acc 89.51% | Val loss 1.71415 | Val acc 41.05%\n",
      "  Epoch 179 | Train loss 0.33562 | Train acc 88.62% | Val loss 1.71828 | Val acc 42.14%\n",
      "  Epoch 180 | Train loss 0.33025 | Train acc 88.37% | Val loss 1.74397 | Val acc 41.14%\n",
      "  Epoch 181 | Train loss 0.49227 | Train acc 81.40% | Val loss 1.72083 | Val acc 40.33%\n",
      "  Epoch 182 | Train loss 0.31189 | Train acc 90.04% | Val loss 1.67399 | Val acc 41.78%\n",
      "  Epoch 183 | Train loss 0.42907 | Train acc 84.19% | Val loss 1.67652 | Val acc 42.42%\n",
      "  Epoch 184 | Train loss 0.30819 | Train acc 90.16% | Val loss 1.72842 | Val acc 41.42%\n",
      "  Epoch 185 | Train loss 0.42268 | Train acc 84.93% | Val loss 1.68534 | Val acc 42.05%\n",
      "  Epoch 186 | Train loss 0.31007 | Train acc 90.10% | Val loss 1.75547 | Val acc 41.33%\n",
      "  Epoch 187 | Train loss 0.33242 | Train acc 88.92% | Val loss 1.81521 | Val acc 41.42%\n",
      "  Epoch 188 | Train loss 0.30005 | Train acc 90.34% | Val loss 1.76196 | Val acc 40.33%\n",
      "  Epoch 189 | Train loss 0.30817 | Train acc 90.24% | Val loss 1.77051 | Val acc 40.78%\n",
      "  Epoch 190 | Train loss 0.32238 | Train acc 88.94% | Val loss 1.78828 | Val acc 41.33%\n",
      "  Epoch 191 | Train loss 0.29819 | Train acc 90.60% | Val loss 1.81232 | Val acc 40.87%\n",
      "  Epoch 192 | Train loss 0.39791 | Train acc 86.28% | Val loss 1.71971 | Val acc 41.60%\n",
      "  Epoch 193 | Train loss 0.30741 | Train acc 89.70% | Val loss 1.76704 | Val acc 40.78%\n",
      "  Epoch 194 | Train loss 0.33906 | Train acc 88.54% | Val loss 1.77099 | Val acc 40.60%\n",
      "  Epoch 195 | Train loss 0.31878 | Train acc 89.26% | Val loss 1.81253 | Val acc 40.60%\n",
      "  Epoch 196 | Train loss 0.30779 | Train acc 90.46% | Val loss 1.76845 | Val acc 41.60%\n",
      "  Epoch 197 | Train loss 0.28181 | Train acc 91.46% | Val loss 1.80226 | Val acc 40.96%\n",
      "  Epoch 198 | Train loss 0.30449 | Train acc 89.99% | Val loss 1.80781 | Val acc 39.87%\n",
      "  Epoch 199 | Train loss 0.28161 | Train acc 91.53% | Val loss 1.84637 | Val acc 40.60%\n",
      "*********** DONE **********\n",
      " \n",
      "        Validation accuracy at best epoch 69 was 44.96%. Returning that model.\n"
     ]
    }
   ],
   "source": [
    "batch_size=64\n",
    "lr = 1e-4\n",
    "optimizer = optim.Adam(filter(lambda p: p.requires_grad, bov_model.parameters()), lr=lr)\n",
    "criterion = nn.CrossEntropyLoss()\n",
    "\n",
    "train_iter, val_iter = tt.data.BucketIterator.splits(datasets=(train_data, val_data),\n",
    "    batch_sizes=(batch_size, batch_size), sort_key=lambda x: len(x.Text),\n",
    "    device=device, sort_within_batch=False, shuffle=True)\n",
    "\n",
    "model_path = \"./models/{}-{}\".format(\"BoVRNN\", time.strftime(\"%m-%d-%H%M\", time.gmtime()))\n",
    "try: os.mkdir(model_path)\n",
    "except FileExistsError: print(\"Directory Exists... Skipping\")\n",
    "print(\"Model folder: {}\".format(model_path))\n",
    "\n",
    "best_model = train(bov_model.double(), train_iter, val_iter, criterion, model_path, n_epochs=200, init_patience=5)\n",
    "final_model = deepcopy(bov_model)"
   ]
  },
  {
   "cell_type": "markdown",
   "metadata": {
    "id": "fXWD5b93YP3l"
   },
   "source": [
    "# Model Evaluation"
   ]
  },
  {
   "cell_type": "code",
   "execution_count": 60,
   "metadata": {
    "colab": {
     "base_uri": "https://localhost:8080/",
     "height": 351
    },
    "id": "z-8S8w9cU0uC",
    "outputId": "cf3fac9f-4b7c-4e8e-e7f6-7d3d6bd936f3"
   },
   "outputs": [
    {
     "data": {
      "image/png": "[encoded data removed]",
      "text/plain": [
       "<Figure size 720x360 with 1 Axes>"
      ]
     },
     "metadata": {
      "needs_background": "light"
     },
     "output_type": "display_data"
    }
   ],
   "source": [
    "plt.figure(figsize=(10,5))\n",
    "plt.plot(final_model.train_losses, label=\"Training loss\")\n",
    "plt.plot(final_model.val_losses, label=\"Validation loss\")\n",
    "plt.axvline(final_model.val_losses.argmin(), linestyle='dotted', color='g',label='Final model')\n",
    "plt.xlabel(\"Epochs\")\n",
    "plt.ylabel(\"Loss\")\n",
    "plt.legend()\n",
    "plt.savefig(os.path.join(model_path, \"losses.png\"))"
   ]
  },
  {
   "cell_type": "code",
   "execution_count": 61,
   "metadata": {
    "colab": {
     "base_uri": "https://localhost:8080/",
     "height": 351
    },
    "id": "3wkrZadFaFdZ",
    "outputId": "b4dc6995-bead-465b-ddd4-42cc6a1e1fab"
   },
   "outputs": [
    {
     "data": {
      "image/png": "[encoded data removed]",
      "text/plain": [
       "<Figure size 720x360 with 1 Axes>"
      ]
     },
     "metadata": {
      "needs_background": "light"
     },
     "output_type": "display_data"
    }
   ],
   "source": [
    "plt.figure(figsize=(10,5))\n",
    "plt.plot(final_model.train_accs, label=\"Training accuracy\")\n",
    "plt.plot(final_model.val_accs, label=\"Validation accuracy\")\n",
    "plt.axvline(final_model.val_losses.argmin(), linestyle='dotted', color='g',label='Final model')\n",
    "plt.xlabel(\"Epochs\")\n",
    "plt.ylabel(\"Accuracy\")\n",
    "plt.legend()\n",
    "plt.savefig(os.path.join(model_path, \"accs.png\"))"
   ]
  },
  {
   "cell_type": "markdown",
   "metadata": {
    "id": "h2-alnBtY0C0"
   },
   "source": [
    "# Evaluating on Test Set"
   ]
  },
  {
   "cell_type": "code",
   "execution_count": 62,
   "metadata": {
    "colab": {
     "base_uri": "https://localhost:8080/"
    },
    "id": "gGa5RJNXZA5E",
    "outputId": "f95a8330-ffbd-4f9b-ad69-5cb1de63b0c4"
   },
   "outputs": [
    {
     "name": "stderr",
     "output_type": "stream",
     "text": [
      "/home/dojo/.pyenv/versions/3.8.6/envs/c0090/lib/python3.8/site-packages/torchtext/data/batch.py:23: UserWarning: Batch class will be retired soon and moved to torchtext.legacy. Please see the most recent release notes for further information.\n",
      "  warnings.warn('{} class will be retired soon and moved to torchtext.legacy. Please see the most recent release notes for further information.'.format(self.__class__.__name__), UserWarning)\n",
      "/home/dojo/.pyenv/versions/3.8.6/envs/c0090/lib/python3.8/site-packages/torch/nn/modules/rnn.py:739: UserWarning: RNN module weights are not part of single contiguous chunk of memory. This means they need to be compacted at every call, possibly greatly increasing memory usage. To compact weights again call flatten_parameters(). (Triggered internally at  /pytorch/aten/src/ATen/native/cudnn/RNN.cpp:775.)\n",
      "  result = _VF.gru(input, hx, self._flat_weights, self.bias, self.num_layers,\n"
     ]
    },
    {
     "name": "stdout",
     "output_type": "stream",
     "text": [
      "Training Accuracy: 53.15%\n",
      "Validation Accuracy: 44.96%\n",
      "Test Accuracy: 44.21%\n"
     ]
    }
   ],
   "source": [
    "# Obtain best epoch accuracies and add a newly obtained test set value.\n",
    "test_iter = tt.data.Iterator(testds, batch_size=batch_size,\n",
    "    sort_key=lambda x: len(x.Text), device=device, sort_within_batch=False)\n",
    "test_acc, _ = eval_model(best_model, test_iter, criterion)\n",
    "\n",
    "print(\"Training Accuracy: {:.2%}\".format(best_model.train_accs[best_model.val_accs.argmax()]))\n",
    "print(\"Validation Accuracy: {:.2%}\".format(best_model.val_accs.max()))\n",
    "print(\"Test Accuracy: {:.2%}\".format(test_acc))"
   ]
  },
  {
   "cell_type": "markdown",
   "metadata": {
    "id": "OnhxOr0PZx0x"
   },
   "source": [
    "# Testing on Unseen Reviews"
   ]
  },
  {
   "cell_type": "code",
   "execution_count": 28,
   "metadata": {
    "colab": {
     "base_uri": "https://localhost:8080/"
    },
    "id": "FiuKnHO0KkoM",
    "outputId": "8c4b9bbd-bb77-4d8d-9732-b50755f24b86"
   },
   "outputs": [
    {
     "name": "stdout",
     "output_type": "stream",
     "text": [
      "Review 0 - Predicted Rating: 0:\n",
      "  Very well done , from acting to cinematography all first rate.\n",
      "Review 1 - Predicted Rating: 4:\n",
      "  I have seen a lot of terrible movies in my life and this was the worst by far!\n",
      "Review 2 - Predicted Rating: 4:\n",
      "  As far as horror movies go , this is one of the only ones in my life that I felt I wasted my time that I wo n't get back.\n",
      "Review 3 - Predicted Rating: 1:\n",
      "  Cheap move using Deaf culture as the only interesting feature.\n",
      "Review 4 - Predicted Rating: 0:\n",
      "  honestly amazing , I was literally holding my breath through out the movie, Emily Blunt and John Krasinski were brilliant the whole way.\n"
     ]
    }
   ],
   "source": [
    "# Reviews source: https://www.rottentomatoes.com/m/a_quiet_place_2018/reviews?type=user\n",
    "\n",
    "reviews = [\n",
    "    \"Very well done , from acting to cinematography all first rate.\",\n",
    "    \"I have seen a lot of terrible movies in my life and this was the worst by far!\",\n",
    "    \"As far as horror movies go , this is one of the only ones in my life that I felt I wasted my time that I wo n't get back.\",\n",
    "    \"Cheap move using Deaf culture as the only interesting feature.\",\n",
    "    \"honestly amazing , I was literally holding my breath through out the movie, Emily Blunt and John Krasinski were brilliant the whole way.\",\n",
    "]\n",
    "\n",
    "field = [('Text', TEXT)]\n",
    "\n",
    "with open(\"./data/examples.csv\", \"w\") as f:\n",
    "    csv.writer(f).writerows([[r] for r in reviews])\n",
    "    \n",
    "example_data = tt.data.TabularDataset(path='./data/examples.csv', \n",
    "                format='csv', fields=field)\n",
    "\n",
    "example_iter = tt.data.Iterator(example_data, batch_size=1, device=device, shuffle=False)\n",
    "\n",
    "best_model.eval()\n",
    "pred_idxs = []\n",
    "with torch.no_grad():\n",
    "    for inputs, _ in example_iter:\n",
    "        outputs = best_model(inputs).squeeze()\n",
    "        pred_idxs_tensor = outputs.argmax(axis=-1)\n",
    "        pred_idxs.append(pred_idxs_tensor.item())\n",
    "\n",
    "for i in range(len(pred_idxs)):\n",
    "    print(\"Review {} - Predicted Rating: {}:\\n  {}\".format(i, pred_idxs[i], reviews[i]))"
   ]
  },
  {
   "cell_type": "code",
   "execution_count": null,
   "metadata": {
    "id": "kOJIA2zUaZHQ"
   },
   "outputs": [],
   "source": []
  }
 ],
 "metadata": {
  "colab": {
   "collapsed_sections": [],
   "name": "debugging_is_shit",
   "provenance": []
  },
  "kernelspec": {
   "display_name": "Python 3",
   "language": "python",
   "name": "python3"
  },
  "language_info": {
   "codemirror_mode": {
    "name": "ipython",
    "version": 3
   },
   "file_extension": ".py",
   "mimetype": "text/x-python",
   "name": "python",
   "nbconvert_exporter": "python",
   "pygments_lexer": "ipython3",
   "version": "3.8.6"
  }
 },
 "nbformat": 4,
 "nbformat_minor": 4
}
