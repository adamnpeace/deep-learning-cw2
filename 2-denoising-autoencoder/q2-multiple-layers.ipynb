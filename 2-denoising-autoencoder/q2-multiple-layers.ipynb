{
 "cells": [
  {
   "cell_type": "code",
   "execution_count": 1,
   "metadata": {},
   "outputs": [],
   "source": [
    "import torch\n",
    "import torchvision\n",
    "import torchvision.transforms as transforms\n",
    "\n",
    "import torch.nn as nn\n",
    "import torch.nn.functional as F\n",
    "import torch.optim as optim\n",
    "from torch.utils.data.sampler import SubsetRandomSampler\n",
    "\n",
    "import matplotlib.pyplot as plt\n",
    "import numpy as np # Don't use this other than for matplotlib\n",
    "from numpy import array\n",
    "import copy"
   ]
  },
  {
   "cell_type": "code",
   "execution_count": 2,
   "metadata": {},
   "outputs": [],
   "source": [
    "transform = transforms.Compose([transforms.ToTensor(),\n",
    "     transforms.Normalize((0.5, ), (0.5, ))])\n",
    "\n",
    "train_set = torchvision.datasets.FashionMNIST(\"./data\", download=True,\n",
    "                                              transform=transform)\n",
    "indices = list(range(len(train_set)))\n",
    "np.random.shuffle(indices)\n",
    "train_after_split = SubsetRandomSampler(indices[:50000])\n",
    "validation_after_split = SubsetRandomSampler(indices[50000:])\n",
    "\n",
    "train_loader = torch.utils.data.DataLoader(train_set, sampler=train_after_split, batch_size=4)\n",
    "validation_loader = torch.utils.data.DataLoader(train_set, sampler=validation_after_split, batch_size=4)\n",
    "\n",
    "\n",
    "test_set = torchvision.datasets.FashionMNIST(\"./data\", download=True, \n",
    "                                             train=False, transform=transform)\n",
    "\n",
    "test_loader = torch.utils.data.DataLoader(test_set, batch_size=4,\n",
    "                                         shuffle=False)\n",
    "\n",
    "classes = (\"T-shirt/Top\", \"Trouser\", \"Pullover\", \"Dress\", \"Coat\",\n",
    "           \"Sandal\", \"Shirt\", \"Sneaker\", \"Bag\", \"Ankle Boot\")"
   ]
  },
  {
   "cell_type": "code",
   "execution_count": 4,
   "metadata": {},
   "outputs": [
    {
     "name": "stdout",
     "output_type": "stream",
     "text": [
      "Our image batch shape is torch.Size([4, 1, 28, 28])\n",
      "tensor([[[ 0.,  0.,  0.,  ...,  0.,  0.,  0.],\n",
      "         [ 0.,  0.,  0.,  ...,  0.,  0.,  0.],\n",
      "         [ 0.,  0., -1.,  ..., -1.,  0.,  0.],\n",
      "         ...,\n",
      "         [ 0.,  0., -1.,  ..., -1.,  0.,  0.],\n",
      "         [ 0.,  0.,  0.,  ...,  0.,  0.,  0.],\n",
      "         [ 0.,  0.,  0.,  ...,  0.,  0.,  0.]],\n",
      "\n",
      "        [[ 0.,  0.,  0.,  ...,  0.,  0.,  0.],\n",
      "         [ 0.,  0.,  0.,  ...,  0.,  0.,  0.],\n",
      "         [ 0.,  0., -1.,  ..., -1.,  0.,  0.],\n",
      "         ...,\n",
      "         [ 0.,  0., -1.,  ..., -1.,  0.,  0.],\n",
      "         [ 0.,  0.,  0.,  ...,  0.,  0.,  0.],\n",
      "         [ 0.,  0.,  0.,  ...,  0.,  0.,  0.]],\n",
      "\n",
      "        [[ 0.,  0.,  0.,  ...,  0.,  0.,  0.],\n",
      "         [ 0.,  0.,  0.,  ...,  0.,  0.,  0.],\n",
      "         [ 0.,  0., -1.,  ..., -1.,  0.,  0.],\n",
      "         ...,\n",
      "         [ 0.,  0., -1.,  ..., -1.,  0.,  0.],\n",
      "         [ 0.,  0.,  0.,  ...,  0.,  0.,  0.],\n",
      "         [ 0.,  0.,  0.,  ...,  0.,  0.,  0.]]])\n",
      "tensor([[[0.5000, 0.5000, 0.5000,  ..., 0.5000, 0.5000, 0.5000],\n",
      "         [0.5000, 0.5000, 0.5000,  ..., 0.5000, 0.5000, 0.5000],\n",
      "         [0.5000, 0.5000, 0.0000,  ..., 0.0000, 0.5000, 0.5000],\n",
      "         ...,\n",
      "         [0.5000, 0.5000, 0.0000,  ..., 0.0000, 0.5000, 0.5000],\n",
      "         [0.5000, 0.5000, 0.5000,  ..., 0.5000, 0.5000, 0.5000],\n",
      "         [0.5000, 0.5000, 0.5000,  ..., 0.5000, 0.5000, 0.5000]],\n",
      "\n",
      "        [[0.5000, 0.5000, 0.5000,  ..., 0.5000, 0.5000, 0.5000],\n",
      "         [0.5000, 0.5000, 0.5000,  ..., 0.5000, 0.5000, 0.5000],\n",
      "         [0.5000, 0.5000, 0.0000,  ..., 0.0000, 0.5000, 0.5000],\n",
      "         ...,\n",
      "         [0.5000, 0.5000, 0.0000,  ..., 0.0000, 0.5000, 0.5000],\n",
      "         [0.5000, 0.5000, 0.5000,  ..., 0.5000, 0.5000, 0.5000],\n",
      "         [0.5000, 0.5000, 0.5000,  ..., 0.5000, 0.5000, 0.5000]],\n",
      "\n",
      "        [[0.5000, 0.5000, 0.5000,  ..., 0.5000, 0.5000, 0.5000],\n",
      "         [0.5000, 0.5000, 0.5000,  ..., 0.5000, 0.5000, 0.5000],\n",
      "         [0.5000, 0.5000, 0.0000,  ..., 0.0000, 0.5000, 0.5000],\n",
      "         ...,\n",
      "         [0.5000, 0.5000, 0.0000,  ..., 0.0000, 0.5000, 0.5000],\n",
      "         [0.5000, 0.5000, 0.5000,  ..., 0.5000, 0.5000, 0.5000],\n",
      "         [0.5000, 0.5000, 0.5000,  ..., 0.5000, 0.5000, 0.5000]]])\n"
     ]
    },
    {
     "data": {
      "image/png": "[encoded data removed]",
      "text/plain": [
       "<Figure size 432x288 with 1 Axes>"
      ]
     },
     "metadata": {
      "needs_background": "light"
     },
     "output_type": "display_data"
    },
    {
     "name": "stdout",
     "output_type": "stream",
     "text": [
      "T-shirt/Top  Coat  Coat Pullover\n"
     ]
    }
   ],
   "source": [
    "def imshow(img):\n",
    "    img = img / 2 + 0.5 # Unnormalize\n",
    "    npimg = img.numpy()\n",
    "    plt.imshow(np.transpose(npimg, (1, 2, 0)))\n",
    "    plt.show()\n",
    "\n",
    "dataiter = iter(train_loader)\n",
    "images, labels = dataiter.next()\n",
    "print(\"Our image batch shape is\", images.size())\n",
    "imshow(torchvision.utils.make_grid(images))\n",
    "\n",
    "print(\" \".join(\"%5s\" % classes[labels[j]] for j in range(4)))"
   ]
  },
  {
   "cell_type": "code",
   "execution_count": null,
   "metadata": {},
   "outputs": [],
   "source": [
    "import random\n",
    "\n",
    "# Noise is added by removing one or two quadrants of the image\n",
    "# def noise_old(x):\n",
    "#     #temp = x\n",
    "#     for k in range(0,2):\n",
    "#         #print(\"Iteration \", k)\n",
    "#         x_offset = random.choice([0,14])\n",
    "#         y_offset = random.choice([0,14])\n",
    "#         #print(\"X: \", x_offset, \" Y: \", y_offset)\n",
    "#         for i in range(x_offset, x_offset+14):\n",
    "#             for j in range(y_offset, y_offset+14):\n",
    "#                 x[i][j] = 0\n",
    "#     return x\n",
    "\n",
    "def noise(x):\n",
    "    #print(type(x))\n",
    "    x = array(x)\n",
    "    for k in range(0,2):\n",
    "        #print(\"Iteration \", k)\n",
    "        x_offset = random.choice([0,14])\n",
    "        for i in range(x_offset, x_offset+14):\n",
    "            x[x_offset:x_offset+14,x_offset:x_offset+14] = torch.zeros(x[x_offset:x_offset+14,x_offset:x_offset+14].shape)\n",
    "    x = torch.from_numpy(x)\n",
    "    #print(type(x))\n",
    "    return x\n",
    "            \n",
    "# Apply noise to a set of images\n",
    "def apply_noise(imgs):\n",
    "    noisy_imgs = copy.deepcopy(imgs)\n",
    "            \n",
    "    for i in range(0, len(imgs)):\n",
    "        noisy_imgs[i][0] = noise(imgs[i][0])\n",
    "\n",
    "    imgs = imgs.view(imgs.size(0), -1)\n",
    "    noisy_imgs = noisy_imgs.view(noisy_imgs.size(0), -1)\n",
    "    \n",
    "    return imgs, noisy_imgs"
   ]
  },
  {
   "cell_type": "code",
   "execution_count": null,
   "metadata": {},
   "outputs": [],
   "source": [
    "# Test noise function\n",
    "# arr = [[1 for i in range(28)] for j in range(28)]\n",
    "# arr2 = [[1 for i in range(28)] for j in range(28)]\n",
    "# big = [arr, arr2]\n",
    "# apply_noise(big)\n",
    "# for x in big:\n",
    "#     print(np.matrix(x))"
   ]
  },
  {
   "cell_type": "code",
   "execution_count": null,
   "metadata": {},
   "outputs": [],
   "source": [
    "z_size = 32\n",
    "\n",
    "class Autoencoder(nn.Module):\n",
    "    def __init__(self, z_size):\n",
    "        super(Autoencoder, self).__init__()\n",
    "        self.z_size = z_size\n",
    "        self.encoder = nn.Sequential(\n",
    "                            nn.Linear(28*28, 256),\n",
    "                            nn.ReLU(True),\n",
    "                            nn.Linear(256, 128),\n",
    "                            nn.ReLU(True),\n",
    "                            nn.Linear(128, 64),\n",
    "                            nn.ReLU(True)\n",
    "        )\n",
    "        self.decoder = nn.Sequential(\n",
    "                            nn.Linear(64, 128),\n",
    "                            nn.ReLU(True),\n",
    "                            nn.Linear(128, 256),\n",
    "                            nn.ReLU(True),\n",
    "                            nn.Linear(256, 28*28),\n",
    "                            nn.Sigmoid()\n",
    "        )\n",
    "        \n",
    "    def forward(self, input_x):\n",
    "        encoded = self.encoder(input_x)\n",
    "        decoded = self.decoder(encoded)\n",
    "        return decoded"
   ]
  },
  {
   "cell_type": "code",
   "execution_count": null,
   "metadata": {},
   "outputs": [],
   "source": [
    "autoencoder = Autoencoder(z_size)\n",
    "mse_loss = nn.MSELoss()\n",
    "optimizer = optim.Adam(autoencoder.parameters(), lr=0.1)"
   ]
  },
  {
   "cell_type": "code",
   "execution_count": null,
   "metadata": {},
   "outputs": [],
   "source": [
    "import datetime\n",
    "\n",
    "train_loss_list = []\n",
    "val_loss_list = []\n",
    "\n",
    "def train():\n",
    "    start_training_time = datetime.datetime.now()\n",
    "    epochs = 20\n",
    "    \n",
    "    for epoch in range(epochs):\n",
    "        train_loss = 0.0\n",
    "        val_loss = 0.0\n",
    "        \n",
    "        for train_data in train_loader:\n",
    "            train_imgs, _ = train_data\n",
    "            train_imgs, train_noisy_imgs = apply_noise(train_imgs)\n",
    "            \n",
    "            optimizer.zero_grad()\n",
    "            train_output = autoencoder(train_noisy_imgs)\n",
    "            loss_func = mse_loss(train_output, train_imgs)\n",
    "            loss_func.backward()\n",
    "            optimizer.step()\n",
    "            train_loss += loss_func.item()#*train_imgs.size(0)\n",
    "            \n",
    "        train_loss = train_loss/len(train_loader)\n",
    "        train_loss_list.append(train_loss)\n",
    "        print('Epoch: {} \\tTraining Loss: {:.6f}'.format(\n",
    "            epoch, \n",
    "            train_loss\n",
    "            ))\n",
    "            \n",
    "        autoencoder.eval()\n",
    "        with torch.no_grad():\n",
    "            for validation_data in validation_loader:\n",
    "                val_imgs, _ = validation_data\n",
    "                val_imgs, val_noisy_imgs = apply_noise(val_imgs)\n",
    "                \n",
    "                val_output = autoencoder(val_noisy_imgs)\n",
    "                loss_func = mse_loss(val_output, val_imgs)\n",
    "                val_loss += loss_func.item()#*val_imgs.size(0)\n",
    "        \n",
    "        val_loss = val_loss/len(validation_loader)\n",
    "        val_loss_list.append(val_loss)\n",
    "        print('Epoch: {} \\tValidation Loss: {:.6f}'.format(\n",
    "            epoch, \n",
    "            val_loss\n",
    "            ))\n",
    "        \n",
    "    end_training_time = datetime.datetime.now()\n",
    "    diff_training_time = end_training_time - start_training_time\n",
    "    print(diff_training_time)\n",
    "    \n",
    "    return train_loss_list, val_loss_list"
   ]
  },
  {
   "cell_type": "code",
   "execution_count": null,
   "metadata": {},
   "outputs": [],
   "source": [
    "train_loss, val_loss = train()"
   ]
  },
  {
   "cell_type": "code",
   "execution_count": null,
   "metadata": {},
   "outputs": [],
   "source": [
    "def loss_plot(loss_training, loss_type):\n",
    "    if loss_type is \"training\":\n",
    "        plot_label = 'training set MSE loss'\n",
    "    elif loss_type is \"validation\":\n",
    "        plot_label = 'validation set MSE loss'\n",
    "    plt.axis([0, 20, min(loss_training), max(loss_training)])\n",
    "    plt.plot(loss_training, label=plot_label)\n",
    "    plt.legend(loc='upper right')"
   ]
  },
  {
   "cell_type": "code",
   "execution_count": null,
   "metadata": {},
   "outputs": [],
   "source": [
    "loss_plot(train_loss, \"training\")\n",
    "loss_plot(val_loss, \"validation\")"
   ]
  },
  {
   "cell_type": "code",
   "execution_count": null,
   "metadata": {},
   "outputs": [],
   "source": [
    "def test():\n",
    "    test_iter = iter(test_loader)\n",
    "    for i in range(8):\n",
    "        test_imgs, _ = test_iter.next()\n",
    "        test_imgs, test_noisy_imgs = apply_noise(test_imgs)\n",
    "\n",
    "        output = autoencoder(test_noisy_imgs)\n",
    "        test_noisy_imgs = test_noisy_imgs.view(4, 1, 28, 28)\n",
    "        test_noisy_imgs = test_noisy_imgs.detach().numpy()\n",
    "        output = output.view(4, 1, 28, 28)\n",
    "        output = output.detach().numpy()\n",
    "\n",
    "        fig, axes = plt.subplots(nrows=2, ncols=4, sharex=True, sharey=True, figsize=(10,4))\n",
    "        for test_noisy_imgs, row in zip([test_noisy_imgs, output], axes):\n",
    "            for img, ax in zip(test_noisy_imgs, row):\n",
    "                ax.imshow(np.squeeze(img), cmap='gray')\n",
    "                ax.get_xaxis().set_visible(False)\n",
    "                ax.get_yaxis().set_visible(False)"
   ]
  },
  {
   "cell_type": "code",
   "execution_count": null,
   "metadata": {},
   "outputs": [],
   "source": [
    "test()"
   ]
  },
  {
   "cell_type": "code",
   "execution_count": null,
   "metadata": {},
   "outputs": [],
   "source": []
  }
 ],
 "metadata": {
  "kernelspec": {
   "display_name": "Python 3",
   "language": "python",
   "name": "python3"
  },
  "language_info": {
   "codemirror_mode": {
    "name": "ipython",
    "version": 3
   },
   "file_extension": ".py",
   "mimetype": "text/x-python",
   "name": "python",
   "nbconvert_exporter": "python",
   "pygments_lexer": "ipython3",
   "version": "3.7.4"
  }
 },
 "nbformat": 4,
 "nbformat_minor": 2
}
