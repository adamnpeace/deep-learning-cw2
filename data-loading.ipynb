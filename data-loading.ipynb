{
 "cells": [
  {
   "cell_type": "markdown",
   "metadata": {},
   "source": [
    "Remember to do `pip install -r requirements.txt`"
   ]
  },
  {
   "cell_type": "code",
   "execution_count": 24,
   "metadata": {},
   "outputs": [],
   "source": [
    "import torch\n",
    "import torchvision\n",
    "import torchvision.transforms as transforms\n",
    "\n",
    "import torch.nn as nn\n",
    "import torch.nn.functional as F\n",
    "import torch.optim as optim\n",
    "\n",
    "import matplotlib.pyplot as plt\n",
    "import numpy as np # Don't use this other than for matplotlib"
   ]
  },
  {
   "cell_type": "markdown",
   "metadata": {},
   "source": [
    "# Import the FashionMNIST data"
   ]
  },
  {
   "cell_type": "code",
   "execution_count": 2,
   "metadata": {},
   "outputs": [],
   "source": [
    "transform = transforms.Compose([transforms.ToTensor(),\n",
    "     transforms.Normalize((0.5, ), (0.5, ))])\n",
    "\n",
    "train_set = torchvision.datasets.FashionMNIST(\"./data\", download=True,\n",
    "                                              transform=transform)\n",
    "train_loader = torch.utils.data.DataLoader(train_set, batch_size=4,\n",
    "                                           shuffle=True, num_workers=2)\n",
    "\n",
    "\n",
    "test_set = torchvision.datasets.FashionMNIST(\"./data\", download=True, \n",
    "                                             train=False, transform=transform)\n",
    "test_loader = torch.utils.data.DataLoader(test_set, batch_size=4,\n",
    "                                         shuffle=False, num_workers=2)\n",
    "\n",
    "classes = (\"T-shirt/Top\", \"Trouser\", \"Pullover\", \"Dress\", \"Coat\",\n",
    "           \"Sandal\", \"Shirt\", \"Sneaker\", \"Bag\", \"Ankle Boot\")"
   ]
  },
  {
   "cell_type": "code",
   "execution_count": 22,
   "metadata": {},
   "outputs": [
    {
     "name": "stdout",
     "output_type": "stream",
     "text": [
      "Our image batch shape is torch.Size([4, 1, 28, 28])\n"
     ]
    },
    {
     "data": {
      "image/png": "[encoded data removed]",
      "text/plain": [
       "<Figure size 432x288 with 1 Axes>"
      ]
     },
     "metadata": {
      "needs_background": "light"
     },
     "output_type": "display_data"
    },
    {
     "name": "stdout",
     "output_type": "stream",
     "text": [
      "Trouser  Coat   Bag T-shirt/Top\n"
     ]
    }
   ],
   "source": [
    "def imshow(img):\n",
    "    img = img / 2 + 0.5 # Unnormalize\n",
    "    npimg = img.numpy()\n",
    "    plt.imshow(np.transpose(npimg, (1, 2, 0)))\n",
    "    plt.show()\n",
    "\n",
    "dataiter = iter(train_loader)\n",
    "images, labels = dataiter.next()\n",
    "print(\"Our image batch shape is\", images.size())\n",
    "imshow(torchvision.utils.make_grid(images))\n",
    "\n",
    "print(\" \".join(\"%5s\" % classes[labels[j]] for j in range(4)))"
   ]
  },
  {
   "cell_type": "markdown",
   "metadata": {},
   "source": [
    "# Import the Stanford Sentiment Treebank"
   ]
  },
  {
   "cell_type": "code",
   "execution_count": 25,
   "metadata": {},
   "outputs": [],
   "source": [
    "!curl -fsS https://nlp.stanford.edu/sentiment/trainDevTestTrees_PTB.zip -o /tmp/trainDevTestTrees_PTB.zip\n",
    "!unzip -q -o -d ./data /tmp/trainDevTestTrees_PTB.zip\n",
    "!rm -f /tmp/trainDevTestTrees_PTB.zip"
   ]
  },
  {
   "cell_type": "code",
   "execution_count": 31,
   "metadata": {},
   "outputs": [],
   "source": [
    "def loadsst(path):\n",
    "    xs = []\n",
    "    ys = []\n",
    "    file1 = open(path, 'r')\n",
    "    Lines = file1.readlines()\n",
    "    for line in Lines:\n",
    "        soup = line.split()\n",
    "        ys.append(int(soup[0].lstrip('(')))\n",
    "        tokens = []\n",
    "        for chunk in soup[2:]:\n",
    "            if not chunk.endswith(\")\"):\n",
    "                continue\n",
    "            tokens.append(chunk.rstrip(')'))\n",
    "        xs.append(tokens)\n",
    "    return xs, ys\n",
    "\n",
    "ssttrainxs, ssttrainys = loadsst(\"./data/trees/train.txt\")\n",
    "sstvalidxs, sstvalidys = loadsst(\"./data/trees/dev.txt\")\n",
    "ssttestxs, ssttestys = loadsst(\"./data/trees/test.txt\") "
   ]
  },
  {
   "cell_type": "markdown",
   "metadata": {},
   "source": [
    "# Import the Google News Dataset\n",
    "\n",
    "This is 1.5GB - execute with caution (results are cached, don't worry)"
   ]
  },
  {
   "cell_type": "code",
   "execution_count": 39,
   "metadata": {},
   "outputs": [],
   "source": [
    "import gensim.downloader as api\n",
    "\n",
    "wv = api.load('word2vec-google-news-300')\n",
    "\n",
    "vec_king = wv['king']"
   ]
  },
  {
   "cell_type": "code",
   "execution_count": 44,
   "metadata": {},
   "outputs": [
    {
     "name": "stdout",
     "output_type": "stream",
     "text": [
      "0.23905426263809204\n",
      "0.23905426263809204\n",
      "0.7556332349777222\n",
      "0.8109204322099686\n",
      "0.6500701606273651\n"
     ]
    }
   ],
   "source": [
    "print(wv.distance(\"dog\", \"cat\"))\n",
    "print(wv.distance(\"cat\", \"dog\"))\n",
    "print(wv.distance(\"cat\", \"human\"))\n",
    "print(wv.distance(\"dog\", \"human\"))\n",
    "print(wv.distance(\"ape\", \"human\"))"
   ]
  },
  {
   "cell_type": "code",
   "execution_count": null,
   "metadata": {},
   "outputs": [],
   "source": []
  }
 ],
 "metadata": {
  "kernelspec": {
   "display_name": "Python 3",
   "language": "python",
   "name": "python3"
  },
  "language_info": {
   "codemirror_mode": {
    "name": "ipython",
    "version": 3
   },
   "file_extension": ".py",
   "mimetype": "text/x-python",
   "name": "python",
   "nbconvert_exporter": "python",
   "pygments_lexer": "ipython3",
   "version": "3.8.6"
  }
 },
 "nbformat": 4,
 "nbformat_minor": 4
}
