{
 "cells": [
  {
   "cell_type": "markdown",
   "metadata": {},
   "source": [
    "# Notebook to test preprocessing Stanford Sentiment Tree Dataset"
   ]
  },
  {
   "cell_type": "code",
   "execution_count": 1,
   "metadata": {},
   "outputs": [],
   "source": [
    "import numpy as np\n",
    "import string\n",
    "import unicodedata\n",
    "\n",
    "!curl -fsS https://nlp.stanford.edu/sentiment/trainDevTestTrees_PTB.zip -o /tmp/trainDevTestTrees_PTB.zip\n",
    "!unzip -q -o -d ./data /tmp/trainDevTestTrees_PTB.zip\n",
    "!rm -f /tmp/trainDevTestTrees_PTB.zip"
   ]
  },
  {
   "cell_type": "code",
   "execution_count": 2,
   "metadata": {},
   "outputs": [],
   "source": [
    "def normalize_sentence(s):\n",
    "    replacements = [(\" ,\", \",\"), (\" .\", \".\"), (\" '\", \"'\"), \n",
    "                    (\"\\/\", \"/\"), (\" ;\", \";\"), (\" :\", \":\"),\n",
    "                    (\" %\", \"%\"), (u\"æ\", \"ae\"), (u\"Æ\", \"AE\"), \n",
    "                    (u\"œ\", \"oe\"), (u\"Œ\", \"OE\"), (\"-LRB- \", \"(\"), \n",
    "                    (\" -RRB-\", \")\"), (\"-LRB-\", \"(\"), (\"-RRB-\", \")\"),\n",
    "                    (\" n't\", \"n't\"), (\"`` \", '\"'), (\"``\", '\"'),\n",
    "                    (\"''\", '\"'), (\"` \", \"'\"), (\"$ \", \"$\"),\n",
    "                    (\" !\", \"!\"), (\"\\\\\", \"\"), (\" ?\", \"?\")]\n",
    "    for to_replace, replacement in replacements:\n",
    "        s = s.replace(to_replace, replacement)\n",
    "    return ''.join(\n",
    "        c for c in unicodedata.normalize('NFD', s)\n",
    "        if unicodedata.category(c) != 'Mn'\n",
    "        and c in string.ascii_letters + ' .,;:\\'-#!/\"=&$?|_'\n",
    "    ) # https://stackoverflow.com/a/518232/2809427\n",
    "\n",
    "def get_corpus(path, eol=' '):\n",
    "    corpus = \"\"\n",
    "    with open(path, 'r') as fp:\n",
    "        for line in fp.readlines():\n",
    "            soup = line.split()\n",
    "            tokens = []\n",
    "            for chunk in soup[2:]:\n",
    "                if chunk.endswith(')'):\n",
    "                    tokens.append(chunk.rstrip(')'))\n",
    "            corpus += normalize_sentence(\" \".join(tokens)) + eol\n",
    "    return corpus"
   ]
  },
  {
   "cell_type": "code",
   "execution_count": 3,
   "metadata": {},
   "outputs": [],
   "source": [
    "def write_to_path(corpus, path):\n",
    "    with open(path, 'w') as fp:\n",
    "        fp.write(corpus)"
   ]
  },
  {
   "cell_type": "code",
   "execution_count": 4,
   "metadata": {},
   "outputs": [],
   "source": [
    "write_to_path(get_corpus(\"./data/trees/train.txt\"), \"./data/train_corpus.txt\")\n",
    "write_to_path(get_corpus(\"./data/trees/dev.txt\"), \"./data/val_corpus.txt\")\n",
    "write_to_path(get_corpus(\"./data/trees/test.txt\"), \"./data/test_corpus.txt\")"
   ]
  },
  {
   "cell_type": "code",
   "execution_count": 5,
   "metadata": {},
   "outputs": [
    {
     "name": "stdout",
     "output_type": "stream",
     "text": [
      "The Rock is destined to be the st Century's new \"Conan\" and that he's going to make a splash even greater than Arnold Schwarzenegger, Jean-Claud Van Damme or Steven Segal. The gorgeously elaborate continuation of \"The Lord of the Rings\" trilogy is so huge that a column of words can not adequately describe co-writer/director Peter Jackson's expanded vision of J.R.R. Tolkien's Middle-earth. Singer/composer Bryan Adams contributes a slew of songs -- a few potential hits, a few more simply intrusive\n"
     ]
    }
   ],
   "source": [
    "# Check\n",
    "with open(\"./data/train_corpus.txt\", 'r') as fp:\n",
    "    input = fp.read()\n",
    "    print(input[0:min(500, len(input))])"
   ]
  },
  {
   "cell_type": "code",
   "execution_count": null,
   "metadata": {},
   "outputs": [],
   "source": []
  }
 ],
 "metadata": {
  "kernelspec": {
   "display_name": "Python 3",
   "language": "python",
   "name": "python3"
  },
  "language_info": {
   "codemirror_mode": {
    "name": "ipython",
    "version": 3
   },
   "file_extension": ".py",
   "mimetype": "text/x-python",
   "name": "python",
   "nbconvert_exporter": "python",
   "pygments_lexer": "ipython3",
   "version": "3.8.6"
  }
 },
 "nbformat": 4,
 "nbformat_minor": 4
}
